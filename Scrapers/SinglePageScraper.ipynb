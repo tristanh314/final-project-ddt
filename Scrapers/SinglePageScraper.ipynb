{
 "cells": [
  {
   "cell_type": "code",
   "execution_count": 91,
   "metadata": {},
   "outputs": [],
   "source": [
    "#webscrape dependencies\n",
    "from bs4 import BeautifulSoup as bs\n",
    "import requests\n",
    "import pandas as pd"
   ]
  },
  {
   "cell_type": "code",
   "execution_count": 92,
   "metadata": {},
   "outputs": [],
   "source": [
    "url = \"https://www.portlandmlsdirect.com/property_listing/20205485/mlsname/RMLS/ltype/res/3223-SPRING-VILLA-ST-Silverton-OR-97381\"\n",
    "html = requests.get(url).text\n",
    "soup = bs(html, 'html.parser')"
   ]
  },
  {
   "cell_type": "code",
   "execution_count": 96,
   "metadata": {},
   "outputs": [],
   "source": [
    "#Scraping primary info\n",
    "address = soup.title.text\n",
    "price = soup.find('div', id=\"ia_price\").text.strip().replace('$', '').replace(',','')\n",
    "bedrooms = soup.find_all('div', class_=\"lineitem\")[0].text[0]\n",
    "bathrooms = soup.find_all('div', class_=\"lineitem\")[1].text[0]\n",
    "square_feet = soup.find_all('div', class_=\"lineitem\")[2].text.replace('SQFT', '').replace(',', '')\n",
    "acres = soup.find_all('div', class_=\"lineitem\")[4].text.replace('ACRES', '')\n",
    "built = soup.find_all('div', class_=\"lineitem\")[5].text.replace(\"BUILT\",'')"
   ]
  },
  {
   "cell_type": "code",
   "execution_count": 97,
   "metadata": {},
   "outputs": [],
   "source": [
    "#scraping location info\n",
    "county = soup.find_all('div', id='areaitemValue')[0].text\n",
    "city = soup.find_all('div', id='areaitemValue')[1].text\n",
    "zipcode = soup.find_all('div', id='areaitemValue')[2].text"
   ]
  },
  {
   "cell_type": "code",
   "execution_count": 98,
   "metadata": {},
   "outputs": [],
   "source": [
    "#Schools\n",
    "HS = soup.find_all('div', id='areaitemValue')[3].text\n",
    "MS = soup.find_all('div', id='areaitemValue')[4].text\n",
    "ES = soup.find_all('div', id='areaitemValue')[5].text"
   ]
  },
  {
   "cell_type": "code",
   "execution_count": null,
   "metadata": {},
   "outputs": [],
   "source": []
  }
 ],
 "metadata": {
  "kernelspec": {
   "display_name": "Python 3",
   "language": "python",
   "name": "python3"
  },
  "language_info": {
   "codemirror_mode": {
    "name": "ipython",
    "version": 3
   },
   "file_extension": ".py",
   "mimetype": "text/x-python",
   "name": "python",
   "nbconvert_exporter": "python",
   "pygments_lexer": "ipython3",
   "version": "3.7.7"
  }
 },
 "nbformat": 4,
 "nbformat_minor": 4
}

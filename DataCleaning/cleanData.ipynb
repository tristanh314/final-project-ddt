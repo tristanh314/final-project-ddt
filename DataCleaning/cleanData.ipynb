{
 "cells": [
  {
   "cell_type": "code",
   "execution_count": 1,
   "metadata": {},
   "outputs": [],
   "source": [
    "# Import Dependencies\n",
    "import pandas as pd\n",
    "import numpy as np"
   ]
  },
  {
   "cell_type": "code",
   "execution_count": 2,
   "metadata": {},
   "outputs": [
    {
     "data": {
      "text/html": [
       "<div>\n",
       "<style scoped>\n",
       "    .dataframe tbody tr th:only-of-type {\n",
       "        vertical-align: middle;\n",
       "    }\n",
       "\n",
       "    .dataframe tbody tr th {\n",
       "        vertical-align: top;\n",
       "    }\n",
       "\n",
       "    .dataframe thead th {\n",
       "        text-align: right;\n",
       "    }\n",
       "</style>\n",
       "<table border=\"1\" class=\"dataframe\">\n",
       "  <thead>\n",
       "    <tr style=\"text-align: right;\">\n",
       "      <th></th>\n",
       "      <th>address</th>\n",
       "      <th>price</th>\n",
       "      <th>home_type</th>\n",
       "      <th>bedrooms</th>\n",
       "      <th>bathrooms</th>\n",
       "      <th>square_feet</th>\n",
       "      <th>built</th>\n",
       "      <th>lot_size</th>\n",
       "      <th>neighborhood</th>\n",
       "      <th>county</th>\n",
       "      <th>city</th>\n",
       "      <th>zipcode</th>\n",
       "      <th>high_school</th>\n",
       "      <th>middle_school</th>\n",
       "      <th>elementary_school</th>\n",
       "    </tr>\n",
       "  </thead>\n",
       "  <tbody>\n",
       "    <tr>\n",
       "      <th>0</th>\n",
       "      <td>3157 NE MARINE DR, Portland OR 97035</td>\n",
       "      <td>65000</td>\n",
       "      <td>Floating Home - 1 Story</td>\n",
       "      <td>1</td>\n",
       "      <td>1.0</td>\n",
       "      <td>800</td>\n",
       "      <td>1964</td>\n",
       "      <td>NaN</td>\n",
       "      <td>unknown</td>\n",
       "      <td>Multnomah</td>\n",
       "      <td>Portland</td>\n",
       "      <td>97035</td>\n",
       "      <td>Current Price:</td>\n",
       "      <td>Jefferson</td>\n",
       "      <td>Faubion</td>\n",
       "    </tr>\n",
       "    <tr>\n",
       "      <th>1</th>\n",
       "      <td>17452 NE GLISAN ST #7, Portland OR 97230</td>\n",
       "      <td>72000</td>\n",
       "      <td>Manufactured - Double Wide Manufact</td>\n",
       "      <td>2</td>\n",
       "      <td>2.0</td>\n",
       "      <td>1152</td>\n",
       "      <td>1988</td>\n",
       "      <td>NaN</td>\n",
       "      <td>unknown</td>\n",
       "      <td>Multnomah</td>\n",
       "      <td>Portland</td>\n",
       "      <td>97230</td>\n",
       "      <td>Reynolds</td>\n",
       "      <td>Reynolds</td>\n",
       "      <td>Hartley</td>\n",
       "    </tr>\n",
       "    <tr>\n",
       "      <th>2</th>\n",
       "      <td>9034 SE 78TH PL, Portland OR 97206</td>\n",
       "      <td>79950</td>\n",
       "      <td>Manufactured - Double Wide Manufact</td>\n",
       "      <td>3</td>\n",
       "      <td>2.0</td>\n",
       "      <td>1344</td>\n",
       "      <td>1997</td>\n",
       "      <td>NaN</td>\n",
       "      <td>unknown</td>\n",
       "      <td>Clackamas</td>\n",
       "      <td>Portland</td>\n",
       "      <td>97206</td>\n",
       "      <td>Current Price:</td>\n",
       "      <td>Milwaukie</td>\n",
       "      <td>Whitman</td>\n",
       "    </tr>\n",
       "    <tr>\n",
       "      <th>3</th>\n",
       "      <td>16000 SE POWELL BLVD 75, Portland OR 97236</td>\n",
       "      <td>79950</td>\n",
       "      <td>Manufactured - Double Wide Manufact</td>\n",
       "      <td>3</td>\n",
       "      <td>2.0</td>\n",
       "      <td>1404</td>\n",
       "      <td>1990</td>\n",
       "      <td>NaN</td>\n",
       "      <td>unknown</td>\n",
       "      <td>Multnomah</td>\n",
       "      <td>Portland</td>\n",
       "      <td>97236</td>\n",
       "      <td>Centennial</td>\n",
       "      <td>Centennial</td>\n",
       "      <td>Powell Butte</td>\n",
       "    </tr>\n",
       "    <tr>\n",
       "      <th>4</th>\n",
       "      <td>12846 SE RAMONA ST 6, Portland OR 97236</td>\n",
       "      <td>93900</td>\n",
       "      <td>Manufactured - Double Wide Manufact</td>\n",
       "      <td>3</td>\n",
       "      <td>2.0</td>\n",
       "      <td>1297</td>\n",
       "      <td>1997</td>\n",
       "      <td>NaN</td>\n",
       "      <td>unknown</td>\n",
       "      <td>Multnomah</td>\n",
       "      <td>Portland</td>\n",
       "      <td>97236</td>\n",
       "      <td>David Douglas</td>\n",
       "      <td>Alice Ott</td>\n",
       "      <td>Gilbert Hts</td>\n",
       "    </tr>\n",
       "  </tbody>\n",
       "</table>\n",
       "</div>"
      ],
      "text/plain": [
       "                                      address  price  \\\n",
       "0        3157 NE MARINE DR, Portland OR 97035  65000   \n",
       "1    17452 NE GLISAN ST #7, Portland OR 97230  72000   \n",
       "2          9034 SE 78TH PL, Portland OR 97206  79950   \n",
       "3  16000 SE POWELL BLVD 75, Portland OR 97236  79950   \n",
       "4     12846 SE RAMONA ST 6, Portland OR 97236  93900   \n",
       "\n",
       "                             home_type  bedrooms  bathrooms  square_feet  \\\n",
       "0              Floating Home - 1 Story         1        1.0          800   \n",
       "1  Manufactured - Double Wide Manufact         2        2.0         1152   \n",
       "2  Manufactured - Double Wide Manufact         3        2.0         1344   \n",
       "3  Manufactured - Double Wide Manufact         3        2.0         1404   \n",
       "4  Manufactured - Double Wide Manufact         3        2.0         1297   \n",
       "\n",
       "   built  lot_size neighborhood     county      city  zipcode     high_school  \\\n",
       "0   1964       NaN      unknown  Multnomah  Portland    97035  Current Price:   \n",
       "1   1988       NaN      unknown  Multnomah  Portland    97230        Reynolds   \n",
       "2   1997       NaN      unknown  Clackamas  Portland    97206  Current Price:   \n",
       "3   1990       NaN      unknown  Multnomah  Portland    97236      Centennial   \n",
       "4   1997       NaN      unknown  Multnomah  Portland    97236   David Douglas   \n",
       "\n",
       "  middle_school elementary_school  \n",
       "0     Jefferson           Faubion  \n",
       "1      Reynolds           Hartley  \n",
       "2     Milwaukie           Whitman  \n",
       "3    Centennial      Powell Butte  \n",
       "4     Alice Ott       Gilbert Hts  "
      ]
     },
     "execution_count": 2,
     "metadata": {},
     "output_type": "execute_result"
    }
   ],
   "source": [
    "# Load csv into df\n",
    "housing_data = pd.read_csv(\"../Resources/housingDataUpdated.csv\")\n",
    "housing_data.head()"
   ]
  },
  {
   "cell_type": "code",
   "execution_count": 3,
   "metadata": {},
   "outputs": [
    {
     "data": {
      "text/plain": [
       "(701, 15)"
      ]
     },
     "execution_count": 3,
     "metadata": {},
     "output_type": "execute_result"
    }
   ],
   "source": [
    "# Find lot_size with null values\n",
    "null_lots = housing_data.loc[housing_data[\"lot_size\"].isnull(), :]\n",
    "null_lots.shape"
   ]
  },
  {
   "cell_type": "code",
   "execution_count": 4,
   "metadata": {},
   "outputs": [
    {
     "data": {
      "text/plain": [
       "array(['Floating', 'Manufactured', 'Condo', 'Single Family'], dtype=object)"
      ]
     },
     "execution_count": 4,
     "metadata": {},
     "output_type": "execute_result"
    }
   ],
   "source": [
    "# Simplify home types \n",
    "for i in housing_data.index:\n",
    "    if \"Floating\" in housing_data.at[i, \"home_type\"]:\n",
    "        housing_data.at[i, \"home_type\"] = \"Floating\"\n",
    "    if \"Condo\" in housing_data.at[i, \"home_type\"]:\n",
    "        housing_data.at[i, \"home_type\"] = \"Condo\"\n",
    "    if \"Single Family\" in housing_data.at[i, \"home_type\"]:\n",
    "        housing_data.at[i, \"home_type\"] = \"Single Family\"\n",
    "    if \"Manufactured\" in housing_data.at[i, \"home_type\"]:\n",
    "        housing_data.at[i, \"home_type\"] = \"Manufactured\"\n",
    "    \n",
    "housing_data.home_type.unique()   "
   ]
  },
  {
   "cell_type": "code",
   "execution_count": 5,
   "metadata": {},
   "outputs": [
    {
     "name": "stdout",
     "output_type": "stream",
     "text": [
      "Current Amount of Listings: 1830\n",
      "Updated Amount of Listings: 1732\n"
     ]
    }
   ],
   "source": [
    "# Print data to compare how many data points lost\n",
    "print(f'Current Amount of Listings: {len(housing_data)}')\n",
    "\n",
    "# Change lot size to 0 for floating homes and condos\n",
    "for i in housing_data.index:\n",
    "    if housing_data.at[i, \"home_type\"] == \"Floating\":\n",
    "        housing_data.at[i, \"lot_size\"] = 0\n",
    "    if housing_data.at[i, \"home_type\"] == \"Condo\":\n",
    "        housing_data.at[i, \"lot_size\"] = 0\n",
    "\n",
    "# Drop listing with null lot_size\n",
    "cleaned_housing_data = housing_data.drop(housing_data[housing_data[\"lot_size\"].isnull()].index)\n",
    "      \n",
    "# Print length of data\n",
    "print(f'Updated Amount of Listings: {len(cleaned_housing_data)}')"
   ]
  },
  {
   "cell_type": "code",
   "execution_count": 6,
   "metadata": {},
   "outputs": [
    {
     "data": {
      "text/plain": [
       "(1722, 15)"
      ]
     },
     "execution_count": 6,
     "metadata": {},
     "output_type": "execute_result"
    }
   ],
   "source": [
    "# Drop listings with unclear Highschool data\n",
    "cleaned_housing_data.drop(cleaned_housing_data[cleaned_housing_data.high_school == \"Current Price:\"].index, inplace = True)\n",
    "cleaned_housing_data.drop(cleaned_housing_data[cleaned_housing_data.high_school == \"Other\"].index, inplace = True)\n",
    "cleaned_housing_data.shape"
   ]
  },
  {
   "cell_type": "code",
   "execution_count": 7,
   "metadata": {},
   "outputs": [],
   "source": [
    "# Save to csv\n",
    "cleaned_housing_data.to_csv(\"../Resources/housingDataUpdatedandCleaned.csv\", index=False)"
   ]
  },
  {
   "cell_type": "code",
   "execution_count": null,
   "metadata": {},
   "outputs": [],
   "source": []
  }
 ],
 "metadata": {
  "kernelspec": {
   "display_name": "Python 3",
   "language": "python",
   "name": "python3"
  },
  "language_info": {
   "codemirror_mode": {
    "name": "ipython",
    "version": 3
   },
   "file_extension": ".py",
   "mimetype": "text/x-python",
   "name": "python",
   "nbconvert_exporter": "python",
   "pygments_lexer": "ipython3",
   "version": "3.7.7"
  }
 },
 "nbformat": 4,
 "nbformat_minor": 2
}

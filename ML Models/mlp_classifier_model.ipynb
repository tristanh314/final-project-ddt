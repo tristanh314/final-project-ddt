{
 "cells": [
  {
   "cell_type": "markdown",
   "metadata": {},
   "source": [
    "## Setup"
   ]
  },
  {
   "cell_type": "code",
   "execution_count": 1,
   "metadata": {},
   "outputs": [],
   "source": [
    "# Import Dependencies.\n",
    "import matplotlib.pyplot as plt\n",
    "import numpy as np\n",
    "import pandas as pd\n",
    "\n",
    "import requests\n",
    "import json\n",
    "\n",
    "from sklearn.neural_network import MLPClassifier\n",
    "from sklearn.model_selection import train_test_split\n",
    "from sklearn.preprocessing import StandardScaler\n",
    "from sklearn.preprocessing import LabelEncoder\n",
    "from sklearn.model_selection import GridSearchCV\n",
    "from sklearn.metrics import mean_squared_error\n",
    "\n",
    "from joblib import dump, load"
   ]
  },
  {
   "cell_type": "code",
   "execution_count": 2,
   "metadata": {},
   "outputs": [
    {
     "name": "stdout",
     "output_type": "stream",
     "text": [
      "{\n",
      "    \"address\": \"255 SW HARRISON ST 19b, Portland OR 97201\",\n",
      "    \"bathrooms\": 1.0,\n",
      "    \"bedrooms\": 1,\n",
      "    \"built\": 1965,\n",
      "    \"city\": \"Portland\",\n",
      "    \"county\": \"Multnomah\",\n",
      "    \"elementary_school\": \"Ainsworth\",\n",
      "    \"high_school\": \"Lincoln\",\n",
      "    \"home_type\": \"Condo - Contemporary\",\n",
      "    \"lot_size\": null,\n",
      "    \"middle_school\": \"West Sylvan\",\n",
      "    \"neighborhood\": \"HARRISON WEST PSU OHSU\",\n",
      "    \"price\": 250000,\n",
      "    \"square_feet\": 744,\n",
      "    \"zipcode\": 97201\n",
      "}\n"
     ]
    }
   ],
   "source": [
    "# Fetch the data from the API.\n",
    "listings_json = requests.get(\"http://127.0.0.1:5000/housingDataAPI/v1.0/listings\").json()\n",
    "\n",
    "# Examine the data.\n",
    "print(json.dumps(listings_json[0], indent=4, sort_keys=True))"
   ]
  },
  {
   "cell_type": "code",
   "execution_count": 3,
   "metadata": {},
   "outputs": [
    {
     "name": "stdout",
     "output_type": "stream",
     "text": [
      "1619\n"
     ]
    },
    {
     "data": {
      "text/html": [
       "<div>\n",
       "<style scoped>\n",
       "    .dataframe tbody tr th:only-of-type {\n",
       "        vertical-align: middle;\n",
       "    }\n",
       "\n",
       "    .dataframe tbody tr th {\n",
       "        vertical-align: top;\n",
       "    }\n",
       "\n",
       "    .dataframe thead th {\n",
       "        text-align: right;\n",
       "    }\n",
       "</style>\n",
       "<table border=\"1\" class=\"dataframe\">\n",
       "  <thead>\n",
       "    <tr style=\"text-align: right;\">\n",
       "      <th></th>\n",
       "      <th>address</th>\n",
       "      <th>bathrooms</th>\n",
       "      <th>bedrooms</th>\n",
       "      <th>built</th>\n",
       "      <th>city</th>\n",
       "      <th>county</th>\n",
       "      <th>elementary_school</th>\n",
       "      <th>high_school</th>\n",
       "      <th>home_type</th>\n",
       "      <th>lot_size</th>\n",
       "      <th>middle_school</th>\n",
       "      <th>neighborhood</th>\n",
       "      <th>price</th>\n",
       "      <th>square_feet</th>\n",
       "      <th>zipcode</th>\n",
       "    </tr>\n",
       "  </thead>\n",
       "  <tbody>\n",
       "    <tr>\n",
       "      <th>0</th>\n",
       "      <td>255 SW HARRISON ST 19b, Portland OR 97201</td>\n",
       "      <td>1.0</td>\n",
       "      <td>1</td>\n",
       "      <td>1965</td>\n",
       "      <td>Portland</td>\n",
       "      <td>Multnomah</td>\n",
       "      <td>Ainsworth</td>\n",
       "      <td>Lincoln</td>\n",
       "      <td>Condo - Contemporary</td>\n",
       "      <td>NaN</td>\n",
       "      <td>West Sylvan</td>\n",
       "      <td>HARRISON WEST PSU OHSU</td>\n",
       "      <td>250000</td>\n",
       "      <td>744</td>\n",
       "      <td>97201</td>\n",
       "    </tr>\n",
       "    <tr>\n",
       "      <th>1</th>\n",
       "      <td>1811 NW COUCH ST 410, Portland OR 97209</td>\n",
       "      <td>1.0</td>\n",
       "      <td>1</td>\n",
       "      <td>1916</td>\n",
       "      <td>Portland</td>\n",
       "      <td>Multnomah</td>\n",
       "      <td>Chapman</td>\n",
       "      <td>Lincoln</td>\n",
       "      <td>Condo - Tudor</td>\n",
       "      <td>NaN</td>\n",
       "      <td>West Sylvan</td>\n",
       "      <td>unknown</td>\n",
       "      <td>250000</td>\n",
       "      <td>519</td>\n",
       "      <td>97209</td>\n",
       "    </tr>\n",
       "    <tr>\n",
       "      <th>2</th>\n",
       "      <td>2211 SW PARK PL 102, Portland OR 97205</td>\n",
       "      <td>1.0</td>\n",
       "      <td>1</td>\n",
       "      <td>1965</td>\n",
       "      <td>Portland</td>\n",
       "      <td>Multnomah</td>\n",
       "      <td>Chapman</td>\n",
       "      <td>Lincoln</td>\n",
       "      <td>Condo - Contemporary</td>\n",
       "      <td>NaN</td>\n",
       "      <td>West Sylvan</td>\n",
       "      <td>KINGS HILL</td>\n",
       "      <td>250000</td>\n",
       "      <td>849</td>\n",
       "      <td>97205</td>\n",
       "    </tr>\n",
       "    <tr>\n",
       "      <th>3</th>\n",
       "      <td>501 NE Bridgeton RD 5, Portland OR 97211</td>\n",
       "      <td>1.0</td>\n",
       "      <td>2</td>\n",
       "      <td>1964</td>\n",
       "      <td>Portland</td>\n",
       "      <td>Multnomah</td>\n",
       "      <td>Faubion</td>\n",
       "      <td>Jefferson</td>\n",
       "      <td>Floating Home - 1 Story</td>\n",
       "      <td>NaN</td>\n",
       "      <td>Other</td>\n",
       "      <td>BRIDGETON</td>\n",
       "      <td>250000</td>\n",
       "      <td>791</td>\n",
       "      <td>97211</td>\n",
       "    </tr>\n",
       "    <tr>\n",
       "      <th>4</th>\n",
       "      <td>8712 N DECATUR ST 301, Portland OR 97203</td>\n",
       "      <td>1.0</td>\n",
       "      <td>2</td>\n",
       "      <td>2007</td>\n",
       "      <td>Portland</td>\n",
       "      <td>Multnomah</td>\n",
       "      <td>James John</td>\n",
       "      <td>Roosevelt</td>\n",
       "      <td>Condo - Contemporary</td>\n",
       "      <td>NaN</td>\n",
       "      <td>George</td>\n",
       "      <td>unknown</td>\n",
       "      <td>252000</td>\n",
       "      <td>934</td>\n",
       "      <td>97203</td>\n",
       "    </tr>\n",
       "  </tbody>\n",
       "</table>\n",
       "</div>"
      ],
      "text/plain": [
       "                                     address  bathrooms  bedrooms  built  \\\n",
       "0  255 SW HARRISON ST 19b, Portland OR 97201        1.0         1   1965   \n",
       "1    1811 NW COUCH ST 410, Portland OR 97209        1.0         1   1916   \n",
       "2     2211 SW PARK PL 102, Portland OR 97205        1.0         1   1965   \n",
       "3   501 NE Bridgeton RD 5, Portland OR 97211        1.0         2   1964   \n",
       "4   8712 N DECATUR ST 301, Portland OR 97203        1.0         2   2007   \n",
       "\n",
       "       city     county elementary_school high_school                home_type  \\\n",
       "0  Portland  Multnomah         Ainsworth     Lincoln     Condo - Contemporary   \n",
       "1  Portland  Multnomah           Chapman     Lincoln            Condo - Tudor   \n",
       "2  Portland  Multnomah           Chapman     Lincoln     Condo - Contemporary   \n",
       "3  Portland  Multnomah           Faubion   Jefferson  Floating Home - 1 Story   \n",
       "4  Portland  Multnomah        James John   Roosevelt     Condo - Contemporary   \n",
       "\n",
       "   lot_size middle_school            neighborhood   price  square_feet  \\\n",
       "0       NaN   West Sylvan  HARRISON WEST PSU OHSU  250000          744   \n",
       "1       NaN   West Sylvan                 unknown  250000          519   \n",
       "2       NaN   West Sylvan              KINGS HILL  250000          849   \n",
       "3       NaN         Other               BRIDGETON  250000          791   \n",
       "4       NaN        George                 unknown  252000          934   \n",
       "\n",
       "   zipcode  \n",
       "0    97201  \n",
       "1    97209  \n",
       "2    97205  \n",
       "3    97211  \n",
       "4    97203  "
      ]
     },
     "execution_count": 3,
     "metadata": {},
     "output_type": "execute_result"
    }
   ],
   "source": [
    "# Create a dataframe to use for our model.\n",
    "data_df = pd.DataFrame(listings_json)\n",
    "\n",
    "print(len(data_df))\n",
    "data_df.head()"
   ]
  },
  {
   "cell_type": "markdown",
   "metadata": {},
   "source": [
    "## Data Preprocessing"
   ]
  },
  {
   "cell_type": "code",
   "execution_count": 4,
   "metadata": {},
   "outputs": [
    {
     "data": {
      "text/plain": [
       "array(['Condo', 'Floating', 'Single Family'], dtype=object)"
      ]
     },
     "execution_count": 4,
     "metadata": {},
     "output_type": "execute_result"
    }
   ],
   "source": [
    "# Simplify home types \n",
    "for i in data_df.index:\n",
    "    if \"Floating\" in data_df.at[i, \"home_type\"]:\n",
    "        data_df.at[i, \"home_type\"] = \"Floating\"\n",
    "    if \"Condo\" in data_df.at[i, \"home_type\"]:\n",
    "        data_df.at[i, \"home_type\"] = \"Condo\"\n",
    "    if \"Single Family\" in data_df.at[i, \"home_type\"]:\n",
    "        data_df.at[i, \"home_type\"] = \"Single Family\"\n",
    "    if \"Manufactured\" in data_df.at[i, \"home_type\"]:\n",
    "        data_df.at[i, \"home_type\"] = \"Manufactured\"\n",
    "    \n",
    "data_df.home_type.unique() "
   ]
  },
  {
   "cell_type": "code",
   "execution_count": 5,
   "metadata": {},
   "outputs": [
    {
     "name": "stdout",
     "output_type": "stream",
     "text": [
      "Current Amount of Listings: 1619\n",
      "Updated Amount of Listings: 1523\n"
     ]
    }
   ],
   "source": [
    "# Print data to compare how many data points lost\n",
    "print(f'Current Amount of Listings: {len(data_df)}')\n",
    "\n",
    "# Change lot size to 0 for floating homes and condos\n",
    "for i in data_df.index:\n",
    "    if data_df.at[i, \"home_type\"] == \"Floating\":\n",
    "        data_df.at[i, \"lot_size\"] = 0\n",
    "    if data_df.at[i, \"home_type\"] == \"Condo\":\n",
    "        data_df.at[i, \"lot_size\"] = 0\n",
    "\n",
    "# Drop listing with null lot_size\n",
    "data_df.drop(data_df[data_df[\"lot_size\"].isnull()].index, inplace=True)\n",
    "      \n",
    "# Print length of data\n",
    "print(f'Updated Amount of Listings: {len(data_df)}')"
   ]
  },
  {
   "cell_type": "code",
   "execution_count": 6,
   "metadata": {},
   "outputs": [
    {
     "name": "stdout",
     "output_type": "stream",
     "text": [
      "Current Amount of Listings: 1523\n",
      "Updated Amount of Listings: 1521\n"
     ]
    }
   ],
   "source": [
    "# Print data to compare how many data points lost\n",
    "print(f'Current Amount of Listings: {len(data_df)}')\n",
    "\n",
    "# Drop rows where high school cannot be compared.\n",
    "data_df.drop(data_df[data_df.high_school == \"Other\"].index, inplace = True)\n",
    "\n",
    "# Print length of data\n",
    "print(f'Updated Amount of Listings: {len(data_df)}')"
   ]
  },
  {
   "cell_type": "code",
   "execution_count": 7,
   "metadata": {},
   "outputs": [
    {
     "data": {
      "text/html": [
       "<div>\n",
       "<style scoped>\n",
       "    .dataframe tbody tr th:only-of-type {\n",
       "        vertical-align: middle;\n",
       "    }\n",
       "\n",
       "    .dataframe tbody tr th {\n",
       "        vertical-align: top;\n",
       "    }\n",
       "\n",
       "    .dataframe thead th {\n",
       "        text-align: right;\n",
       "    }\n",
       "</style>\n",
       "<table border=\"1\" class=\"dataframe\">\n",
       "  <thead>\n",
       "    <tr style=\"text-align: right;\">\n",
       "      <th></th>\n",
       "      <th>address</th>\n",
       "      <th>bathrooms</th>\n",
       "      <th>bedrooms</th>\n",
       "      <th>built</th>\n",
       "      <th>city</th>\n",
       "      <th>county</th>\n",
       "      <th>elementary_school</th>\n",
       "      <th>high_school</th>\n",
       "      <th>home_type</th>\n",
       "      <th>lot_size</th>\n",
       "      <th>middle_school</th>\n",
       "      <th>neighborhood</th>\n",
       "      <th>price</th>\n",
       "      <th>square_feet</th>\n",
       "      <th>zipcode</th>\n",
       "      <th>district</th>\n",
       "    </tr>\n",
       "  </thead>\n",
       "  <tbody>\n",
       "    <tr>\n",
       "      <th>0</th>\n",
       "      <td>255 SW HARRISON ST 19b, Portland OR 97201</td>\n",
       "      <td>1.0</td>\n",
       "      <td>1</td>\n",
       "      <td>1965</td>\n",
       "      <td>Portland</td>\n",
       "      <td>Multnomah</td>\n",
       "      <td>Ainsworth</td>\n",
       "      <td>Lincoln</td>\n",
       "      <td>Condo</td>\n",
       "      <td>0.0</td>\n",
       "      <td>West Sylvan</td>\n",
       "      <td>HARRISON WEST PSU OHSU</td>\n",
       "      <td>250000</td>\n",
       "      <td>744</td>\n",
       "      <td>97201</td>\n",
       "      <td>Portland Public</td>\n",
       "    </tr>\n",
       "    <tr>\n",
       "      <th>1</th>\n",
       "      <td>1811 NW COUCH ST 410, Portland OR 97209</td>\n",
       "      <td>1.0</td>\n",
       "      <td>1</td>\n",
       "      <td>1916</td>\n",
       "      <td>Portland</td>\n",
       "      <td>Multnomah</td>\n",
       "      <td>Chapman</td>\n",
       "      <td>Lincoln</td>\n",
       "      <td>Condo</td>\n",
       "      <td>0.0</td>\n",
       "      <td>West Sylvan</td>\n",
       "      <td>unknown</td>\n",
       "      <td>250000</td>\n",
       "      <td>519</td>\n",
       "      <td>97209</td>\n",
       "      <td>Portland Public</td>\n",
       "    </tr>\n",
       "    <tr>\n",
       "      <th>2</th>\n",
       "      <td>2211 SW PARK PL 102, Portland OR 97205</td>\n",
       "      <td>1.0</td>\n",
       "      <td>1</td>\n",
       "      <td>1965</td>\n",
       "      <td>Portland</td>\n",
       "      <td>Multnomah</td>\n",
       "      <td>Chapman</td>\n",
       "      <td>Lincoln</td>\n",
       "      <td>Condo</td>\n",
       "      <td>0.0</td>\n",
       "      <td>West Sylvan</td>\n",
       "      <td>KINGS HILL</td>\n",
       "      <td>250000</td>\n",
       "      <td>849</td>\n",
       "      <td>97205</td>\n",
       "      <td>Portland Public</td>\n",
       "    </tr>\n",
       "    <tr>\n",
       "      <th>3</th>\n",
       "      <td>111 SW HARRISON ST 7G, Portland OR 97201</td>\n",
       "      <td>1.0</td>\n",
       "      <td>1</td>\n",
       "      <td>1965</td>\n",
       "      <td>Portland</td>\n",
       "      <td>Multnomah</td>\n",
       "      <td>Ainsworth</td>\n",
       "      <td>Lincoln</td>\n",
       "      <td>Condo</td>\n",
       "      <td>0.0</td>\n",
       "      <td>West Sylvan</td>\n",
       "      <td>unknown</td>\n",
       "      <td>253000</td>\n",
       "      <td>600</td>\n",
       "      <td>97201</td>\n",
       "      <td>Portland Public</td>\n",
       "    </tr>\n",
       "    <tr>\n",
       "      <th>4</th>\n",
       "      <td>1500 SW SKYLINE BLVD 16, Portland OR 97221</td>\n",
       "      <td>2.0</td>\n",
       "      <td>2</td>\n",
       "      <td>1966</td>\n",
       "      <td>Portland</td>\n",
       "      <td>Multnomah</td>\n",
       "      <td>Ainsworth</td>\n",
       "      <td>Lincoln</td>\n",
       "      <td>Condo</td>\n",
       "      <td>0.0</td>\n",
       "      <td>West Sylvan</td>\n",
       "      <td>Sylvan/Skyline</td>\n",
       "      <td>254900</td>\n",
       "      <td>1156</td>\n",
       "      <td>97221</td>\n",
       "      <td>Portland Public</td>\n",
       "    </tr>\n",
       "  </tbody>\n",
       "</table>\n",
       "</div>"
      ],
      "text/plain": [
       "                                      address  bathrooms  bedrooms  built  \\\n",
       "0   255 SW HARRISON ST 19b, Portland OR 97201        1.0         1   1965   \n",
       "1     1811 NW COUCH ST 410, Portland OR 97209        1.0         1   1916   \n",
       "2      2211 SW PARK PL 102, Portland OR 97205        1.0         1   1965   \n",
       "3    111 SW HARRISON ST 7G, Portland OR 97201        1.0         1   1965   \n",
       "4  1500 SW SKYLINE BLVD 16, Portland OR 97221        2.0         2   1966   \n",
       "\n",
       "       city     county elementary_school high_school home_type  lot_size  \\\n",
       "0  Portland  Multnomah         Ainsworth     Lincoln     Condo       0.0   \n",
       "1  Portland  Multnomah           Chapman     Lincoln     Condo       0.0   \n",
       "2  Portland  Multnomah           Chapman     Lincoln     Condo       0.0   \n",
       "3  Portland  Multnomah         Ainsworth     Lincoln     Condo       0.0   \n",
       "4  Portland  Multnomah         Ainsworth     Lincoln     Condo       0.0   \n",
       "\n",
       "  middle_school            neighborhood   price  square_feet  zipcode  \\\n",
       "0   West Sylvan  HARRISON WEST PSU OHSU  250000          744    97201   \n",
       "1   West Sylvan                 unknown  250000          519    97209   \n",
       "2   West Sylvan              KINGS HILL  250000          849    97205   \n",
       "3   West Sylvan                 unknown  253000          600    97201   \n",
       "4   West Sylvan          Sylvan/Skyline  254900         1156    97221   \n",
       "\n",
       "          district  \n",
       "0  Portland Public  \n",
       "1  Portland Public  \n",
       "2  Portland Public  \n",
       "3  Portland Public  \n",
       "4  Portland Public  "
      ]
     },
     "execution_count": 7,
     "metadata": {},
     "output_type": "execute_result"
    }
   ],
   "source": [
    "# Create district df\n",
    "school_dict = ({\"high_school\" : ['Reynolds', 'Parkrose', 'David Douglas', 'Centennial', 'Cleveland',\n",
    "        'Lincoln', 'Madison', 'Jefferson', 'Roosevelt', 'Sunset','Westview', 'Liberty', 'Beaverton', \n",
    "        'Grant', 'Southridge', 'Tigard', 'Wilson', 'Riverdale', 'Lake Oswego', 'Franklin',\n",
    "        'Tualatin', 'Milwaukie', 'Scappoose'], \"district\" : ['Reynolds', 'Parkrose','David Douglas',\n",
    "        'Centennial', 'Portland Public', 'Portland Public', 'Portland Public', 'Portland Public',\n",
    "        'Portland Public', 'Beaverton', 'Beaverton', 'Hillsboro', 'Beaverton', 'Portland Public',\n",
    "        'Beaverton', 'Tigard-Tualatin', 'Portland Public', 'Riverdale', 'Lake Oswego', 'Portland Public',\n",
    "        'Tigard-Tualatin', 'North Clackamas', 'Scappose']})\n",
    "district_df = pd.DataFrame (school_dict)\n",
    "\n",
    "# Merge into OG df\n",
    "data_df = pd.merge(data_df, district_df, on=\"high_school\")\n",
    "data_df.head()"
   ]
  },
  {
   "cell_type": "code",
   "execution_count": 8,
   "metadata": {},
   "outputs": [
    {
     "data": {
      "text/html": [
       "<div>\n",
       "<style scoped>\n",
       "    .dataframe tbody tr th:only-of-type {\n",
       "        vertical-align: middle;\n",
       "    }\n",
       "\n",
       "    .dataframe tbody tr th {\n",
       "        vertical-align: top;\n",
       "    }\n",
       "\n",
       "    .dataframe thead th {\n",
       "        text-align: right;\n",
       "    }\n",
       "</style>\n",
       "<table border=\"1\" class=\"dataframe\">\n",
       "  <thead>\n",
       "    <tr style=\"text-align: right;\">\n",
       "      <th></th>\n",
       "      <th>address</th>\n",
       "      <th>bathrooms</th>\n",
       "      <th>bedrooms</th>\n",
       "      <th>built</th>\n",
       "      <th>city</th>\n",
       "      <th>county</th>\n",
       "      <th>elementary_school</th>\n",
       "      <th>high_school</th>\n",
       "      <th>home_type</th>\n",
       "      <th>lot_size</th>\n",
       "      <th>middle_school</th>\n",
       "      <th>neighborhood</th>\n",
       "      <th>price</th>\n",
       "      <th>square_feet</th>\n",
       "      <th>zipcode</th>\n",
       "      <th>district</th>\n",
       "      <th>house_age</th>\n",
       "    </tr>\n",
       "  </thead>\n",
       "  <tbody>\n",
       "    <tr>\n",
       "      <th>0</th>\n",
       "      <td>255 SW HARRISON ST 19b, Portland OR 97201</td>\n",
       "      <td>1.0</td>\n",
       "      <td>1</td>\n",
       "      <td>1965</td>\n",
       "      <td>Portland</td>\n",
       "      <td>Multnomah</td>\n",
       "      <td>Ainsworth</td>\n",
       "      <td>Lincoln</td>\n",
       "      <td>Condo</td>\n",
       "      <td>0.0</td>\n",
       "      <td>West Sylvan</td>\n",
       "      <td>HARRISON WEST PSU OHSU</td>\n",
       "      <td>250000</td>\n",
       "      <td>744</td>\n",
       "      <td>97201</td>\n",
       "      <td>Portland Public</td>\n",
       "      <td>55</td>\n",
       "    </tr>\n",
       "    <tr>\n",
       "      <th>1</th>\n",
       "      <td>1811 NW COUCH ST 410, Portland OR 97209</td>\n",
       "      <td>1.0</td>\n",
       "      <td>1</td>\n",
       "      <td>1916</td>\n",
       "      <td>Portland</td>\n",
       "      <td>Multnomah</td>\n",
       "      <td>Chapman</td>\n",
       "      <td>Lincoln</td>\n",
       "      <td>Condo</td>\n",
       "      <td>0.0</td>\n",
       "      <td>West Sylvan</td>\n",
       "      <td>unknown</td>\n",
       "      <td>250000</td>\n",
       "      <td>519</td>\n",
       "      <td>97209</td>\n",
       "      <td>Portland Public</td>\n",
       "      <td>104</td>\n",
       "    </tr>\n",
       "    <tr>\n",
       "      <th>2</th>\n",
       "      <td>2211 SW PARK PL 102, Portland OR 97205</td>\n",
       "      <td>1.0</td>\n",
       "      <td>1</td>\n",
       "      <td>1965</td>\n",
       "      <td>Portland</td>\n",
       "      <td>Multnomah</td>\n",
       "      <td>Chapman</td>\n",
       "      <td>Lincoln</td>\n",
       "      <td>Condo</td>\n",
       "      <td>0.0</td>\n",
       "      <td>West Sylvan</td>\n",
       "      <td>KINGS HILL</td>\n",
       "      <td>250000</td>\n",
       "      <td>849</td>\n",
       "      <td>97205</td>\n",
       "      <td>Portland Public</td>\n",
       "      <td>55</td>\n",
       "    </tr>\n",
       "    <tr>\n",
       "      <th>3</th>\n",
       "      <td>111 SW HARRISON ST 7G, Portland OR 97201</td>\n",
       "      <td>1.0</td>\n",
       "      <td>1</td>\n",
       "      <td>1965</td>\n",
       "      <td>Portland</td>\n",
       "      <td>Multnomah</td>\n",
       "      <td>Ainsworth</td>\n",
       "      <td>Lincoln</td>\n",
       "      <td>Condo</td>\n",
       "      <td>0.0</td>\n",
       "      <td>West Sylvan</td>\n",
       "      <td>unknown</td>\n",
       "      <td>253000</td>\n",
       "      <td>600</td>\n",
       "      <td>97201</td>\n",
       "      <td>Portland Public</td>\n",
       "      <td>55</td>\n",
       "    </tr>\n",
       "    <tr>\n",
       "      <th>4</th>\n",
       "      <td>1500 SW SKYLINE BLVD 16, Portland OR 97221</td>\n",
       "      <td>2.0</td>\n",
       "      <td>2</td>\n",
       "      <td>1966</td>\n",
       "      <td>Portland</td>\n",
       "      <td>Multnomah</td>\n",
       "      <td>Ainsworth</td>\n",
       "      <td>Lincoln</td>\n",
       "      <td>Condo</td>\n",
       "      <td>0.0</td>\n",
       "      <td>West Sylvan</td>\n",
       "      <td>Sylvan/Skyline</td>\n",
       "      <td>254900</td>\n",
       "      <td>1156</td>\n",
       "      <td>97221</td>\n",
       "      <td>Portland Public</td>\n",
       "      <td>54</td>\n",
       "    </tr>\n",
       "  </tbody>\n",
       "</table>\n",
       "</div>"
      ],
      "text/plain": [
       "                                      address  bathrooms  bedrooms  built  \\\n",
       "0   255 SW HARRISON ST 19b, Portland OR 97201        1.0         1   1965   \n",
       "1     1811 NW COUCH ST 410, Portland OR 97209        1.0         1   1916   \n",
       "2      2211 SW PARK PL 102, Portland OR 97205        1.0         1   1965   \n",
       "3    111 SW HARRISON ST 7G, Portland OR 97201        1.0         1   1965   \n",
       "4  1500 SW SKYLINE BLVD 16, Portland OR 97221        2.0         2   1966   \n",
       "\n",
       "       city     county elementary_school high_school home_type  lot_size  \\\n",
       "0  Portland  Multnomah         Ainsworth     Lincoln     Condo       0.0   \n",
       "1  Portland  Multnomah           Chapman     Lincoln     Condo       0.0   \n",
       "2  Portland  Multnomah           Chapman     Lincoln     Condo       0.0   \n",
       "3  Portland  Multnomah         Ainsworth     Lincoln     Condo       0.0   \n",
       "4  Portland  Multnomah         Ainsworth     Lincoln     Condo       0.0   \n",
       "\n",
       "  middle_school            neighborhood   price  square_feet  zipcode  \\\n",
       "0   West Sylvan  HARRISON WEST PSU OHSU  250000          744    97201   \n",
       "1   West Sylvan                 unknown  250000          519    97209   \n",
       "2   West Sylvan              KINGS HILL  250000          849    97205   \n",
       "3   West Sylvan                 unknown  253000          600    97201   \n",
       "4   West Sylvan          Sylvan/Skyline  254900         1156    97221   \n",
       "\n",
       "          district  house_age  \n",
       "0  Portland Public         55  \n",
       "1  Portland Public        104  \n",
       "2  Portland Public         55  \n",
       "3  Portland Public         55  \n",
       "4  Portland Public         54  "
      ]
     },
     "execution_count": 8,
     "metadata": {},
     "output_type": "execute_result"
    }
   ],
   "source": [
    "# Add age of home column\n",
    "data_df[\"house_age\"] = 2020 - data_df[\"built\"]\n",
    "data_df.head()"
   ]
  },
  {
   "cell_type": "markdown",
   "metadata": {},
   "source": [
    "## Prepare Data for Model"
   ]
  },
  {
   "cell_type": "code",
   "execution_count": 9,
   "metadata": {},
   "outputs": [
    {
     "name": "stdout",
     "output_type": "stream",
     "text": [
      "1519\n"
     ]
    },
    {
     "data": {
      "text/html": [
       "<div>\n",
       "<style scoped>\n",
       "    .dataframe tbody tr th:only-of-type {\n",
       "        vertical-align: middle;\n",
       "    }\n",
       "\n",
       "    .dataframe tbody tr th {\n",
       "        vertical-align: top;\n",
       "    }\n",
       "\n",
       "    .dataframe thead th {\n",
       "        text-align: right;\n",
       "    }\n",
       "</style>\n",
       "<table border=\"1\" class=\"dataframe\">\n",
       "  <thead>\n",
       "    <tr style=\"text-align: right;\">\n",
       "      <th></th>\n",
       "      <th>bathrooms</th>\n",
       "      <th>bedrooms</th>\n",
       "      <th>house_age</th>\n",
       "      <th>lot_size</th>\n",
       "      <th>square_feet</th>\n",
       "      <th>district</th>\n",
       "      <th>zipcode</th>\n",
       "      <th>price</th>\n",
       "    </tr>\n",
       "  </thead>\n",
       "  <tbody>\n",
       "    <tr>\n",
       "      <th>0</th>\n",
       "      <td>1.0</td>\n",
       "      <td>1</td>\n",
       "      <td>55</td>\n",
       "      <td>0.0</td>\n",
       "      <td>744</td>\n",
       "      <td>Portland Public</td>\n",
       "      <td>97201</td>\n",
       "      <td>250000</td>\n",
       "    </tr>\n",
       "    <tr>\n",
       "      <th>1</th>\n",
       "      <td>1.0</td>\n",
       "      <td>1</td>\n",
       "      <td>104</td>\n",
       "      <td>0.0</td>\n",
       "      <td>519</td>\n",
       "      <td>Portland Public</td>\n",
       "      <td>97209</td>\n",
       "      <td>250000</td>\n",
       "    </tr>\n",
       "    <tr>\n",
       "      <th>2</th>\n",
       "      <td>1.0</td>\n",
       "      <td>1</td>\n",
       "      <td>55</td>\n",
       "      <td>0.0</td>\n",
       "      <td>849</td>\n",
       "      <td>Portland Public</td>\n",
       "      <td>97205</td>\n",
       "      <td>250000</td>\n",
       "    </tr>\n",
       "    <tr>\n",
       "      <th>3</th>\n",
       "      <td>1.0</td>\n",
       "      <td>1</td>\n",
       "      <td>55</td>\n",
       "      <td>0.0</td>\n",
       "      <td>600</td>\n",
       "      <td>Portland Public</td>\n",
       "      <td>97201</td>\n",
       "      <td>253000</td>\n",
       "    </tr>\n",
       "    <tr>\n",
       "      <th>4</th>\n",
       "      <td>2.0</td>\n",
       "      <td>2</td>\n",
       "      <td>54</td>\n",
       "      <td>0.0</td>\n",
       "      <td>1156</td>\n",
       "      <td>Portland Public</td>\n",
       "      <td>97221</td>\n",
       "      <td>254900</td>\n",
       "    </tr>\n",
       "  </tbody>\n",
       "</table>\n",
       "</div>"
      ],
      "text/plain": [
       "   bathrooms  bedrooms  house_age  lot_size  square_feet         district  \\\n",
       "0        1.0         1         55       0.0          744  Portland Public   \n",
       "1        1.0         1        104       0.0          519  Portland Public   \n",
       "2        1.0         1         55       0.0          849  Portland Public   \n",
       "3        1.0         1         55       0.0          600  Portland Public   \n",
       "4        2.0         2         54       0.0         1156  Portland Public   \n",
       "\n",
       "   zipcode   price  \n",
       "0    97201  250000  \n",
       "1    97209  250000  \n",
       "2    97205  250000  \n",
       "3    97201  253000  \n",
       "4    97221  254900  "
      ]
     },
     "execution_count": 9,
     "metadata": {},
     "output_type": "execute_result"
    }
   ],
   "source": [
    "# Include only those columns that will be used in the deep learning model.\n",
    "model_df = data_df.loc[:, [\"bathrooms\",\n",
    "                            \"bedrooms\",\n",
    "                            \"house_age\",\n",
    "                            \"lot_size\",\n",
    "                            \"square_feet\",\n",
    "                            \"district\",\n",
    "                            \"zipcode\",\n",
    "                            \"price\"]\n",
    "                       ]\n",
    "\n",
    "# Drop rows with NaN entries.\n",
    "model_df.dropna(inplace=True)\n",
    "\n",
    "# Check the model data.\n",
    "print(len(model_df))\n",
    "model_df.head()"
   ]
  },
  {
   "cell_type": "code",
   "execution_count": 10,
   "metadata": {},
   "outputs": [
    {
     "name": "stdout",
     "output_type": "stream",
     "text": [
      "The lower quartile of price is: 399000.0\n",
      "The upper quartile of price is: 799450.0\n",
      "The interquartile range of price is: 400450.0\n",
      "The the median of price is: 565000.0 \n",
      "Values below -201675.0 could be outliers.\n",
      "Values above 1400125.0 could be outliers.\n",
      "There are 103 possible outliers.\n"
     ]
    }
   ],
   "source": [
    "# Analysis of price data.\n",
    "housing_prices = model_df[\"price\"]\n",
    "\n",
    "quartiles = housing_prices.quantile([.25,.5,.75])\n",
    "lowerq = quartiles[0.25]\n",
    "upperq = quartiles[0.75]\n",
    "iqr = upperq-lowerq\n",
    "\n",
    "print(f\"The lower quartile of price is: {lowerq}\")\n",
    "print(f\"The upper quartile of price is: {upperq}\")\n",
    "print(f\"The interquartile range of price is: {iqr}\")\n",
    "print(f\"The the median of price is: {quartiles[0.5]} \")\n",
    "\n",
    "lower_bound = lowerq - (1.5*iqr)\n",
    "upper_bound = upperq + (1.5*iqr)\n",
    "print(f\"Values below {lower_bound} could be outliers.\")\n",
    "print(f\"Values above {upper_bound} could be outliers.\")\n",
    "\n",
    "outlier_model_df = model_df.loc[(model_df['price'] < lower_bound) \n",
    "                                        | (model_df['price'] > upper_bound)]\n",
    "print(f\"There are {len(outlier_model_df)} possible outliers.\")"
   ]
  },
  {
   "cell_type": "code",
   "execution_count": 11,
   "metadata": {},
   "outputs": [
    {
     "data": {
      "text/html": [
       "<div>\n",
       "<style scoped>\n",
       "    .dataframe tbody tr th:only-of-type {\n",
       "        vertical-align: middle;\n",
       "    }\n",
       "\n",
       "    .dataframe tbody tr th {\n",
       "        vertical-align: top;\n",
       "    }\n",
       "\n",
       "    .dataframe thead th {\n",
       "        text-align: right;\n",
       "    }\n",
       "</style>\n",
       "<table border=\"1\" class=\"dataframe\">\n",
       "  <thead>\n",
       "    <tr style=\"text-align: right;\">\n",
       "      <th></th>\n",
       "      <th>bathrooms</th>\n",
       "      <th>bedrooms</th>\n",
       "      <th>house_age</th>\n",
       "      <th>lot_size</th>\n",
       "      <th>square_feet</th>\n",
       "      <th>district</th>\n",
       "      <th>zipcode</th>\n",
       "      <th>price_range</th>\n",
       "    </tr>\n",
       "  </thead>\n",
       "  <tbody>\n",
       "    <tr>\n",
       "      <th>0</th>\n",
       "      <td>1.0</td>\n",
       "      <td>1</td>\n",
       "      <td>55</td>\n",
       "      <td>0.0</td>\n",
       "      <td>744</td>\n",
       "      <td>Portland Public</td>\n",
       "      <td>97201</td>\n",
       "      <td>(250000, 375000]</td>\n",
       "    </tr>\n",
       "    <tr>\n",
       "      <th>1</th>\n",
       "      <td>1.0</td>\n",
       "      <td>1</td>\n",
       "      <td>104</td>\n",
       "      <td>0.0</td>\n",
       "      <td>519</td>\n",
       "      <td>Portland Public</td>\n",
       "      <td>97209</td>\n",
       "      <td>(250000, 375000]</td>\n",
       "    </tr>\n",
       "    <tr>\n",
       "      <th>2</th>\n",
       "      <td>1.0</td>\n",
       "      <td>1</td>\n",
       "      <td>55</td>\n",
       "      <td>0.0</td>\n",
       "      <td>849</td>\n",
       "      <td>Portland Public</td>\n",
       "      <td>97205</td>\n",
       "      <td>(250000, 375000]</td>\n",
       "    </tr>\n",
       "    <tr>\n",
       "      <th>3</th>\n",
       "      <td>1.0</td>\n",
       "      <td>1</td>\n",
       "      <td>55</td>\n",
       "      <td>0.0</td>\n",
       "      <td>600</td>\n",
       "      <td>Portland Public</td>\n",
       "      <td>97201</td>\n",
       "      <td>(250000, 375000]</td>\n",
       "    </tr>\n",
       "    <tr>\n",
       "      <th>4</th>\n",
       "      <td>2.0</td>\n",
       "      <td>2</td>\n",
       "      <td>54</td>\n",
       "      <td>0.0</td>\n",
       "      <td>1156</td>\n",
       "      <td>Portland Public</td>\n",
       "      <td>97221</td>\n",
       "      <td>(250000, 375000]</td>\n",
       "    </tr>\n",
       "  </tbody>\n",
       "</table>\n",
       "</div>"
      ],
      "text/plain": [
       "   bathrooms  bedrooms  house_age  lot_size  square_feet         district  \\\n",
       "0        1.0         1         55       0.0          744  Portland Public   \n",
       "1        1.0         1        104       0.0          519  Portland Public   \n",
       "2        1.0         1         55       0.0          849  Portland Public   \n",
       "3        1.0         1         55       0.0          600  Portland Public   \n",
       "4        2.0         2         54       0.0         1156  Portland Public   \n",
       "\n",
       "   zipcode       price_range  \n",
       "0    97201  (250000, 375000]  \n",
       "1    97209  (250000, 375000]  \n",
       "2    97205  (250000, 375000]  \n",
       "3    97201  (250000, 375000]  \n",
       "4    97221  (250000, 375000]  "
      ]
     },
     "execution_count": 11,
     "metadata": {},
     "output_type": "execute_result"
    }
   ],
   "source": [
    "# Bin prices into ten equal length ranges.\n",
    "# print(pd.qcut(model_df[\"price\"], 5, retbins=True))\n",
    "\n",
    "# Define a function to place each listing into an interval up to the upper bound of prices.\n",
    "def bin_price(price):\n",
    "    \"\"\"\n",
    "    Input: Integer price of a home.\n",
    "    Output: Pandas interval into which the price falls, outliers are put in the max bin up to the upper bound.\n",
    "    \"\"\"\n",
    "    if price <= 375000:\n",
    "        return pd.Interval(250000, 375000, closed=\"right\")\n",
    "    elif price <= 480000:\n",
    "        return pd.Interval(375000, 480000, closed=\"right\")\n",
    "    elif price <= 650000:\n",
    "        return pd.Interval(480000, 650000, closed=\"right\")\n",
    "    elif price <= 879900:\n",
    "        return pd.Interval(650000, 879900, closed=\"right\")\n",
    "    else:\n",
    "        return pd.Interval(879900, 1400125, closed=\"right\")\n",
    "    \n",
    "# Add the price range column to the data frame.\n",
    "model_df[\"price_range\"] = model_df[\"price\"].map(bin_price)\n",
    "# Drop the original price data.\n",
    "model_df.drop(\"price\", axis=1, inplace=True)\n",
    "\n",
    "model_df.head()"
   ]
  },
  {
   "cell_type": "code",
   "execution_count": 12,
   "metadata": {},
   "outputs": [
    {
     "data": {
      "text/plain": [
       "Index(['bathrooms', 'bedrooms', 'house_age', 'lot_size', 'square_feet',\n",
       "       'zipcode', 'price_range', 'district_Beaverton', 'district_Centennial',\n",
       "       'district_David Douglas', 'district_Hillsboro', 'district_Lake Oswego',\n",
       "       'district_North Clackamas', 'district_Parkrose',\n",
       "       'district_Portland Public', 'district_Reynolds', 'district_Riverdale',\n",
       "       'district_Scappose', 'district_Tigard-Tualatin'],\n",
       "      dtype='object')"
      ]
     },
     "execution_count": 12,
     "metadata": {},
     "output_type": "execute_result"
    }
   ],
   "source": [
    "# Get dummies for the values in home_type to use in the model.\n",
    "model_df = pd.get_dummies(model_df, columns=[\"district\"])\n",
    "model_df.columns"
   ]
  },
  {
   "cell_type": "code",
   "execution_count": 13,
   "metadata": {},
   "outputs": [],
   "source": [
    "# Assign X (input) and y (target).\n",
    "\n",
    "X = model_df.drop(\"price_range\", axis=1)\n",
    "y = model_df.loc[:,\"price_range\"].values.reshape(-1, 1)"
   ]
  },
  {
   "cell_type": "code",
   "execution_count": 14,
   "metadata": {},
   "outputs": [],
   "source": [
    "# Split the data into training and testing\n",
    "\n",
    "X_train, X_test, y_train, y_test = train_test_split(X, y, random_state=42)"
   ]
  },
  {
   "cell_type": "code",
   "execution_count": 15,
   "metadata": {},
   "outputs": [
    {
     "data": {
      "text/plain": [
       "['standard_scaler.bin']"
      ]
     },
     "execution_count": 15,
     "metadata": {},
     "output_type": "execute_result"
    }
   ],
   "source": [
    "# Create a StandardScaler model and fit it to the training data\n",
    "X_scaler = StandardScaler().fit(X_train)\n",
    "\n",
    "# Save the scalar.\n",
    "dump(X_scaler, 'standard_scaler.bin', compress=True)"
   ]
  },
  {
   "cell_type": "code",
   "execution_count": 16,
   "metadata": {},
   "outputs": [],
   "source": [
    "# Transform the training and testing data using the X_scaler.\n",
    "X_train_scaled = X_scaler.transform(X_train)\n",
    "X_test_scaled = X_scaler.transform(X_test)"
   ]
  },
  {
   "cell_type": "code",
   "execution_count": 17,
   "metadata": {},
   "outputs": [
    {
     "name": "stdout",
     "output_type": "stream",
     "text": [
      "[Interval(879900, 1400125, closed='right')]\n",
      "4\n"
     ]
    },
    {
     "data": {
      "text/plain": [
       "['label_encoder.bin']"
      ]
     },
     "execution_count": 17,
     "metadata": {},
     "output_type": "execute_result"
    }
   ],
   "source": [
    "# Label encode the target data.\n",
    "label_encoder = LabelEncoder()\n",
    "label_encoder.fit(np.ravel(y_train))\n",
    "encoded_y_train = label_encoder.transform(np.ravel(y_train))\n",
    "encoded_y_test = label_encoder.transform(np.ravel(y_test))\n",
    "\n",
    "# Save the label encoder\n",
    "print(y_train[0])\n",
    "print(encoded_y_train[0])\n",
    "dump(label_encoder, 'label_encoder.bin', compress=True)"
   ]
  },
  {
   "cell_type": "markdown",
   "metadata": {},
   "source": [
    "## Model Creation, Training, and Testing"
   ]
  },
  {
   "cell_type": "code",
   "execution_count": 18,
   "metadata": {},
   "outputs": [],
   "source": [
    "# Create an mlp model.\n",
    "model = MLPClassifier(hidden_layer_sizes=(100,100), random_state=42)"
   ]
  },
  {
   "cell_type": "code",
   "execution_count": 19,
   "metadata": {},
   "outputs": [
    {
     "name": "stdout",
     "output_type": "stream",
     "text": [
      "Fitting 5 folds for each of 108 candidates, totalling 540 fits\n",
      "[CV] alpha=0.1, learning_rate_init=0.1, max_iter=100 .................\n"
     ]
    },
    {
     "name": "stderr",
     "output_type": "stream",
     "text": [
      "[Parallel(n_jobs=1)]: Using backend SequentialBackend with 1 concurrent workers.\n"
     ]
    },
    {
     "name": "stdout",
     "output_type": "stream",
     "text": [
      "[CV] .. alpha=0.1, learning_rate_init=0.1, max_iter=100, total=   0.5s\n",
      "[CV] alpha=0.1, learning_rate_init=0.1, max_iter=100 .................\n"
     ]
    },
    {
     "name": "stderr",
     "output_type": "stream",
     "text": [
      "[Parallel(n_jobs=1)]: Done   1 out of   1 | elapsed:    0.4s remaining:    0.0s\n"
     ]
    },
    {
     "name": "stdout",
     "output_type": "stream",
     "text": [
      "[CV] .. alpha=0.1, learning_rate_init=0.1, max_iter=100, total=   0.8s\n",
      "[CV] alpha=0.1, learning_rate_init=0.1, max_iter=100 .................\n",
      "[CV] .. alpha=0.1, learning_rate_init=0.1, max_iter=100, total=   0.7s\n",
      "[CV] alpha=0.1, learning_rate_init=0.1, max_iter=100 .................\n",
      "[CV] .. alpha=0.1, learning_rate_init=0.1, max_iter=100, total=   0.5s\n",
      "[CV] alpha=0.1, learning_rate_init=0.1, max_iter=100 .................\n",
      "[CV] .. alpha=0.1, learning_rate_init=0.1, max_iter=100, total=   0.8s\n",
      "[CV] alpha=0.1, learning_rate_init=0.1, max_iter=200 .................\n",
      "[CV] .. alpha=0.1, learning_rate_init=0.1, max_iter=200, total=   0.5s\n",
      "[CV] alpha=0.1, learning_rate_init=0.1, max_iter=200 .................\n",
      "[CV] .. alpha=0.1, learning_rate_init=0.1, max_iter=200, total=   0.8s\n",
      "[CV] alpha=0.1, learning_rate_init=0.1, max_iter=200 .................\n",
      "[CV] .. alpha=0.1, learning_rate_init=0.1, max_iter=200, total=   0.9s\n",
      "[CV] alpha=0.1, learning_rate_init=0.1, max_iter=200 .................\n",
      "[CV] .. alpha=0.1, learning_rate_init=0.1, max_iter=200, total=   0.6s\n",
      "[CV] alpha=0.1, learning_rate_init=0.1, max_iter=200 .................\n",
      "[CV] .. alpha=0.1, learning_rate_init=0.1, max_iter=200, total=   0.7s\n",
      "[CV] alpha=0.1, learning_rate_init=0.1, max_iter=300 .................\n",
      "[CV] .. alpha=0.1, learning_rate_init=0.1, max_iter=300, total=   0.5s\n",
      "[CV] alpha=0.1, learning_rate_init=0.1, max_iter=300 .................\n",
      "[CV] .. alpha=0.1, learning_rate_init=0.1, max_iter=300, total=   0.7s\n",
      "[CV] alpha=0.1, learning_rate_init=0.1, max_iter=300 .................\n",
      "[CV] .. alpha=0.1, learning_rate_init=0.1, max_iter=300, total=   0.8s\n",
      "[CV] alpha=0.1, learning_rate_init=0.1, max_iter=300 .................\n",
      "[CV] .. alpha=0.1, learning_rate_init=0.1, max_iter=300, total=   0.5s\n",
      "[CV] alpha=0.1, learning_rate_init=0.1, max_iter=300 .................\n",
      "[CV] .. alpha=0.1, learning_rate_init=0.1, max_iter=300, total=   0.6s\n",
      "[CV] alpha=0.1, learning_rate_init=0.01, max_iter=100 ................\n"
     ]
    },
    {
     "name": "stderr",
     "output_type": "stream",
     "text": [
      "C:\\Users\\Tristan\\anaconda\\Anaconda3\\envs\\pythondata\\lib\\site-packages\\sklearn\\neural_network\\_multilayer_perceptron.py:571: ConvergenceWarning: Stochastic Optimizer: Maximum iterations (100) reached and the optimization hasn't converged yet.\n",
      "  % self.max_iter, ConvergenceWarning)\n"
     ]
    },
    {
     "name": "stdout",
     "output_type": "stream",
     "text": [
      "[CV] . alpha=0.1, learning_rate_init=0.01, max_iter=100, total=   1.2s\n",
      "[CV] alpha=0.1, learning_rate_init=0.01, max_iter=100 ................\n",
      "[CV] . alpha=0.1, learning_rate_init=0.01, max_iter=100, total=   1.2s\n",
      "[CV] alpha=0.1, learning_rate_init=0.01, max_iter=100 ................\n"
     ]
    },
    {
     "name": "stderr",
     "output_type": "stream",
     "text": [
      "C:\\Users\\Tristan\\anaconda\\Anaconda3\\envs\\pythondata\\lib\\site-packages\\sklearn\\neural_network\\_multilayer_perceptron.py:571: ConvergenceWarning: Stochastic Optimizer: Maximum iterations (100) reached and the optimization hasn't converged yet.\n",
      "  % self.max_iter, ConvergenceWarning)\n"
     ]
    },
    {
     "name": "stdout",
     "output_type": "stream",
     "text": [
      "[CV] . alpha=0.1, learning_rate_init=0.01, max_iter=100, total=   1.3s\n",
      "[CV] alpha=0.1, learning_rate_init=0.01, max_iter=100 ................\n"
     ]
    },
    {
     "name": "stderr",
     "output_type": "stream",
     "text": [
      "C:\\Users\\Tristan\\anaconda\\Anaconda3\\envs\\pythondata\\lib\\site-packages\\sklearn\\neural_network\\_multilayer_perceptron.py:571: ConvergenceWarning: Stochastic Optimizer: Maximum iterations (100) reached and the optimization hasn't converged yet.\n",
      "  % self.max_iter, ConvergenceWarning)\n"
     ]
    },
    {
     "name": "stdout",
     "output_type": "stream",
     "text": [
      "[CV] . alpha=0.1, learning_rate_init=0.01, max_iter=100, total=   1.5s\n",
      "[CV] alpha=0.1, learning_rate_init=0.01, max_iter=100 ................\n",
      "[CV] . alpha=0.1, learning_rate_init=0.01, max_iter=100, total=   1.0s\n",
      "[CV] alpha=0.1, learning_rate_init=0.01, max_iter=200 ................\n",
      "[CV] . alpha=0.1, learning_rate_init=0.01, max_iter=200, total=   1.6s\n",
      "[CV] alpha=0.1, learning_rate_init=0.01, max_iter=200 ................\n",
      "[CV] . alpha=0.1, learning_rate_init=0.01, max_iter=200, total=   1.5s\n",
      "[CV] alpha=0.1, learning_rate_init=0.01, max_iter=200 ................\n",
      "[CV] . alpha=0.1, learning_rate_init=0.01, max_iter=200, total=   1.8s\n",
      "[CV] alpha=0.1, learning_rate_init=0.01, max_iter=200 ................\n",
      "[CV] . alpha=0.1, learning_rate_init=0.01, max_iter=200, total=   1.9s\n",
      "[CV] alpha=0.1, learning_rate_init=0.01, max_iter=200 ................\n",
      "[CV] . alpha=0.1, learning_rate_init=0.01, max_iter=200, total=   0.9s\n",
      "[CV] alpha=0.1, learning_rate_init=0.01, max_iter=300 ................\n",
      "[CV] . alpha=0.1, learning_rate_init=0.01, max_iter=300, total=   1.8s\n",
      "[CV] alpha=0.1, learning_rate_init=0.01, max_iter=300 ................\n",
      "[CV] . alpha=0.1, learning_rate_init=0.01, max_iter=300, total=   1.6s\n",
      "[CV] alpha=0.1, learning_rate_init=0.01, max_iter=300 ................\n",
      "[CV] . alpha=0.1, learning_rate_init=0.01, max_iter=300, total=   2.0s\n",
      "[CV] alpha=0.1, learning_rate_init=0.01, max_iter=300 ................\n",
      "[CV] . alpha=0.1, learning_rate_init=0.01, max_iter=300, total=   6.3s\n",
      "[CV] alpha=0.1, learning_rate_init=0.01, max_iter=300 ................\n",
      "[CV] . alpha=0.1, learning_rate_init=0.01, max_iter=300, total=   4.4s\n",
      "[CV] alpha=0.1, learning_rate_init=0.001, max_iter=100 ...............\n"
     ]
    },
    {
     "name": "stderr",
     "output_type": "stream",
     "text": [
      "C:\\Users\\Tristan\\anaconda\\Anaconda3\\envs\\pythondata\\lib\\site-packages\\sklearn\\neural_network\\_multilayer_perceptron.py:571: ConvergenceWarning: Stochastic Optimizer: Maximum iterations (100) reached and the optimization hasn't converged yet.\n",
      "  % self.max_iter, ConvergenceWarning)\n"
     ]
    },
    {
     "name": "stdout",
     "output_type": "stream",
     "text": [
      "[CV]  alpha=0.1, learning_rate_init=0.001, max_iter=100, total=   1.2s\n",
      "[CV] alpha=0.1, learning_rate_init=0.001, max_iter=100 ...............\n"
     ]
    },
    {
     "name": "stderr",
     "output_type": "stream",
     "text": [
      "C:\\Users\\Tristan\\anaconda\\Anaconda3\\envs\\pythondata\\lib\\site-packages\\sklearn\\neural_network\\_multilayer_perceptron.py:571: ConvergenceWarning: Stochastic Optimizer: Maximum iterations (100) reached and the optimization hasn't converged yet.\n",
      "  % self.max_iter, ConvergenceWarning)\n"
     ]
    },
    {
     "name": "stdout",
     "output_type": "stream",
     "text": [
      "[CV]  alpha=0.1, learning_rate_init=0.001, max_iter=100, total=   1.3s\n",
      "[CV] alpha=0.1, learning_rate_init=0.001, max_iter=100 ...............\n"
     ]
    },
    {
     "name": "stderr",
     "output_type": "stream",
     "text": [
      "C:\\Users\\Tristan\\anaconda\\Anaconda3\\envs\\pythondata\\lib\\site-packages\\sklearn\\neural_network\\_multilayer_perceptron.py:571: ConvergenceWarning: Stochastic Optimizer: Maximum iterations (100) reached and the optimization hasn't converged yet.\n",
      "  % self.max_iter, ConvergenceWarning)\n"
     ]
    },
    {
     "name": "stdout",
     "output_type": "stream",
     "text": [
      "[CV]  alpha=0.1, learning_rate_init=0.001, max_iter=100, total=   1.3s\n",
      "[CV] alpha=0.1, learning_rate_init=0.001, max_iter=100 ...............\n"
     ]
    },
    {
     "name": "stderr",
     "output_type": "stream",
     "text": [
      "C:\\Users\\Tristan\\anaconda\\Anaconda3\\envs\\pythondata\\lib\\site-packages\\sklearn\\neural_network\\_multilayer_perceptron.py:571: ConvergenceWarning: Stochastic Optimizer: Maximum iterations (100) reached and the optimization hasn't converged yet.\n",
      "  % self.max_iter, ConvergenceWarning)\n"
     ]
    },
    {
     "name": "stdout",
     "output_type": "stream",
     "text": [
      "[CV]  alpha=0.1, learning_rate_init=0.001, max_iter=100, total=   1.3s\n",
      "[CV] alpha=0.1, learning_rate_init=0.001, max_iter=100 ...............\n"
     ]
    },
    {
     "name": "stderr",
     "output_type": "stream",
     "text": [
      "C:\\Users\\Tristan\\anaconda\\Anaconda3\\envs\\pythondata\\lib\\site-packages\\sklearn\\neural_network\\_multilayer_perceptron.py:571: ConvergenceWarning: Stochastic Optimizer: Maximum iterations (100) reached and the optimization hasn't converged yet.\n",
      "  % self.max_iter, ConvergenceWarning)\n"
     ]
    },
    {
     "name": "stdout",
     "output_type": "stream",
     "text": [
      "[CV]  alpha=0.1, learning_rate_init=0.001, max_iter=100, total=   1.2s\n",
      "[CV] alpha=0.1, learning_rate_init=0.001, max_iter=200 ...............\n"
     ]
    },
    {
     "name": "stderr",
     "output_type": "stream",
     "text": [
      "C:\\Users\\Tristan\\anaconda\\Anaconda3\\envs\\pythondata\\lib\\site-packages\\sklearn\\neural_network\\_multilayer_perceptron.py:571: ConvergenceWarning: Stochastic Optimizer: Maximum iterations (200) reached and the optimization hasn't converged yet.\n",
      "  % self.max_iter, ConvergenceWarning)\n"
     ]
    },
    {
     "name": "stdout",
     "output_type": "stream",
     "text": [
      "[CV]  alpha=0.1, learning_rate_init=0.001, max_iter=200, total=   2.4s\n",
      "[CV] alpha=0.1, learning_rate_init=0.001, max_iter=200 ...............\n"
     ]
    },
    {
     "name": "stderr",
     "output_type": "stream",
     "text": [
      "C:\\Users\\Tristan\\anaconda\\Anaconda3\\envs\\pythondata\\lib\\site-packages\\sklearn\\neural_network\\_multilayer_perceptron.py:571: ConvergenceWarning: Stochastic Optimizer: Maximum iterations (200) reached and the optimization hasn't converged yet.\n",
      "  % self.max_iter, ConvergenceWarning)\n"
     ]
    },
    {
     "name": "stdout",
     "output_type": "stream",
     "text": [
      "[CV]  alpha=0.1, learning_rate_init=0.001, max_iter=200, total=   2.4s\n",
      "[CV] alpha=0.1, learning_rate_init=0.001, max_iter=200 ...............\n"
     ]
    },
    {
     "name": "stderr",
     "output_type": "stream",
     "text": [
      "C:\\Users\\Tristan\\anaconda\\Anaconda3\\envs\\pythondata\\lib\\site-packages\\sklearn\\neural_network\\_multilayer_perceptron.py:571: ConvergenceWarning: Stochastic Optimizer: Maximum iterations (200) reached and the optimization hasn't converged yet.\n",
      "  % self.max_iter, ConvergenceWarning)\n"
     ]
    },
    {
     "name": "stdout",
     "output_type": "stream",
     "text": [
      "[CV]  alpha=0.1, learning_rate_init=0.001, max_iter=200, total=   2.5s\n",
      "[CV] alpha=0.1, learning_rate_init=0.001, max_iter=200 ...............\n"
     ]
    },
    {
     "name": "stderr",
     "output_type": "stream",
     "text": [
      "C:\\Users\\Tristan\\anaconda\\Anaconda3\\envs\\pythondata\\lib\\site-packages\\sklearn\\neural_network\\_multilayer_perceptron.py:571: ConvergenceWarning: Stochastic Optimizer: Maximum iterations (200) reached and the optimization hasn't converged yet.\n",
      "  % self.max_iter, ConvergenceWarning)\n"
     ]
    },
    {
     "name": "stdout",
     "output_type": "stream",
     "text": [
      "[CV]  alpha=0.1, learning_rate_init=0.001, max_iter=200, total=   2.5s\n",
      "[CV] alpha=0.1, learning_rate_init=0.001, max_iter=200 ...............\n"
     ]
    },
    {
     "name": "stderr",
     "output_type": "stream",
     "text": [
      "C:\\Users\\Tristan\\anaconda\\Anaconda3\\envs\\pythondata\\lib\\site-packages\\sklearn\\neural_network\\_multilayer_perceptron.py:571: ConvergenceWarning: Stochastic Optimizer: Maximum iterations (200) reached and the optimization hasn't converged yet.\n",
      "  % self.max_iter, ConvergenceWarning)\n"
     ]
    },
    {
     "name": "stdout",
     "output_type": "stream",
     "text": [
      "[CV]  alpha=0.1, learning_rate_init=0.001, max_iter=200, total=   2.5s\n",
      "[CV] alpha=0.1, learning_rate_init=0.001, max_iter=300 ...............\n"
     ]
    },
    {
     "name": "stderr",
     "output_type": "stream",
     "text": [
      "C:\\Users\\Tristan\\anaconda\\Anaconda3\\envs\\pythondata\\lib\\site-packages\\sklearn\\neural_network\\_multilayer_perceptron.py:571: ConvergenceWarning: Stochastic Optimizer: Maximum iterations (300) reached and the optimization hasn't converged yet.\n",
      "  % self.max_iter, ConvergenceWarning)\n"
     ]
    },
    {
     "name": "stdout",
     "output_type": "stream",
     "text": [
      "[CV]  alpha=0.1, learning_rate_init=0.001, max_iter=300, total=   3.7s\n",
      "[CV] alpha=0.1, learning_rate_init=0.001, max_iter=300 ...............\n"
     ]
    },
    {
     "name": "stderr",
     "output_type": "stream",
     "text": [
      "C:\\Users\\Tristan\\anaconda\\Anaconda3\\envs\\pythondata\\lib\\site-packages\\sklearn\\neural_network\\_multilayer_perceptron.py:571: ConvergenceWarning: Stochastic Optimizer: Maximum iterations (300) reached and the optimization hasn't converged yet.\n",
      "  % self.max_iter, ConvergenceWarning)\n"
     ]
    },
    {
     "name": "stdout",
     "output_type": "stream",
     "text": [
      "[CV]  alpha=0.1, learning_rate_init=0.001, max_iter=300, total=   3.7s\n",
      "[CV] alpha=0.1, learning_rate_init=0.001, max_iter=300 ...............\n"
     ]
    },
    {
     "name": "stderr",
     "output_type": "stream",
     "text": [
      "C:\\Users\\Tristan\\anaconda\\Anaconda3\\envs\\pythondata\\lib\\site-packages\\sklearn\\neural_network\\_multilayer_perceptron.py:571: ConvergenceWarning: Stochastic Optimizer: Maximum iterations (300) reached and the optimization hasn't converged yet.\n",
      "  % self.max_iter, ConvergenceWarning)\n"
     ]
    },
    {
     "name": "stdout",
     "output_type": "stream",
     "text": [
      "[CV]  alpha=0.1, learning_rate_init=0.001, max_iter=300, total=   3.7s\n",
      "[CV] alpha=0.1, learning_rate_init=0.001, max_iter=300 ...............\n"
     ]
    },
    {
     "name": "stderr",
     "output_type": "stream",
     "text": [
      "C:\\Users\\Tristan\\anaconda\\Anaconda3\\envs\\pythondata\\lib\\site-packages\\sklearn\\neural_network\\_multilayer_perceptron.py:571: ConvergenceWarning: Stochastic Optimizer: Maximum iterations (300) reached and the optimization hasn't converged yet.\n",
      "  % self.max_iter, ConvergenceWarning)\n"
     ]
    },
    {
     "name": "stdout",
     "output_type": "stream",
     "text": [
      "[CV]  alpha=0.1, learning_rate_init=0.001, max_iter=300, total=   3.7s\n",
      "[CV] alpha=0.1, learning_rate_init=0.001, max_iter=300 ...............\n"
     ]
    },
    {
     "name": "stderr",
     "output_type": "stream",
     "text": [
      "C:\\Users\\Tristan\\anaconda\\Anaconda3\\envs\\pythondata\\lib\\site-packages\\sklearn\\neural_network\\_multilayer_perceptron.py:571: ConvergenceWarning: Stochastic Optimizer: Maximum iterations (300) reached and the optimization hasn't converged yet.\n",
      "  % self.max_iter, ConvergenceWarning)\n"
     ]
    },
    {
     "name": "stdout",
     "output_type": "stream",
     "text": [
      "[CV]  alpha=0.1, learning_rate_init=0.001, max_iter=300, total=   3.8s\n",
      "[CV] alpha=0.1, learning_rate_init=0.0001, max_iter=100 ..............\n"
     ]
    },
    {
     "name": "stderr",
     "output_type": "stream",
     "text": [
      "C:\\Users\\Tristan\\anaconda\\Anaconda3\\envs\\pythondata\\lib\\site-packages\\sklearn\\neural_network\\_multilayer_perceptron.py:571: ConvergenceWarning: Stochastic Optimizer: Maximum iterations (100) reached and the optimization hasn't converged yet.\n",
      "  % self.max_iter, ConvergenceWarning)\n"
     ]
    },
    {
     "name": "stdout",
     "output_type": "stream",
     "text": [
      "[CV]  alpha=0.1, learning_rate_init=0.0001, max_iter=100, total=   1.3s\n",
      "[CV] alpha=0.1, learning_rate_init=0.0001, max_iter=100 ..............\n"
     ]
    },
    {
     "name": "stderr",
     "output_type": "stream",
     "text": [
      "C:\\Users\\Tristan\\anaconda\\Anaconda3\\envs\\pythondata\\lib\\site-packages\\sklearn\\neural_network\\_multilayer_perceptron.py:571: ConvergenceWarning: Stochastic Optimizer: Maximum iterations (100) reached and the optimization hasn't converged yet.\n",
      "  % self.max_iter, ConvergenceWarning)\n"
     ]
    },
    {
     "name": "stdout",
     "output_type": "stream",
     "text": [
      "[CV]  alpha=0.1, learning_rate_init=0.0001, max_iter=100, total=   1.3s\n",
      "[CV] alpha=0.1, learning_rate_init=0.0001, max_iter=100 ..............\n"
     ]
    },
    {
     "name": "stderr",
     "output_type": "stream",
     "text": [
      "C:\\Users\\Tristan\\anaconda\\Anaconda3\\envs\\pythondata\\lib\\site-packages\\sklearn\\neural_network\\_multilayer_perceptron.py:571: ConvergenceWarning: Stochastic Optimizer: Maximum iterations (100) reached and the optimization hasn't converged yet.\n",
      "  % self.max_iter, ConvergenceWarning)\n"
     ]
    },
    {
     "name": "stdout",
     "output_type": "stream",
     "text": [
      "[CV]  alpha=0.1, learning_rate_init=0.0001, max_iter=100, total=   1.3s\n",
      "[CV] alpha=0.1, learning_rate_init=0.0001, max_iter=100 ..............\n"
     ]
    },
    {
     "name": "stderr",
     "output_type": "stream",
     "text": [
      "C:\\Users\\Tristan\\anaconda\\Anaconda3\\envs\\pythondata\\lib\\site-packages\\sklearn\\neural_network\\_multilayer_perceptron.py:571: ConvergenceWarning: Stochastic Optimizer: Maximum iterations (100) reached and the optimization hasn't converged yet.\n",
      "  % self.max_iter, ConvergenceWarning)\n"
     ]
    },
    {
     "name": "stdout",
     "output_type": "stream",
     "text": [
      "[CV]  alpha=0.1, learning_rate_init=0.0001, max_iter=100, total=   1.3s\n",
      "[CV] alpha=0.1, learning_rate_init=0.0001, max_iter=100 ..............\n"
     ]
    },
    {
     "name": "stderr",
     "output_type": "stream",
     "text": [
      "C:\\Users\\Tristan\\anaconda\\Anaconda3\\envs\\pythondata\\lib\\site-packages\\sklearn\\neural_network\\_multilayer_perceptron.py:571: ConvergenceWarning: Stochastic Optimizer: Maximum iterations (100) reached and the optimization hasn't converged yet.\n",
      "  % self.max_iter, ConvergenceWarning)\n"
     ]
    },
    {
     "name": "stdout",
     "output_type": "stream",
     "text": [
      "[CV]  alpha=0.1, learning_rate_init=0.0001, max_iter=100, total=   1.3s\n",
      "[CV] alpha=0.1, learning_rate_init=0.0001, max_iter=200 ..............\n"
     ]
    },
    {
     "name": "stderr",
     "output_type": "stream",
     "text": [
      "C:\\Users\\Tristan\\anaconda\\Anaconda3\\envs\\pythondata\\lib\\site-packages\\sklearn\\neural_network\\_multilayer_perceptron.py:571: ConvergenceWarning: Stochastic Optimizer: Maximum iterations (200) reached and the optimization hasn't converged yet.\n",
      "  % self.max_iter, ConvergenceWarning)\n"
     ]
    },
    {
     "name": "stdout",
     "output_type": "stream",
     "text": [
      "[CV]  alpha=0.1, learning_rate_init=0.0001, max_iter=200, total=   2.5s\n",
      "[CV] alpha=0.1, learning_rate_init=0.0001, max_iter=200 ..............\n"
     ]
    },
    {
     "name": "stderr",
     "output_type": "stream",
     "text": [
      "C:\\Users\\Tristan\\anaconda\\Anaconda3\\envs\\pythondata\\lib\\site-packages\\sklearn\\neural_network\\_multilayer_perceptron.py:571: ConvergenceWarning: Stochastic Optimizer: Maximum iterations (200) reached and the optimization hasn't converged yet.\n",
      "  % self.max_iter, ConvergenceWarning)\n"
     ]
    },
    {
     "name": "stdout",
     "output_type": "stream",
     "text": [
      "[CV]  alpha=0.1, learning_rate_init=0.0001, max_iter=200, total=   2.5s\n",
      "[CV] alpha=0.1, learning_rate_init=0.0001, max_iter=200 ..............\n"
     ]
    },
    {
     "name": "stderr",
     "output_type": "stream",
     "text": [
      "C:\\Users\\Tristan\\anaconda\\Anaconda3\\envs\\pythondata\\lib\\site-packages\\sklearn\\neural_network\\_multilayer_perceptron.py:571: ConvergenceWarning: Stochastic Optimizer: Maximum iterations (200) reached and the optimization hasn't converged yet.\n",
      "  % self.max_iter, ConvergenceWarning)\n"
     ]
    },
    {
     "name": "stdout",
     "output_type": "stream",
     "text": [
      "[CV]  alpha=0.1, learning_rate_init=0.0001, max_iter=200, total=   2.6s\n",
      "[CV] alpha=0.1, learning_rate_init=0.0001, max_iter=200 ..............\n"
     ]
    },
    {
     "name": "stderr",
     "output_type": "stream",
     "text": [
      "C:\\Users\\Tristan\\anaconda\\Anaconda3\\envs\\pythondata\\lib\\site-packages\\sklearn\\neural_network\\_multilayer_perceptron.py:571: ConvergenceWarning: Stochastic Optimizer: Maximum iterations (200) reached and the optimization hasn't converged yet.\n",
      "  % self.max_iter, ConvergenceWarning)\n"
     ]
    },
    {
     "name": "stdout",
     "output_type": "stream",
     "text": [
      "[CV]  alpha=0.1, learning_rate_init=0.0001, max_iter=200, total=   2.9s\n",
      "[CV] alpha=0.1, learning_rate_init=0.0001, max_iter=200 ..............\n"
     ]
    },
    {
     "name": "stderr",
     "output_type": "stream",
     "text": [
      "C:\\Users\\Tristan\\anaconda\\Anaconda3\\envs\\pythondata\\lib\\site-packages\\sklearn\\neural_network\\_multilayer_perceptron.py:571: ConvergenceWarning: Stochastic Optimizer: Maximum iterations (200) reached and the optimization hasn't converged yet.\n",
      "  % self.max_iter, ConvergenceWarning)\n"
     ]
    },
    {
     "name": "stdout",
     "output_type": "stream",
     "text": [
      "[CV]  alpha=0.1, learning_rate_init=0.0001, max_iter=200, total=   2.7s\n",
      "[CV] alpha=0.1, learning_rate_init=0.0001, max_iter=300 ..............\n"
     ]
    },
    {
     "name": "stderr",
     "output_type": "stream",
     "text": [
      "C:\\Users\\Tristan\\anaconda\\Anaconda3\\envs\\pythondata\\lib\\site-packages\\sklearn\\neural_network\\_multilayer_perceptron.py:571: ConvergenceWarning: Stochastic Optimizer: Maximum iterations (300) reached and the optimization hasn't converged yet.\n",
      "  % self.max_iter, ConvergenceWarning)\n"
     ]
    },
    {
     "name": "stdout",
     "output_type": "stream",
     "text": [
      "[CV]  alpha=0.1, learning_rate_init=0.0001, max_iter=300, total=   4.2s\n",
      "[CV] alpha=0.1, learning_rate_init=0.0001, max_iter=300 ..............\n"
     ]
    },
    {
     "name": "stderr",
     "output_type": "stream",
     "text": [
      "C:\\Users\\Tristan\\anaconda\\Anaconda3\\envs\\pythondata\\lib\\site-packages\\sklearn\\neural_network\\_multilayer_perceptron.py:571: ConvergenceWarning: Stochastic Optimizer: Maximum iterations (300) reached and the optimization hasn't converged yet.\n",
      "  % self.max_iter, ConvergenceWarning)\n"
     ]
    },
    {
     "name": "stdout",
     "output_type": "stream",
     "text": [
      "[CV]  alpha=0.1, learning_rate_init=0.0001, max_iter=300, total=   4.4s\n",
      "[CV] alpha=0.1, learning_rate_init=0.0001, max_iter=300 ..............\n"
     ]
    },
    {
     "name": "stderr",
     "output_type": "stream",
     "text": [
      "C:\\Users\\Tristan\\anaconda\\Anaconda3\\envs\\pythondata\\lib\\site-packages\\sklearn\\neural_network\\_multilayer_perceptron.py:571: ConvergenceWarning: Stochastic Optimizer: Maximum iterations (300) reached and the optimization hasn't converged yet.\n",
      "  % self.max_iter, ConvergenceWarning)\n"
     ]
    },
    {
     "name": "stdout",
     "output_type": "stream",
     "text": [
      "[CV]  alpha=0.1, learning_rate_init=0.0001, max_iter=300, total=   4.4s\n",
      "[CV] alpha=0.1, learning_rate_init=0.0001, max_iter=300 ..............\n"
     ]
    },
    {
     "name": "stderr",
     "output_type": "stream",
     "text": [
      "C:\\Users\\Tristan\\anaconda\\Anaconda3\\envs\\pythondata\\lib\\site-packages\\sklearn\\neural_network\\_multilayer_perceptron.py:571: ConvergenceWarning: Stochastic Optimizer: Maximum iterations (300) reached and the optimization hasn't converged yet.\n",
      "  % self.max_iter, ConvergenceWarning)\n"
     ]
    },
    {
     "name": "stdout",
     "output_type": "stream",
     "text": [
      "[CV]  alpha=0.1, learning_rate_init=0.0001, max_iter=300, total=   4.5s\n",
      "[CV] alpha=0.1, learning_rate_init=0.0001, max_iter=300 ..............\n"
     ]
    },
    {
     "name": "stderr",
     "output_type": "stream",
     "text": [
      "C:\\Users\\Tristan\\anaconda\\Anaconda3\\envs\\pythondata\\lib\\site-packages\\sklearn\\neural_network\\_multilayer_perceptron.py:571: ConvergenceWarning: Stochastic Optimizer: Maximum iterations (300) reached and the optimization hasn't converged yet.\n",
      "  % self.max_iter, ConvergenceWarning)\n"
     ]
    },
    {
     "name": "stdout",
     "output_type": "stream",
     "text": [
      "[CV]  alpha=0.1, learning_rate_init=0.0001, max_iter=300, total=   4.4s\n",
      "[CV] alpha=0.1, learning_rate_init=1e-05, max_iter=100 ...............\n"
     ]
    },
    {
     "name": "stderr",
     "output_type": "stream",
     "text": [
      "C:\\Users\\Tristan\\anaconda\\Anaconda3\\envs\\pythondata\\lib\\site-packages\\sklearn\\neural_network\\_multilayer_perceptron.py:571: ConvergenceWarning: Stochastic Optimizer: Maximum iterations (100) reached and the optimization hasn't converged yet.\n",
      "  % self.max_iter, ConvergenceWarning)\n"
     ]
    },
    {
     "name": "stdout",
     "output_type": "stream",
     "text": [
      "[CV]  alpha=0.1, learning_rate_init=1e-05, max_iter=100, total=   1.5s\n",
      "[CV] alpha=0.1, learning_rate_init=1e-05, max_iter=100 ...............\n"
     ]
    },
    {
     "name": "stderr",
     "output_type": "stream",
     "text": [
      "C:\\Users\\Tristan\\anaconda\\Anaconda3\\envs\\pythondata\\lib\\site-packages\\sklearn\\neural_network\\_multilayer_perceptron.py:571: ConvergenceWarning: Stochastic Optimizer: Maximum iterations (100) reached and the optimization hasn't converged yet.\n",
      "  % self.max_iter, ConvergenceWarning)\n"
     ]
    },
    {
     "name": "stdout",
     "output_type": "stream",
     "text": [
      "[CV]  alpha=0.1, learning_rate_init=1e-05, max_iter=100, total=   1.5s\n",
      "[CV] alpha=0.1, learning_rate_init=1e-05, max_iter=100 ...............\n"
     ]
    },
    {
     "name": "stderr",
     "output_type": "stream",
     "text": [
      "C:\\Users\\Tristan\\anaconda\\Anaconda3\\envs\\pythondata\\lib\\site-packages\\sklearn\\neural_network\\_multilayer_perceptron.py:571: ConvergenceWarning: Stochastic Optimizer: Maximum iterations (100) reached and the optimization hasn't converged yet.\n",
      "  % self.max_iter, ConvergenceWarning)\n"
     ]
    },
    {
     "name": "stdout",
     "output_type": "stream",
     "text": [
      "[CV]  alpha=0.1, learning_rate_init=1e-05, max_iter=100, total=   1.6s\n",
      "[CV] alpha=0.1, learning_rate_init=1e-05, max_iter=100 ...............\n"
     ]
    },
    {
     "name": "stderr",
     "output_type": "stream",
     "text": [
      "C:\\Users\\Tristan\\anaconda\\Anaconda3\\envs\\pythondata\\lib\\site-packages\\sklearn\\neural_network\\_multilayer_perceptron.py:571: ConvergenceWarning: Stochastic Optimizer: Maximum iterations (100) reached and the optimization hasn't converged yet.\n",
      "  % self.max_iter, ConvergenceWarning)\n"
     ]
    },
    {
     "name": "stdout",
     "output_type": "stream",
     "text": [
      "[CV]  alpha=0.1, learning_rate_init=1e-05, max_iter=100, total=   1.6s\n",
      "[CV] alpha=0.1, learning_rate_init=1e-05, max_iter=100 ...............\n"
     ]
    },
    {
     "name": "stderr",
     "output_type": "stream",
     "text": [
      "C:\\Users\\Tristan\\anaconda\\Anaconda3\\envs\\pythondata\\lib\\site-packages\\sklearn\\neural_network\\_multilayer_perceptron.py:571: ConvergenceWarning: Stochastic Optimizer: Maximum iterations (100) reached and the optimization hasn't converged yet.\n",
      "  % self.max_iter, ConvergenceWarning)\n"
     ]
    },
    {
     "name": "stdout",
     "output_type": "stream",
     "text": [
      "[CV]  alpha=0.1, learning_rate_init=1e-05, max_iter=100, total=   1.5s\n",
      "[CV] alpha=0.1, learning_rate_init=1e-05, max_iter=200 ...............\n"
     ]
    },
    {
     "name": "stderr",
     "output_type": "stream",
     "text": [
      "C:\\Users\\Tristan\\anaconda\\Anaconda3\\envs\\pythondata\\lib\\site-packages\\sklearn\\neural_network\\_multilayer_perceptron.py:571: ConvergenceWarning: Stochastic Optimizer: Maximum iterations (200) reached and the optimization hasn't converged yet.\n",
      "  % self.max_iter, ConvergenceWarning)\n"
     ]
    },
    {
     "name": "stdout",
     "output_type": "stream",
     "text": [
      "[CV]  alpha=0.1, learning_rate_init=1e-05, max_iter=200, total=   3.0s\n",
      "[CV] alpha=0.1, learning_rate_init=1e-05, max_iter=200 ...............\n"
     ]
    },
    {
     "name": "stderr",
     "output_type": "stream",
     "text": [
      "C:\\Users\\Tristan\\anaconda\\Anaconda3\\envs\\pythondata\\lib\\site-packages\\sklearn\\neural_network\\_multilayer_perceptron.py:571: ConvergenceWarning: Stochastic Optimizer: Maximum iterations (200) reached and the optimization hasn't converged yet.\n",
      "  % self.max_iter, ConvergenceWarning)\n"
     ]
    },
    {
     "name": "stdout",
     "output_type": "stream",
     "text": [
      "[CV]  alpha=0.1, learning_rate_init=1e-05, max_iter=200, total=   3.1s\n",
      "[CV] alpha=0.1, learning_rate_init=1e-05, max_iter=200 ...............\n"
     ]
    },
    {
     "name": "stderr",
     "output_type": "stream",
     "text": [
      "C:\\Users\\Tristan\\anaconda\\Anaconda3\\envs\\pythondata\\lib\\site-packages\\sklearn\\neural_network\\_multilayer_perceptron.py:571: ConvergenceWarning: Stochastic Optimizer: Maximum iterations (200) reached and the optimization hasn't converged yet.\n",
      "  % self.max_iter, ConvergenceWarning)\n"
     ]
    },
    {
     "name": "stdout",
     "output_type": "stream",
     "text": [
      "[CV]  alpha=0.1, learning_rate_init=1e-05, max_iter=200, total=   3.1s\n",
      "[CV] alpha=0.1, learning_rate_init=1e-05, max_iter=200 ...............\n"
     ]
    },
    {
     "name": "stderr",
     "output_type": "stream",
     "text": [
      "C:\\Users\\Tristan\\anaconda\\Anaconda3\\envs\\pythondata\\lib\\site-packages\\sklearn\\neural_network\\_multilayer_perceptron.py:571: ConvergenceWarning: Stochastic Optimizer: Maximum iterations (200) reached and the optimization hasn't converged yet.\n",
      "  % self.max_iter, ConvergenceWarning)\n"
     ]
    },
    {
     "name": "stdout",
     "output_type": "stream",
     "text": [
      "[CV]  alpha=0.1, learning_rate_init=1e-05, max_iter=200, total=   3.2s\n",
      "[CV] alpha=0.1, learning_rate_init=1e-05, max_iter=200 ...............\n"
     ]
    },
    {
     "name": "stderr",
     "output_type": "stream",
     "text": [
      "C:\\Users\\Tristan\\anaconda\\Anaconda3\\envs\\pythondata\\lib\\site-packages\\sklearn\\neural_network\\_multilayer_perceptron.py:571: ConvergenceWarning: Stochastic Optimizer: Maximum iterations (200) reached and the optimization hasn't converged yet.\n",
      "  % self.max_iter, ConvergenceWarning)\n"
     ]
    },
    {
     "name": "stdout",
     "output_type": "stream",
     "text": [
      "[CV]  alpha=0.1, learning_rate_init=1e-05, max_iter=200, total=   3.1s\n",
      "[CV] alpha=0.1, learning_rate_init=1e-05, max_iter=300 ...............\n"
     ]
    },
    {
     "name": "stderr",
     "output_type": "stream",
     "text": [
      "C:\\Users\\Tristan\\anaconda\\Anaconda3\\envs\\pythondata\\lib\\site-packages\\sklearn\\neural_network\\_multilayer_perceptron.py:571: ConvergenceWarning: Stochastic Optimizer: Maximum iterations (300) reached and the optimization hasn't converged yet.\n",
      "  % self.max_iter, ConvergenceWarning)\n"
     ]
    },
    {
     "name": "stdout",
     "output_type": "stream",
     "text": [
      "[CV]  alpha=0.1, learning_rate_init=1e-05, max_iter=300, total=   4.7s\n",
      "[CV] alpha=0.1, learning_rate_init=1e-05, max_iter=300 ...............\n"
     ]
    },
    {
     "name": "stderr",
     "output_type": "stream",
     "text": [
      "C:\\Users\\Tristan\\anaconda\\Anaconda3\\envs\\pythondata\\lib\\site-packages\\sklearn\\neural_network\\_multilayer_perceptron.py:571: ConvergenceWarning: Stochastic Optimizer: Maximum iterations (300) reached and the optimization hasn't converged yet.\n",
      "  % self.max_iter, ConvergenceWarning)\n"
     ]
    },
    {
     "name": "stdout",
     "output_type": "stream",
     "text": [
      "[CV]  alpha=0.1, learning_rate_init=1e-05, max_iter=300, total=   4.6s\n",
      "[CV] alpha=0.1, learning_rate_init=1e-05, max_iter=300 ...............\n"
     ]
    },
    {
     "name": "stderr",
     "output_type": "stream",
     "text": [
      "C:\\Users\\Tristan\\anaconda\\Anaconda3\\envs\\pythondata\\lib\\site-packages\\sklearn\\neural_network\\_multilayer_perceptron.py:571: ConvergenceWarning: Stochastic Optimizer: Maximum iterations (300) reached and the optimization hasn't converged yet.\n",
      "  % self.max_iter, ConvergenceWarning)\n"
     ]
    },
    {
     "name": "stdout",
     "output_type": "stream",
     "text": [
      "[CV]  alpha=0.1, learning_rate_init=1e-05, max_iter=300, total=   4.7s\n",
      "[CV] alpha=0.1, learning_rate_init=1e-05, max_iter=300 ...............\n"
     ]
    },
    {
     "name": "stderr",
     "output_type": "stream",
     "text": [
      "C:\\Users\\Tristan\\anaconda\\Anaconda3\\envs\\pythondata\\lib\\site-packages\\sklearn\\neural_network\\_multilayer_perceptron.py:571: ConvergenceWarning: Stochastic Optimizer: Maximum iterations (300) reached and the optimization hasn't converged yet.\n",
      "  % self.max_iter, ConvergenceWarning)\n"
     ]
    },
    {
     "name": "stdout",
     "output_type": "stream",
     "text": [
      "[CV]  alpha=0.1, learning_rate_init=1e-05, max_iter=300, total=   4.6s\n",
      "[CV] alpha=0.1, learning_rate_init=1e-05, max_iter=300 ...............\n"
     ]
    },
    {
     "name": "stderr",
     "output_type": "stream",
     "text": [
      "C:\\Users\\Tristan\\anaconda\\Anaconda3\\envs\\pythondata\\lib\\site-packages\\sklearn\\neural_network\\_multilayer_perceptron.py:571: ConvergenceWarning: Stochastic Optimizer: Maximum iterations (300) reached and the optimization hasn't converged yet.\n",
      "  % self.max_iter, ConvergenceWarning)\n"
     ]
    },
    {
     "name": "stdout",
     "output_type": "stream",
     "text": [
      "[CV]  alpha=0.1, learning_rate_init=1e-05, max_iter=300, total=   4.9s\n",
      "[CV] alpha=0.1, learning_rate_init=1e-06, max_iter=100 ...............\n"
     ]
    },
    {
     "name": "stderr",
     "output_type": "stream",
     "text": [
      "C:\\Users\\Tristan\\anaconda\\Anaconda3\\envs\\pythondata\\lib\\site-packages\\sklearn\\neural_network\\_multilayer_perceptron.py:571: ConvergenceWarning: Stochastic Optimizer: Maximum iterations (100) reached and the optimization hasn't converged yet.\n",
      "  % self.max_iter, ConvergenceWarning)\n"
     ]
    },
    {
     "name": "stdout",
     "output_type": "stream",
     "text": [
      "[CV]  alpha=0.1, learning_rate_init=1e-06, max_iter=100, total=   1.7s\n",
      "[CV] alpha=0.1, learning_rate_init=1e-06, max_iter=100 ...............\n"
     ]
    },
    {
     "name": "stderr",
     "output_type": "stream",
     "text": [
      "C:\\Users\\Tristan\\anaconda\\Anaconda3\\envs\\pythondata\\lib\\site-packages\\sklearn\\neural_network\\_multilayer_perceptron.py:571: ConvergenceWarning: Stochastic Optimizer: Maximum iterations (100) reached and the optimization hasn't converged yet.\n",
      "  % self.max_iter, ConvergenceWarning)\n"
     ]
    },
    {
     "name": "stdout",
     "output_type": "stream",
     "text": [
      "[CV]  alpha=0.1, learning_rate_init=1e-06, max_iter=100, total=   1.6s\n",
      "[CV] alpha=0.1, learning_rate_init=1e-06, max_iter=100 ...............\n"
     ]
    },
    {
     "name": "stderr",
     "output_type": "stream",
     "text": [
      "C:\\Users\\Tristan\\anaconda\\Anaconda3\\envs\\pythondata\\lib\\site-packages\\sklearn\\neural_network\\_multilayer_perceptron.py:571: ConvergenceWarning: Stochastic Optimizer: Maximum iterations (100) reached and the optimization hasn't converged yet.\n",
      "  % self.max_iter, ConvergenceWarning)\n"
     ]
    },
    {
     "name": "stdout",
     "output_type": "stream",
     "text": [
      "[CV]  alpha=0.1, learning_rate_init=1e-06, max_iter=100, total=   1.6s\n",
      "[CV] alpha=0.1, learning_rate_init=1e-06, max_iter=100 ...............\n"
     ]
    },
    {
     "name": "stderr",
     "output_type": "stream",
     "text": [
      "C:\\Users\\Tristan\\anaconda\\Anaconda3\\envs\\pythondata\\lib\\site-packages\\sklearn\\neural_network\\_multilayer_perceptron.py:571: ConvergenceWarning: Stochastic Optimizer: Maximum iterations (100) reached and the optimization hasn't converged yet.\n",
      "  % self.max_iter, ConvergenceWarning)\n"
     ]
    },
    {
     "name": "stdout",
     "output_type": "stream",
     "text": [
      "[CV]  alpha=0.1, learning_rate_init=1e-06, max_iter=100, total=   1.6s\n",
      "[CV] alpha=0.1, learning_rate_init=1e-06, max_iter=100 ...............\n"
     ]
    },
    {
     "name": "stderr",
     "output_type": "stream",
     "text": [
      "C:\\Users\\Tristan\\anaconda\\Anaconda3\\envs\\pythondata\\lib\\site-packages\\sklearn\\neural_network\\_multilayer_perceptron.py:571: ConvergenceWarning: Stochastic Optimizer: Maximum iterations (100) reached and the optimization hasn't converged yet.\n",
      "  % self.max_iter, ConvergenceWarning)\n"
     ]
    },
    {
     "name": "stdout",
     "output_type": "stream",
     "text": [
      "[CV]  alpha=0.1, learning_rate_init=1e-06, max_iter=100, total=   1.6s\n",
      "[CV] alpha=0.1, learning_rate_init=1e-06, max_iter=200 ...............\n"
     ]
    },
    {
     "name": "stderr",
     "output_type": "stream",
     "text": [
      "C:\\Users\\Tristan\\anaconda\\Anaconda3\\envs\\pythondata\\lib\\site-packages\\sklearn\\neural_network\\_multilayer_perceptron.py:571: ConvergenceWarning: Stochastic Optimizer: Maximum iterations (200) reached and the optimization hasn't converged yet.\n",
      "  % self.max_iter, ConvergenceWarning)\n"
     ]
    },
    {
     "name": "stdout",
     "output_type": "stream",
     "text": [
      "[CV]  alpha=0.1, learning_rate_init=1e-06, max_iter=200, total=   3.3s\n",
      "[CV] alpha=0.1, learning_rate_init=1e-06, max_iter=200 ...............\n"
     ]
    },
    {
     "name": "stderr",
     "output_type": "stream",
     "text": [
      "C:\\Users\\Tristan\\anaconda\\Anaconda3\\envs\\pythondata\\lib\\site-packages\\sklearn\\neural_network\\_multilayer_perceptron.py:571: ConvergenceWarning: Stochastic Optimizer: Maximum iterations (200) reached and the optimization hasn't converged yet.\n",
      "  % self.max_iter, ConvergenceWarning)\n"
     ]
    },
    {
     "name": "stdout",
     "output_type": "stream",
     "text": [
      "[CV]  alpha=0.1, learning_rate_init=1e-06, max_iter=200, total=   3.1s\n",
      "[CV] alpha=0.1, learning_rate_init=1e-06, max_iter=200 ...............\n"
     ]
    },
    {
     "name": "stderr",
     "output_type": "stream",
     "text": [
      "C:\\Users\\Tristan\\anaconda\\Anaconda3\\envs\\pythondata\\lib\\site-packages\\sklearn\\neural_network\\_multilayer_perceptron.py:571: ConvergenceWarning: Stochastic Optimizer: Maximum iterations (200) reached and the optimization hasn't converged yet.\n",
      "  % self.max_iter, ConvergenceWarning)\n"
     ]
    },
    {
     "name": "stdout",
     "output_type": "stream",
     "text": [
      "[CV]  alpha=0.1, learning_rate_init=1e-06, max_iter=200, total=   3.1s\n",
      "[CV] alpha=0.1, learning_rate_init=1e-06, max_iter=200 ...............\n"
     ]
    },
    {
     "name": "stderr",
     "output_type": "stream",
     "text": [
      "C:\\Users\\Tristan\\anaconda\\Anaconda3\\envs\\pythondata\\lib\\site-packages\\sklearn\\neural_network\\_multilayer_perceptron.py:571: ConvergenceWarning: Stochastic Optimizer: Maximum iterations (200) reached and the optimization hasn't converged yet.\n",
      "  % self.max_iter, ConvergenceWarning)\n"
     ]
    },
    {
     "name": "stdout",
     "output_type": "stream",
     "text": [
      "[CV]  alpha=0.1, learning_rate_init=1e-06, max_iter=200, total=   3.1s\n",
      "[CV] alpha=0.1, learning_rate_init=1e-06, max_iter=200 ...............\n"
     ]
    },
    {
     "name": "stderr",
     "output_type": "stream",
     "text": [
      "C:\\Users\\Tristan\\anaconda\\Anaconda3\\envs\\pythondata\\lib\\site-packages\\sklearn\\neural_network\\_multilayer_perceptron.py:571: ConvergenceWarning: Stochastic Optimizer: Maximum iterations (200) reached and the optimization hasn't converged yet.\n",
      "  % self.max_iter, ConvergenceWarning)\n"
     ]
    },
    {
     "name": "stdout",
     "output_type": "stream",
     "text": [
      "[CV]  alpha=0.1, learning_rate_init=1e-06, max_iter=200, total=   3.2s\n",
      "[CV] alpha=0.1, learning_rate_init=1e-06, max_iter=300 ...............\n"
     ]
    },
    {
     "name": "stderr",
     "output_type": "stream",
     "text": [
      "C:\\Users\\Tristan\\anaconda\\Anaconda3\\envs\\pythondata\\lib\\site-packages\\sklearn\\neural_network\\_multilayer_perceptron.py:571: ConvergenceWarning: Stochastic Optimizer: Maximum iterations (300) reached and the optimization hasn't converged yet.\n",
      "  % self.max_iter, ConvergenceWarning)\n"
     ]
    },
    {
     "name": "stdout",
     "output_type": "stream",
     "text": [
      "[CV]  alpha=0.1, learning_rate_init=1e-06, max_iter=300, total=   4.9s\n",
      "[CV] alpha=0.1, learning_rate_init=1e-06, max_iter=300 ...............\n"
     ]
    },
    {
     "name": "stderr",
     "output_type": "stream",
     "text": [
      "C:\\Users\\Tristan\\anaconda\\Anaconda3\\envs\\pythondata\\lib\\site-packages\\sklearn\\neural_network\\_multilayer_perceptron.py:571: ConvergenceWarning: Stochastic Optimizer: Maximum iterations (300) reached and the optimization hasn't converged yet.\n",
      "  % self.max_iter, ConvergenceWarning)\n"
     ]
    },
    {
     "name": "stdout",
     "output_type": "stream",
     "text": [
      "[CV]  alpha=0.1, learning_rate_init=1e-06, max_iter=300, total=   4.6s\n",
      "[CV] alpha=0.1, learning_rate_init=1e-06, max_iter=300 ...............\n"
     ]
    },
    {
     "name": "stderr",
     "output_type": "stream",
     "text": [
      "C:\\Users\\Tristan\\anaconda\\Anaconda3\\envs\\pythondata\\lib\\site-packages\\sklearn\\neural_network\\_multilayer_perceptron.py:571: ConvergenceWarning: Stochastic Optimizer: Maximum iterations (300) reached and the optimization hasn't converged yet.\n",
      "  % self.max_iter, ConvergenceWarning)\n"
     ]
    },
    {
     "name": "stdout",
     "output_type": "stream",
     "text": [
      "[CV]  alpha=0.1, learning_rate_init=1e-06, max_iter=300, total=   4.8s\n",
      "[CV] alpha=0.1, learning_rate_init=1e-06, max_iter=300 ...............\n"
     ]
    },
    {
     "name": "stderr",
     "output_type": "stream",
     "text": [
      "C:\\Users\\Tristan\\anaconda\\Anaconda3\\envs\\pythondata\\lib\\site-packages\\sklearn\\neural_network\\_multilayer_perceptron.py:571: ConvergenceWarning: Stochastic Optimizer: Maximum iterations (300) reached and the optimization hasn't converged yet.\n",
      "  % self.max_iter, ConvergenceWarning)\n"
     ]
    },
    {
     "name": "stdout",
     "output_type": "stream",
     "text": [
      "[CV]  alpha=0.1, learning_rate_init=1e-06, max_iter=300, total=   4.7s\n",
      "[CV] alpha=0.1, learning_rate_init=1e-06, max_iter=300 ...............\n"
     ]
    },
    {
     "name": "stderr",
     "output_type": "stream",
     "text": [
      "C:\\Users\\Tristan\\anaconda\\Anaconda3\\envs\\pythondata\\lib\\site-packages\\sklearn\\neural_network\\_multilayer_perceptron.py:571: ConvergenceWarning: Stochastic Optimizer: Maximum iterations (300) reached and the optimization hasn't converged yet.\n",
      "  % self.max_iter, ConvergenceWarning)\n"
     ]
    },
    {
     "name": "stdout",
     "output_type": "stream",
     "text": [
      "[CV]  alpha=0.1, learning_rate_init=1e-06, max_iter=300, total=   4.7s\n",
      "[CV] alpha=0.01, learning_rate_init=0.1, max_iter=100 ................\n",
      "[CV] . alpha=0.01, learning_rate_init=0.1, max_iter=100, total=   0.6s\n",
      "[CV] alpha=0.01, learning_rate_init=0.1, max_iter=100 ................\n",
      "[CV] . alpha=0.01, learning_rate_init=0.1, max_iter=100, total=   0.7s\n",
      "[CV] alpha=0.01, learning_rate_init=0.1, max_iter=100 ................\n",
      "[CV] . alpha=0.01, learning_rate_init=0.1, max_iter=100, total=   0.9s\n",
      "[CV] alpha=0.01, learning_rate_init=0.1, max_iter=100 ................\n",
      "[CV] . alpha=0.01, learning_rate_init=0.1, max_iter=100, total=   0.7s\n",
      "[CV] alpha=0.01, learning_rate_init=0.1, max_iter=100 ................\n",
      "[CV] . alpha=0.01, learning_rate_init=0.1, max_iter=100, total=   1.0s\n",
      "[CV] alpha=0.01, learning_rate_init=0.1, max_iter=200 ................\n",
      "[CV] . alpha=0.01, learning_rate_init=0.1, max_iter=200, total=   0.6s\n",
      "[CV] alpha=0.01, learning_rate_init=0.1, max_iter=200 ................\n",
      "[CV] . alpha=0.01, learning_rate_init=0.1, max_iter=200, total=   0.9s\n",
      "[CV] alpha=0.01, learning_rate_init=0.1, max_iter=200 ................\n",
      "[CV] . alpha=0.01, learning_rate_init=0.1, max_iter=200, total=   0.8s\n",
      "[CV] alpha=0.01, learning_rate_init=0.1, max_iter=200 ................\n",
      "[CV] . alpha=0.01, learning_rate_init=0.1, max_iter=200, total=   0.7s\n",
      "[CV] alpha=0.01, learning_rate_init=0.1, max_iter=200 ................\n",
      "[CV] . alpha=0.01, learning_rate_init=0.1, max_iter=200, total=   1.0s\n",
      "[CV] alpha=0.01, learning_rate_init=0.1, max_iter=300 ................\n",
      "[CV] . alpha=0.01, learning_rate_init=0.1, max_iter=300, total=   0.6s\n",
      "[CV] alpha=0.01, learning_rate_init=0.1, max_iter=300 ................\n",
      "[CV] . alpha=0.01, learning_rate_init=0.1, max_iter=300, total=   0.8s\n",
      "[CV] alpha=0.01, learning_rate_init=0.1, max_iter=300 ................\n",
      "[CV] . alpha=0.01, learning_rate_init=0.1, max_iter=300, total=   0.9s\n",
      "[CV] alpha=0.01, learning_rate_init=0.1, max_iter=300 ................\n",
      "[CV] . alpha=0.01, learning_rate_init=0.1, max_iter=300, total=   0.7s\n",
      "[CV] alpha=0.01, learning_rate_init=0.1, max_iter=300 ................\n",
      "[CV] . alpha=0.01, learning_rate_init=0.1, max_iter=300, total=   1.0s\n",
      "[CV] alpha=0.01, learning_rate_init=0.01, max_iter=100 ...............\n"
     ]
    },
    {
     "name": "stderr",
     "output_type": "stream",
     "text": [
      "C:\\Users\\Tristan\\anaconda\\Anaconda3\\envs\\pythondata\\lib\\site-packages\\sklearn\\neural_network\\_multilayer_perceptron.py:571: ConvergenceWarning: Stochastic Optimizer: Maximum iterations (100) reached and the optimization hasn't converged yet.\n",
      "  % self.max_iter, ConvergenceWarning)\n"
     ]
    },
    {
     "name": "stdout",
     "output_type": "stream",
     "text": [
      "[CV]  alpha=0.01, learning_rate_init=0.01, max_iter=100, total=   1.6s\n",
      "[CV] alpha=0.01, learning_rate_init=0.01, max_iter=100 ...............\n"
     ]
    },
    {
     "name": "stderr",
     "output_type": "stream",
     "text": [
      "C:\\Users\\Tristan\\anaconda\\Anaconda3\\envs\\pythondata\\lib\\site-packages\\sklearn\\neural_network\\_multilayer_perceptron.py:571: ConvergenceWarning: Stochastic Optimizer: Maximum iterations (100) reached and the optimization hasn't converged yet.\n",
      "  % self.max_iter, ConvergenceWarning)\n"
     ]
    },
    {
     "name": "stdout",
     "output_type": "stream",
     "text": [
      "[CV]  alpha=0.01, learning_rate_init=0.01, max_iter=100, total=   1.6s\n",
      "[CV] alpha=0.01, learning_rate_init=0.01, max_iter=100 ...............\n"
     ]
    },
    {
     "name": "stderr",
     "output_type": "stream",
     "text": [
      "C:\\Users\\Tristan\\anaconda\\Anaconda3\\envs\\pythondata\\lib\\site-packages\\sklearn\\neural_network\\_multilayer_perceptron.py:571: ConvergenceWarning: Stochastic Optimizer: Maximum iterations (100) reached and the optimization hasn't converged yet.\n",
      "  % self.max_iter, ConvergenceWarning)\n"
     ]
    },
    {
     "name": "stdout",
     "output_type": "stream",
     "text": [
      "[CV]  alpha=0.01, learning_rate_init=0.01, max_iter=100, total=   1.6s\n",
      "[CV] alpha=0.01, learning_rate_init=0.01, max_iter=100 ...............\n"
     ]
    },
    {
     "name": "stderr",
     "output_type": "stream",
     "text": [
      "C:\\Users\\Tristan\\anaconda\\Anaconda3\\envs\\pythondata\\lib\\site-packages\\sklearn\\neural_network\\_multilayer_perceptron.py:571: ConvergenceWarning: Stochastic Optimizer: Maximum iterations (100) reached and the optimization hasn't converged yet.\n",
      "  % self.max_iter, ConvergenceWarning)\n"
     ]
    },
    {
     "name": "stdout",
     "output_type": "stream",
     "text": [
      "[CV]  alpha=0.01, learning_rate_init=0.01, max_iter=100, total=   1.7s\n",
      "[CV] alpha=0.01, learning_rate_init=0.01, max_iter=100 ...............\n",
      "[CV]  alpha=0.01, learning_rate_init=0.01, max_iter=100, total=   1.1s\n",
      "[CV] alpha=0.01, learning_rate_init=0.01, max_iter=200 ...............\n",
      "[CV]  alpha=0.01, learning_rate_init=0.01, max_iter=200, total=   1.9s\n",
      "[CV] alpha=0.01, learning_rate_init=0.01, max_iter=200 ...............\n",
      "[CV]  alpha=0.01, learning_rate_init=0.01, max_iter=200, total=   2.2s\n",
      "[CV] alpha=0.01, learning_rate_init=0.01, max_iter=200 ...............\n",
      "[CV]  alpha=0.01, learning_rate_init=0.01, max_iter=200, total=   2.1s\n",
      "[CV] alpha=0.01, learning_rate_init=0.01, max_iter=200 ...............\n",
      "[CV]  alpha=0.01, learning_rate_init=0.01, max_iter=200, total=   1.9s\n",
      "[CV] alpha=0.01, learning_rate_init=0.01, max_iter=200 ...............\n",
      "[CV]  alpha=0.01, learning_rate_init=0.01, max_iter=200, total=   1.1s\n",
      "[CV] alpha=0.01, learning_rate_init=0.01, max_iter=300 ...............\n",
      "[CV]  alpha=0.01, learning_rate_init=0.01, max_iter=300, total=   1.8s\n",
      "[CV] alpha=0.01, learning_rate_init=0.01, max_iter=300 ...............\n",
      "[CV]  alpha=0.01, learning_rate_init=0.01, max_iter=300, total=   2.2s\n",
      "[CV] alpha=0.01, learning_rate_init=0.01, max_iter=300 ...............\n",
      "[CV]  alpha=0.01, learning_rate_init=0.01, max_iter=300, total=   2.3s\n",
      "[CV] alpha=0.01, learning_rate_init=0.01, max_iter=300 ...............\n",
      "[CV]  alpha=0.01, learning_rate_init=0.01, max_iter=300, total=   1.9s\n",
      "[CV] alpha=0.01, learning_rate_init=0.01, max_iter=300 ...............\n",
      "[CV]  alpha=0.01, learning_rate_init=0.01, max_iter=300, total=   1.1s\n",
      "[CV] alpha=0.01, learning_rate_init=0.001, max_iter=100 ..............\n"
     ]
    },
    {
     "name": "stderr",
     "output_type": "stream",
     "text": [
      "C:\\Users\\Tristan\\anaconda\\Anaconda3\\envs\\pythondata\\lib\\site-packages\\sklearn\\neural_network\\_multilayer_perceptron.py:571: ConvergenceWarning: Stochastic Optimizer: Maximum iterations (100) reached and the optimization hasn't converged yet.\n",
      "  % self.max_iter, ConvergenceWarning)\n"
     ]
    },
    {
     "name": "stdout",
     "output_type": "stream",
     "text": [
      "[CV]  alpha=0.01, learning_rate_init=0.001, max_iter=100, total=   1.7s\n",
      "[CV] alpha=0.01, learning_rate_init=0.001, max_iter=100 ..............\n"
     ]
    },
    {
     "name": "stderr",
     "output_type": "stream",
     "text": [
      "C:\\Users\\Tristan\\anaconda\\Anaconda3\\envs\\pythondata\\lib\\site-packages\\sklearn\\neural_network\\_multilayer_perceptron.py:571: ConvergenceWarning: Stochastic Optimizer: Maximum iterations (100) reached and the optimization hasn't converged yet.\n",
      "  % self.max_iter, ConvergenceWarning)\n"
     ]
    },
    {
     "name": "stdout",
     "output_type": "stream",
     "text": [
      "[CV]  alpha=0.01, learning_rate_init=0.001, max_iter=100, total=   1.6s\n",
      "[CV] alpha=0.01, learning_rate_init=0.001, max_iter=100 ..............\n"
     ]
    },
    {
     "name": "stderr",
     "output_type": "stream",
     "text": [
      "C:\\Users\\Tristan\\anaconda\\Anaconda3\\envs\\pythondata\\lib\\site-packages\\sklearn\\neural_network\\_multilayer_perceptron.py:571: ConvergenceWarning: Stochastic Optimizer: Maximum iterations (100) reached and the optimization hasn't converged yet.\n",
      "  % self.max_iter, ConvergenceWarning)\n"
     ]
    },
    {
     "name": "stdout",
     "output_type": "stream",
     "text": [
      "[CV]  alpha=0.01, learning_rate_init=0.001, max_iter=100, total=   1.6s\n",
      "[CV] alpha=0.01, learning_rate_init=0.001, max_iter=100 ..............\n"
     ]
    },
    {
     "name": "stderr",
     "output_type": "stream",
     "text": [
      "C:\\Users\\Tristan\\anaconda\\Anaconda3\\envs\\pythondata\\lib\\site-packages\\sklearn\\neural_network\\_multilayer_perceptron.py:571: ConvergenceWarning: Stochastic Optimizer: Maximum iterations (100) reached and the optimization hasn't converged yet.\n",
      "  % self.max_iter, ConvergenceWarning)\n"
     ]
    },
    {
     "name": "stdout",
     "output_type": "stream",
     "text": [
      "[CV]  alpha=0.01, learning_rate_init=0.001, max_iter=100, total=   1.5s\n",
      "[CV] alpha=0.01, learning_rate_init=0.001, max_iter=100 ..............\n"
     ]
    },
    {
     "name": "stderr",
     "output_type": "stream",
     "text": [
      "C:\\Users\\Tristan\\anaconda\\Anaconda3\\envs\\pythondata\\lib\\site-packages\\sklearn\\neural_network\\_multilayer_perceptron.py:571: ConvergenceWarning: Stochastic Optimizer: Maximum iterations (100) reached and the optimization hasn't converged yet.\n",
      "  % self.max_iter, ConvergenceWarning)\n"
     ]
    },
    {
     "name": "stdout",
     "output_type": "stream",
     "text": [
      "[CV]  alpha=0.01, learning_rate_init=0.001, max_iter=100, total=   1.5s\n",
      "[CV] alpha=0.01, learning_rate_init=0.001, max_iter=200 ..............\n"
     ]
    },
    {
     "name": "stderr",
     "output_type": "stream",
     "text": [
      "C:\\Users\\Tristan\\anaconda\\Anaconda3\\envs\\pythondata\\lib\\site-packages\\sklearn\\neural_network\\_multilayer_perceptron.py:571: ConvergenceWarning: Stochastic Optimizer: Maximum iterations (200) reached and the optimization hasn't converged yet.\n",
      "  % self.max_iter, ConvergenceWarning)\n"
     ]
    },
    {
     "name": "stdout",
     "output_type": "stream",
     "text": [
      "[CV]  alpha=0.01, learning_rate_init=0.001, max_iter=200, total=   3.1s\n",
      "[CV] alpha=0.01, learning_rate_init=0.001, max_iter=200 ..............\n"
     ]
    },
    {
     "name": "stderr",
     "output_type": "stream",
     "text": [
      "C:\\Users\\Tristan\\anaconda\\Anaconda3\\envs\\pythondata\\lib\\site-packages\\sklearn\\neural_network\\_multilayer_perceptron.py:571: ConvergenceWarning: Stochastic Optimizer: Maximum iterations (200) reached and the optimization hasn't converged yet.\n",
      "  % self.max_iter, ConvergenceWarning)\n"
     ]
    },
    {
     "name": "stdout",
     "output_type": "stream",
     "text": [
      "[CV]  alpha=0.01, learning_rate_init=0.001, max_iter=200, total=   3.1s\n",
      "[CV] alpha=0.01, learning_rate_init=0.001, max_iter=200 ..............\n"
     ]
    },
    {
     "name": "stderr",
     "output_type": "stream",
     "text": [
      "C:\\Users\\Tristan\\anaconda\\Anaconda3\\envs\\pythondata\\lib\\site-packages\\sklearn\\neural_network\\_multilayer_perceptron.py:571: ConvergenceWarning: Stochastic Optimizer: Maximum iterations (200) reached and the optimization hasn't converged yet.\n",
      "  % self.max_iter, ConvergenceWarning)\n"
     ]
    },
    {
     "name": "stdout",
     "output_type": "stream",
     "text": [
      "[CV]  alpha=0.01, learning_rate_init=0.001, max_iter=200, total=   3.1s\n",
      "[CV] alpha=0.01, learning_rate_init=0.001, max_iter=200 ..............\n"
     ]
    },
    {
     "name": "stderr",
     "output_type": "stream",
     "text": [
      "C:\\Users\\Tristan\\anaconda\\Anaconda3\\envs\\pythondata\\lib\\site-packages\\sklearn\\neural_network\\_multilayer_perceptron.py:571: ConvergenceWarning: Stochastic Optimizer: Maximum iterations (200) reached and the optimization hasn't converged yet.\n",
      "  % self.max_iter, ConvergenceWarning)\n"
     ]
    },
    {
     "name": "stdout",
     "output_type": "stream",
     "text": [
      "[CV]  alpha=0.01, learning_rate_init=0.001, max_iter=200, total=   3.1s\n",
      "[CV] alpha=0.01, learning_rate_init=0.001, max_iter=200 ..............\n"
     ]
    },
    {
     "name": "stderr",
     "output_type": "stream",
     "text": [
      "C:\\Users\\Tristan\\anaconda\\Anaconda3\\envs\\pythondata\\lib\\site-packages\\sklearn\\neural_network\\_multilayer_perceptron.py:571: ConvergenceWarning: Stochastic Optimizer: Maximum iterations (200) reached and the optimization hasn't converged yet.\n",
      "  % self.max_iter, ConvergenceWarning)\n"
     ]
    },
    {
     "name": "stdout",
     "output_type": "stream",
     "text": [
      "[CV]  alpha=0.01, learning_rate_init=0.001, max_iter=200, total=   3.6s\n",
      "[CV] alpha=0.01, learning_rate_init=0.001, max_iter=300 ..............\n"
     ]
    },
    {
     "name": "stderr",
     "output_type": "stream",
     "text": [
      "C:\\Users\\Tristan\\anaconda\\Anaconda3\\envs\\pythondata\\lib\\site-packages\\sklearn\\neural_network\\_multilayer_perceptron.py:571: ConvergenceWarning: Stochastic Optimizer: Maximum iterations (300) reached and the optimization hasn't converged yet.\n",
      "  % self.max_iter, ConvergenceWarning)\n"
     ]
    },
    {
     "name": "stdout",
     "output_type": "stream",
     "text": [
      "[CV]  alpha=0.01, learning_rate_init=0.001, max_iter=300, total=   5.1s\n",
      "[CV] alpha=0.01, learning_rate_init=0.001, max_iter=300 ..............\n"
     ]
    },
    {
     "name": "stderr",
     "output_type": "stream",
     "text": [
      "C:\\Users\\Tristan\\anaconda\\Anaconda3\\envs\\pythondata\\lib\\site-packages\\sklearn\\neural_network\\_multilayer_perceptron.py:571: ConvergenceWarning: Stochastic Optimizer: Maximum iterations (300) reached and the optimization hasn't converged yet.\n",
      "  % self.max_iter, ConvergenceWarning)\n"
     ]
    },
    {
     "name": "stdout",
     "output_type": "stream",
     "text": [
      "[CV]  alpha=0.01, learning_rate_init=0.001, max_iter=300, total=   5.0s\n",
      "[CV] alpha=0.01, learning_rate_init=0.001, max_iter=300 ..............\n"
     ]
    },
    {
     "name": "stderr",
     "output_type": "stream",
     "text": [
      "C:\\Users\\Tristan\\anaconda\\Anaconda3\\envs\\pythondata\\lib\\site-packages\\sklearn\\neural_network\\_multilayer_perceptron.py:571: ConvergenceWarning: Stochastic Optimizer: Maximum iterations (300) reached and the optimization hasn't converged yet.\n",
      "  % self.max_iter, ConvergenceWarning)\n"
     ]
    },
    {
     "name": "stdout",
     "output_type": "stream",
     "text": [
      "[CV]  alpha=0.01, learning_rate_init=0.001, max_iter=300, total=   4.9s\n",
      "[CV] alpha=0.01, learning_rate_init=0.001, max_iter=300 ..............\n"
     ]
    },
    {
     "name": "stderr",
     "output_type": "stream",
     "text": [
      "C:\\Users\\Tristan\\anaconda\\Anaconda3\\envs\\pythondata\\lib\\site-packages\\sklearn\\neural_network\\_multilayer_perceptron.py:571: ConvergenceWarning: Stochastic Optimizer: Maximum iterations (300) reached and the optimization hasn't converged yet.\n",
      "  % self.max_iter, ConvergenceWarning)\n"
     ]
    },
    {
     "name": "stdout",
     "output_type": "stream",
     "text": [
      "[CV]  alpha=0.01, learning_rate_init=0.001, max_iter=300, total=   5.1s\n",
      "[CV] alpha=0.01, learning_rate_init=0.001, max_iter=300 ..............\n"
     ]
    },
    {
     "name": "stderr",
     "output_type": "stream",
     "text": [
      "C:\\Users\\Tristan\\anaconda\\Anaconda3\\envs\\pythondata\\lib\\site-packages\\sklearn\\neural_network\\_multilayer_perceptron.py:571: ConvergenceWarning: Stochastic Optimizer: Maximum iterations (300) reached and the optimization hasn't converged yet.\n",
      "  % self.max_iter, ConvergenceWarning)\n"
     ]
    },
    {
     "name": "stdout",
     "output_type": "stream",
     "text": [
      "[CV]  alpha=0.01, learning_rate_init=0.001, max_iter=300, total=   4.9s\n",
      "[CV] alpha=0.01, learning_rate_init=0.0001, max_iter=100 .............\n"
     ]
    },
    {
     "name": "stderr",
     "output_type": "stream",
     "text": [
      "C:\\Users\\Tristan\\anaconda\\Anaconda3\\envs\\pythondata\\lib\\site-packages\\sklearn\\neural_network\\_multilayer_perceptron.py:571: ConvergenceWarning: Stochastic Optimizer: Maximum iterations (100) reached and the optimization hasn't converged yet.\n",
      "  % self.max_iter, ConvergenceWarning)\n"
     ]
    },
    {
     "name": "stdout",
     "output_type": "stream",
     "text": [
      "[CV]  alpha=0.01, learning_rate_init=0.0001, max_iter=100, total=   1.6s\n",
      "[CV] alpha=0.01, learning_rate_init=0.0001, max_iter=100 .............\n"
     ]
    },
    {
     "name": "stderr",
     "output_type": "stream",
     "text": [
      "C:\\Users\\Tristan\\anaconda\\Anaconda3\\envs\\pythondata\\lib\\site-packages\\sklearn\\neural_network\\_multilayer_perceptron.py:571: ConvergenceWarning: Stochastic Optimizer: Maximum iterations (100) reached and the optimization hasn't converged yet.\n",
      "  % self.max_iter, ConvergenceWarning)\n"
     ]
    },
    {
     "name": "stdout",
     "output_type": "stream",
     "text": [
      "[CV]  alpha=0.01, learning_rate_init=0.0001, max_iter=100, total=   1.8s\n",
      "[CV] alpha=0.01, learning_rate_init=0.0001, max_iter=100 .............\n"
     ]
    },
    {
     "name": "stderr",
     "output_type": "stream",
     "text": [
      "C:\\Users\\Tristan\\anaconda\\Anaconda3\\envs\\pythondata\\lib\\site-packages\\sklearn\\neural_network\\_multilayer_perceptron.py:571: ConvergenceWarning: Stochastic Optimizer: Maximum iterations (100) reached and the optimization hasn't converged yet.\n",
      "  % self.max_iter, ConvergenceWarning)\n"
     ]
    },
    {
     "name": "stdout",
     "output_type": "stream",
     "text": [
      "[CV]  alpha=0.01, learning_rate_init=0.0001, max_iter=100, total=   1.8s\n",
      "[CV] alpha=0.01, learning_rate_init=0.0001, max_iter=100 .............\n"
     ]
    },
    {
     "name": "stderr",
     "output_type": "stream",
     "text": [
      "C:\\Users\\Tristan\\anaconda\\Anaconda3\\envs\\pythondata\\lib\\site-packages\\sklearn\\neural_network\\_multilayer_perceptron.py:571: ConvergenceWarning: Stochastic Optimizer: Maximum iterations (100) reached and the optimization hasn't converged yet.\n",
      "  % self.max_iter, ConvergenceWarning)\n"
     ]
    },
    {
     "name": "stdout",
     "output_type": "stream",
     "text": [
      "[CV]  alpha=0.01, learning_rate_init=0.0001, max_iter=100, total=   1.7s\n",
      "[CV] alpha=0.01, learning_rate_init=0.0001, max_iter=100 .............\n"
     ]
    },
    {
     "name": "stderr",
     "output_type": "stream",
     "text": [
      "C:\\Users\\Tristan\\anaconda\\Anaconda3\\envs\\pythondata\\lib\\site-packages\\sklearn\\neural_network\\_multilayer_perceptron.py:571: ConvergenceWarning: Stochastic Optimizer: Maximum iterations (100) reached and the optimization hasn't converged yet.\n",
      "  % self.max_iter, ConvergenceWarning)\n"
     ]
    },
    {
     "name": "stdout",
     "output_type": "stream",
     "text": [
      "[CV]  alpha=0.01, learning_rate_init=0.0001, max_iter=100, total=   1.6s\n",
      "[CV] alpha=0.01, learning_rate_init=0.0001, max_iter=200 .............\n"
     ]
    },
    {
     "name": "stderr",
     "output_type": "stream",
     "text": [
      "C:\\Users\\Tristan\\anaconda\\Anaconda3\\envs\\pythondata\\lib\\site-packages\\sklearn\\neural_network\\_multilayer_perceptron.py:571: ConvergenceWarning: Stochastic Optimizer: Maximum iterations (200) reached and the optimization hasn't converged yet.\n",
      "  % self.max_iter, ConvergenceWarning)\n"
     ]
    },
    {
     "name": "stdout",
     "output_type": "stream",
     "text": [
      "[CV]  alpha=0.01, learning_rate_init=0.0001, max_iter=200, total=   3.8s\n",
      "[CV] alpha=0.01, learning_rate_init=0.0001, max_iter=200 .............\n"
     ]
    },
    {
     "name": "stderr",
     "output_type": "stream",
     "text": [
      "C:\\Users\\Tristan\\anaconda\\Anaconda3\\envs\\pythondata\\lib\\site-packages\\sklearn\\neural_network\\_multilayer_perceptron.py:571: ConvergenceWarning: Stochastic Optimizer: Maximum iterations (200) reached and the optimization hasn't converged yet.\n",
      "  % self.max_iter, ConvergenceWarning)\n"
     ]
    },
    {
     "name": "stdout",
     "output_type": "stream",
     "text": [
      "[CV]  alpha=0.01, learning_rate_init=0.0001, max_iter=200, total=   3.1s\n",
      "[CV] alpha=0.01, learning_rate_init=0.0001, max_iter=200 .............\n"
     ]
    },
    {
     "name": "stderr",
     "output_type": "stream",
     "text": [
      "C:\\Users\\Tristan\\anaconda\\Anaconda3\\envs\\pythondata\\lib\\site-packages\\sklearn\\neural_network\\_multilayer_perceptron.py:571: ConvergenceWarning: Stochastic Optimizer: Maximum iterations (200) reached and the optimization hasn't converged yet.\n",
      "  % self.max_iter, ConvergenceWarning)\n"
     ]
    },
    {
     "name": "stdout",
     "output_type": "stream",
     "text": [
      "[CV]  alpha=0.01, learning_rate_init=0.0001, max_iter=200, total=   3.2s\n",
      "[CV] alpha=0.01, learning_rate_init=0.0001, max_iter=200 .............\n"
     ]
    },
    {
     "name": "stderr",
     "output_type": "stream",
     "text": [
      "C:\\Users\\Tristan\\anaconda\\Anaconda3\\envs\\pythondata\\lib\\site-packages\\sklearn\\neural_network\\_multilayer_perceptron.py:571: ConvergenceWarning: Stochastic Optimizer: Maximum iterations (200) reached and the optimization hasn't converged yet.\n",
      "  % self.max_iter, ConvergenceWarning)\n"
     ]
    },
    {
     "name": "stdout",
     "output_type": "stream",
     "text": [
      "[CV]  alpha=0.01, learning_rate_init=0.0001, max_iter=200, total=   3.1s\n",
      "[CV] alpha=0.01, learning_rate_init=0.0001, max_iter=200 .............\n"
     ]
    },
    {
     "name": "stderr",
     "output_type": "stream",
     "text": [
      "C:\\Users\\Tristan\\anaconda\\Anaconda3\\envs\\pythondata\\lib\\site-packages\\sklearn\\neural_network\\_multilayer_perceptron.py:571: ConvergenceWarning: Stochastic Optimizer: Maximum iterations (200) reached and the optimization hasn't converged yet.\n",
      "  % self.max_iter, ConvergenceWarning)\n"
     ]
    },
    {
     "name": "stdout",
     "output_type": "stream",
     "text": [
      "[CV]  alpha=0.01, learning_rate_init=0.0001, max_iter=200, total=   3.2s\n",
      "[CV] alpha=0.01, learning_rate_init=0.0001, max_iter=300 .............\n"
     ]
    },
    {
     "name": "stderr",
     "output_type": "stream",
     "text": [
      "C:\\Users\\Tristan\\anaconda\\Anaconda3\\envs\\pythondata\\lib\\site-packages\\sklearn\\neural_network\\_multilayer_perceptron.py:571: ConvergenceWarning: Stochastic Optimizer: Maximum iterations (300) reached and the optimization hasn't converged yet.\n",
      "  % self.max_iter, ConvergenceWarning)\n"
     ]
    },
    {
     "name": "stdout",
     "output_type": "stream",
     "text": [
      "[CV]  alpha=0.01, learning_rate_init=0.0001, max_iter=300, total=   4.8s\n",
      "[CV] alpha=0.01, learning_rate_init=0.0001, max_iter=300 .............\n"
     ]
    },
    {
     "name": "stderr",
     "output_type": "stream",
     "text": [
      "C:\\Users\\Tristan\\anaconda\\Anaconda3\\envs\\pythondata\\lib\\site-packages\\sklearn\\neural_network\\_multilayer_perceptron.py:571: ConvergenceWarning: Stochastic Optimizer: Maximum iterations (300) reached and the optimization hasn't converged yet.\n",
      "  % self.max_iter, ConvergenceWarning)\n"
     ]
    },
    {
     "name": "stdout",
     "output_type": "stream",
     "text": [
      "[CV]  alpha=0.01, learning_rate_init=0.0001, max_iter=300, total=   4.7s\n",
      "[CV] alpha=0.01, learning_rate_init=0.0001, max_iter=300 .............\n"
     ]
    },
    {
     "name": "stderr",
     "output_type": "stream",
     "text": [
      "C:\\Users\\Tristan\\anaconda\\Anaconda3\\envs\\pythondata\\lib\\site-packages\\sklearn\\neural_network\\_multilayer_perceptron.py:571: ConvergenceWarning: Stochastic Optimizer: Maximum iterations (300) reached and the optimization hasn't converged yet.\n",
      "  % self.max_iter, ConvergenceWarning)\n"
     ]
    },
    {
     "name": "stdout",
     "output_type": "stream",
     "text": [
      "[CV]  alpha=0.01, learning_rate_init=0.0001, max_iter=300, total=   4.7s\n",
      "[CV] alpha=0.01, learning_rate_init=0.0001, max_iter=300 .............\n"
     ]
    },
    {
     "name": "stderr",
     "output_type": "stream",
     "text": [
      "C:\\Users\\Tristan\\anaconda\\Anaconda3\\envs\\pythondata\\lib\\site-packages\\sklearn\\neural_network\\_multilayer_perceptron.py:571: ConvergenceWarning: Stochastic Optimizer: Maximum iterations (300) reached and the optimization hasn't converged yet.\n",
      "  % self.max_iter, ConvergenceWarning)\n"
     ]
    },
    {
     "name": "stdout",
     "output_type": "stream",
     "text": [
      "[CV]  alpha=0.01, learning_rate_init=0.0001, max_iter=300, total=   4.6s\n",
      "[CV] alpha=0.01, learning_rate_init=0.0001, max_iter=300 .............\n"
     ]
    },
    {
     "name": "stderr",
     "output_type": "stream",
     "text": [
      "C:\\Users\\Tristan\\anaconda\\Anaconda3\\envs\\pythondata\\lib\\site-packages\\sklearn\\neural_network\\_multilayer_perceptron.py:571: ConvergenceWarning: Stochastic Optimizer: Maximum iterations (300) reached and the optimization hasn't converged yet.\n",
      "  % self.max_iter, ConvergenceWarning)\n"
     ]
    },
    {
     "name": "stdout",
     "output_type": "stream",
     "text": [
      "[CV]  alpha=0.01, learning_rate_init=0.0001, max_iter=300, total=   4.7s\n",
      "[CV] alpha=0.01, learning_rate_init=1e-05, max_iter=100 ..............\n"
     ]
    },
    {
     "name": "stderr",
     "output_type": "stream",
     "text": [
      "C:\\Users\\Tristan\\anaconda\\Anaconda3\\envs\\pythondata\\lib\\site-packages\\sklearn\\neural_network\\_multilayer_perceptron.py:571: ConvergenceWarning: Stochastic Optimizer: Maximum iterations (100) reached and the optimization hasn't converged yet.\n",
      "  % self.max_iter, ConvergenceWarning)\n"
     ]
    },
    {
     "name": "stdout",
     "output_type": "stream",
     "text": [
      "[CV]  alpha=0.01, learning_rate_init=1e-05, max_iter=100, total=   1.6s\n",
      "[CV] alpha=0.01, learning_rate_init=1e-05, max_iter=100 ..............\n"
     ]
    },
    {
     "name": "stderr",
     "output_type": "stream",
     "text": [
      "C:\\Users\\Tristan\\anaconda\\Anaconda3\\envs\\pythondata\\lib\\site-packages\\sklearn\\neural_network\\_multilayer_perceptron.py:571: ConvergenceWarning: Stochastic Optimizer: Maximum iterations (100) reached and the optimization hasn't converged yet.\n",
      "  % self.max_iter, ConvergenceWarning)\n"
     ]
    },
    {
     "name": "stdout",
     "output_type": "stream",
     "text": [
      "[CV]  alpha=0.01, learning_rate_init=1e-05, max_iter=100, total=   1.6s\n",
      "[CV] alpha=0.01, learning_rate_init=1e-05, max_iter=100 ..............\n"
     ]
    },
    {
     "name": "stderr",
     "output_type": "stream",
     "text": [
      "C:\\Users\\Tristan\\anaconda\\Anaconda3\\envs\\pythondata\\lib\\site-packages\\sklearn\\neural_network\\_multilayer_perceptron.py:571: ConvergenceWarning: Stochastic Optimizer: Maximum iterations (100) reached and the optimization hasn't converged yet.\n",
      "  % self.max_iter, ConvergenceWarning)\n"
     ]
    },
    {
     "name": "stdout",
     "output_type": "stream",
     "text": [
      "[CV]  alpha=0.01, learning_rate_init=1e-05, max_iter=100, total=   1.7s\n",
      "[CV] alpha=0.01, learning_rate_init=1e-05, max_iter=100 ..............\n"
     ]
    },
    {
     "name": "stderr",
     "output_type": "stream",
     "text": [
      "C:\\Users\\Tristan\\anaconda\\Anaconda3\\envs\\pythondata\\lib\\site-packages\\sklearn\\neural_network\\_multilayer_perceptron.py:571: ConvergenceWarning: Stochastic Optimizer: Maximum iterations (100) reached and the optimization hasn't converged yet.\n",
      "  % self.max_iter, ConvergenceWarning)\n"
     ]
    },
    {
     "name": "stdout",
     "output_type": "stream",
     "text": [
      "[CV]  alpha=0.01, learning_rate_init=1e-05, max_iter=100, total=   1.5s\n",
      "[CV] alpha=0.01, learning_rate_init=1e-05, max_iter=100 ..............\n"
     ]
    },
    {
     "name": "stderr",
     "output_type": "stream",
     "text": [
      "C:\\Users\\Tristan\\anaconda\\Anaconda3\\envs\\pythondata\\lib\\site-packages\\sklearn\\neural_network\\_multilayer_perceptron.py:571: ConvergenceWarning: Stochastic Optimizer: Maximum iterations (100) reached and the optimization hasn't converged yet.\n",
      "  % self.max_iter, ConvergenceWarning)\n"
     ]
    },
    {
     "name": "stdout",
     "output_type": "stream",
     "text": [
      "[CV]  alpha=0.01, learning_rate_init=1e-05, max_iter=100, total=   1.6s\n",
      "[CV] alpha=0.01, learning_rate_init=1e-05, max_iter=200 ..............\n"
     ]
    },
    {
     "name": "stderr",
     "output_type": "stream",
     "text": [
      "C:\\Users\\Tristan\\anaconda\\Anaconda3\\envs\\pythondata\\lib\\site-packages\\sklearn\\neural_network\\_multilayer_perceptron.py:571: ConvergenceWarning: Stochastic Optimizer: Maximum iterations (200) reached and the optimization hasn't converged yet.\n",
      "  % self.max_iter, ConvergenceWarning)\n"
     ]
    },
    {
     "name": "stdout",
     "output_type": "stream",
     "text": [
      "[CV]  alpha=0.01, learning_rate_init=1e-05, max_iter=200, total=   3.1s\n",
      "[CV] alpha=0.01, learning_rate_init=1e-05, max_iter=200 ..............\n"
     ]
    },
    {
     "name": "stderr",
     "output_type": "stream",
     "text": [
      "C:\\Users\\Tristan\\anaconda\\Anaconda3\\envs\\pythondata\\lib\\site-packages\\sklearn\\neural_network\\_multilayer_perceptron.py:571: ConvergenceWarning: Stochastic Optimizer: Maximum iterations (200) reached and the optimization hasn't converged yet.\n",
      "  % self.max_iter, ConvergenceWarning)\n"
     ]
    },
    {
     "name": "stdout",
     "output_type": "stream",
     "text": [
      "[CV]  alpha=0.01, learning_rate_init=1e-05, max_iter=200, total=   3.1s\n",
      "[CV] alpha=0.01, learning_rate_init=1e-05, max_iter=200 ..............\n"
     ]
    },
    {
     "name": "stderr",
     "output_type": "stream",
     "text": [
      "C:\\Users\\Tristan\\anaconda\\Anaconda3\\envs\\pythondata\\lib\\site-packages\\sklearn\\neural_network\\_multilayer_perceptron.py:571: ConvergenceWarning: Stochastic Optimizer: Maximum iterations (200) reached and the optimization hasn't converged yet.\n",
      "  % self.max_iter, ConvergenceWarning)\n"
     ]
    },
    {
     "name": "stdout",
     "output_type": "stream",
     "text": [
      "[CV]  alpha=0.01, learning_rate_init=1e-05, max_iter=200, total=   3.2s\n",
      "[CV] alpha=0.01, learning_rate_init=1e-05, max_iter=200 ..............\n"
     ]
    },
    {
     "name": "stderr",
     "output_type": "stream",
     "text": [
      "C:\\Users\\Tristan\\anaconda\\Anaconda3\\envs\\pythondata\\lib\\site-packages\\sklearn\\neural_network\\_multilayer_perceptron.py:571: ConvergenceWarning: Stochastic Optimizer: Maximum iterations (200) reached and the optimization hasn't converged yet.\n",
      "  % self.max_iter, ConvergenceWarning)\n"
     ]
    },
    {
     "name": "stdout",
     "output_type": "stream",
     "text": [
      "[CV]  alpha=0.01, learning_rate_init=1e-05, max_iter=200, total=   3.1s\n",
      "[CV] alpha=0.01, learning_rate_init=1e-05, max_iter=200 ..............\n"
     ]
    },
    {
     "name": "stderr",
     "output_type": "stream",
     "text": [
      "C:\\Users\\Tristan\\anaconda\\Anaconda3\\envs\\pythondata\\lib\\site-packages\\sklearn\\neural_network\\_multilayer_perceptron.py:571: ConvergenceWarning: Stochastic Optimizer: Maximum iterations (200) reached and the optimization hasn't converged yet.\n",
      "  % self.max_iter, ConvergenceWarning)\n"
     ]
    },
    {
     "name": "stdout",
     "output_type": "stream",
     "text": [
      "[CV]  alpha=0.01, learning_rate_init=1e-05, max_iter=200, total=   3.2s\n",
      "[CV] alpha=0.01, learning_rate_init=1e-05, max_iter=300 ..............\n"
     ]
    },
    {
     "name": "stderr",
     "output_type": "stream",
     "text": [
      "C:\\Users\\Tristan\\anaconda\\Anaconda3\\envs\\pythondata\\lib\\site-packages\\sklearn\\neural_network\\_multilayer_perceptron.py:571: ConvergenceWarning: Stochastic Optimizer: Maximum iterations (300) reached and the optimization hasn't converged yet.\n",
      "  % self.max_iter, ConvergenceWarning)\n"
     ]
    },
    {
     "name": "stdout",
     "output_type": "stream",
     "text": [
      "[CV]  alpha=0.01, learning_rate_init=1e-05, max_iter=300, total=   4.6s\n",
      "[CV] alpha=0.01, learning_rate_init=1e-05, max_iter=300 ..............\n"
     ]
    },
    {
     "name": "stderr",
     "output_type": "stream",
     "text": [
      "C:\\Users\\Tristan\\anaconda\\Anaconda3\\envs\\pythondata\\lib\\site-packages\\sklearn\\neural_network\\_multilayer_perceptron.py:571: ConvergenceWarning: Stochastic Optimizer: Maximum iterations (300) reached and the optimization hasn't converged yet.\n",
      "  % self.max_iter, ConvergenceWarning)\n"
     ]
    },
    {
     "name": "stdout",
     "output_type": "stream",
     "text": [
      "[CV]  alpha=0.01, learning_rate_init=1e-05, max_iter=300, total=   5.0s\n",
      "[CV] alpha=0.01, learning_rate_init=1e-05, max_iter=300 ..............\n"
     ]
    },
    {
     "name": "stderr",
     "output_type": "stream",
     "text": [
      "C:\\Users\\Tristan\\anaconda\\Anaconda3\\envs\\pythondata\\lib\\site-packages\\sklearn\\neural_network\\_multilayer_perceptron.py:571: ConvergenceWarning: Stochastic Optimizer: Maximum iterations (300) reached and the optimization hasn't converged yet.\n",
      "  % self.max_iter, ConvergenceWarning)\n"
     ]
    },
    {
     "name": "stdout",
     "output_type": "stream",
     "text": [
      "[CV]  alpha=0.01, learning_rate_init=1e-05, max_iter=300, total=   4.7s\n",
      "[CV] alpha=0.01, learning_rate_init=1e-05, max_iter=300 ..............\n"
     ]
    },
    {
     "name": "stderr",
     "output_type": "stream",
     "text": [
      "C:\\Users\\Tristan\\anaconda\\Anaconda3\\envs\\pythondata\\lib\\site-packages\\sklearn\\neural_network\\_multilayer_perceptron.py:571: ConvergenceWarning: Stochastic Optimizer: Maximum iterations (300) reached and the optimization hasn't converged yet.\n",
      "  % self.max_iter, ConvergenceWarning)\n"
     ]
    },
    {
     "name": "stdout",
     "output_type": "stream",
     "text": [
      "[CV]  alpha=0.01, learning_rate_init=1e-05, max_iter=300, total=   4.6s\n",
      "[CV] alpha=0.01, learning_rate_init=1e-05, max_iter=300 ..............\n"
     ]
    },
    {
     "name": "stderr",
     "output_type": "stream",
     "text": [
      "C:\\Users\\Tristan\\anaconda\\Anaconda3\\envs\\pythondata\\lib\\site-packages\\sklearn\\neural_network\\_multilayer_perceptron.py:571: ConvergenceWarning: Stochastic Optimizer: Maximum iterations (300) reached and the optimization hasn't converged yet.\n",
      "  % self.max_iter, ConvergenceWarning)\n"
     ]
    },
    {
     "name": "stdout",
     "output_type": "stream",
     "text": [
      "[CV]  alpha=0.01, learning_rate_init=1e-05, max_iter=300, total=   5.4s\n",
      "[CV] alpha=0.01, learning_rate_init=1e-06, max_iter=100 ..............\n"
     ]
    },
    {
     "name": "stderr",
     "output_type": "stream",
     "text": [
      "C:\\Users\\Tristan\\anaconda\\Anaconda3\\envs\\pythondata\\lib\\site-packages\\sklearn\\neural_network\\_multilayer_perceptron.py:571: ConvergenceWarning: Stochastic Optimizer: Maximum iterations (100) reached and the optimization hasn't converged yet.\n",
      "  % self.max_iter, ConvergenceWarning)\n"
     ]
    },
    {
     "name": "stdout",
     "output_type": "stream",
     "text": [
      "[CV]  alpha=0.01, learning_rate_init=1e-06, max_iter=100, total=   1.7s\n",
      "[CV] alpha=0.01, learning_rate_init=1e-06, max_iter=100 ..............\n"
     ]
    },
    {
     "name": "stderr",
     "output_type": "stream",
     "text": [
      "C:\\Users\\Tristan\\anaconda\\Anaconda3\\envs\\pythondata\\lib\\site-packages\\sklearn\\neural_network\\_multilayer_perceptron.py:571: ConvergenceWarning: Stochastic Optimizer: Maximum iterations (100) reached and the optimization hasn't converged yet.\n",
      "  % self.max_iter, ConvergenceWarning)\n"
     ]
    },
    {
     "name": "stdout",
     "output_type": "stream",
     "text": [
      "[CV]  alpha=0.01, learning_rate_init=1e-06, max_iter=100, total=   1.5s\n",
      "[CV] alpha=0.01, learning_rate_init=1e-06, max_iter=100 ..............\n"
     ]
    },
    {
     "name": "stderr",
     "output_type": "stream",
     "text": [
      "C:\\Users\\Tristan\\anaconda\\Anaconda3\\envs\\pythondata\\lib\\site-packages\\sklearn\\neural_network\\_multilayer_perceptron.py:571: ConvergenceWarning: Stochastic Optimizer: Maximum iterations (100) reached and the optimization hasn't converged yet.\n",
      "  % self.max_iter, ConvergenceWarning)\n"
     ]
    },
    {
     "name": "stdout",
     "output_type": "stream",
     "text": [
      "[CV]  alpha=0.01, learning_rate_init=1e-06, max_iter=100, total=   1.6s\n",
      "[CV] alpha=0.01, learning_rate_init=1e-06, max_iter=100 ..............\n"
     ]
    },
    {
     "name": "stderr",
     "output_type": "stream",
     "text": [
      "C:\\Users\\Tristan\\anaconda\\Anaconda3\\envs\\pythondata\\lib\\site-packages\\sklearn\\neural_network\\_multilayer_perceptron.py:571: ConvergenceWarning: Stochastic Optimizer: Maximum iterations (100) reached and the optimization hasn't converged yet.\n",
      "  % self.max_iter, ConvergenceWarning)\n"
     ]
    },
    {
     "name": "stdout",
     "output_type": "stream",
     "text": [
      "[CV]  alpha=0.01, learning_rate_init=1e-06, max_iter=100, total=   1.7s\n",
      "[CV] alpha=0.01, learning_rate_init=1e-06, max_iter=100 ..............\n"
     ]
    },
    {
     "name": "stderr",
     "output_type": "stream",
     "text": [
      "C:\\Users\\Tristan\\anaconda\\Anaconda3\\envs\\pythondata\\lib\\site-packages\\sklearn\\neural_network\\_multilayer_perceptron.py:571: ConvergenceWarning: Stochastic Optimizer: Maximum iterations (100) reached and the optimization hasn't converged yet.\n",
      "  % self.max_iter, ConvergenceWarning)\n"
     ]
    },
    {
     "name": "stdout",
     "output_type": "stream",
     "text": [
      "[CV]  alpha=0.01, learning_rate_init=1e-06, max_iter=100, total=   1.7s\n",
      "[CV] alpha=0.01, learning_rate_init=1e-06, max_iter=200 ..............\n"
     ]
    },
    {
     "name": "stderr",
     "output_type": "stream",
     "text": [
      "C:\\Users\\Tristan\\anaconda\\Anaconda3\\envs\\pythondata\\lib\\site-packages\\sklearn\\neural_network\\_multilayer_perceptron.py:571: ConvergenceWarning: Stochastic Optimizer: Maximum iterations (200) reached and the optimization hasn't converged yet.\n",
      "  % self.max_iter, ConvergenceWarning)\n"
     ]
    },
    {
     "name": "stdout",
     "output_type": "stream",
     "text": [
      "[CV]  alpha=0.01, learning_rate_init=1e-06, max_iter=200, total=   3.2s\n",
      "[CV] alpha=0.01, learning_rate_init=1e-06, max_iter=200 ..............\n"
     ]
    },
    {
     "name": "stderr",
     "output_type": "stream",
     "text": [
      "C:\\Users\\Tristan\\anaconda\\Anaconda3\\envs\\pythondata\\lib\\site-packages\\sklearn\\neural_network\\_multilayer_perceptron.py:571: ConvergenceWarning: Stochastic Optimizer: Maximum iterations (200) reached and the optimization hasn't converged yet.\n",
      "  % self.max_iter, ConvergenceWarning)\n"
     ]
    },
    {
     "name": "stdout",
     "output_type": "stream",
     "text": [
      "[CV]  alpha=0.01, learning_rate_init=1e-06, max_iter=200, total=   3.2s\n",
      "[CV] alpha=0.01, learning_rate_init=1e-06, max_iter=200 ..............\n"
     ]
    },
    {
     "name": "stderr",
     "output_type": "stream",
     "text": [
      "C:\\Users\\Tristan\\anaconda\\Anaconda3\\envs\\pythondata\\lib\\site-packages\\sklearn\\neural_network\\_multilayer_perceptron.py:571: ConvergenceWarning: Stochastic Optimizer: Maximum iterations (200) reached and the optimization hasn't converged yet.\n",
      "  % self.max_iter, ConvergenceWarning)\n"
     ]
    },
    {
     "name": "stdout",
     "output_type": "stream",
     "text": [
      "[CV]  alpha=0.01, learning_rate_init=1e-06, max_iter=200, total=   3.4s\n",
      "[CV] alpha=0.01, learning_rate_init=1e-06, max_iter=200 ..............\n"
     ]
    },
    {
     "name": "stderr",
     "output_type": "stream",
     "text": [
      "C:\\Users\\Tristan\\anaconda\\Anaconda3\\envs\\pythondata\\lib\\site-packages\\sklearn\\neural_network\\_multilayer_perceptron.py:571: ConvergenceWarning: Stochastic Optimizer: Maximum iterations (200) reached and the optimization hasn't converged yet.\n",
      "  % self.max_iter, ConvergenceWarning)\n"
     ]
    },
    {
     "name": "stdout",
     "output_type": "stream",
     "text": [
      "[CV]  alpha=0.01, learning_rate_init=1e-06, max_iter=200, total=   3.1s\n",
      "[CV] alpha=0.01, learning_rate_init=1e-06, max_iter=200 ..............\n"
     ]
    },
    {
     "name": "stderr",
     "output_type": "stream",
     "text": [
      "C:\\Users\\Tristan\\anaconda\\Anaconda3\\envs\\pythondata\\lib\\site-packages\\sklearn\\neural_network\\_multilayer_perceptron.py:571: ConvergenceWarning: Stochastic Optimizer: Maximum iterations (200) reached and the optimization hasn't converged yet.\n",
      "  % self.max_iter, ConvergenceWarning)\n"
     ]
    },
    {
     "name": "stdout",
     "output_type": "stream",
     "text": [
      "[CV]  alpha=0.01, learning_rate_init=1e-06, max_iter=200, total=   3.2s\n",
      "[CV] alpha=0.01, learning_rate_init=1e-06, max_iter=300 ..............\n"
     ]
    },
    {
     "name": "stderr",
     "output_type": "stream",
     "text": [
      "C:\\Users\\Tristan\\anaconda\\Anaconda3\\envs\\pythondata\\lib\\site-packages\\sklearn\\neural_network\\_multilayer_perceptron.py:571: ConvergenceWarning: Stochastic Optimizer: Maximum iterations (300) reached and the optimization hasn't converged yet.\n",
      "  % self.max_iter, ConvergenceWarning)\n"
     ]
    },
    {
     "name": "stdout",
     "output_type": "stream",
     "text": [
      "[CV]  alpha=0.01, learning_rate_init=1e-06, max_iter=300, total=   4.7s\n",
      "[CV] alpha=0.01, learning_rate_init=1e-06, max_iter=300 ..............\n"
     ]
    },
    {
     "name": "stderr",
     "output_type": "stream",
     "text": [
      "C:\\Users\\Tristan\\anaconda\\Anaconda3\\envs\\pythondata\\lib\\site-packages\\sklearn\\neural_network\\_multilayer_perceptron.py:571: ConvergenceWarning: Stochastic Optimizer: Maximum iterations (300) reached and the optimization hasn't converged yet.\n",
      "  % self.max_iter, ConvergenceWarning)\n"
     ]
    },
    {
     "name": "stdout",
     "output_type": "stream",
     "text": [
      "[CV]  alpha=0.01, learning_rate_init=1e-06, max_iter=300, total=   4.7s\n",
      "[CV] alpha=0.01, learning_rate_init=1e-06, max_iter=300 ..............\n"
     ]
    },
    {
     "name": "stderr",
     "output_type": "stream",
     "text": [
      "C:\\Users\\Tristan\\anaconda\\Anaconda3\\envs\\pythondata\\lib\\site-packages\\sklearn\\neural_network\\_multilayer_perceptron.py:571: ConvergenceWarning: Stochastic Optimizer: Maximum iterations (300) reached and the optimization hasn't converged yet.\n",
      "  % self.max_iter, ConvergenceWarning)\n"
     ]
    },
    {
     "name": "stdout",
     "output_type": "stream",
     "text": [
      "[CV]  alpha=0.01, learning_rate_init=1e-06, max_iter=300, total=   4.7s\n",
      "[CV] alpha=0.01, learning_rate_init=1e-06, max_iter=300 ..............\n"
     ]
    },
    {
     "name": "stderr",
     "output_type": "stream",
     "text": [
      "C:\\Users\\Tristan\\anaconda\\Anaconda3\\envs\\pythondata\\lib\\site-packages\\sklearn\\neural_network\\_multilayer_perceptron.py:571: ConvergenceWarning: Stochastic Optimizer: Maximum iterations (300) reached and the optimization hasn't converged yet.\n",
      "  % self.max_iter, ConvergenceWarning)\n"
     ]
    },
    {
     "name": "stdout",
     "output_type": "stream",
     "text": [
      "[CV]  alpha=0.01, learning_rate_init=1e-06, max_iter=300, total=   4.7s\n",
      "[CV] alpha=0.01, learning_rate_init=1e-06, max_iter=300 ..............\n"
     ]
    },
    {
     "name": "stderr",
     "output_type": "stream",
     "text": [
      "C:\\Users\\Tristan\\anaconda\\Anaconda3\\envs\\pythondata\\lib\\site-packages\\sklearn\\neural_network\\_multilayer_perceptron.py:571: ConvergenceWarning: Stochastic Optimizer: Maximum iterations (300) reached and the optimization hasn't converged yet.\n",
      "  % self.max_iter, ConvergenceWarning)\n"
     ]
    },
    {
     "name": "stdout",
     "output_type": "stream",
     "text": [
      "[CV]  alpha=0.01, learning_rate_init=1e-06, max_iter=300, total=   4.7s\n",
      "[CV] alpha=0.001, learning_rate_init=0.1, max_iter=100 ...............\n",
      "[CV]  alpha=0.001, learning_rate_init=0.1, max_iter=100, total=   1.3s\n",
      "[CV] alpha=0.001, learning_rate_init=0.1, max_iter=100 ...............\n",
      "[CV]  alpha=0.001, learning_rate_init=0.1, max_iter=100, total=   0.6s\n",
      "[CV] alpha=0.001, learning_rate_init=0.1, max_iter=100 ...............\n",
      "[CV]  alpha=0.001, learning_rate_init=0.1, max_iter=100, total=   0.5s\n",
      "[CV] alpha=0.001, learning_rate_init=0.1, max_iter=100 ...............\n",
      "[CV]  alpha=0.001, learning_rate_init=0.1, max_iter=100, total=   0.7s\n",
      "[CV] alpha=0.001, learning_rate_init=0.1, max_iter=100 ...............\n",
      "[CV]  alpha=0.001, learning_rate_init=0.1, max_iter=100, total=   0.6s\n",
      "[CV] alpha=0.001, learning_rate_init=0.1, max_iter=200 ...............\n",
      "[CV]  alpha=0.001, learning_rate_init=0.1, max_iter=200, total=   1.3s\n",
      "[CV] alpha=0.001, learning_rate_init=0.1, max_iter=200 ...............\n",
      "[CV]  alpha=0.001, learning_rate_init=0.1, max_iter=200, total=   0.6s\n",
      "[CV] alpha=0.001, learning_rate_init=0.1, max_iter=200 ...............\n",
      "[CV]  alpha=0.001, learning_rate_init=0.1, max_iter=200, total=   0.5s\n",
      "[CV] alpha=0.001, learning_rate_init=0.1, max_iter=200 ...............\n",
      "[CV]  alpha=0.001, learning_rate_init=0.1, max_iter=200, total=   0.7s\n",
      "[CV] alpha=0.001, learning_rate_init=0.1, max_iter=200 ...............\n",
      "[CV]  alpha=0.001, learning_rate_init=0.1, max_iter=200, total=   0.7s\n",
      "[CV] alpha=0.001, learning_rate_init=0.1, max_iter=300 ...............\n",
      "[CV]  alpha=0.001, learning_rate_init=0.1, max_iter=300, total=   1.2s\n",
      "[CV] alpha=0.001, learning_rate_init=0.1, max_iter=300 ...............\n",
      "[CV]  alpha=0.001, learning_rate_init=0.1, max_iter=300, total=   0.7s\n",
      "[CV] alpha=0.001, learning_rate_init=0.1, max_iter=300 ...............\n",
      "[CV]  alpha=0.001, learning_rate_init=0.1, max_iter=300, total=   0.5s\n",
      "[CV] alpha=0.001, learning_rate_init=0.1, max_iter=300 ...............\n",
      "[CV]  alpha=0.001, learning_rate_init=0.1, max_iter=300, total=   0.7s\n",
      "[CV] alpha=0.001, learning_rate_init=0.1, max_iter=300 ...............\n",
      "[CV]  alpha=0.001, learning_rate_init=0.1, max_iter=300, total=   0.6s\n",
      "[CV] alpha=0.001, learning_rate_init=0.01, max_iter=100 ..............\n"
     ]
    },
    {
     "name": "stderr",
     "output_type": "stream",
     "text": [
      "C:\\Users\\Tristan\\anaconda\\Anaconda3\\envs\\pythondata\\lib\\site-packages\\sklearn\\neural_network\\_multilayer_perceptron.py:571: ConvergenceWarning: Stochastic Optimizer: Maximum iterations (100) reached and the optimization hasn't converged yet.\n",
      "  % self.max_iter, ConvergenceWarning)\n"
     ]
    },
    {
     "name": "stdout",
     "output_type": "stream",
     "text": [
      "[CV]  alpha=0.001, learning_rate_init=0.01, max_iter=100, total=   1.5s\n",
      "[CV] alpha=0.001, learning_rate_init=0.01, max_iter=100 ..............\n"
     ]
    },
    {
     "name": "stderr",
     "output_type": "stream",
     "text": [
      "C:\\Users\\Tristan\\anaconda\\Anaconda3\\envs\\pythondata\\lib\\site-packages\\sklearn\\neural_network\\_multilayer_perceptron.py:571: ConvergenceWarning: Stochastic Optimizer: Maximum iterations (100) reached and the optimization hasn't converged yet.\n",
      "  % self.max_iter, ConvergenceWarning)\n"
     ]
    },
    {
     "name": "stdout",
     "output_type": "stream",
     "text": [
      "[CV]  alpha=0.001, learning_rate_init=0.01, max_iter=100, total=   1.6s\n",
      "[CV] alpha=0.001, learning_rate_init=0.01, max_iter=100 ..............\n"
     ]
    },
    {
     "name": "stderr",
     "output_type": "stream",
     "text": [
      "C:\\Users\\Tristan\\anaconda\\Anaconda3\\envs\\pythondata\\lib\\site-packages\\sklearn\\neural_network\\_multilayer_perceptron.py:571: ConvergenceWarning: Stochastic Optimizer: Maximum iterations (100) reached and the optimization hasn't converged yet.\n",
      "  % self.max_iter, ConvergenceWarning)\n"
     ]
    },
    {
     "name": "stdout",
     "output_type": "stream",
     "text": [
      "[CV]  alpha=0.001, learning_rate_init=0.01, max_iter=100, total=   1.5s\n",
      "[CV] alpha=0.001, learning_rate_init=0.01, max_iter=100 ..............\n"
     ]
    },
    {
     "name": "stderr",
     "output_type": "stream",
     "text": [
      "C:\\Users\\Tristan\\anaconda\\Anaconda3\\envs\\pythondata\\lib\\site-packages\\sklearn\\neural_network\\_multilayer_perceptron.py:571: ConvergenceWarning: Stochastic Optimizer: Maximum iterations (100) reached and the optimization hasn't converged yet.\n",
      "  % self.max_iter, ConvergenceWarning)\n"
     ]
    },
    {
     "name": "stdout",
     "output_type": "stream",
     "text": [
      "[CV]  alpha=0.001, learning_rate_init=0.01, max_iter=100, total=   1.6s\n",
      "[CV] alpha=0.001, learning_rate_init=0.01, max_iter=100 ..............\n"
     ]
    },
    {
     "name": "stderr",
     "output_type": "stream",
     "text": [
      "C:\\Users\\Tristan\\anaconda\\Anaconda3\\envs\\pythondata\\lib\\site-packages\\sklearn\\neural_network\\_multilayer_perceptron.py:571: ConvergenceWarning: Stochastic Optimizer: Maximum iterations (100) reached and the optimization hasn't converged yet.\n",
      "  % self.max_iter, ConvergenceWarning)\n"
     ]
    },
    {
     "name": "stdout",
     "output_type": "stream",
     "text": [
      "[CV]  alpha=0.001, learning_rate_init=0.01, max_iter=100, total=   1.6s\n",
      "[CV] alpha=0.001, learning_rate_init=0.01, max_iter=200 ..............\n",
      "[CV]  alpha=0.001, learning_rate_init=0.01, max_iter=200, total=   2.7s\n",
      "[CV] alpha=0.001, learning_rate_init=0.01, max_iter=200 ..............\n",
      "[CV]  alpha=0.001, learning_rate_init=0.01, max_iter=200, total=   2.3s\n",
      "[CV] alpha=0.001, learning_rate_init=0.01, max_iter=200 ..............\n",
      "[CV]  alpha=0.001, learning_rate_init=0.01, max_iter=200, total=   2.5s\n",
      "[CV] alpha=0.001, learning_rate_init=0.01, max_iter=200 ..............\n",
      "[CV]  alpha=0.001, learning_rate_init=0.01, max_iter=200, total=   2.0s\n",
      "[CV] alpha=0.001, learning_rate_init=0.01, max_iter=200 ..............\n",
      "[CV]  alpha=0.001, learning_rate_init=0.01, max_iter=200, total=   1.8s\n",
      "[CV] alpha=0.001, learning_rate_init=0.01, max_iter=300 ..............\n",
      "[CV]  alpha=0.001, learning_rate_init=0.01, max_iter=300, total=   2.7s\n",
      "[CV] alpha=0.001, learning_rate_init=0.01, max_iter=300 ..............\n",
      "[CV]  alpha=0.001, learning_rate_init=0.01, max_iter=300, total=   2.3s\n",
      "[CV] alpha=0.001, learning_rate_init=0.01, max_iter=300 ..............\n",
      "[CV]  alpha=0.001, learning_rate_init=0.01, max_iter=300, total=   2.6s\n",
      "[CV] alpha=0.001, learning_rate_init=0.01, max_iter=300 ..............\n",
      "[CV]  alpha=0.001, learning_rate_init=0.01, max_iter=300, total=   2.0s\n",
      "[CV] alpha=0.001, learning_rate_init=0.01, max_iter=300 ..............\n",
      "[CV]  alpha=0.001, learning_rate_init=0.01, max_iter=300, total=   1.8s\n",
      "[CV] alpha=0.001, learning_rate_init=0.001, max_iter=100 .............\n"
     ]
    },
    {
     "name": "stderr",
     "output_type": "stream",
     "text": [
      "C:\\Users\\Tristan\\anaconda\\Anaconda3\\envs\\pythondata\\lib\\site-packages\\sklearn\\neural_network\\_multilayer_perceptron.py:571: ConvergenceWarning: Stochastic Optimizer: Maximum iterations (100) reached and the optimization hasn't converged yet.\n",
      "  % self.max_iter, ConvergenceWarning)\n"
     ]
    },
    {
     "name": "stdout",
     "output_type": "stream",
     "text": [
      "[CV]  alpha=0.001, learning_rate_init=0.001, max_iter=100, total=   1.6s\n",
      "[CV] alpha=0.001, learning_rate_init=0.001, max_iter=100 .............\n"
     ]
    },
    {
     "name": "stderr",
     "output_type": "stream",
     "text": [
      "C:\\Users\\Tristan\\anaconda\\Anaconda3\\envs\\pythondata\\lib\\site-packages\\sklearn\\neural_network\\_multilayer_perceptron.py:571: ConvergenceWarning: Stochastic Optimizer: Maximum iterations (100) reached and the optimization hasn't converged yet.\n",
      "  % self.max_iter, ConvergenceWarning)\n"
     ]
    },
    {
     "name": "stdout",
     "output_type": "stream",
     "text": [
      "[CV]  alpha=0.001, learning_rate_init=0.001, max_iter=100, total=   1.7s\n",
      "[CV] alpha=0.001, learning_rate_init=0.001, max_iter=100 .............\n"
     ]
    },
    {
     "name": "stderr",
     "output_type": "stream",
     "text": [
      "C:\\Users\\Tristan\\anaconda\\Anaconda3\\envs\\pythondata\\lib\\site-packages\\sklearn\\neural_network\\_multilayer_perceptron.py:571: ConvergenceWarning: Stochastic Optimizer: Maximum iterations (100) reached and the optimization hasn't converged yet.\n",
      "  % self.max_iter, ConvergenceWarning)\n"
     ]
    },
    {
     "name": "stdout",
     "output_type": "stream",
     "text": [
      "[CV]  alpha=0.001, learning_rate_init=0.001, max_iter=100, total=   1.6s\n",
      "[CV] alpha=0.001, learning_rate_init=0.001, max_iter=100 .............\n"
     ]
    },
    {
     "name": "stderr",
     "output_type": "stream",
     "text": [
      "C:\\Users\\Tristan\\anaconda\\Anaconda3\\envs\\pythondata\\lib\\site-packages\\sklearn\\neural_network\\_multilayer_perceptron.py:571: ConvergenceWarning: Stochastic Optimizer: Maximum iterations (100) reached and the optimization hasn't converged yet.\n",
      "  % self.max_iter, ConvergenceWarning)\n"
     ]
    },
    {
     "name": "stdout",
     "output_type": "stream",
     "text": [
      "[CV]  alpha=0.001, learning_rate_init=0.001, max_iter=100, total=   1.6s\n",
      "[CV] alpha=0.001, learning_rate_init=0.001, max_iter=100 .............\n"
     ]
    },
    {
     "name": "stderr",
     "output_type": "stream",
     "text": [
      "C:\\Users\\Tristan\\anaconda\\Anaconda3\\envs\\pythondata\\lib\\site-packages\\sklearn\\neural_network\\_multilayer_perceptron.py:571: ConvergenceWarning: Stochastic Optimizer: Maximum iterations (100) reached and the optimization hasn't converged yet.\n",
      "  % self.max_iter, ConvergenceWarning)\n"
     ]
    },
    {
     "name": "stdout",
     "output_type": "stream",
     "text": [
      "[CV]  alpha=0.001, learning_rate_init=0.001, max_iter=100, total=   1.6s\n",
      "[CV] alpha=0.001, learning_rate_init=0.001, max_iter=200 .............\n"
     ]
    },
    {
     "name": "stderr",
     "output_type": "stream",
     "text": [
      "C:\\Users\\Tristan\\anaconda\\Anaconda3\\envs\\pythondata\\lib\\site-packages\\sklearn\\neural_network\\_multilayer_perceptron.py:571: ConvergenceWarning: Stochastic Optimizer: Maximum iterations (200) reached and the optimization hasn't converged yet.\n",
      "  % self.max_iter, ConvergenceWarning)\n"
     ]
    },
    {
     "name": "stdout",
     "output_type": "stream",
     "text": [
      "[CV]  alpha=0.001, learning_rate_init=0.001, max_iter=200, total=   3.3s\n",
      "[CV] alpha=0.001, learning_rate_init=0.001, max_iter=200 .............\n"
     ]
    },
    {
     "name": "stderr",
     "output_type": "stream",
     "text": [
      "C:\\Users\\Tristan\\anaconda\\Anaconda3\\envs\\pythondata\\lib\\site-packages\\sklearn\\neural_network\\_multilayer_perceptron.py:571: ConvergenceWarning: Stochastic Optimizer: Maximum iterations (200) reached and the optimization hasn't converged yet.\n",
      "  % self.max_iter, ConvergenceWarning)\n"
     ]
    },
    {
     "name": "stdout",
     "output_type": "stream",
     "text": [
      "[CV]  alpha=0.001, learning_rate_init=0.001, max_iter=200, total=   3.2s\n",
      "[CV] alpha=0.001, learning_rate_init=0.001, max_iter=200 .............\n"
     ]
    },
    {
     "name": "stderr",
     "output_type": "stream",
     "text": [
      "C:\\Users\\Tristan\\anaconda\\Anaconda3\\envs\\pythondata\\lib\\site-packages\\sklearn\\neural_network\\_multilayer_perceptron.py:571: ConvergenceWarning: Stochastic Optimizer: Maximum iterations (200) reached and the optimization hasn't converged yet.\n",
      "  % self.max_iter, ConvergenceWarning)\n"
     ]
    },
    {
     "name": "stdout",
     "output_type": "stream",
     "text": [
      "[CV]  alpha=0.001, learning_rate_init=0.001, max_iter=200, total=   3.2s\n",
      "[CV] alpha=0.001, learning_rate_init=0.001, max_iter=200 .............\n"
     ]
    },
    {
     "name": "stderr",
     "output_type": "stream",
     "text": [
      "C:\\Users\\Tristan\\anaconda\\Anaconda3\\envs\\pythondata\\lib\\site-packages\\sklearn\\neural_network\\_multilayer_perceptron.py:571: ConvergenceWarning: Stochastic Optimizer: Maximum iterations (200) reached and the optimization hasn't converged yet.\n",
      "  % self.max_iter, ConvergenceWarning)\n"
     ]
    },
    {
     "name": "stdout",
     "output_type": "stream",
     "text": [
      "[CV]  alpha=0.001, learning_rate_init=0.001, max_iter=200, total=   3.0s\n",
      "[CV] alpha=0.001, learning_rate_init=0.001, max_iter=200 .............\n"
     ]
    },
    {
     "name": "stderr",
     "output_type": "stream",
     "text": [
      "C:\\Users\\Tristan\\anaconda\\Anaconda3\\envs\\pythondata\\lib\\site-packages\\sklearn\\neural_network\\_multilayer_perceptron.py:571: ConvergenceWarning: Stochastic Optimizer: Maximum iterations (200) reached and the optimization hasn't converged yet.\n",
      "  % self.max_iter, ConvergenceWarning)\n"
     ]
    },
    {
     "name": "stdout",
     "output_type": "stream",
     "text": [
      "[CV]  alpha=0.001, learning_rate_init=0.001, max_iter=200, total=   3.3s\n",
      "[CV] alpha=0.001, learning_rate_init=0.001, max_iter=300 .............\n"
     ]
    },
    {
     "name": "stderr",
     "output_type": "stream",
     "text": [
      "C:\\Users\\Tristan\\anaconda\\Anaconda3\\envs\\pythondata\\lib\\site-packages\\sklearn\\neural_network\\_multilayer_perceptron.py:571: ConvergenceWarning: Stochastic Optimizer: Maximum iterations (300) reached and the optimization hasn't converged yet.\n",
      "  % self.max_iter, ConvergenceWarning)\n"
     ]
    },
    {
     "name": "stdout",
     "output_type": "stream",
     "text": [
      "[CV]  alpha=0.001, learning_rate_init=0.001, max_iter=300, total=   4.6s\n",
      "[CV] alpha=0.001, learning_rate_init=0.001, max_iter=300 .............\n"
     ]
    },
    {
     "name": "stderr",
     "output_type": "stream",
     "text": [
      "C:\\Users\\Tristan\\anaconda\\Anaconda3\\envs\\pythondata\\lib\\site-packages\\sklearn\\neural_network\\_multilayer_perceptron.py:571: ConvergenceWarning: Stochastic Optimizer: Maximum iterations (300) reached and the optimization hasn't converged yet.\n",
      "  % self.max_iter, ConvergenceWarning)\n"
     ]
    },
    {
     "name": "stdout",
     "output_type": "stream",
     "text": [
      "[CV]  alpha=0.001, learning_rate_init=0.001, max_iter=300, total=   4.8s\n",
      "[CV] alpha=0.001, learning_rate_init=0.001, max_iter=300 .............\n"
     ]
    },
    {
     "name": "stderr",
     "output_type": "stream",
     "text": [
      "C:\\Users\\Tristan\\anaconda\\Anaconda3\\envs\\pythondata\\lib\\site-packages\\sklearn\\neural_network\\_multilayer_perceptron.py:571: ConvergenceWarning: Stochastic Optimizer: Maximum iterations (300) reached and the optimization hasn't converged yet.\n",
      "  % self.max_iter, ConvergenceWarning)\n"
     ]
    },
    {
     "name": "stdout",
     "output_type": "stream",
     "text": [
      "[CV]  alpha=0.001, learning_rate_init=0.001, max_iter=300, total=   4.9s\n",
      "[CV] alpha=0.001, learning_rate_init=0.001, max_iter=300 .............\n"
     ]
    },
    {
     "name": "stderr",
     "output_type": "stream",
     "text": [
      "C:\\Users\\Tristan\\anaconda\\Anaconda3\\envs\\pythondata\\lib\\site-packages\\sklearn\\neural_network\\_multilayer_perceptron.py:571: ConvergenceWarning: Stochastic Optimizer: Maximum iterations (300) reached and the optimization hasn't converged yet.\n",
      "  % self.max_iter, ConvergenceWarning)\n"
     ]
    },
    {
     "name": "stdout",
     "output_type": "stream",
     "text": [
      "[CV]  alpha=0.001, learning_rate_init=0.001, max_iter=300, total=   4.6s\n",
      "[CV] alpha=0.001, learning_rate_init=0.001, max_iter=300 .............\n"
     ]
    },
    {
     "name": "stderr",
     "output_type": "stream",
     "text": [
      "C:\\Users\\Tristan\\anaconda\\Anaconda3\\envs\\pythondata\\lib\\site-packages\\sklearn\\neural_network\\_multilayer_perceptron.py:571: ConvergenceWarning: Stochastic Optimizer: Maximum iterations (300) reached and the optimization hasn't converged yet.\n",
      "  % self.max_iter, ConvergenceWarning)\n"
     ]
    },
    {
     "name": "stdout",
     "output_type": "stream",
     "text": [
      "[CV]  alpha=0.001, learning_rate_init=0.001, max_iter=300, total=   4.7s\n",
      "[CV] alpha=0.001, learning_rate_init=0.0001, max_iter=100 ............\n"
     ]
    },
    {
     "name": "stderr",
     "output_type": "stream",
     "text": [
      "C:\\Users\\Tristan\\anaconda\\Anaconda3\\envs\\pythondata\\lib\\site-packages\\sklearn\\neural_network\\_multilayer_perceptron.py:571: ConvergenceWarning: Stochastic Optimizer: Maximum iterations (100) reached and the optimization hasn't converged yet.\n",
      "  % self.max_iter, ConvergenceWarning)\n"
     ]
    },
    {
     "name": "stdout",
     "output_type": "stream",
     "text": [
      "[CV]  alpha=0.001, learning_rate_init=0.0001, max_iter=100, total=   1.6s\n",
      "[CV] alpha=0.001, learning_rate_init=0.0001, max_iter=100 ............\n"
     ]
    },
    {
     "name": "stderr",
     "output_type": "stream",
     "text": [
      "C:\\Users\\Tristan\\anaconda\\Anaconda3\\envs\\pythondata\\lib\\site-packages\\sklearn\\neural_network\\_multilayer_perceptron.py:571: ConvergenceWarning: Stochastic Optimizer: Maximum iterations (100) reached and the optimization hasn't converged yet.\n",
      "  % self.max_iter, ConvergenceWarning)\n"
     ]
    },
    {
     "name": "stdout",
     "output_type": "stream",
     "text": [
      "[CV]  alpha=0.001, learning_rate_init=0.0001, max_iter=100, total=   1.7s\n",
      "[CV] alpha=0.001, learning_rate_init=0.0001, max_iter=100 ............\n"
     ]
    },
    {
     "name": "stderr",
     "output_type": "stream",
     "text": [
      "C:\\Users\\Tristan\\anaconda\\Anaconda3\\envs\\pythondata\\lib\\site-packages\\sklearn\\neural_network\\_multilayer_perceptron.py:571: ConvergenceWarning: Stochastic Optimizer: Maximum iterations (100) reached and the optimization hasn't converged yet.\n",
      "  % self.max_iter, ConvergenceWarning)\n"
     ]
    },
    {
     "name": "stdout",
     "output_type": "stream",
     "text": [
      "[CV]  alpha=0.001, learning_rate_init=0.0001, max_iter=100, total=   1.6s\n",
      "[CV] alpha=0.001, learning_rate_init=0.0001, max_iter=100 ............\n"
     ]
    },
    {
     "name": "stderr",
     "output_type": "stream",
     "text": [
      "C:\\Users\\Tristan\\anaconda\\Anaconda3\\envs\\pythondata\\lib\\site-packages\\sklearn\\neural_network\\_multilayer_perceptron.py:571: ConvergenceWarning: Stochastic Optimizer: Maximum iterations (100) reached and the optimization hasn't converged yet.\n",
      "  % self.max_iter, ConvergenceWarning)\n"
     ]
    },
    {
     "name": "stdout",
     "output_type": "stream",
     "text": [
      "[CV]  alpha=0.001, learning_rate_init=0.0001, max_iter=100, total=   1.6s\n",
      "[CV] alpha=0.001, learning_rate_init=0.0001, max_iter=100 ............\n"
     ]
    },
    {
     "name": "stderr",
     "output_type": "stream",
     "text": [
      "C:\\Users\\Tristan\\anaconda\\Anaconda3\\envs\\pythondata\\lib\\site-packages\\sklearn\\neural_network\\_multilayer_perceptron.py:571: ConvergenceWarning: Stochastic Optimizer: Maximum iterations (100) reached and the optimization hasn't converged yet.\n",
      "  % self.max_iter, ConvergenceWarning)\n"
     ]
    },
    {
     "name": "stdout",
     "output_type": "stream",
     "text": [
      "[CV]  alpha=0.001, learning_rate_init=0.0001, max_iter=100, total=   1.6s\n",
      "[CV] alpha=0.001, learning_rate_init=0.0001, max_iter=200 ............\n"
     ]
    },
    {
     "name": "stderr",
     "output_type": "stream",
     "text": [
      "C:\\Users\\Tristan\\anaconda\\Anaconda3\\envs\\pythondata\\lib\\site-packages\\sklearn\\neural_network\\_multilayer_perceptron.py:571: ConvergenceWarning: Stochastic Optimizer: Maximum iterations (200) reached and the optimization hasn't converged yet.\n",
      "  % self.max_iter, ConvergenceWarning)\n"
     ]
    },
    {
     "name": "stdout",
     "output_type": "stream",
     "text": [
      "[CV]  alpha=0.001, learning_rate_init=0.0001, max_iter=200, total=   3.3s\n",
      "[CV] alpha=0.001, learning_rate_init=0.0001, max_iter=200 ............\n"
     ]
    },
    {
     "name": "stderr",
     "output_type": "stream",
     "text": [
      "C:\\Users\\Tristan\\anaconda\\Anaconda3\\envs\\pythondata\\lib\\site-packages\\sklearn\\neural_network\\_multilayer_perceptron.py:571: ConvergenceWarning: Stochastic Optimizer: Maximum iterations (200) reached and the optimization hasn't converged yet.\n",
      "  % self.max_iter, ConvergenceWarning)\n"
     ]
    },
    {
     "name": "stdout",
     "output_type": "stream",
     "text": [
      "[CV]  alpha=0.001, learning_rate_init=0.0001, max_iter=200, total=   3.1s\n",
      "[CV] alpha=0.001, learning_rate_init=0.0001, max_iter=200 ............\n"
     ]
    },
    {
     "name": "stderr",
     "output_type": "stream",
     "text": [
      "C:\\Users\\Tristan\\anaconda\\Anaconda3\\envs\\pythondata\\lib\\site-packages\\sklearn\\neural_network\\_multilayer_perceptron.py:571: ConvergenceWarning: Stochastic Optimizer: Maximum iterations (200) reached and the optimization hasn't converged yet.\n",
      "  % self.max_iter, ConvergenceWarning)\n"
     ]
    },
    {
     "name": "stdout",
     "output_type": "stream",
     "text": [
      "[CV]  alpha=0.001, learning_rate_init=0.0001, max_iter=200, total=   3.2s\n",
      "[CV] alpha=0.001, learning_rate_init=0.0001, max_iter=200 ............\n"
     ]
    },
    {
     "name": "stderr",
     "output_type": "stream",
     "text": [
      "C:\\Users\\Tristan\\anaconda\\Anaconda3\\envs\\pythondata\\lib\\site-packages\\sklearn\\neural_network\\_multilayer_perceptron.py:571: ConvergenceWarning: Stochastic Optimizer: Maximum iterations (200) reached and the optimization hasn't converged yet.\n",
      "  % self.max_iter, ConvergenceWarning)\n"
     ]
    },
    {
     "name": "stdout",
     "output_type": "stream",
     "text": [
      "[CV]  alpha=0.001, learning_rate_init=0.0001, max_iter=200, total=   3.2s\n",
      "[CV] alpha=0.001, learning_rate_init=0.0001, max_iter=200 ............\n"
     ]
    },
    {
     "name": "stderr",
     "output_type": "stream",
     "text": [
      "C:\\Users\\Tristan\\anaconda\\Anaconda3\\envs\\pythondata\\lib\\site-packages\\sklearn\\neural_network\\_multilayer_perceptron.py:571: ConvergenceWarning: Stochastic Optimizer: Maximum iterations (200) reached and the optimization hasn't converged yet.\n",
      "  % self.max_iter, ConvergenceWarning)\n"
     ]
    },
    {
     "name": "stdout",
     "output_type": "stream",
     "text": [
      "[CV]  alpha=0.001, learning_rate_init=0.0001, max_iter=200, total=   3.2s\n",
      "[CV] alpha=0.001, learning_rate_init=0.0001, max_iter=300 ............\n"
     ]
    },
    {
     "name": "stderr",
     "output_type": "stream",
     "text": [
      "C:\\Users\\Tristan\\anaconda\\Anaconda3\\envs\\pythondata\\lib\\site-packages\\sklearn\\neural_network\\_multilayer_perceptron.py:571: ConvergenceWarning: Stochastic Optimizer: Maximum iterations (300) reached and the optimization hasn't converged yet.\n",
      "  % self.max_iter, ConvergenceWarning)\n"
     ]
    },
    {
     "name": "stdout",
     "output_type": "stream",
     "text": [
      "[CV]  alpha=0.001, learning_rate_init=0.0001, max_iter=300, total=   4.6s\n",
      "[CV] alpha=0.001, learning_rate_init=0.0001, max_iter=300 ............\n"
     ]
    },
    {
     "name": "stderr",
     "output_type": "stream",
     "text": [
      "C:\\Users\\Tristan\\anaconda\\Anaconda3\\envs\\pythondata\\lib\\site-packages\\sklearn\\neural_network\\_multilayer_perceptron.py:571: ConvergenceWarning: Stochastic Optimizer: Maximum iterations (300) reached and the optimization hasn't converged yet.\n",
      "  % self.max_iter, ConvergenceWarning)\n"
     ]
    },
    {
     "name": "stdout",
     "output_type": "stream",
     "text": [
      "[CV]  alpha=0.001, learning_rate_init=0.0001, max_iter=300, total=   4.6s\n",
      "[CV] alpha=0.001, learning_rate_init=0.0001, max_iter=300 ............\n"
     ]
    },
    {
     "name": "stderr",
     "output_type": "stream",
     "text": [
      "C:\\Users\\Tristan\\anaconda\\Anaconda3\\envs\\pythondata\\lib\\site-packages\\sklearn\\neural_network\\_multilayer_perceptron.py:571: ConvergenceWarning: Stochastic Optimizer: Maximum iterations (300) reached and the optimization hasn't converged yet.\n",
      "  % self.max_iter, ConvergenceWarning)\n"
     ]
    },
    {
     "name": "stdout",
     "output_type": "stream",
     "text": [
      "[CV]  alpha=0.001, learning_rate_init=0.0001, max_iter=300, total=   4.8s\n",
      "[CV] alpha=0.001, learning_rate_init=0.0001, max_iter=300 ............\n"
     ]
    },
    {
     "name": "stderr",
     "output_type": "stream",
     "text": [
      "C:\\Users\\Tristan\\anaconda\\Anaconda3\\envs\\pythondata\\lib\\site-packages\\sklearn\\neural_network\\_multilayer_perceptron.py:571: ConvergenceWarning: Stochastic Optimizer: Maximum iterations (300) reached and the optimization hasn't converged yet.\n",
      "  % self.max_iter, ConvergenceWarning)\n"
     ]
    },
    {
     "name": "stdout",
     "output_type": "stream",
     "text": [
      "[CV]  alpha=0.001, learning_rate_init=0.0001, max_iter=300, total=   4.7s\n",
      "[CV] alpha=0.001, learning_rate_init=0.0001, max_iter=300 ............\n"
     ]
    },
    {
     "name": "stderr",
     "output_type": "stream",
     "text": [
      "C:\\Users\\Tristan\\anaconda\\Anaconda3\\envs\\pythondata\\lib\\site-packages\\sklearn\\neural_network\\_multilayer_perceptron.py:571: ConvergenceWarning: Stochastic Optimizer: Maximum iterations (300) reached and the optimization hasn't converged yet.\n",
      "  % self.max_iter, ConvergenceWarning)\n"
     ]
    },
    {
     "name": "stdout",
     "output_type": "stream",
     "text": [
      "[CV]  alpha=0.001, learning_rate_init=0.0001, max_iter=300, total=   4.7s\n",
      "[CV] alpha=0.001, learning_rate_init=1e-05, max_iter=100 .............\n"
     ]
    },
    {
     "name": "stderr",
     "output_type": "stream",
     "text": [
      "C:\\Users\\Tristan\\anaconda\\Anaconda3\\envs\\pythondata\\lib\\site-packages\\sklearn\\neural_network\\_multilayer_perceptron.py:571: ConvergenceWarning: Stochastic Optimizer: Maximum iterations (100) reached and the optimization hasn't converged yet.\n",
      "  % self.max_iter, ConvergenceWarning)\n"
     ]
    },
    {
     "name": "stdout",
     "output_type": "stream",
     "text": [
      "[CV]  alpha=0.001, learning_rate_init=1e-05, max_iter=100, total=   1.6s\n",
      "[CV] alpha=0.001, learning_rate_init=1e-05, max_iter=100 .............\n"
     ]
    },
    {
     "name": "stderr",
     "output_type": "stream",
     "text": [
      "C:\\Users\\Tristan\\anaconda\\Anaconda3\\envs\\pythondata\\lib\\site-packages\\sklearn\\neural_network\\_multilayer_perceptron.py:571: ConvergenceWarning: Stochastic Optimizer: Maximum iterations (100) reached and the optimization hasn't converged yet.\n",
      "  % self.max_iter, ConvergenceWarning)\n"
     ]
    },
    {
     "name": "stdout",
     "output_type": "stream",
     "text": [
      "[CV]  alpha=0.001, learning_rate_init=1e-05, max_iter=100, total=   1.6s\n",
      "[CV] alpha=0.001, learning_rate_init=1e-05, max_iter=100 .............\n"
     ]
    },
    {
     "name": "stderr",
     "output_type": "stream",
     "text": [
      "C:\\Users\\Tristan\\anaconda\\Anaconda3\\envs\\pythondata\\lib\\site-packages\\sklearn\\neural_network\\_multilayer_perceptron.py:571: ConvergenceWarning: Stochastic Optimizer: Maximum iterations (100) reached and the optimization hasn't converged yet.\n",
      "  % self.max_iter, ConvergenceWarning)\n"
     ]
    },
    {
     "name": "stdout",
     "output_type": "stream",
     "text": [
      "[CV]  alpha=0.001, learning_rate_init=1e-05, max_iter=100, total=   1.6s\n",
      "[CV] alpha=0.001, learning_rate_init=1e-05, max_iter=100 .............\n"
     ]
    },
    {
     "name": "stderr",
     "output_type": "stream",
     "text": [
      "C:\\Users\\Tristan\\anaconda\\Anaconda3\\envs\\pythondata\\lib\\site-packages\\sklearn\\neural_network\\_multilayer_perceptron.py:571: ConvergenceWarning: Stochastic Optimizer: Maximum iterations (100) reached and the optimization hasn't converged yet.\n",
      "  % self.max_iter, ConvergenceWarning)\n"
     ]
    },
    {
     "name": "stdout",
     "output_type": "stream",
     "text": [
      "[CV]  alpha=0.001, learning_rate_init=1e-05, max_iter=100, total=   1.6s\n",
      "[CV] alpha=0.001, learning_rate_init=1e-05, max_iter=100 .............\n"
     ]
    },
    {
     "name": "stderr",
     "output_type": "stream",
     "text": [
      "C:\\Users\\Tristan\\anaconda\\Anaconda3\\envs\\pythondata\\lib\\site-packages\\sklearn\\neural_network\\_multilayer_perceptron.py:571: ConvergenceWarning: Stochastic Optimizer: Maximum iterations (100) reached and the optimization hasn't converged yet.\n",
      "  % self.max_iter, ConvergenceWarning)\n"
     ]
    },
    {
     "name": "stdout",
     "output_type": "stream",
     "text": [
      "[CV]  alpha=0.001, learning_rate_init=1e-05, max_iter=100, total=   1.7s\n",
      "[CV] alpha=0.001, learning_rate_init=1e-05, max_iter=200 .............\n"
     ]
    },
    {
     "name": "stderr",
     "output_type": "stream",
     "text": [
      "C:\\Users\\Tristan\\anaconda\\Anaconda3\\envs\\pythondata\\lib\\site-packages\\sklearn\\neural_network\\_multilayer_perceptron.py:571: ConvergenceWarning: Stochastic Optimizer: Maximum iterations (200) reached and the optimization hasn't converged yet.\n",
      "  % self.max_iter, ConvergenceWarning)\n"
     ]
    },
    {
     "name": "stdout",
     "output_type": "stream",
     "text": [
      "[CV]  alpha=0.001, learning_rate_init=1e-05, max_iter=200, total=   3.4s\n",
      "[CV] alpha=0.001, learning_rate_init=1e-05, max_iter=200 .............\n"
     ]
    },
    {
     "name": "stderr",
     "output_type": "stream",
     "text": [
      "C:\\Users\\Tristan\\anaconda\\Anaconda3\\envs\\pythondata\\lib\\site-packages\\sklearn\\neural_network\\_multilayer_perceptron.py:571: ConvergenceWarning: Stochastic Optimizer: Maximum iterations (200) reached and the optimization hasn't converged yet.\n",
      "  % self.max_iter, ConvergenceWarning)\n"
     ]
    },
    {
     "name": "stdout",
     "output_type": "stream",
     "text": [
      "[CV]  alpha=0.001, learning_rate_init=1e-05, max_iter=200, total=   3.1s\n",
      "[CV] alpha=0.001, learning_rate_init=1e-05, max_iter=200 .............\n"
     ]
    },
    {
     "name": "stderr",
     "output_type": "stream",
     "text": [
      "C:\\Users\\Tristan\\anaconda\\Anaconda3\\envs\\pythondata\\lib\\site-packages\\sklearn\\neural_network\\_multilayer_perceptron.py:571: ConvergenceWarning: Stochastic Optimizer: Maximum iterations (200) reached and the optimization hasn't converged yet.\n",
      "  % self.max_iter, ConvergenceWarning)\n"
     ]
    },
    {
     "name": "stdout",
     "output_type": "stream",
     "text": [
      "[CV]  alpha=0.001, learning_rate_init=1e-05, max_iter=200, total=   3.2s\n",
      "[CV] alpha=0.001, learning_rate_init=1e-05, max_iter=200 .............\n"
     ]
    },
    {
     "name": "stderr",
     "output_type": "stream",
     "text": [
      "C:\\Users\\Tristan\\anaconda\\Anaconda3\\envs\\pythondata\\lib\\site-packages\\sklearn\\neural_network\\_multilayer_perceptron.py:571: ConvergenceWarning: Stochastic Optimizer: Maximum iterations (200) reached and the optimization hasn't converged yet.\n",
      "  % self.max_iter, ConvergenceWarning)\n"
     ]
    },
    {
     "name": "stdout",
     "output_type": "stream",
     "text": [
      "[CV]  alpha=0.001, learning_rate_init=1e-05, max_iter=200, total=   3.2s\n",
      "[CV] alpha=0.001, learning_rate_init=1e-05, max_iter=200 .............\n"
     ]
    },
    {
     "name": "stderr",
     "output_type": "stream",
     "text": [
      "C:\\Users\\Tristan\\anaconda\\Anaconda3\\envs\\pythondata\\lib\\site-packages\\sklearn\\neural_network\\_multilayer_perceptron.py:571: ConvergenceWarning: Stochastic Optimizer: Maximum iterations (200) reached and the optimization hasn't converged yet.\n",
      "  % self.max_iter, ConvergenceWarning)\n"
     ]
    },
    {
     "name": "stdout",
     "output_type": "stream",
     "text": [
      "[CV]  alpha=0.001, learning_rate_init=1e-05, max_iter=200, total=   3.2s\n",
      "[CV] alpha=0.001, learning_rate_init=1e-05, max_iter=300 .............\n"
     ]
    },
    {
     "name": "stderr",
     "output_type": "stream",
     "text": [
      "C:\\Users\\Tristan\\anaconda\\Anaconda3\\envs\\pythondata\\lib\\site-packages\\sklearn\\neural_network\\_multilayer_perceptron.py:571: ConvergenceWarning: Stochastic Optimizer: Maximum iterations (300) reached and the optimization hasn't converged yet.\n",
      "  % self.max_iter, ConvergenceWarning)\n"
     ]
    },
    {
     "name": "stdout",
     "output_type": "stream",
     "text": [
      "[CV]  alpha=0.001, learning_rate_init=1e-05, max_iter=300, total=   4.7s\n",
      "[CV] alpha=0.001, learning_rate_init=1e-05, max_iter=300 .............\n"
     ]
    },
    {
     "name": "stderr",
     "output_type": "stream",
     "text": [
      "C:\\Users\\Tristan\\anaconda\\Anaconda3\\envs\\pythondata\\lib\\site-packages\\sklearn\\neural_network\\_multilayer_perceptron.py:571: ConvergenceWarning: Stochastic Optimizer: Maximum iterations (300) reached and the optimization hasn't converged yet.\n",
      "  % self.max_iter, ConvergenceWarning)\n"
     ]
    },
    {
     "name": "stdout",
     "output_type": "stream",
     "text": [
      "[CV]  alpha=0.001, learning_rate_init=1e-05, max_iter=300, total=   4.8s\n",
      "[CV] alpha=0.001, learning_rate_init=1e-05, max_iter=300 .............\n"
     ]
    },
    {
     "name": "stderr",
     "output_type": "stream",
     "text": [
      "C:\\Users\\Tristan\\anaconda\\Anaconda3\\envs\\pythondata\\lib\\site-packages\\sklearn\\neural_network\\_multilayer_perceptron.py:571: ConvergenceWarning: Stochastic Optimizer: Maximum iterations (300) reached and the optimization hasn't converged yet.\n",
      "  % self.max_iter, ConvergenceWarning)\n"
     ]
    },
    {
     "name": "stdout",
     "output_type": "stream",
     "text": [
      "[CV]  alpha=0.001, learning_rate_init=1e-05, max_iter=300, total=   4.6s\n",
      "[CV] alpha=0.001, learning_rate_init=1e-05, max_iter=300 .............\n"
     ]
    },
    {
     "name": "stderr",
     "output_type": "stream",
     "text": [
      "C:\\Users\\Tristan\\anaconda\\Anaconda3\\envs\\pythondata\\lib\\site-packages\\sklearn\\neural_network\\_multilayer_perceptron.py:571: ConvergenceWarning: Stochastic Optimizer: Maximum iterations (300) reached and the optimization hasn't converged yet.\n",
      "  % self.max_iter, ConvergenceWarning)\n"
     ]
    },
    {
     "name": "stdout",
     "output_type": "stream",
     "text": [
      "[CV]  alpha=0.001, learning_rate_init=1e-05, max_iter=300, total=   4.6s\n",
      "[CV] alpha=0.001, learning_rate_init=1e-05, max_iter=300 .............\n"
     ]
    },
    {
     "name": "stderr",
     "output_type": "stream",
     "text": [
      "C:\\Users\\Tristan\\anaconda\\Anaconda3\\envs\\pythondata\\lib\\site-packages\\sklearn\\neural_network\\_multilayer_perceptron.py:571: ConvergenceWarning: Stochastic Optimizer: Maximum iterations (300) reached and the optimization hasn't converged yet.\n",
      "  % self.max_iter, ConvergenceWarning)\n"
     ]
    },
    {
     "name": "stdout",
     "output_type": "stream",
     "text": [
      "[CV]  alpha=0.001, learning_rate_init=1e-05, max_iter=300, total=   4.7s\n",
      "[CV] alpha=0.001, learning_rate_init=1e-06, max_iter=100 .............\n"
     ]
    },
    {
     "name": "stderr",
     "output_type": "stream",
     "text": [
      "C:\\Users\\Tristan\\anaconda\\Anaconda3\\envs\\pythondata\\lib\\site-packages\\sklearn\\neural_network\\_multilayer_perceptron.py:571: ConvergenceWarning: Stochastic Optimizer: Maximum iterations (100) reached and the optimization hasn't converged yet.\n",
      "  % self.max_iter, ConvergenceWarning)\n"
     ]
    },
    {
     "name": "stdout",
     "output_type": "stream",
     "text": [
      "[CV]  alpha=0.001, learning_rate_init=1e-06, max_iter=100, total=   1.6s\n",
      "[CV] alpha=0.001, learning_rate_init=1e-06, max_iter=100 .............\n"
     ]
    },
    {
     "name": "stderr",
     "output_type": "stream",
     "text": [
      "C:\\Users\\Tristan\\anaconda\\Anaconda3\\envs\\pythondata\\lib\\site-packages\\sklearn\\neural_network\\_multilayer_perceptron.py:571: ConvergenceWarning: Stochastic Optimizer: Maximum iterations (100) reached and the optimization hasn't converged yet.\n",
      "  % self.max_iter, ConvergenceWarning)\n"
     ]
    },
    {
     "name": "stdout",
     "output_type": "stream",
     "text": [
      "[CV]  alpha=0.001, learning_rate_init=1e-06, max_iter=100, total=   1.6s\n",
      "[CV] alpha=0.001, learning_rate_init=1e-06, max_iter=100 .............\n"
     ]
    },
    {
     "name": "stderr",
     "output_type": "stream",
     "text": [
      "C:\\Users\\Tristan\\anaconda\\Anaconda3\\envs\\pythondata\\lib\\site-packages\\sklearn\\neural_network\\_multilayer_perceptron.py:571: ConvergenceWarning: Stochastic Optimizer: Maximum iterations (100) reached and the optimization hasn't converged yet.\n",
      "  % self.max_iter, ConvergenceWarning)\n"
     ]
    },
    {
     "name": "stdout",
     "output_type": "stream",
     "text": [
      "[CV]  alpha=0.001, learning_rate_init=1e-06, max_iter=100, total=   1.8s\n",
      "[CV] alpha=0.001, learning_rate_init=1e-06, max_iter=100 .............\n"
     ]
    },
    {
     "name": "stderr",
     "output_type": "stream",
     "text": [
      "C:\\Users\\Tristan\\anaconda\\Anaconda3\\envs\\pythondata\\lib\\site-packages\\sklearn\\neural_network\\_multilayer_perceptron.py:571: ConvergenceWarning: Stochastic Optimizer: Maximum iterations (100) reached and the optimization hasn't converged yet.\n",
      "  % self.max_iter, ConvergenceWarning)\n"
     ]
    },
    {
     "name": "stdout",
     "output_type": "stream",
     "text": [
      "[CV]  alpha=0.001, learning_rate_init=1e-06, max_iter=100, total=   1.6s\n",
      "[CV] alpha=0.001, learning_rate_init=1e-06, max_iter=100 .............\n"
     ]
    },
    {
     "name": "stderr",
     "output_type": "stream",
     "text": [
      "C:\\Users\\Tristan\\anaconda\\Anaconda3\\envs\\pythondata\\lib\\site-packages\\sklearn\\neural_network\\_multilayer_perceptron.py:571: ConvergenceWarning: Stochastic Optimizer: Maximum iterations (100) reached and the optimization hasn't converged yet.\n",
      "  % self.max_iter, ConvergenceWarning)\n"
     ]
    },
    {
     "name": "stdout",
     "output_type": "stream",
     "text": [
      "[CV]  alpha=0.001, learning_rate_init=1e-06, max_iter=100, total=   1.5s\n",
      "[CV] alpha=0.001, learning_rate_init=1e-06, max_iter=200 .............\n"
     ]
    },
    {
     "name": "stderr",
     "output_type": "stream",
     "text": [
      "C:\\Users\\Tristan\\anaconda\\Anaconda3\\envs\\pythondata\\lib\\site-packages\\sklearn\\neural_network\\_multilayer_perceptron.py:571: ConvergenceWarning: Stochastic Optimizer: Maximum iterations (200) reached and the optimization hasn't converged yet.\n",
      "  % self.max_iter, ConvergenceWarning)\n"
     ]
    },
    {
     "name": "stdout",
     "output_type": "stream",
     "text": [
      "[CV]  alpha=0.001, learning_rate_init=1e-06, max_iter=200, total=   3.3s\n",
      "[CV] alpha=0.001, learning_rate_init=1e-06, max_iter=200 .............\n"
     ]
    },
    {
     "name": "stderr",
     "output_type": "stream",
     "text": [
      "C:\\Users\\Tristan\\anaconda\\Anaconda3\\envs\\pythondata\\lib\\site-packages\\sklearn\\neural_network\\_multilayer_perceptron.py:571: ConvergenceWarning: Stochastic Optimizer: Maximum iterations (200) reached and the optimization hasn't converged yet.\n",
      "  % self.max_iter, ConvergenceWarning)\n"
     ]
    },
    {
     "name": "stdout",
     "output_type": "stream",
     "text": [
      "[CV]  alpha=0.001, learning_rate_init=1e-06, max_iter=200, total=   3.4s\n",
      "[CV] alpha=0.001, learning_rate_init=1e-06, max_iter=200 .............\n"
     ]
    },
    {
     "name": "stderr",
     "output_type": "stream",
     "text": [
      "C:\\Users\\Tristan\\anaconda\\Anaconda3\\envs\\pythondata\\lib\\site-packages\\sklearn\\neural_network\\_multilayer_perceptron.py:571: ConvergenceWarning: Stochastic Optimizer: Maximum iterations (200) reached and the optimization hasn't converged yet.\n",
      "  % self.max_iter, ConvergenceWarning)\n"
     ]
    },
    {
     "name": "stdout",
     "output_type": "stream",
     "text": [
      "[CV]  alpha=0.001, learning_rate_init=1e-06, max_iter=200, total=   3.3s\n",
      "[CV] alpha=0.001, learning_rate_init=1e-06, max_iter=200 .............\n"
     ]
    },
    {
     "name": "stderr",
     "output_type": "stream",
     "text": [
      "C:\\Users\\Tristan\\anaconda\\Anaconda3\\envs\\pythondata\\lib\\site-packages\\sklearn\\neural_network\\_multilayer_perceptron.py:571: ConvergenceWarning: Stochastic Optimizer: Maximum iterations (200) reached and the optimization hasn't converged yet.\n",
      "  % self.max_iter, ConvergenceWarning)\n"
     ]
    },
    {
     "name": "stdout",
     "output_type": "stream",
     "text": [
      "[CV]  alpha=0.001, learning_rate_init=1e-06, max_iter=200, total=   3.1s\n",
      "[CV] alpha=0.001, learning_rate_init=1e-06, max_iter=200 .............\n"
     ]
    },
    {
     "name": "stderr",
     "output_type": "stream",
     "text": [
      "C:\\Users\\Tristan\\anaconda\\Anaconda3\\envs\\pythondata\\lib\\site-packages\\sklearn\\neural_network\\_multilayer_perceptron.py:571: ConvergenceWarning: Stochastic Optimizer: Maximum iterations (200) reached and the optimization hasn't converged yet.\n",
      "  % self.max_iter, ConvergenceWarning)\n"
     ]
    },
    {
     "name": "stdout",
     "output_type": "stream",
     "text": [
      "[CV]  alpha=0.001, learning_rate_init=1e-06, max_iter=200, total=   3.1s\n",
      "[CV] alpha=0.001, learning_rate_init=1e-06, max_iter=300 .............\n"
     ]
    },
    {
     "name": "stderr",
     "output_type": "stream",
     "text": [
      "C:\\Users\\Tristan\\anaconda\\Anaconda3\\envs\\pythondata\\lib\\site-packages\\sklearn\\neural_network\\_multilayer_perceptron.py:571: ConvergenceWarning: Stochastic Optimizer: Maximum iterations (300) reached and the optimization hasn't converged yet.\n",
      "  % self.max_iter, ConvergenceWarning)\n"
     ]
    },
    {
     "name": "stdout",
     "output_type": "stream",
     "text": [
      "[CV]  alpha=0.001, learning_rate_init=1e-06, max_iter=300, total=   4.7s\n",
      "[CV] alpha=0.001, learning_rate_init=1e-06, max_iter=300 .............\n"
     ]
    },
    {
     "name": "stderr",
     "output_type": "stream",
     "text": [
      "C:\\Users\\Tristan\\anaconda\\Anaconda3\\envs\\pythondata\\lib\\site-packages\\sklearn\\neural_network\\_multilayer_perceptron.py:571: ConvergenceWarning: Stochastic Optimizer: Maximum iterations (300) reached and the optimization hasn't converged yet.\n",
      "  % self.max_iter, ConvergenceWarning)\n"
     ]
    },
    {
     "name": "stdout",
     "output_type": "stream",
     "text": [
      "[CV]  alpha=0.001, learning_rate_init=1e-06, max_iter=300, total=   4.8s\n",
      "[CV] alpha=0.001, learning_rate_init=1e-06, max_iter=300 .............\n"
     ]
    },
    {
     "name": "stderr",
     "output_type": "stream",
     "text": [
      "C:\\Users\\Tristan\\anaconda\\Anaconda3\\envs\\pythondata\\lib\\site-packages\\sklearn\\neural_network\\_multilayer_perceptron.py:571: ConvergenceWarning: Stochastic Optimizer: Maximum iterations (300) reached and the optimization hasn't converged yet.\n",
      "  % self.max_iter, ConvergenceWarning)\n"
     ]
    },
    {
     "name": "stdout",
     "output_type": "stream",
     "text": [
      "[CV]  alpha=0.001, learning_rate_init=1e-06, max_iter=300, total=   4.7s\n",
      "[CV] alpha=0.001, learning_rate_init=1e-06, max_iter=300 .............\n"
     ]
    },
    {
     "name": "stderr",
     "output_type": "stream",
     "text": [
      "C:\\Users\\Tristan\\anaconda\\Anaconda3\\envs\\pythondata\\lib\\site-packages\\sklearn\\neural_network\\_multilayer_perceptron.py:571: ConvergenceWarning: Stochastic Optimizer: Maximum iterations (300) reached and the optimization hasn't converged yet.\n",
      "  % self.max_iter, ConvergenceWarning)\n"
     ]
    },
    {
     "name": "stdout",
     "output_type": "stream",
     "text": [
      "[CV]  alpha=0.001, learning_rate_init=1e-06, max_iter=300, total=   4.7s\n",
      "[CV] alpha=0.001, learning_rate_init=1e-06, max_iter=300 .............\n"
     ]
    },
    {
     "name": "stderr",
     "output_type": "stream",
     "text": [
      "C:\\Users\\Tristan\\anaconda\\Anaconda3\\envs\\pythondata\\lib\\site-packages\\sklearn\\neural_network\\_multilayer_perceptron.py:571: ConvergenceWarning: Stochastic Optimizer: Maximum iterations (300) reached and the optimization hasn't converged yet.\n",
      "  % self.max_iter, ConvergenceWarning)\n"
     ]
    },
    {
     "name": "stdout",
     "output_type": "stream",
     "text": [
      "[CV]  alpha=0.001, learning_rate_init=1e-06, max_iter=300, total=   4.7s\n",
      "[CV] alpha=0.0001, learning_rate_init=0.1, max_iter=100 ..............\n",
      "[CV]  alpha=0.0001, learning_rate_init=0.1, max_iter=100, total=   0.6s\n",
      "[CV] alpha=0.0001, learning_rate_init=0.1, max_iter=100 ..............\n",
      "[CV]  alpha=0.0001, learning_rate_init=0.1, max_iter=100, total=   0.6s\n",
      "[CV] alpha=0.0001, learning_rate_init=0.1, max_iter=100 ..............\n",
      "[CV]  alpha=0.0001, learning_rate_init=0.1, max_iter=100, total=   0.4s\n",
      "[CV] alpha=0.0001, learning_rate_init=0.1, max_iter=100 ..............\n",
      "[CV]  alpha=0.0001, learning_rate_init=0.1, max_iter=100, total=   0.8s\n",
      "[CV] alpha=0.0001, learning_rate_init=0.1, max_iter=100 ..............\n",
      "[CV]  alpha=0.0001, learning_rate_init=0.1, max_iter=100, total=   0.8s\n",
      "[CV] alpha=0.0001, learning_rate_init=0.1, max_iter=200 ..............\n",
      "[CV]  alpha=0.0001, learning_rate_init=0.1, max_iter=200, total=   0.5s\n",
      "[CV] alpha=0.0001, learning_rate_init=0.1, max_iter=200 ..............\n",
      "[CV]  alpha=0.0001, learning_rate_init=0.1, max_iter=200, total=   0.7s\n",
      "[CV] alpha=0.0001, learning_rate_init=0.1, max_iter=200 ..............\n",
      "[CV]  alpha=0.0001, learning_rate_init=0.1, max_iter=200, total=   0.4s\n",
      "[CV] alpha=0.0001, learning_rate_init=0.1, max_iter=200 ..............\n",
      "[CV]  alpha=0.0001, learning_rate_init=0.1, max_iter=200, total=   0.7s\n",
      "[CV] alpha=0.0001, learning_rate_init=0.1, max_iter=200 ..............\n",
      "[CV]  alpha=0.0001, learning_rate_init=0.1, max_iter=200, total=   0.7s\n",
      "[CV] alpha=0.0001, learning_rate_init=0.1, max_iter=300 ..............\n",
      "[CV]  alpha=0.0001, learning_rate_init=0.1, max_iter=300, total=   0.5s\n",
      "[CV] alpha=0.0001, learning_rate_init=0.1, max_iter=300 ..............\n",
      "[CV]  alpha=0.0001, learning_rate_init=0.1, max_iter=300, total=   0.7s\n",
      "[CV] alpha=0.0001, learning_rate_init=0.1, max_iter=300 ..............\n",
      "[CV]  alpha=0.0001, learning_rate_init=0.1, max_iter=300, total=   0.4s\n",
      "[CV] alpha=0.0001, learning_rate_init=0.1, max_iter=300 ..............\n",
      "[CV]  alpha=0.0001, learning_rate_init=0.1, max_iter=300, total=   0.8s\n",
      "[CV] alpha=0.0001, learning_rate_init=0.1, max_iter=300 ..............\n",
      "[CV]  alpha=0.0001, learning_rate_init=0.1, max_iter=300, total=   0.6s\n",
      "[CV] alpha=0.0001, learning_rate_init=0.01, max_iter=100 .............\n"
     ]
    },
    {
     "name": "stderr",
     "output_type": "stream",
     "text": [
      "C:\\Users\\Tristan\\anaconda\\Anaconda3\\envs\\pythondata\\lib\\site-packages\\sklearn\\neural_network\\_multilayer_perceptron.py:571: ConvergenceWarning: Stochastic Optimizer: Maximum iterations (100) reached and the optimization hasn't converged yet.\n",
      "  % self.max_iter, ConvergenceWarning)\n"
     ]
    },
    {
     "name": "stdout",
     "output_type": "stream",
     "text": [
      "[CV]  alpha=0.0001, learning_rate_init=0.01, max_iter=100, total=   1.6s\n",
      "[CV] alpha=0.0001, learning_rate_init=0.01, max_iter=100 .............\n"
     ]
    },
    {
     "name": "stderr",
     "output_type": "stream",
     "text": [
      "C:\\Users\\Tristan\\anaconda\\Anaconda3\\envs\\pythondata\\lib\\site-packages\\sklearn\\neural_network\\_multilayer_perceptron.py:571: ConvergenceWarning: Stochastic Optimizer: Maximum iterations (100) reached and the optimization hasn't converged yet.\n",
      "  % self.max_iter, ConvergenceWarning)\n"
     ]
    },
    {
     "name": "stdout",
     "output_type": "stream",
     "text": [
      "[CV]  alpha=0.0001, learning_rate_init=0.01, max_iter=100, total=   1.8s\n",
      "[CV] alpha=0.0001, learning_rate_init=0.01, max_iter=100 .............\n"
     ]
    },
    {
     "name": "stderr",
     "output_type": "stream",
     "text": [
      "C:\\Users\\Tristan\\anaconda\\Anaconda3\\envs\\pythondata\\lib\\site-packages\\sklearn\\neural_network\\_multilayer_perceptron.py:571: ConvergenceWarning: Stochastic Optimizer: Maximum iterations (100) reached and the optimization hasn't converged yet.\n",
      "  % self.max_iter, ConvergenceWarning)\n"
     ]
    },
    {
     "name": "stdout",
     "output_type": "stream",
     "text": [
      "[CV]  alpha=0.0001, learning_rate_init=0.01, max_iter=100, total=   1.9s\n",
      "[CV] alpha=0.0001, learning_rate_init=0.01, max_iter=100 .............\n"
     ]
    },
    {
     "name": "stderr",
     "output_type": "stream",
     "text": [
      "C:\\Users\\Tristan\\anaconda\\Anaconda3\\envs\\pythondata\\lib\\site-packages\\sklearn\\neural_network\\_multilayer_perceptron.py:571: ConvergenceWarning: Stochastic Optimizer: Maximum iterations (100) reached and the optimization hasn't converged yet.\n",
      "  % self.max_iter, ConvergenceWarning)\n"
     ]
    },
    {
     "name": "stdout",
     "output_type": "stream",
     "text": [
      "[CV]  alpha=0.0001, learning_rate_init=0.01, max_iter=100, total=   1.6s\n",
      "[CV] alpha=0.0001, learning_rate_init=0.01, max_iter=100 .............\n"
     ]
    },
    {
     "name": "stderr",
     "output_type": "stream",
     "text": [
      "C:\\Users\\Tristan\\anaconda\\Anaconda3\\envs\\pythondata\\lib\\site-packages\\sklearn\\neural_network\\_multilayer_perceptron.py:571: ConvergenceWarning: Stochastic Optimizer: Maximum iterations (100) reached and the optimization hasn't converged yet.\n",
      "  % self.max_iter, ConvergenceWarning)\n"
     ]
    },
    {
     "name": "stdout",
     "output_type": "stream",
     "text": [
      "[CV]  alpha=0.0001, learning_rate_init=0.01, max_iter=100, total=   1.6s\n",
      "[CV] alpha=0.0001, learning_rate_init=0.01, max_iter=200 .............\n",
      "[CV]  alpha=0.0001, learning_rate_init=0.01, max_iter=200, total=   2.1s\n",
      "[CV] alpha=0.0001, learning_rate_init=0.01, max_iter=200 .............\n",
      "[CV]  alpha=0.0001, learning_rate_init=0.01, max_iter=200, total=   2.3s\n",
      "[CV] alpha=0.0001, learning_rate_init=0.01, max_iter=200 .............\n",
      "[CV]  alpha=0.0001, learning_rate_init=0.01, max_iter=200, total=   2.4s\n",
      "[CV] alpha=0.0001, learning_rate_init=0.01, max_iter=200 .............\n",
      "[CV]  alpha=0.0001, learning_rate_init=0.01, max_iter=200, total=   2.2s\n",
      "[CV] alpha=0.0001, learning_rate_init=0.01, max_iter=200 .............\n",
      "[CV]  alpha=0.0001, learning_rate_init=0.01, max_iter=200, total=   2.4s\n",
      "[CV] alpha=0.0001, learning_rate_init=0.01, max_iter=300 .............\n",
      "[CV]  alpha=0.0001, learning_rate_init=0.01, max_iter=300, total=   2.1s\n",
      "[CV] alpha=0.0001, learning_rate_init=0.01, max_iter=300 .............\n",
      "[CV]  alpha=0.0001, learning_rate_init=0.01, max_iter=300, total=   2.3s\n",
      "[CV] alpha=0.0001, learning_rate_init=0.01, max_iter=300 .............\n",
      "[CV]  alpha=0.0001, learning_rate_init=0.01, max_iter=300, total=   2.5s\n",
      "[CV] alpha=0.0001, learning_rate_init=0.01, max_iter=300 .............\n",
      "[CV]  alpha=0.0001, learning_rate_init=0.01, max_iter=300, total=   2.2s\n",
      "[CV] alpha=0.0001, learning_rate_init=0.01, max_iter=300 .............\n",
      "[CV]  alpha=0.0001, learning_rate_init=0.01, max_iter=300, total=   2.3s\n",
      "[CV] alpha=0.0001, learning_rate_init=0.001, max_iter=100 ............\n"
     ]
    },
    {
     "name": "stderr",
     "output_type": "stream",
     "text": [
      "C:\\Users\\Tristan\\anaconda\\Anaconda3\\envs\\pythondata\\lib\\site-packages\\sklearn\\neural_network\\_multilayer_perceptron.py:571: ConvergenceWarning: Stochastic Optimizer: Maximum iterations (100) reached and the optimization hasn't converged yet.\n",
      "  % self.max_iter, ConvergenceWarning)\n"
     ]
    },
    {
     "name": "stdout",
     "output_type": "stream",
     "text": [
      "[CV]  alpha=0.0001, learning_rate_init=0.001, max_iter=100, total=   1.6s\n",
      "[CV] alpha=0.0001, learning_rate_init=0.001, max_iter=100 ............\n"
     ]
    },
    {
     "name": "stderr",
     "output_type": "stream",
     "text": [
      "C:\\Users\\Tristan\\anaconda\\Anaconda3\\envs\\pythondata\\lib\\site-packages\\sklearn\\neural_network\\_multilayer_perceptron.py:571: ConvergenceWarning: Stochastic Optimizer: Maximum iterations (100) reached and the optimization hasn't converged yet.\n",
      "  % self.max_iter, ConvergenceWarning)\n"
     ]
    },
    {
     "name": "stdout",
     "output_type": "stream",
     "text": [
      "[CV]  alpha=0.0001, learning_rate_init=0.001, max_iter=100, total=   1.5s\n",
      "[CV] alpha=0.0001, learning_rate_init=0.001, max_iter=100 ............\n"
     ]
    },
    {
     "name": "stderr",
     "output_type": "stream",
     "text": [
      "C:\\Users\\Tristan\\anaconda\\Anaconda3\\envs\\pythondata\\lib\\site-packages\\sklearn\\neural_network\\_multilayer_perceptron.py:571: ConvergenceWarning: Stochastic Optimizer: Maximum iterations (100) reached and the optimization hasn't converged yet.\n",
      "  % self.max_iter, ConvergenceWarning)\n"
     ]
    },
    {
     "name": "stdout",
     "output_type": "stream",
     "text": [
      "[CV]  alpha=0.0001, learning_rate_init=0.001, max_iter=100, total=   1.5s\n",
      "[CV] alpha=0.0001, learning_rate_init=0.001, max_iter=100 ............\n"
     ]
    },
    {
     "name": "stderr",
     "output_type": "stream",
     "text": [
      "C:\\Users\\Tristan\\anaconda\\Anaconda3\\envs\\pythondata\\lib\\site-packages\\sklearn\\neural_network\\_multilayer_perceptron.py:571: ConvergenceWarning: Stochastic Optimizer: Maximum iterations (100) reached and the optimization hasn't converged yet.\n",
      "  % self.max_iter, ConvergenceWarning)\n"
     ]
    },
    {
     "name": "stdout",
     "output_type": "stream",
     "text": [
      "[CV]  alpha=0.0001, learning_rate_init=0.001, max_iter=100, total=   1.6s\n",
      "[CV] alpha=0.0001, learning_rate_init=0.001, max_iter=100 ............\n"
     ]
    },
    {
     "name": "stderr",
     "output_type": "stream",
     "text": [
      "C:\\Users\\Tristan\\anaconda\\Anaconda3\\envs\\pythondata\\lib\\site-packages\\sklearn\\neural_network\\_multilayer_perceptron.py:571: ConvergenceWarning: Stochastic Optimizer: Maximum iterations (100) reached and the optimization hasn't converged yet.\n",
      "  % self.max_iter, ConvergenceWarning)\n"
     ]
    },
    {
     "name": "stdout",
     "output_type": "stream",
     "text": [
      "[CV]  alpha=0.0001, learning_rate_init=0.001, max_iter=100, total=   1.6s\n",
      "[CV] alpha=0.0001, learning_rate_init=0.001, max_iter=200 ............\n"
     ]
    },
    {
     "name": "stderr",
     "output_type": "stream",
     "text": [
      "C:\\Users\\Tristan\\anaconda\\Anaconda3\\envs\\pythondata\\lib\\site-packages\\sklearn\\neural_network\\_multilayer_perceptron.py:571: ConvergenceWarning: Stochastic Optimizer: Maximum iterations (200) reached and the optimization hasn't converged yet.\n",
      "  % self.max_iter, ConvergenceWarning)\n"
     ]
    },
    {
     "name": "stdout",
     "output_type": "stream",
     "text": [
      "[CV]  alpha=0.0001, learning_rate_init=0.001, max_iter=200, total=   3.4s\n",
      "[CV] alpha=0.0001, learning_rate_init=0.001, max_iter=200 ............\n"
     ]
    },
    {
     "name": "stderr",
     "output_type": "stream",
     "text": [
      "C:\\Users\\Tristan\\anaconda\\Anaconda3\\envs\\pythondata\\lib\\site-packages\\sklearn\\neural_network\\_multilayer_perceptron.py:571: ConvergenceWarning: Stochastic Optimizer: Maximum iterations (200) reached and the optimization hasn't converged yet.\n",
      "  % self.max_iter, ConvergenceWarning)\n"
     ]
    },
    {
     "name": "stdout",
     "output_type": "stream",
     "text": [
      "[CV]  alpha=0.0001, learning_rate_init=0.001, max_iter=200, total=   3.3s\n",
      "[CV] alpha=0.0001, learning_rate_init=0.001, max_iter=200 ............\n"
     ]
    },
    {
     "name": "stderr",
     "output_type": "stream",
     "text": [
      "C:\\Users\\Tristan\\anaconda\\Anaconda3\\envs\\pythondata\\lib\\site-packages\\sklearn\\neural_network\\_multilayer_perceptron.py:571: ConvergenceWarning: Stochastic Optimizer: Maximum iterations (200) reached and the optimization hasn't converged yet.\n",
      "  % self.max_iter, ConvergenceWarning)\n"
     ]
    },
    {
     "name": "stdout",
     "output_type": "stream",
     "text": [
      "[CV]  alpha=0.0001, learning_rate_init=0.001, max_iter=200, total=   3.1s\n",
      "[CV] alpha=0.0001, learning_rate_init=0.001, max_iter=200 ............\n"
     ]
    },
    {
     "name": "stderr",
     "output_type": "stream",
     "text": [
      "C:\\Users\\Tristan\\anaconda\\Anaconda3\\envs\\pythondata\\lib\\site-packages\\sklearn\\neural_network\\_multilayer_perceptron.py:571: ConvergenceWarning: Stochastic Optimizer: Maximum iterations (200) reached and the optimization hasn't converged yet.\n",
      "  % self.max_iter, ConvergenceWarning)\n"
     ]
    },
    {
     "name": "stdout",
     "output_type": "stream",
     "text": [
      "[CV]  alpha=0.0001, learning_rate_init=0.001, max_iter=200, total=   3.2s\n",
      "[CV] alpha=0.0001, learning_rate_init=0.001, max_iter=200 ............\n"
     ]
    },
    {
     "name": "stderr",
     "output_type": "stream",
     "text": [
      "C:\\Users\\Tristan\\anaconda\\Anaconda3\\envs\\pythondata\\lib\\site-packages\\sklearn\\neural_network\\_multilayer_perceptron.py:571: ConvergenceWarning: Stochastic Optimizer: Maximum iterations (200) reached and the optimization hasn't converged yet.\n",
      "  % self.max_iter, ConvergenceWarning)\n"
     ]
    },
    {
     "name": "stdout",
     "output_type": "stream",
     "text": [
      "[CV]  alpha=0.0001, learning_rate_init=0.001, max_iter=200, total=   3.2s\n",
      "[CV] alpha=0.0001, learning_rate_init=0.001, max_iter=300 ............\n"
     ]
    },
    {
     "name": "stderr",
     "output_type": "stream",
     "text": [
      "C:\\Users\\Tristan\\anaconda\\Anaconda3\\envs\\pythondata\\lib\\site-packages\\sklearn\\neural_network\\_multilayer_perceptron.py:571: ConvergenceWarning: Stochastic Optimizer: Maximum iterations (300) reached and the optimization hasn't converged yet.\n",
      "  % self.max_iter, ConvergenceWarning)\n"
     ]
    },
    {
     "name": "stdout",
     "output_type": "stream",
     "text": [
      "[CV]  alpha=0.0001, learning_rate_init=0.001, max_iter=300, total=   4.7s\n",
      "[CV] alpha=0.0001, learning_rate_init=0.001, max_iter=300 ............\n"
     ]
    },
    {
     "name": "stderr",
     "output_type": "stream",
     "text": [
      "C:\\Users\\Tristan\\anaconda\\Anaconda3\\envs\\pythondata\\lib\\site-packages\\sklearn\\neural_network\\_multilayer_perceptron.py:571: ConvergenceWarning: Stochastic Optimizer: Maximum iterations (300) reached and the optimization hasn't converged yet.\n",
      "  % self.max_iter, ConvergenceWarning)\n"
     ]
    },
    {
     "name": "stdout",
     "output_type": "stream",
     "text": [
      "[CV]  alpha=0.0001, learning_rate_init=0.001, max_iter=300, total=   4.8s\n",
      "[CV] alpha=0.0001, learning_rate_init=0.001, max_iter=300 ............\n"
     ]
    },
    {
     "name": "stderr",
     "output_type": "stream",
     "text": [
      "C:\\Users\\Tristan\\anaconda\\Anaconda3\\envs\\pythondata\\lib\\site-packages\\sklearn\\neural_network\\_multilayer_perceptron.py:571: ConvergenceWarning: Stochastic Optimizer: Maximum iterations (300) reached and the optimization hasn't converged yet.\n",
      "  % self.max_iter, ConvergenceWarning)\n"
     ]
    },
    {
     "name": "stdout",
     "output_type": "stream",
     "text": [
      "[CV]  alpha=0.0001, learning_rate_init=0.001, max_iter=300, total=   5.0s\n",
      "[CV] alpha=0.0001, learning_rate_init=0.001, max_iter=300 ............\n"
     ]
    },
    {
     "name": "stderr",
     "output_type": "stream",
     "text": [
      "C:\\Users\\Tristan\\anaconda\\Anaconda3\\envs\\pythondata\\lib\\site-packages\\sklearn\\neural_network\\_multilayer_perceptron.py:571: ConvergenceWarning: Stochastic Optimizer: Maximum iterations (300) reached and the optimization hasn't converged yet.\n",
      "  % self.max_iter, ConvergenceWarning)\n"
     ]
    },
    {
     "name": "stdout",
     "output_type": "stream",
     "text": [
      "[CV]  alpha=0.0001, learning_rate_init=0.001, max_iter=300, total=   4.9s\n",
      "[CV] alpha=0.0001, learning_rate_init=0.001, max_iter=300 ............\n"
     ]
    },
    {
     "name": "stderr",
     "output_type": "stream",
     "text": [
      "C:\\Users\\Tristan\\anaconda\\Anaconda3\\envs\\pythondata\\lib\\site-packages\\sklearn\\neural_network\\_multilayer_perceptron.py:571: ConvergenceWarning: Stochastic Optimizer: Maximum iterations (300) reached and the optimization hasn't converged yet.\n",
      "  % self.max_iter, ConvergenceWarning)\n"
     ]
    },
    {
     "name": "stdout",
     "output_type": "stream",
     "text": [
      "[CV]  alpha=0.0001, learning_rate_init=0.001, max_iter=300, total=   4.9s\n",
      "[CV] alpha=0.0001, learning_rate_init=0.0001, max_iter=100 ...........\n"
     ]
    },
    {
     "name": "stderr",
     "output_type": "stream",
     "text": [
      "C:\\Users\\Tristan\\anaconda\\Anaconda3\\envs\\pythondata\\lib\\site-packages\\sklearn\\neural_network\\_multilayer_perceptron.py:571: ConvergenceWarning: Stochastic Optimizer: Maximum iterations (100) reached and the optimization hasn't converged yet.\n",
      "  % self.max_iter, ConvergenceWarning)\n"
     ]
    },
    {
     "name": "stdout",
     "output_type": "stream",
     "text": [
      "[CV]  alpha=0.0001, learning_rate_init=0.0001, max_iter=100, total=   1.6s\n",
      "[CV] alpha=0.0001, learning_rate_init=0.0001, max_iter=100 ...........\n"
     ]
    },
    {
     "name": "stderr",
     "output_type": "stream",
     "text": [
      "C:\\Users\\Tristan\\anaconda\\Anaconda3\\envs\\pythondata\\lib\\site-packages\\sklearn\\neural_network\\_multilayer_perceptron.py:571: ConvergenceWarning: Stochastic Optimizer: Maximum iterations (100) reached and the optimization hasn't converged yet.\n",
      "  % self.max_iter, ConvergenceWarning)\n"
     ]
    },
    {
     "name": "stdout",
     "output_type": "stream",
     "text": [
      "[CV]  alpha=0.0001, learning_rate_init=0.0001, max_iter=100, total=   1.6s\n",
      "[CV] alpha=0.0001, learning_rate_init=0.0001, max_iter=100 ...........\n"
     ]
    },
    {
     "name": "stderr",
     "output_type": "stream",
     "text": [
      "C:\\Users\\Tristan\\anaconda\\Anaconda3\\envs\\pythondata\\lib\\site-packages\\sklearn\\neural_network\\_multilayer_perceptron.py:571: ConvergenceWarning: Stochastic Optimizer: Maximum iterations (100) reached and the optimization hasn't converged yet.\n",
      "  % self.max_iter, ConvergenceWarning)\n"
     ]
    },
    {
     "name": "stdout",
     "output_type": "stream",
     "text": [
      "[CV]  alpha=0.0001, learning_rate_init=0.0001, max_iter=100, total=   1.7s\n",
      "[CV] alpha=0.0001, learning_rate_init=0.0001, max_iter=100 ...........\n"
     ]
    },
    {
     "name": "stderr",
     "output_type": "stream",
     "text": [
      "C:\\Users\\Tristan\\anaconda\\Anaconda3\\envs\\pythondata\\lib\\site-packages\\sklearn\\neural_network\\_multilayer_perceptron.py:571: ConvergenceWarning: Stochastic Optimizer: Maximum iterations (100) reached and the optimization hasn't converged yet.\n",
      "  % self.max_iter, ConvergenceWarning)\n"
     ]
    },
    {
     "name": "stdout",
     "output_type": "stream",
     "text": [
      "[CV]  alpha=0.0001, learning_rate_init=0.0001, max_iter=100, total=   1.6s\n",
      "[CV] alpha=0.0001, learning_rate_init=0.0001, max_iter=100 ...........\n"
     ]
    },
    {
     "name": "stderr",
     "output_type": "stream",
     "text": [
      "C:\\Users\\Tristan\\anaconda\\Anaconda3\\envs\\pythondata\\lib\\site-packages\\sklearn\\neural_network\\_multilayer_perceptron.py:571: ConvergenceWarning: Stochastic Optimizer: Maximum iterations (100) reached and the optimization hasn't converged yet.\n",
      "  % self.max_iter, ConvergenceWarning)\n"
     ]
    },
    {
     "name": "stdout",
     "output_type": "stream",
     "text": [
      "[CV]  alpha=0.0001, learning_rate_init=0.0001, max_iter=100, total=   1.6s\n",
      "[CV] alpha=0.0001, learning_rate_init=0.0001, max_iter=200 ...........\n"
     ]
    },
    {
     "name": "stderr",
     "output_type": "stream",
     "text": [
      "C:\\Users\\Tristan\\anaconda\\Anaconda3\\envs\\pythondata\\lib\\site-packages\\sklearn\\neural_network\\_multilayer_perceptron.py:571: ConvergenceWarning: Stochastic Optimizer: Maximum iterations (200) reached and the optimization hasn't converged yet.\n",
      "  % self.max_iter, ConvergenceWarning)\n"
     ]
    },
    {
     "name": "stdout",
     "output_type": "stream",
     "text": [
      "[CV]  alpha=0.0001, learning_rate_init=0.0001, max_iter=200, total=   3.1s\n",
      "[CV] alpha=0.0001, learning_rate_init=0.0001, max_iter=200 ...........\n"
     ]
    },
    {
     "name": "stderr",
     "output_type": "stream",
     "text": [
      "C:\\Users\\Tristan\\anaconda\\Anaconda3\\envs\\pythondata\\lib\\site-packages\\sklearn\\neural_network\\_multilayer_perceptron.py:571: ConvergenceWarning: Stochastic Optimizer: Maximum iterations (200) reached and the optimization hasn't converged yet.\n",
      "  % self.max_iter, ConvergenceWarning)\n"
     ]
    },
    {
     "name": "stdout",
     "output_type": "stream",
     "text": [
      "[CV]  alpha=0.0001, learning_rate_init=0.0001, max_iter=200, total=   3.1s\n",
      "[CV] alpha=0.0001, learning_rate_init=0.0001, max_iter=200 ...........\n"
     ]
    },
    {
     "name": "stderr",
     "output_type": "stream",
     "text": [
      "C:\\Users\\Tristan\\anaconda\\Anaconda3\\envs\\pythondata\\lib\\site-packages\\sklearn\\neural_network\\_multilayer_perceptron.py:571: ConvergenceWarning: Stochastic Optimizer: Maximum iterations (200) reached and the optimization hasn't converged yet.\n",
      "  % self.max_iter, ConvergenceWarning)\n"
     ]
    },
    {
     "name": "stdout",
     "output_type": "stream",
     "text": [
      "[CV]  alpha=0.0001, learning_rate_init=0.0001, max_iter=200, total=   3.2s\n",
      "[CV] alpha=0.0001, learning_rate_init=0.0001, max_iter=200 ...........\n"
     ]
    },
    {
     "name": "stderr",
     "output_type": "stream",
     "text": [
      "C:\\Users\\Tristan\\anaconda\\Anaconda3\\envs\\pythondata\\lib\\site-packages\\sklearn\\neural_network\\_multilayer_perceptron.py:571: ConvergenceWarning: Stochastic Optimizer: Maximum iterations (200) reached and the optimization hasn't converged yet.\n",
      "  % self.max_iter, ConvergenceWarning)\n"
     ]
    },
    {
     "name": "stdout",
     "output_type": "stream",
     "text": [
      "[CV]  alpha=0.0001, learning_rate_init=0.0001, max_iter=200, total=   3.2s\n",
      "[CV] alpha=0.0001, learning_rate_init=0.0001, max_iter=200 ...........\n"
     ]
    },
    {
     "name": "stderr",
     "output_type": "stream",
     "text": [
      "C:\\Users\\Tristan\\anaconda\\Anaconda3\\envs\\pythondata\\lib\\site-packages\\sklearn\\neural_network\\_multilayer_perceptron.py:571: ConvergenceWarning: Stochastic Optimizer: Maximum iterations (200) reached and the optimization hasn't converged yet.\n",
      "  % self.max_iter, ConvergenceWarning)\n"
     ]
    },
    {
     "name": "stdout",
     "output_type": "stream",
     "text": [
      "[CV]  alpha=0.0001, learning_rate_init=0.0001, max_iter=200, total=   3.2s\n",
      "[CV] alpha=0.0001, learning_rate_init=0.0001, max_iter=300 ...........\n"
     ]
    },
    {
     "name": "stderr",
     "output_type": "stream",
     "text": [
      "C:\\Users\\Tristan\\anaconda\\Anaconda3\\envs\\pythondata\\lib\\site-packages\\sklearn\\neural_network\\_multilayer_perceptron.py:571: ConvergenceWarning: Stochastic Optimizer: Maximum iterations (300) reached and the optimization hasn't converged yet.\n",
      "  % self.max_iter, ConvergenceWarning)\n"
     ]
    },
    {
     "name": "stdout",
     "output_type": "stream",
     "text": [
      "[CV]  alpha=0.0001, learning_rate_init=0.0001, max_iter=300, total=   4.7s\n",
      "[CV] alpha=0.0001, learning_rate_init=0.0001, max_iter=300 ...........\n"
     ]
    },
    {
     "name": "stderr",
     "output_type": "stream",
     "text": [
      "C:\\Users\\Tristan\\anaconda\\Anaconda3\\envs\\pythondata\\lib\\site-packages\\sklearn\\neural_network\\_multilayer_perceptron.py:571: ConvergenceWarning: Stochastic Optimizer: Maximum iterations (300) reached and the optimization hasn't converged yet.\n",
      "  % self.max_iter, ConvergenceWarning)\n"
     ]
    },
    {
     "name": "stdout",
     "output_type": "stream",
     "text": [
      "[CV]  alpha=0.0001, learning_rate_init=0.0001, max_iter=300, total=   4.8s\n",
      "[CV] alpha=0.0001, learning_rate_init=0.0001, max_iter=300 ...........\n"
     ]
    },
    {
     "name": "stderr",
     "output_type": "stream",
     "text": [
      "C:\\Users\\Tristan\\anaconda\\Anaconda3\\envs\\pythondata\\lib\\site-packages\\sklearn\\neural_network\\_multilayer_perceptron.py:571: ConvergenceWarning: Stochastic Optimizer: Maximum iterations (300) reached and the optimization hasn't converged yet.\n",
      "  % self.max_iter, ConvergenceWarning)\n"
     ]
    },
    {
     "name": "stdout",
     "output_type": "stream",
     "text": [
      "[CV]  alpha=0.0001, learning_rate_init=0.0001, max_iter=300, total=   4.7s\n",
      "[CV] alpha=0.0001, learning_rate_init=0.0001, max_iter=300 ...........\n"
     ]
    },
    {
     "name": "stderr",
     "output_type": "stream",
     "text": [
      "C:\\Users\\Tristan\\anaconda\\Anaconda3\\envs\\pythondata\\lib\\site-packages\\sklearn\\neural_network\\_multilayer_perceptron.py:571: ConvergenceWarning: Stochastic Optimizer: Maximum iterations (300) reached and the optimization hasn't converged yet.\n",
      "  % self.max_iter, ConvergenceWarning)\n"
     ]
    },
    {
     "name": "stdout",
     "output_type": "stream",
     "text": [
      "[CV]  alpha=0.0001, learning_rate_init=0.0001, max_iter=300, total=   4.8s\n",
      "[CV] alpha=0.0001, learning_rate_init=0.0001, max_iter=300 ...........\n"
     ]
    },
    {
     "name": "stderr",
     "output_type": "stream",
     "text": [
      "C:\\Users\\Tristan\\anaconda\\Anaconda3\\envs\\pythondata\\lib\\site-packages\\sklearn\\neural_network\\_multilayer_perceptron.py:571: ConvergenceWarning: Stochastic Optimizer: Maximum iterations (300) reached and the optimization hasn't converged yet.\n",
      "  % self.max_iter, ConvergenceWarning)\n"
     ]
    },
    {
     "name": "stdout",
     "output_type": "stream",
     "text": [
      "[CV]  alpha=0.0001, learning_rate_init=0.0001, max_iter=300, total=   4.7s\n",
      "[CV] alpha=0.0001, learning_rate_init=1e-05, max_iter=100 ............\n"
     ]
    },
    {
     "name": "stderr",
     "output_type": "stream",
     "text": [
      "C:\\Users\\Tristan\\anaconda\\Anaconda3\\envs\\pythondata\\lib\\site-packages\\sklearn\\neural_network\\_multilayer_perceptron.py:571: ConvergenceWarning: Stochastic Optimizer: Maximum iterations (100) reached and the optimization hasn't converged yet.\n",
      "  % self.max_iter, ConvergenceWarning)\n"
     ]
    },
    {
     "name": "stdout",
     "output_type": "stream",
     "text": [
      "[CV]  alpha=0.0001, learning_rate_init=1e-05, max_iter=100, total=   1.6s\n",
      "[CV] alpha=0.0001, learning_rate_init=1e-05, max_iter=100 ............\n"
     ]
    },
    {
     "name": "stderr",
     "output_type": "stream",
     "text": [
      "C:\\Users\\Tristan\\anaconda\\Anaconda3\\envs\\pythondata\\lib\\site-packages\\sklearn\\neural_network\\_multilayer_perceptron.py:571: ConvergenceWarning: Stochastic Optimizer: Maximum iterations (100) reached and the optimization hasn't converged yet.\n",
      "  % self.max_iter, ConvergenceWarning)\n"
     ]
    },
    {
     "name": "stdout",
     "output_type": "stream",
     "text": [
      "[CV]  alpha=0.0001, learning_rate_init=1e-05, max_iter=100, total=   1.7s\n",
      "[CV] alpha=0.0001, learning_rate_init=1e-05, max_iter=100 ............\n"
     ]
    },
    {
     "name": "stderr",
     "output_type": "stream",
     "text": [
      "C:\\Users\\Tristan\\anaconda\\Anaconda3\\envs\\pythondata\\lib\\site-packages\\sklearn\\neural_network\\_multilayer_perceptron.py:571: ConvergenceWarning: Stochastic Optimizer: Maximum iterations (100) reached and the optimization hasn't converged yet.\n",
      "  % self.max_iter, ConvergenceWarning)\n"
     ]
    },
    {
     "name": "stdout",
     "output_type": "stream",
     "text": [
      "[CV]  alpha=0.0001, learning_rate_init=1e-05, max_iter=100, total=   1.7s\n",
      "[CV] alpha=0.0001, learning_rate_init=1e-05, max_iter=100 ............\n"
     ]
    },
    {
     "name": "stderr",
     "output_type": "stream",
     "text": [
      "C:\\Users\\Tristan\\anaconda\\Anaconda3\\envs\\pythondata\\lib\\site-packages\\sklearn\\neural_network\\_multilayer_perceptron.py:571: ConvergenceWarning: Stochastic Optimizer: Maximum iterations (100) reached and the optimization hasn't converged yet.\n",
      "  % self.max_iter, ConvergenceWarning)\n"
     ]
    },
    {
     "name": "stdout",
     "output_type": "stream",
     "text": [
      "[CV]  alpha=0.0001, learning_rate_init=1e-05, max_iter=100, total=   1.6s\n",
      "[CV] alpha=0.0001, learning_rate_init=1e-05, max_iter=100 ............\n"
     ]
    },
    {
     "name": "stderr",
     "output_type": "stream",
     "text": [
      "C:\\Users\\Tristan\\anaconda\\Anaconda3\\envs\\pythondata\\lib\\site-packages\\sklearn\\neural_network\\_multilayer_perceptron.py:571: ConvergenceWarning: Stochastic Optimizer: Maximum iterations (100) reached and the optimization hasn't converged yet.\n",
      "  % self.max_iter, ConvergenceWarning)\n"
     ]
    },
    {
     "name": "stdout",
     "output_type": "stream",
     "text": [
      "[CV]  alpha=0.0001, learning_rate_init=1e-05, max_iter=100, total=   1.6s\n",
      "[CV] alpha=0.0001, learning_rate_init=1e-05, max_iter=200 ............\n"
     ]
    },
    {
     "name": "stderr",
     "output_type": "stream",
     "text": [
      "C:\\Users\\Tristan\\anaconda\\Anaconda3\\envs\\pythondata\\lib\\site-packages\\sklearn\\neural_network\\_multilayer_perceptron.py:571: ConvergenceWarning: Stochastic Optimizer: Maximum iterations (200) reached and the optimization hasn't converged yet.\n",
      "  % self.max_iter, ConvergenceWarning)\n"
     ]
    },
    {
     "name": "stdout",
     "output_type": "stream",
     "text": [
      "[CV]  alpha=0.0001, learning_rate_init=1e-05, max_iter=200, total=   3.1s\n",
      "[CV] alpha=0.0001, learning_rate_init=1e-05, max_iter=200 ............\n"
     ]
    },
    {
     "name": "stderr",
     "output_type": "stream",
     "text": [
      "C:\\Users\\Tristan\\anaconda\\Anaconda3\\envs\\pythondata\\lib\\site-packages\\sklearn\\neural_network\\_multilayer_perceptron.py:571: ConvergenceWarning: Stochastic Optimizer: Maximum iterations (200) reached and the optimization hasn't converged yet.\n",
      "  % self.max_iter, ConvergenceWarning)\n"
     ]
    },
    {
     "name": "stdout",
     "output_type": "stream",
     "text": [
      "[CV]  alpha=0.0001, learning_rate_init=1e-05, max_iter=200, total=   3.2s\n",
      "[CV] alpha=0.0001, learning_rate_init=1e-05, max_iter=200 ............\n"
     ]
    },
    {
     "name": "stderr",
     "output_type": "stream",
     "text": [
      "C:\\Users\\Tristan\\anaconda\\Anaconda3\\envs\\pythondata\\lib\\site-packages\\sklearn\\neural_network\\_multilayer_perceptron.py:571: ConvergenceWarning: Stochastic Optimizer: Maximum iterations (200) reached and the optimization hasn't converged yet.\n",
      "  % self.max_iter, ConvergenceWarning)\n"
     ]
    },
    {
     "name": "stdout",
     "output_type": "stream",
     "text": [
      "[CV]  alpha=0.0001, learning_rate_init=1e-05, max_iter=200, total=   3.2s\n",
      "[CV] alpha=0.0001, learning_rate_init=1e-05, max_iter=200 ............\n"
     ]
    },
    {
     "name": "stderr",
     "output_type": "stream",
     "text": [
      "C:\\Users\\Tristan\\anaconda\\Anaconda3\\envs\\pythondata\\lib\\site-packages\\sklearn\\neural_network\\_multilayer_perceptron.py:571: ConvergenceWarning: Stochastic Optimizer: Maximum iterations (200) reached and the optimization hasn't converged yet.\n",
      "  % self.max_iter, ConvergenceWarning)\n"
     ]
    },
    {
     "name": "stdout",
     "output_type": "stream",
     "text": [
      "[CV]  alpha=0.0001, learning_rate_init=1e-05, max_iter=200, total=   3.2s\n",
      "[CV] alpha=0.0001, learning_rate_init=1e-05, max_iter=200 ............\n"
     ]
    },
    {
     "name": "stderr",
     "output_type": "stream",
     "text": [
      "C:\\Users\\Tristan\\anaconda\\Anaconda3\\envs\\pythondata\\lib\\site-packages\\sklearn\\neural_network\\_multilayer_perceptron.py:571: ConvergenceWarning: Stochastic Optimizer: Maximum iterations (200) reached and the optimization hasn't converged yet.\n",
      "  % self.max_iter, ConvergenceWarning)\n"
     ]
    },
    {
     "name": "stdout",
     "output_type": "stream",
     "text": [
      "[CV]  alpha=0.0001, learning_rate_init=1e-05, max_iter=200, total=   3.2s\n",
      "[CV] alpha=0.0001, learning_rate_init=1e-05, max_iter=300 ............\n"
     ]
    },
    {
     "name": "stderr",
     "output_type": "stream",
     "text": [
      "C:\\Users\\Tristan\\anaconda\\Anaconda3\\envs\\pythondata\\lib\\site-packages\\sklearn\\neural_network\\_multilayer_perceptron.py:571: ConvergenceWarning: Stochastic Optimizer: Maximum iterations (300) reached and the optimization hasn't converged yet.\n",
      "  % self.max_iter, ConvergenceWarning)\n"
     ]
    },
    {
     "name": "stdout",
     "output_type": "stream",
     "text": [
      "[CV]  alpha=0.0001, learning_rate_init=1e-05, max_iter=300, total=   4.7s\n",
      "[CV] alpha=0.0001, learning_rate_init=1e-05, max_iter=300 ............\n"
     ]
    },
    {
     "name": "stderr",
     "output_type": "stream",
     "text": [
      "C:\\Users\\Tristan\\anaconda\\Anaconda3\\envs\\pythondata\\lib\\site-packages\\sklearn\\neural_network\\_multilayer_perceptron.py:571: ConvergenceWarning: Stochastic Optimizer: Maximum iterations (300) reached and the optimization hasn't converged yet.\n",
      "  % self.max_iter, ConvergenceWarning)\n"
     ]
    },
    {
     "name": "stdout",
     "output_type": "stream",
     "text": [
      "[CV]  alpha=0.0001, learning_rate_init=1e-05, max_iter=300, total=   4.6s\n",
      "[CV] alpha=0.0001, learning_rate_init=1e-05, max_iter=300 ............\n"
     ]
    },
    {
     "name": "stderr",
     "output_type": "stream",
     "text": [
      "C:\\Users\\Tristan\\anaconda\\Anaconda3\\envs\\pythondata\\lib\\site-packages\\sklearn\\neural_network\\_multilayer_perceptron.py:571: ConvergenceWarning: Stochastic Optimizer: Maximum iterations (300) reached and the optimization hasn't converged yet.\n",
      "  % self.max_iter, ConvergenceWarning)\n"
     ]
    },
    {
     "name": "stdout",
     "output_type": "stream",
     "text": [
      "[CV]  alpha=0.0001, learning_rate_init=1e-05, max_iter=300, total=   4.8s\n",
      "[CV] alpha=0.0001, learning_rate_init=1e-05, max_iter=300 ............\n"
     ]
    },
    {
     "name": "stderr",
     "output_type": "stream",
     "text": [
      "C:\\Users\\Tristan\\anaconda\\Anaconda3\\envs\\pythondata\\lib\\site-packages\\sklearn\\neural_network\\_multilayer_perceptron.py:571: ConvergenceWarning: Stochastic Optimizer: Maximum iterations (300) reached and the optimization hasn't converged yet.\n",
      "  % self.max_iter, ConvergenceWarning)\n"
     ]
    },
    {
     "name": "stdout",
     "output_type": "stream",
     "text": [
      "[CV]  alpha=0.0001, learning_rate_init=1e-05, max_iter=300, total=   4.8s\n",
      "[CV] alpha=0.0001, learning_rate_init=1e-05, max_iter=300 ............\n"
     ]
    },
    {
     "name": "stderr",
     "output_type": "stream",
     "text": [
      "C:\\Users\\Tristan\\anaconda\\Anaconda3\\envs\\pythondata\\lib\\site-packages\\sklearn\\neural_network\\_multilayer_perceptron.py:571: ConvergenceWarning: Stochastic Optimizer: Maximum iterations (300) reached and the optimization hasn't converged yet.\n",
      "  % self.max_iter, ConvergenceWarning)\n"
     ]
    },
    {
     "name": "stdout",
     "output_type": "stream",
     "text": [
      "[CV]  alpha=0.0001, learning_rate_init=1e-05, max_iter=300, total=   4.7s\n",
      "[CV] alpha=0.0001, learning_rate_init=1e-06, max_iter=100 ............\n"
     ]
    },
    {
     "name": "stderr",
     "output_type": "stream",
     "text": [
      "C:\\Users\\Tristan\\anaconda\\Anaconda3\\envs\\pythondata\\lib\\site-packages\\sklearn\\neural_network\\_multilayer_perceptron.py:571: ConvergenceWarning: Stochastic Optimizer: Maximum iterations (100) reached and the optimization hasn't converged yet.\n",
      "  % self.max_iter, ConvergenceWarning)\n"
     ]
    },
    {
     "name": "stdout",
     "output_type": "stream",
     "text": [
      "[CV]  alpha=0.0001, learning_rate_init=1e-06, max_iter=100, total=   1.6s\n",
      "[CV] alpha=0.0001, learning_rate_init=1e-06, max_iter=100 ............\n"
     ]
    },
    {
     "name": "stderr",
     "output_type": "stream",
     "text": [
      "C:\\Users\\Tristan\\anaconda\\Anaconda3\\envs\\pythondata\\lib\\site-packages\\sklearn\\neural_network\\_multilayer_perceptron.py:571: ConvergenceWarning: Stochastic Optimizer: Maximum iterations (100) reached and the optimization hasn't converged yet.\n",
      "  % self.max_iter, ConvergenceWarning)\n"
     ]
    },
    {
     "name": "stdout",
     "output_type": "stream",
     "text": [
      "[CV]  alpha=0.0001, learning_rate_init=1e-06, max_iter=100, total=   1.6s\n",
      "[CV] alpha=0.0001, learning_rate_init=1e-06, max_iter=100 ............\n"
     ]
    },
    {
     "name": "stderr",
     "output_type": "stream",
     "text": [
      "C:\\Users\\Tristan\\anaconda\\Anaconda3\\envs\\pythondata\\lib\\site-packages\\sklearn\\neural_network\\_multilayer_perceptron.py:571: ConvergenceWarning: Stochastic Optimizer: Maximum iterations (100) reached and the optimization hasn't converged yet.\n",
      "  % self.max_iter, ConvergenceWarning)\n"
     ]
    },
    {
     "name": "stdout",
     "output_type": "stream",
     "text": [
      "[CV]  alpha=0.0001, learning_rate_init=1e-06, max_iter=100, total=   1.5s\n",
      "[CV] alpha=0.0001, learning_rate_init=1e-06, max_iter=100 ............\n"
     ]
    },
    {
     "name": "stderr",
     "output_type": "stream",
     "text": [
      "C:\\Users\\Tristan\\anaconda\\Anaconda3\\envs\\pythondata\\lib\\site-packages\\sklearn\\neural_network\\_multilayer_perceptron.py:571: ConvergenceWarning: Stochastic Optimizer: Maximum iterations (100) reached and the optimization hasn't converged yet.\n",
      "  % self.max_iter, ConvergenceWarning)\n"
     ]
    },
    {
     "name": "stdout",
     "output_type": "stream",
     "text": [
      "[CV]  alpha=0.0001, learning_rate_init=1e-06, max_iter=100, total=   1.5s\n",
      "[CV] alpha=0.0001, learning_rate_init=1e-06, max_iter=100 ............\n"
     ]
    },
    {
     "name": "stderr",
     "output_type": "stream",
     "text": [
      "C:\\Users\\Tristan\\anaconda\\Anaconda3\\envs\\pythondata\\lib\\site-packages\\sklearn\\neural_network\\_multilayer_perceptron.py:571: ConvergenceWarning: Stochastic Optimizer: Maximum iterations (100) reached and the optimization hasn't converged yet.\n",
      "  % self.max_iter, ConvergenceWarning)\n"
     ]
    },
    {
     "name": "stdout",
     "output_type": "stream",
     "text": [
      "[CV]  alpha=0.0001, learning_rate_init=1e-06, max_iter=100, total=   1.6s\n",
      "[CV] alpha=0.0001, learning_rate_init=1e-06, max_iter=200 ............\n"
     ]
    },
    {
     "name": "stderr",
     "output_type": "stream",
     "text": [
      "C:\\Users\\Tristan\\anaconda\\Anaconda3\\envs\\pythondata\\lib\\site-packages\\sklearn\\neural_network\\_multilayer_perceptron.py:571: ConvergenceWarning: Stochastic Optimizer: Maximum iterations (200) reached and the optimization hasn't converged yet.\n",
      "  % self.max_iter, ConvergenceWarning)\n"
     ]
    },
    {
     "name": "stdout",
     "output_type": "stream",
     "text": [
      "[CV]  alpha=0.0001, learning_rate_init=1e-06, max_iter=200, total=   3.1s\n",
      "[CV] alpha=0.0001, learning_rate_init=1e-06, max_iter=200 ............\n"
     ]
    },
    {
     "name": "stderr",
     "output_type": "stream",
     "text": [
      "C:\\Users\\Tristan\\anaconda\\Anaconda3\\envs\\pythondata\\lib\\site-packages\\sklearn\\neural_network\\_multilayer_perceptron.py:571: ConvergenceWarning: Stochastic Optimizer: Maximum iterations (200) reached and the optimization hasn't converged yet.\n",
      "  % self.max_iter, ConvergenceWarning)\n"
     ]
    },
    {
     "name": "stdout",
     "output_type": "stream",
     "text": [
      "[CV]  alpha=0.0001, learning_rate_init=1e-06, max_iter=200, total=   3.4s\n",
      "[CV] alpha=0.0001, learning_rate_init=1e-06, max_iter=200 ............\n"
     ]
    },
    {
     "name": "stderr",
     "output_type": "stream",
     "text": [
      "C:\\Users\\Tristan\\anaconda\\Anaconda3\\envs\\pythondata\\lib\\site-packages\\sklearn\\neural_network\\_multilayer_perceptron.py:571: ConvergenceWarning: Stochastic Optimizer: Maximum iterations (200) reached and the optimization hasn't converged yet.\n",
      "  % self.max_iter, ConvergenceWarning)\n"
     ]
    },
    {
     "name": "stdout",
     "output_type": "stream",
     "text": [
      "[CV]  alpha=0.0001, learning_rate_init=1e-06, max_iter=200, total=   3.6s\n",
      "[CV] alpha=0.0001, learning_rate_init=1e-06, max_iter=200 ............\n"
     ]
    },
    {
     "name": "stderr",
     "output_type": "stream",
     "text": [
      "C:\\Users\\Tristan\\anaconda\\Anaconda3\\envs\\pythondata\\lib\\site-packages\\sklearn\\neural_network\\_multilayer_perceptron.py:571: ConvergenceWarning: Stochastic Optimizer: Maximum iterations (200) reached and the optimization hasn't converged yet.\n",
      "  % self.max_iter, ConvergenceWarning)\n"
     ]
    },
    {
     "name": "stdout",
     "output_type": "stream",
     "text": [
      "[CV]  alpha=0.0001, learning_rate_init=1e-06, max_iter=200, total=   3.3s\n",
      "[CV] alpha=0.0001, learning_rate_init=1e-06, max_iter=200 ............\n"
     ]
    },
    {
     "name": "stderr",
     "output_type": "stream",
     "text": [
      "C:\\Users\\Tristan\\anaconda\\Anaconda3\\envs\\pythondata\\lib\\site-packages\\sklearn\\neural_network\\_multilayer_perceptron.py:571: ConvergenceWarning: Stochastic Optimizer: Maximum iterations (200) reached and the optimization hasn't converged yet.\n",
      "  % self.max_iter, ConvergenceWarning)\n"
     ]
    },
    {
     "name": "stdout",
     "output_type": "stream",
     "text": [
      "[CV]  alpha=0.0001, learning_rate_init=1e-06, max_iter=200, total=   3.3s\n",
      "[CV] alpha=0.0001, learning_rate_init=1e-06, max_iter=300 ............\n"
     ]
    },
    {
     "name": "stderr",
     "output_type": "stream",
     "text": [
      "C:\\Users\\Tristan\\anaconda\\Anaconda3\\envs\\pythondata\\lib\\site-packages\\sklearn\\neural_network\\_multilayer_perceptron.py:571: ConvergenceWarning: Stochastic Optimizer: Maximum iterations (300) reached and the optimization hasn't converged yet.\n",
      "  % self.max_iter, ConvergenceWarning)\n"
     ]
    },
    {
     "name": "stdout",
     "output_type": "stream",
     "text": [
      "[CV]  alpha=0.0001, learning_rate_init=1e-06, max_iter=300, total=   4.7s\n",
      "[CV] alpha=0.0001, learning_rate_init=1e-06, max_iter=300 ............\n"
     ]
    },
    {
     "name": "stderr",
     "output_type": "stream",
     "text": [
      "C:\\Users\\Tristan\\anaconda\\Anaconda3\\envs\\pythondata\\lib\\site-packages\\sklearn\\neural_network\\_multilayer_perceptron.py:571: ConvergenceWarning: Stochastic Optimizer: Maximum iterations (300) reached and the optimization hasn't converged yet.\n",
      "  % self.max_iter, ConvergenceWarning)\n"
     ]
    },
    {
     "name": "stdout",
     "output_type": "stream",
     "text": [
      "[CV]  alpha=0.0001, learning_rate_init=1e-06, max_iter=300, total=   4.8s\n",
      "[CV] alpha=0.0001, learning_rate_init=1e-06, max_iter=300 ............\n"
     ]
    },
    {
     "name": "stderr",
     "output_type": "stream",
     "text": [
      "C:\\Users\\Tristan\\anaconda\\Anaconda3\\envs\\pythondata\\lib\\site-packages\\sklearn\\neural_network\\_multilayer_perceptron.py:571: ConvergenceWarning: Stochastic Optimizer: Maximum iterations (300) reached and the optimization hasn't converged yet.\n",
      "  % self.max_iter, ConvergenceWarning)\n"
     ]
    },
    {
     "name": "stdout",
     "output_type": "stream",
     "text": [
      "[CV]  alpha=0.0001, learning_rate_init=1e-06, max_iter=300, total=   4.6s\n",
      "[CV] alpha=0.0001, learning_rate_init=1e-06, max_iter=300 ............\n"
     ]
    },
    {
     "name": "stderr",
     "output_type": "stream",
     "text": [
      "C:\\Users\\Tristan\\anaconda\\Anaconda3\\envs\\pythondata\\lib\\site-packages\\sklearn\\neural_network\\_multilayer_perceptron.py:571: ConvergenceWarning: Stochastic Optimizer: Maximum iterations (300) reached and the optimization hasn't converged yet.\n",
      "  % self.max_iter, ConvergenceWarning)\n"
     ]
    },
    {
     "name": "stdout",
     "output_type": "stream",
     "text": [
      "[CV]  alpha=0.0001, learning_rate_init=1e-06, max_iter=300, total=   4.6s\n",
      "[CV] alpha=0.0001, learning_rate_init=1e-06, max_iter=300 ............\n"
     ]
    },
    {
     "name": "stderr",
     "output_type": "stream",
     "text": [
      "C:\\Users\\Tristan\\anaconda\\Anaconda3\\envs\\pythondata\\lib\\site-packages\\sklearn\\neural_network\\_multilayer_perceptron.py:571: ConvergenceWarning: Stochastic Optimizer: Maximum iterations (300) reached and the optimization hasn't converged yet.\n",
      "  % self.max_iter, ConvergenceWarning)\n"
     ]
    },
    {
     "name": "stdout",
     "output_type": "stream",
     "text": [
      "[CV]  alpha=0.0001, learning_rate_init=1e-06, max_iter=300, total=   4.7s\n",
      "[CV] alpha=1e-05, learning_rate_init=0.1, max_iter=100 ...............\n",
      "[CV]  alpha=1e-05, learning_rate_init=0.1, max_iter=100, total=   0.6s\n",
      "[CV] alpha=1e-05, learning_rate_init=0.1, max_iter=100 ...............\n",
      "[CV]  alpha=1e-05, learning_rate_init=0.1, max_iter=100, total=   0.7s\n",
      "[CV] alpha=1e-05, learning_rate_init=0.1, max_iter=100 ...............\n",
      "[CV]  alpha=1e-05, learning_rate_init=0.1, max_iter=100, total=   0.8s\n",
      "[CV] alpha=1e-05, learning_rate_init=0.1, max_iter=100 ...............\n",
      "[CV]  alpha=1e-05, learning_rate_init=0.1, max_iter=100, total=   0.9s\n",
      "[CV] alpha=1e-05, learning_rate_init=0.1, max_iter=100 ...............\n",
      "[CV]  alpha=1e-05, learning_rate_init=0.1, max_iter=100, total=   0.9s\n",
      "[CV] alpha=1e-05, learning_rate_init=0.1, max_iter=200 ...............\n",
      "[CV]  alpha=1e-05, learning_rate_init=0.1, max_iter=200, total=   0.7s\n",
      "[CV] alpha=1e-05, learning_rate_init=0.1, max_iter=200 ...............\n",
      "[CV]  alpha=1e-05, learning_rate_init=0.1, max_iter=200, total=   0.7s\n",
      "[CV] alpha=1e-05, learning_rate_init=0.1, max_iter=200 ...............\n",
      "[CV]  alpha=1e-05, learning_rate_init=0.1, max_iter=200, total=   0.8s\n",
      "[CV] alpha=1e-05, learning_rate_init=0.1, max_iter=200 ...............\n",
      "[CV]  alpha=1e-05, learning_rate_init=0.1, max_iter=200, total=   0.9s\n",
      "[CV] alpha=1e-05, learning_rate_init=0.1, max_iter=200 ...............\n",
      "[CV]  alpha=1e-05, learning_rate_init=0.1, max_iter=200, total=   0.9s\n",
      "[CV] alpha=1e-05, learning_rate_init=0.1, max_iter=300 ...............\n",
      "[CV]  alpha=1e-05, learning_rate_init=0.1, max_iter=300, total=   0.6s\n",
      "[CV] alpha=1e-05, learning_rate_init=0.1, max_iter=300 ...............\n",
      "[CV]  alpha=1e-05, learning_rate_init=0.1, max_iter=300, total=   0.7s\n",
      "[CV] alpha=1e-05, learning_rate_init=0.1, max_iter=300 ...............\n",
      "[CV]  alpha=1e-05, learning_rate_init=0.1, max_iter=300, total=   0.8s\n",
      "[CV] alpha=1e-05, learning_rate_init=0.1, max_iter=300 ...............\n",
      "[CV]  alpha=1e-05, learning_rate_init=0.1, max_iter=300, total=   0.8s\n",
      "[CV] alpha=1e-05, learning_rate_init=0.1, max_iter=300 ...............\n",
      "[CV]  alpha=1e-05, learning_rate_init=0.1, max_iter=300, total=   0.9s\n",
      "[CV] alpha=1e-05, learning_rate_init=0.01, max_iter=100 ..............\n"
     ]
    },
    {
     "name": "stderr",
     "output_type": "stream",
     "text": [
      "C:\\Users\\Tristan\\anaconda\\Anaconda3\\envs\\pythondata\\lib\\site-packages\\sklearn\\neural_network\\_multilayer_perceptron.py:571: ConvergenceWarning: Stochastic Optimizer: Maximum iterations (100) reached and the optimization hasn't converged yet.\n",
      "  % self.max_iter, ConvergenceWarning)\n"
     ]
    },
    {
     "name": "stdout",
     "output_type": "stream",
     "text": [
      "[CV]  alpha=1e-05, learning_rate_init=0.01, max_iter=100, total=   1.6s\n",
      "[CV] alpha=1e-05, learning_rate_init=0.01, max_iter=100 ..............\n"
     ]
    },
    {
     "name": "stderr",
     "output_type": "stream",
     "text": [
      "C:\\Users\\Tristan\\anaconda\\Anaconda3\\envs\\pythondata\\lib\\site-packages\\sklearn\\neural_network\\_multilayer_perceptron.py:571: ConvergenceWarning: Stochastic Optimizer: Maximum iterations (100) reached and the optimization hasn't converged yet.\n",
      "  % self.max_iter, ConvergenceWarning)\n"
     ]
    },
    {
     "name": "stdout",
     "output_type": "stream",
     "text": [
      "[CV]  alpha=1e-05, learning_rate_init=0.01, max_iter=100, total=   1.6s\n",
      "[CV] alpha=1e-05, learning_rate_init=0.01, max_iter=100 ..............\n"
     ]
    },
    {
     "name": "stderr",
     "output_type": "stream",
     "text": [
      "C:\\Users\\Tristan\\anaconda\\Anaconda3\\envs\\pythondata\\lib\\site-packages\\sklearn\\neural_network\\_multilayer_perceptron.py:571: ConvergenceWarning: Stochastic Optimizer: Maximum iterations (100) reached and the optimization hasn't converged yet.\n",
      "  % self.max_iter, ConvergenceWarning)\n"
     ]
    },
    {
     "name": "stdout",
     "output_type": "stream",
     "text": [
      "[CV]  alpha=1e-05, learning_rate_init=0.01, max_iter=100, total=   1.7s\n",
      "[CV] alpha=1e-05, learning_rate_init=0.01, max_iter=100 ..............\n"
     ]
    },
    {
     "name": "stderr",
     "output_type": "stream",
     "text": [
      "C:\\Users\\Tristan\\anaconda\\Anaconda3\\envs\\pythondata\\lib\\site-packages\\sklearn\\neural_network\\_multilayer_perceptron.py:571: ConvergenceWarning: Stochastic Optimizer: Maximum iterations (100) reached and the optimization hasn't converged yet.\n",
      "  % self.max_iter, ConvergenceWarning)\n"
     ]
    },
    {
     "name": "stdout",
     "output_type": "stream",
     "text": [
      "[CV]  alpha=1e-05, learning_rate_init=0.01, max_iter=100, total=   1.6s\n",
      "[CV] alpha=1e-05, learning_rate_init=0.01, max_iter=100 ..............\n"
     ]
    },
    {
     "name": "stderr",
     "output_type": "stream",
     "text": [
      "C:\\Users\\Tristan\\anaconda\\Anaconda3\\envs\\pythondata\\lib\\site-packages\\sklearn\\neural_network\\_multilayer_perceptron.py:571: ConvergenceWarning: Stochastic Optimizer: Maximum iterations (100) reached and the optimization hasn't converged yet.\n",
      "  % self.max_iter, ConvergenceWarning)\n"
     ]
    },
    {
     "name": "stdout",
     "output_type": "stream",
     "text": [
      "[CV]  alpha=1e-05, learning_rate_init=0.01, max_iter=100, total=   1.5s\n",
      "[CV] alpha=1e-05, learning_rate_init=0.01, max_iter=200 ..............\n",
      "[CV]  alpha=1e-05, learning_rate_init=0.01, max_iter=200, total=   2.5s\n",
      "[CV] alpha=1e-05, learning_rate_init=0.01, max_iter=200 ..............\n",
      "[CV]  alpha=1e-05, learning_rate_init=0.01, max_iter=200, total=   2.3s\n",
      "[CV] alpha=1e-05, learning_rate_init=0.01, max_iter=200 ..............\n",
      "[CV]  alpha=1e-05, learning_rate_init=0.01, max_iter=200, total=   1.8s\n",
      "[CV] alpha=1e-05, learning_rate_init=0.01, max_iter=200 ..............\n",
      "[CV]  alpha=1e-05, learning_rate_init=0.01, max_iter=200, total=   2.1s\n",
      "[CV] alpha=1e-05, learning_rate_init=0.01, max_iter=200 ..............\n",
      "[CV]  alpha=1e-05, learning_rate_init=0.01, max_iter=200, total=   2.7s\n",
      "[CV] alpha=1e-05, learning_rate_init=0.01, max_iter=300 ..............\n",
      "[CV]  alpha=1e-05, learning_rate_init=0.01, max_iter=300, total=   2.4s\n",
      "[CV] alpha=1e-05, learning_rate_init=0.01, max_iter=300 ..............\n",
      "[CV]  alpha=1e-05, learning_rate_init=0.01, max_iter=300, total=   2.2s\n",
      "[CV] alpha=1e-05, learning_rate_init=0.01, max_iter=300 ..............\n",
      "[CV]  alpha=1e-05, learning_rate_init=0.01, max_iter=300, total=   2.0s\n",
      "[CV] alpha=1e-05, learning_rate_init=0.01, max_iter=300 ..............\n",
      "[CV]  alpha=1e-05, learning_rate_init=0.01, max_iter=300, total=   2.0s\n",
      "[CV] alpha=1e-05, learning_rate_init=0.01, max_iter=300 ..............\n",
      "[CV]  alpha=1e-05, learning_rate_init=0.01, max_iter=300, total=   2.7s\n",
      "[CV] alpha=1e-05, learning_rate_init=0.001, max_iter=100 .............\n"
     ]
    },
    {
     "name": "stderr",
     "output_type": "stream",
     "text": [
      "C:\\Users\\Tristan\\anaconda\\Anaconda3\\envs\\pythondata\\lib\\site-packages\\sklearn\\neural_network\\_multilayer_perceptron.py:571: ConvergenceWarning: Stochastic Optimizer: Maximum iterations (100) reached and the optimization hasn't converged yet.\n",
      "  % self.max_iter, ConvergenceWarning)\n"
     ]
    },
    {
     "name": "stdout",
     "output_type": "stream",
     "text": [
      "[CV]  alpha=1e-05, learning_rate_init=0.001, max_iter=100, total=   1.6s\n",
      "[CV] alpha=1e-05, learning_rate_init=0.001, max_iter=100 .............\n"
     ]
    },
    {
     "name": "stderr",
     "output_type": "stream",
     "text": [
      "C:\\Users\\Tristan\\anaconda\\Anaconda3\\envs\\pythondata\\lib\\site-packages\\sklearn\\neural_network\\_multilayer_perceptron.py:571: ConvergenceWarning: Stochastic Optimizer: Maximum iterations (100) reached and the optimization hasn't converged yet.\n",
      "  % self.max_iter, ConvergenceWarning)\n"
     ]
    },
    {
     "name": "stdout",
     "output_type": "stream",
     "text": [
      "[CV]  alpha=1e-05, learning_rate_init=0.001, max_iter=100, total=   1.7s\n",
      "[CV] alpha=1e-05, learning_rate_init=0.001, max_iter=100 .............\n"
     ]
    },
    {
     "name": "stderr",
     "output_type": "stream",
     "text": [
      "C:\\Users\\Tristan\\anaconda\\Anaconda3\\envs\\pythondata\\lib\\site-packages\\sklearn\\neural_network\\_multilayer_perceptron.py:571: ConvergenceWarning: Stochastic Optimizer: Maximum iterations (100) reached and the optimization hasn't converged yet.\n",
      "  % self.max_iter, ConvergenceWarning)\n"
     ]
    },
    {
     "name": "stdout",
     "output_type": "stream",
     "text": [
      "[CV]  alpha=1e-05, learning_rate_init=0.001, max_iter=100, total=   1.6s\n",
      "[CV] alpha=1e-05, learning_rate_init=0.001, max_iter=100 .............\n"
     ]
    },
    {
     "name": "stderr",
     "output_type": "stream",
     "text": [
      "C:\\Users\\Tristan\\anaconda\\Anaconda3\\envs\\pythondata\\lib\\site-packages\\sklearn\\neural_network\\_multilayer_perceptron.py:571: ConvergenceWarning: Stochastic Optimizer: Maximum iterations (100) reached and the optimization hasn't converged yet.\n",
      "  % self.max_iter, ConvergenceWarning)\n"
     ]
    },
    {
     "name": "stdout",
     "output_type": "stream",
     "text": [
      "[CV]  alpha=1e-05, learning_rate_init=0.001, max_iter=100, total=   1.6s\n",
      "[CV] alpha=1e-05, learning_rate_init=0.001, max_iter=100 .............\n"
     ]
    },
    {
     "name": "stderr",
     "output_type": "stream",
     "text": [
      "C:\\Users\\Tristan\\anaconda\\Anaconda3\\envs\\pythondata\\lib\\site-packages\\sklearn\\neural_network\\_multilayer_perceptron.py:571: ConvergenceWarning: Stochastic Optimizer: Maximum iterations (100) reached and the optimization hasn't converged yet.\n",
      "  % self.max_iter, ConvergenceWarning)\n"
     ]
    },
    {
     "name": "stdout",
     "output_type": "stream",
     "text": [
      "[CV]  alpha=1e-05, learning_rate_init=0.001, max_iter=100, total=   1.6s\n",
      "[CV] alpha=1e-05, learning_rate_init=0.001, max_iter=200 .............\n"
     ]
    },
    {
     "name": "stderr",
     "output_type": "stream",
     "text": [
      "C:\\Users\\Tristan\\anaconda\\Anaconda3\\envs\\pythondata\\lib\\site-packages\\sklearn\\neural_network\\_multilayer_perceptron.py:571: ConvergenceWarning: Stochastic Optimizer: Maximum iterations (200) reached and the optimization hasn't converged yet.\n",
      "  % self.max_iter, ConvergenceWarning)\n"
     ]
    },
    {
     "name": "stdout",
     "output_type": "stream",
     "text": [
      "[CV]  alpha=1e-05, learning_rate_init=0.001, max_iter=200, total=   3.2s\n",
      "[CV] alpha=1e-05, learning_rate_init=0.001, max_iter=200 .............\n"
     ]
    },
    {
     "name": "stderr",
     "output_type": "stream",
     "text": [
      "C:\\Users\\Tristan\\anaconda\\Anaconda3\\envs\\pythondata\\lib\\site-packages\\sklearn\\neural_network\\_multilayer_perceptron.py:571: ConvergenceWarning: Stochastic Optimizer: Maximum iterations (200) reached and the optimization hasn't converged yet.\n",
      "  % self.max_iter, ConvergenceWarning)\n"
     ]
    },
    {
     "name": "stdout",
     "output_type": "stream",
     "text": [
      "[CV]  alpha=1e-05, learning_rate_init=0.001, max_iter=200, total=   3.1s\n",
      "[CV] alpha=1e-05, learning_rate_init=0.001, max_iter=200 .............\n"
     ]
    },
    {
     "name": "stderr",
     "output_type": "stream",
     "text": [
      "C:\\Users\\Tristan\\anaconda\\Anaconda3\\envs\\pythondata\\lib\\site-packages\\sklearn\\neural_network\\_multilayer_perceptron.py:571: ConvergenceWarning: Stochastic Optimizer: Maximum iterations (200) reached and the optimization hasn't converged yet.\n",
      "  % self.max_iter, ConvergenceWarning)\n"
     ]
    },
    {
     "name": "stdout",
     "output_type": "stream",
     "text": [
      "[CV]  alpha=1e-05, learning_rate_init=0.001, max_iter=200, total=   3.1s\n",
      "[CV] alpha=1e-05, learning_rate_init=0.001, max_iter=200 .............\n"
     ]
    },
    {
     "name": "stderr",
     "output_type": "stream",
     "text": [
      "C:\\Users\\Tristan\\anaconda\\Anaconda3\\envs\\pythondata\\lib\\site-packages\\sklearn\\neural_network\\_multilayer_perceptron.py:571: ConvergenceWarning: Stochastic Optimizer: Maximum iterations (200) reached and the optimization hasn't converged yet.\n",
      "  % self.max_iter, ConvergenceWarning)\n"
     ]
    },
    {
     "name": "stdout",
     "output_type": "stream",
     "text": [
      "[CV]  alpha=1e-05, learning_rate_init=0.001, max_iter=200, total=   3.2s\n",
      "[CV] alpha=1e-05, learning_rate_init=0.001, max_iter=200 .............\n"
     ]
    },
    {
     "name": "stderr",
     "output_type": "stream",
     "text": [
      "C:\\Users\\Tristan\\anaconda\\Anaconda3\\envs\\pythondata\\lib\\site-packages\\sklearn\\neural_network\\_multilayer_perceptron.py:571: ConvergenceWarning: Stochastic Optimizer: Maximum iterations (200) reached and the optimization hasn't converged yet.\n",
      "  % self.max_iter, ConvergenceWarning)\n"
     ]
    },
    {
     "name": "stdout",
     "output_type": "stream",
     "text": [
      "[CV]  alpha=1e-05, learning_rate_init=0.001, max_iter=200, total=   3.2s\n",
      "[CV] alpha=1e-05, learning_rate_init=0.001, max_iter=300 .............\n"
     ]
    },
    {
     "name": "stderr",
     "output_type": "stream",
     "text": [
      "C:\\Users\\Tristan\\anaconda\\Anaconda3\\envs\\pythondata\\lib\\site-packages\\sklearn\\neural_network\\_multilayer_perceptron.py:571: ConvergenceWarning: Stochastic Optimizer: Maximum iterations (300) reached and the optimization hasn't converged yet.\n",
      "  % self.max_iter, ConvergenceWarning)\n"
     ]
    },
    {
     "name": "stdout",
     "output_type": "stream",
     "text": [
      "[CV]  alpha=1e-05, learning_rate_init=0.001, max_iter=300, total=   4.6s\n",
      "[CV] alpha=1e-05, learning_rate_init=0.001, max_iter=300 .............\n"
     ]
    },
    {
     "name": "stderr",
     "output_type": "stream",
     "text": [
      "C:\\Users\\Tristan\\anaconda\\Anaconda3\\envs\\pythondata\\lib\\site-packages\\sklearn\\neural_network\\_multilayer_perceptron.py:571: ConvergenceWarning: Stochastic Optimizer: Maximum iterations (300) reached and the optimization hasn't converged yet.\n",
      "  % self.max_iter, ConvergenceWarning)\n"
     ]
    },
    {
     "name": "stdout",
     "output_type": "stream",
     "text": [
      "[CV]  alpha=1e-05, learning_rate_init=0.001, max_iter=300, total=   4.7s\n",
      "[CV] alpha=1e-05, learning_rate_init=0.001, max_iter=300 .............\n"
     ]
    },
    {
     "name": "stderr",
     "output_type": "stream",
     "text": [
      "C:\\Users\\Tristan\\anaconda\\Anaconda3\\envs\\pythondata\\lib\\site-packages\\sklearn\\neural_network\\_multilayer_perceptron.py:571: ConvergenceWarning: Stochastic Optimizer: Maximum iterations (300) reached and the optimization hasn't converged yet.\n",
      "  % self.max_iter, ConvergenceWarning)\n"
     ]
    },
    {
     "name": "stdout",
     "output_type": "stream",
     "text": [
      "[CV]  alpha=1e-05, learning_rate_init=0.001, max_iter=300, total=   4.6s\n",
      "[CV] alpha=1e-05, learning_rate_init=0.001, max_iter=300 .............\n"
     ]
    },
    {
     "name": "stderr",
     "output_type": "stream",
     "text": [
      "C:\\Users\\Tristan\\anaconda\\Anaconda3\\envs\\pythondata\\lib\\site-packages\\sklearn\\neural_network\\_multilayer_perceptron.py:571: ConvergenceWarning: Stochastic Optimizer: Maximum iterations (300) reached and the optimization hasn't converged yet.\n",
      "  % self.max_iter, ConvergenceWarning)\n"
     ]
    },
    {
     "name": "stdout",
     "output_type": "stream",
     "text": [
      "[CV]  alpha=1e-05, learning_rate_init=0.001, max_iter=300, total=   4.9s\n",
      "[CV] alpha=1e-05, learning_rate_init=0.001, max_iter=300 .............\n"
     ]
    },
    {
     "name": "stderr",
     "output_type": "stream",
     "text": [
      "C:\\Users\\Tristan\\anaconda\\Anaconda3\\envs\\pythondata\\lib\\site-packages\\sklearn\\neural_network\\_multilayer_perceptron.py:571: ConvergenceWarning: Stochastic Optimizer: Maximum iterations (300) reached and the optimization hasn't converged yet.\n",
      "  % self.max_iter, ConvergenceWarning)\n"
     ]
    },
    {
     "name": "stdout",
     "output_type": "stream",
     "text": [
      "[CV]  alpha=1e-05, learning_rate_init=0.001, max_iter=300, total=   4.8s\n",
      "[CV] alpha=1e-05, learning_rate_init=0.0001, max_iter=100 ............\n"
     ]
    },
    {
     "name": "stderr",
     "output_type": "stream",
     "text": [
      "C:\\Users\\Tristan\\anaconda\\Anaconda3\\envs\\pythondata\\lib\\site-packages\\sklearn\\neural_network\\_multilayer_perceptron.py:571: ConvergenceWarning: Stochastic Optimizer: Maximum iterations (100) reached and the optimization hasn't converged yet.\n",
      "  % self.max_iter, ConvergenceWarning)\n"
     ]
    },
    {
     "name": "stdout",
     "output_type": "stream",
     "text": [
      "[CV]  alpha=1e-05, learning_rate_init=0.0001, max_iter=100, total=   1.6s\n",
      "[CV] alpha=1e-05, learning_rate_init=0.0001, max_iter=100 ............\n"
     ]
    },
    {
     "name": "stderr",
     "output_type": "stream",
     "text": [
      "C:\\Users\\Tristan\\anaconda\\Anaconda3\\envs\\pythondata\\lib\\site-packages\\sklearn\\neural_network\\_multilayer_perceptron.py:571: ConvergenceWarning: Stochastic Optimizer: Maximum iterations (100) reached and the optimization hasn't converged yet.\n",
      "  % self.max_iter, ConvergenceWarning)\n"
     ]
    },
    {
     "name": "stdout",
     "output_type": "stream",
     "text": [
      "[CV]  alpha=1e-05, learning_rate_init=0.0001, max_iter=100, total=   1.8s\n",
      "[CV] alpha=1e-05, learning_rate_init=0.0001, max_iter=100 ............\n"
     ]
    },
    {
     "name": "stderr",
     "output_type": "stream",
     "text": [
      "C:\\Users\\Tristan\\anaconda\\Anaconda3\\envs\\pythondata\\lib\\site-packages\\sklearn\\neural_network\\_multilayer_perceptron.py:571: ConvergenceWarning: Stochastic Optimizer: Maximum iterations (100) reached and the optimization hasn't converged yet.\n",
      "  % self.max_iter, ConvergenceWarning)\n"
     ]
    },
    {
     "name": "stdout",
     "output_type": "stream",
     "text": [
      "[CV]  alpha=1e-05, learning_rate_init=0.0001, max_iter=100, total=   1.7s\n",
      "[CV] alpha=1e-05, learning_rate_init=0.0001, max_iter=100 ............\n"
     ]
    },
    {
     "name": "stderr",
     "output_type": "stream",
     "text": [
      "C:\\Users\\Tristan\\anaconda\\Anaconda3\\envs\\pythondata\\lib\\site-packages\\sklearn\\neural_network\\_multilayer_perceptron.py:571: ConvergenceWarning: Stochastic Optimizer: Maximum iterations (100) reached and the optimization hasn't converged yet.\n",
      "  % self.max_iter, ConvergenceWarning)\n"
     ]
    },
    {
     "name": "stdout",
     "output_type": "stream",
     "text": [
      "[CV]  alpha=1e-05, learning_rate_init=0.0001, max_iter=100, total=   1.7s\n",
      "[CV] alpha=1e-05, learning_rate_init=0.0001, max_iter=100 ............\n"
     ]
    },
    {
     "name": "stderr",
     "output_type": "stream",
     "text": [
      "C:\\Users\\Tristan\\anaconda\\Anaconda3\\envs\\pythondata\\lib\\site-packages\\sklearn\\neural_network\\_multilayer_perceptron.py:571: ConvergenceWarning: Stochastic Optimizer: Maximum iterations (100) reached and the optimization hasn't converged yet.\n",
      "  % self.max_iter, ConvergenceWarning)\n"
     ]
    },
    {
     "name": "stdout",
     "output_type": "stream",
     "text": [
      "[CV]  alpha=1e-05, learning_rate_init=0.0001, max_iter=100, total=   1.7s\n",
      "[CV] alpha=1e-05, learning_rate_init=0.0001, max_iter=200 ............\n"
     ]
    },
    {
     "name": "stderr",
     "output_type": "stream",
     "text": [
      "C:\\Users\\Tristan\\anaconda\\Anaconda3\\envs\\pythondata\\lib\\site-packages\\sklearn\\neural_network\\_multilayer_perceptron.py:571: ConvergenceWarning: Stochastic Optimizer: Maximum iterations (200) reached and the optimization hasn't converged yet.\n",
      "  % self.max_iter, ConvergenceWarning)\n"
     ]
    },
    {
     "name": "stdout",
     "output_type": "stream",
     "text": [
      "[CV]  alpha=1e-05, learning_rate_init=0.0001, max_iter=200, total=   3.2s\n",
      "[CV] alpha=1e-05, learning_rate_init=0.0001, max_iter=200 ............\n"
     ]
    },
    {
     "name": "stderr",
     "output_type": "stream",
     "text": [
      "C:\\Users\\Tristan\\anaconda\\Anaconda3\\envs\\pythondata\\lib\\site-packages\\sklearn\\neural_network\\_multilayer_perceptron.py:571: ConvergenceWarning: Stochastic Optimizer: Maximum iterations (200) reached and the optimization hasn't converged yet.\n",
      "  % self.max_iter, ConvergenceWarning)\n"
     ]
    },
    {
     "name": "stdout",
     "output_type": "stream",
     "text": [
      "[CV]  alpha=1e-05, learning_rate_init=0.0001, max_iter=200, total=   3.1s\n",
      "[CV] alpha=1e-05, learning_rate_init=0.0001, max_iter=200 ............\n"
     ]
    },
    {
     "name": "stderr",
     "output_type": "stream",
     "text": [
      "C:\\Users\\Tristan\\anaconda\\Anaconda3\\envs\\pythondata\\lib\\site-packages\\sklearn\\neural_network\\_multilayer_perceptron.py:571: ConvergenceWarning: Stochastic Optimizer: Maximum iterations (200) reached and the optimization hasn't converged yet.\n",
      "  % self.max_iter, ConvergenceWarning)\n"
     ]
    },
    {
     "name": "stdout",
     "output_type": "stream",
     "text": [
      "[CV]  alpha=1e-05, learning_rate_init=0.0001, max_iter=200, total=   3.1s\n",
      "[CV] alpha=1e-05, learning_rate_init=0.0001, max_iter=200 ............\n"
     ]
    },
    {
     "name": "stderr",
     "output_type": "stream",
     "text": [
      "C:\\Users\\Tristan\\anaconda\\Anaconda3\\envs\\pythondata\\lib\\site-packages\\sklearn\\neural_network\\_multilayer_perceptron.py:571: ConvergenceWarning: Stochastic Optimizer: Maximum iterations (200) reached and the optimization hasn't converged yet.\n",
      "  % self.max_iter, ConvergenceWarning)\n"
     ]
    },
    {
     "name": "stdout",
     "output_type": "stream",
     "text": [
      "[CV]  alpha=1e-05, learning_rate_init=0.0001, max_iter=200, total=   3.1s\n",
      "[CV] alpha=1e-05, learning_rate_init=0.0001, max_iter=200 ............\n"
     ]
    },
    {
     "name": "stderr",
     "output_type": "stream",
     "text": [
      "C:\\Users\\Tristan\\anaconda\\Anaconda3\\envs\\pythondata\\lib\\site-packages\\sklearn\\neural_network\\_multilayer_perceptron.py:571: ConvergenceWarning: Stochastic Optimizer: Maximum iterations (200) reached and the optimization hasn't converged yet.\n",
      "  % self.max_iter, ConvergenceWarning)\n"
     ]
    },
    {
     "name": "stdout",
     "output_type": "stream",
     "text": [
      "[CV]  alpha=1e-05, learning_rate_init=0.0001, max_iter=200, total=   3.1s\n",
      "[CV] alpha=1e-05, learning_rate_init=0.0001, max_iter=300 ............\n"
     ]
    },
    {
     "name": "stderr",
     "output_type": "stream",
     "text": [
      "C:\\Users\\Tristan\\anaconda\\Anaconda3\\envs\\pythondata\\lib\\site-packages\\sklearn\\neural_network\\_multilayer_perceptron.py:571: ConvergenceWarning: Stochastic Optimizer: Maximum iterations (300) reached and the optimization hasn't converged yet.\n",
      "  % self.max_iter, ConvergenceWarning)\n"
     ]
    },
    {
     "name": "stdout",
     "output_type": "stream",
     "text": [
      "[CV]  alpha=1e-05, learning_rate_init=0.0001, max_iter=300, total=   4.7s\n",
      "[CV] alpha=1e-05, learning_rate_init=0.0001, max_iter=300 ............\n"
     ]
    },
    {
     "name": "stderr",
     "output_type": "stream",
     "text": [
      "C:\\Users\\Tristan\\anaconda\\Anaconda3\\envs\\pythondata\\lib\\site-packages\\sklearn\\neural_network\\_multilayer_perceptron.py:571: ConvergenceWarning: Stochastic Optimizer: Maximum iterations (300) reached and the optimization hasn't converged yet.\n",
      "  % self.max_iter, ConvergenceWarning)\n"
     ]
    },
    {
     "name": "stdout",
     "output_type": "stream",
     "text": [
      "[CV]  alpha=1e-05, learning_rate_init=0.0001, max_iter=300, total=   4.7s\n",
      "[CV] alpha=1e-05, learning_rate_init=0.0001, max_iter=300 ............\n"
     ]
    },
    {
     "name": "stderr",
     "output_type": "stream",
     "text": [
      "C:\\Users\\Tristan\\anaconda\\Anaconda3\\envs\\pythondata\\lib\\site-packages\\sklearn\\neural_network\\_multilayer_perceptron.py:571: ConvergenceWarning: Stochastic Optimizer: Maximum iterations (300) reached and the optimization hasn't converged yet.\n",
      "  % self.max_iter, ConvergenceWarning)\n"
     ]
    },
    {
     "name": "stdout",
     "output_type": "stream",
     "text": [
      "[CV]  alpha=1e-05, learning_rate_init=0.0001, max_iter=300, total=   4.7s\n",
      "[CV] alpha=1e-05, learning_rate_init=0.0001, max_iter=300 ............\n"
     ]
    },
    {
     "name": "stderr",
     "output_type": "stream",
     "text": [
      "C:\\Users\\Tristan\\anaconda\\Anaconda3\\envs\\pythondata\\lib\\site-packages\\sklearn\\neural_network\\_multilayer_perceptron.py:571: ConvergenceWarning: Stochastic Optimizer: Maximum iterations (300) reached and the optimization hasn't converged yet.\n",
      "  % self.max_iter, ConvergenceWarning)\n"
     ]
    },
    {
     "name": "stdout",
     "output_type": "stream",
     "text": [
      "[CV]  alpha=1e-05, learning_rate_init=0.0001, max_iter=300, total=   4.7s\n",
      "[CV] alpha=1e-05, learning_rate_init=0.0001, max_iter=300 ............\n"
     ]
    },
    {
     "name": "stderr",
     "output_type": "stream",
     "text": [
      "C:\\Users\\Tristan\\anaconda\\Anaconda3\\envs\\pythondata\\lib\\site-packages\\sklearn\\neural_network\\_multilayer_perceptron.py:571: ConvergenceWarning: Stochastic Optimizer: Maximum iterations (300) reached and the optimization hasn't converged yet.\n",
      "  % self.max_iter, ConvergenceWarning)\n"
     ]
    },
    {
     "name": "stdout",
     "output_type": "stream",
     "text": [
      "[CV]  alpha=1e-05, learning_rate_init=0.0001, max_iter=300, total=   4.7s\n",
      "[CV] alpha=1e-05, learning_rate_init=1e-05, max_iter=100 .............\n"
     ]
    },
    {
     "name": "stderr",
     "output_type": "stream",
     "text": [
      "C:\\Users\\Tristan\\anaconda\\Anaconda3\\envs\\pythondata\\lib\\site-packages\\sklearn\\neural_network\\_multilayer_perceptron.py:571: ConvergenceWarning: Stochastic Optimizer: Maximum iterations (100) reached and the optimization hasn't converged yet.\n",
      "  % self.max_iter, ConvergenceWarning)\n"
     ]
    },
    {
     "name": "stdout",
     "output_type": "stream",
     "text": [
      "[CV]  alpha=1e-05, learning_rate_init=1e-05, max_iter=100, total=   1.6s\n",
      "[CV] alpha=1e-05, learning_rate_init=1e-05, max_iter=100 .............\n"
     ]
    },
    {
     "name": "stderr",
     "output_type": "stream",
     "text": [
      "C:\\Users\\Tristan\\anaconda\\Anaconda3\\envs\\pythondata\\lib\\site-packages\\sklearn\\neural_network\\_multilayer_perceptron.py:571: ConvergenceWarning: Stochastic Optimizer: Maximum iterations (100) reached and the optimization hasn't converged yet.\n",
      "  % self.max_iter, ConvergenceWarning)\n"
     ]
    },
    {
     "name": "stdout",
     "output_type": "stream",
     "text": [
      "[CV]  alpha=1e-05, learning_rate_init=1e-05, max_iter=100, total=   1.6s\n",
      "[CV] alpha=1e-05, learning_rate_init=1e-05, max_iter=100 .............\n"
     ]
    },
    {
     "name": "stderr",
     "output_type": "stream",
     "text": [
      "C:\\Users\\Tristan\\anaconda\\Anaconda3\\envs\\pythondata\\lib\\site-packages\\sklearn\\neural_network\\_multilayer_perceptron.py:571: ConvergenceWarning: Stochastic Optimizer: Maximum iterations (100) reached and the optimization hasn't converged yet.\n",
      "  % self.max_iter, ConvergenceWarning)\n"
     ]
    },
    {
     "name": "stdout",
     "output_type": "stream",
     "text": [
      "[CV]  alpha=1e-05, learning_rate_init=1e-05, max_iter=100, total=   1.7s\n",
      "[CV] alpha=1e-05, learning_rate_init=1e-05, max_iter=100 .............\n"
     ]
    },
    {
     "name": "stderr",
     "output_type": "stream",
     "text": [
      "C:\\Users\\Tristan\\anaconda\\Anaconda3\\envs\\pythondata\\lib\\site-packages\\sklearn\\neural_network\\_multilayer_perceptron.py:571: ConvergenceWarning: Stochastic Optimizer: Maximum iterations (100) reached and the optimization hasn't converged yet.\n",
      "  % self.max_iter, ConvergenceWarning)\n"
     ]
    },
    {
     "name": "stdout",
     "output_type": "stream",
     "text": [
      "[CV]  alpha=1e-05, learning_rate_init=1e-05, max_iter=100, total=   1.6s\n",
      "[CV] alpha=1e-05, learning_rate_init=1e-05, max_iter=100 .............\n"
     ]
    },
    {
     "name": "stderr",
     "output_type": "stream",
     "text": [
      "C:\\Users\\Tristan\\anaconda\\Anaconda3\\envs\\pythondata\\lib\\site-packages\\sklearn\\neural_network\\_multilayer_perceptron.py:571: ConvergenceWarning: Stochastic Optimizer: Maximum iterations (100) reached and the optimization hasn't converged yet.\n",
      "  % self.max_iter, ConvergenceWarning)\n"
     ]
    },
    {
     "name": "stdout",
     "output_type": "stream",
     "text": [
      "[CV]  alpha=1e-05, learning_rate_init=1e-05, max_iter=100, total=   1.6s\n",
      "[CV] alpha=1e-05, learning_rate_init=1e-05, max_iter=200 .............\n"
     ]
    },
    {
     "name": "stderr",
     "output_type": "stream",
     "text": [
      "C:\\Users\\Tristan\\anaconda\\Anaconda3\\envs\\pythondata\\lib\\site-packages\\sklearn\\neural_network\\_multilayer_perceptron.py:571: ConvergenceWarning: Stochastic Optimizer: Maximum iterations (200) reached and the optimization hasn't converged yet.\n",
      "  % self.max_iter, ConvergenceWarning)\n"
     ]
    },
    {
     "name": "stdout",
     "output_type": "stream",
     "text": [
      "[CV]  alpha=1e-05, learning_rate_init=1e-05, max_iter=200, total=   3.1s\n",
      "[CV] alpha=1e-05, learning_rate_init=1e-05, max_iter=200 .............\n"
     ]
    },
    {
     "name": "stderr",
     "output_type": "stream",
     "text": [
      "C:\\Users\\Tristan\\anaconda\\Anaconda3\\envs\\pythondata\\lib\\site-packages\\sklearn\\neural_network\\_multilayer_perceptron.py:571: ConvergenceWarning: Stochastic Optimizer: Maximum iterations (200) reached and the optimization hasn't converged yet.\n",
      "  % self.max_iter, ConvergenceWarning)\n"
     ]
    },
    {
     "name": "stdout",
     "output_type": "stream",
     "text": [
      "[CV]  alpha=1e-05, learning_rate_init=1e-05, max_iter=200, total=   3.2s\n",
      "[CV] alpha=1e-05, learning_rate_init=1e-05, max_iter=200 .............\n"
     ]
    },
    {
     "name": "stderr",
     "output_type": "stream",
     "text": [
      "C:\\Users\\Tristan\\anaconda\\Anaconda3\\envs\\pythondata\\lib\\site-packages\\sklearn\\neural_network\\_multilayer_perceptron.py:571: ConvergenceWarning: Stochastic Optimizer: Maximum iterations (200) reached and the optimization hasn't converged yet.\n",
      "  % self.max_iter, ConvergenceWarning)\n"
     ]
    },
    {
     "name": "stdout",
     "output_type": "stream",
     "text": [
      "[CV]  alpha=1e-05, learning_rate_init=1e-05, max_iter=200, total=   3.2s\n",
      "[CV] alpha=1e-05, learning_rate_init=1e-05, max_iter=200 .............\n"
     ]
    },
    {
     "name": "stderr",
     "output_type": "stream",
     "text": [
      "C:\\Users\\Tristan\\anaconda\\Anaconda3\\envs\\pythondata\\lib\\site-packages\\sklearn\\neural_network\\_multilayer_perceptron.py:571: ConvergenceWarning: Stochastic Optimizer: Maximum iterations (200) reached and the optimization hasn't converged yet.\n",
      "  % self.max_iter, ConvergenceWarning)\n"
     ]
    },
    {
     "name": "stdout",
     "output_type": "stream",
     "text": [
      "[CV]  alpha=1e-05, learning_rate_init=1e-05, max_iter=200, total=   3.3s\n",
      "[CV] alpha=1e-05, learning_rate_init=1e-05, max_iter=200 .............\n"
     ]
    },
    {
     "name": "stderr",
     "output_type": "stream",
     "text": [
      "C:\\Users\\Tristan\\anaconda\\Anaconda3\\envs\\pythondata\\lib\\site-packages\\sklearn\\neural_network\\_multilayer_perceptron.py:571: ConvergenceWarning: Stochastic Optimizer: Maximum iterations (200) reached and the optimization hasn't converged yet.\n",
      "  % self.max_iter, ConvergenceWarning)\n"
     ]
    },
    {
     "name": "stdout",
     "output_type": "stream",
     "text": [
      "[CV]  alpha=1e-05, learning_rate_init=1e-05, max_iter=200, total=   3.1s\n",
      "[CV] alpha=1e-05, learning_rate_init=1e-05, max_iter=300 .............\n"
     ]
    },
    {
     "name": "stderr",
     "output_type": "stream",
     "text": [
      "C:\\Users\\Tristan\\anaconda\\Anaconda3\\envs\\pythondata\\lib\\site-packages\\sklearn\\neural_network\\_multilayer_perceptron.py:571: ConvergenceWarning: Stochastic Optimizer: Maximum iterations (300) reached and the optimization hasn't converged yet.\n",
      "  % self.max_iter, ConvergenceWarning)\n"
     ]
    },
    {
     "name": "stdout",
     "output_type": "stream",
     "text": [
      "[CV]  alpha=1e-05, learning_rate_init=1e-05, max_iter=300, total=   4.7s\n",
      "[CV] alpha=1e-05, learning_rate_init=1e-05, max_iter=300 .............\n"
     ]
    },
    {
     "name": "stderr",
     "output_type": "stream",
     "text": [
      "C:\\Users\\Tristan\\anaconda\\Anaconda3\\envs\\pythondata\\lib\\site-packages\\sklearn\\neural_network\\_multilayer_perceptron.py:571: ConvergenceWarning: Stochastic Optimizer: Maximum iterations (300) reached and the optimization hasn't converged yet.\n",
      "  % self.max_iter, ConvergenceWarning)\n"
     ]
    },
    {
     "name": "stdout",
     "output_type": "stream",
     "text": [
      "[CV]  alpha=1e-05, learning_rate_init=1e-05, max_iter=300, total=   4.5s\n",
      "[CV] alpha=1e-05, learning_rate_init=1e-05, max_iter=300 .............\n"
     ]
    },
    {
     "name": "stderr",
     "output_type": "stream",
     "text": [
      "C:\\Users\\Tristan\\anaconda\\Anaconda3\\envs\\pythondata\\lib\\site-packages\\sklearn\\neural_network\\_multilayer_perceptron.py:571: ConvergenceWarning: Stochastic Optimizer: Maximum iterations (300) reached and the optimization hasn't converged yet.\n",
      "  % self.max_iter, ConvergenceWarning)\n"
     ]
    },
    {
     "name": "stdout",
     "output_type": "stream",
     "text": [
      "[CV]  alpha=1e-05, learning_rate_init=1e-05, max_iter=300, total=   5.3s\n",
      "[CV] alpha=1e-05, learning_rate_init=1e-05, max_iter=300 .............\n"
     ]
    },
    {
     "name": "stderr",
     "output_type": "stream",
     "text": [
      "C:\\Users\\Tristan\\anaconda\\Anaconda3\\envs\\pythondata\\lib\\site-packages\\sklearn\\neural_network\\_multilayer_perceptron.py:571: ConvergenceWarning: Stochastic Optimizer: Maximum iterations (300) reached and the optimization hasn't converged yet.\n",
      "  % self.max_iter, ConvergenceWarning)\n"
     ]
    },
    {
     "name": "stdout",
     "output_type": "stream",
     "text": [
      "[CV]  alpha=1e-05, learning_rate_init=1e-05, max_iter=300, total=   4.7s\n",
      "[CV] alpha=1e-05, learning_rate_init=1e-05, max_iter=300 .............\n"
     ]
    },
    {
     "name": "stderr",
     "output_type": "stream",
     "text": [
      "C:\\Users\\Tristan\\anaconda\\Anaconda3\\envs\\pythondata\\lib\\site-packages\\sklearn\\neural_network\\_multilayer_perceptron.py:571: ConvergenceWarning: Stochastic Optimizer: Maximum iterations (300) reached and the optimization hasn't converged yet.\n",
      "  % self.max_iter, ConvergenceWarning)\n"
     ]
    },
    {
     "name": "stdout",
     "output_type": "stream",
     "text": [
      "[CV]  alpha=1e-05, learning_rate_init=1e-05, max_iter=300, total=   4.6s\n",
      "[CV] alpha=1e-05, learning_rate_init=1e-06, max_iter=100 .............\n"
     ]
    },
    {
     "name": "stderr",
     "output_type": "stream",
     "text": [
      "C:\\Users\\Tristan\\anaconda\\Anaconda3\\envs\\pythondata\\lib\\site-packages\\sklearn\\neural_network\\_multilayer_perceptron.py:571: ConvergenceWarning: Stochastic Optimizer: Maximum iterations (100) reached and the optimization hasn't converged yet.\n",
      "  % self.max_iter, ConvergenceWarning)\n"
     ]
    },
    {
     "name": "stdout",
     "output_type": "stream",
     "text": [
      "[CV]  alpha=1e-05, learning_rate_init=1e-06, max_iter=100, total=   1.6s\n",
      "[CV] alpha=1e-05, learning_rate_init=1e-06, max_iter=100 .............\n"
     ]
    },
    {
     "name": "stderr",
     "output_type": "stream",
     "text": [
      "C:\\Users\\Tristan\\anaconda\\Anaconda3\\envs\\pythondata\\lib\\site-packages\\sklearn\\neural_network\\_multilayer_perceptron.py:571: ConvergenceWarning: Stochastic Optimizer: Maximum iterations (100) reached and the optimization hasn't converged yet.\n",
      "  % self.max_iter, ConvergenceWarning)\n"
     ]
    },
    {
     "name": "stdout",
     "output_type": "stream",
     "text": [
      "[CV]  alpha=1e-05, learning_rate_init=1e-06, max_iter=100, total=   1.7s\n",
      "[CV] alpha=1e-05, learning_rate_init=1e-06, max_iter=100 .............\n"
     ]
    },
    {
     "name": "stderr",
     "output_type": "stream",
     "text": [
      "C:\\Users\\Tristan\\anaconda\\Anaconda3\\envs\\pythondata\\lib\\site-packages\\sklearn\\neural_network\\_multilayer_perceptron.py:571: ConvergenceWarning: Stochastic Optimizer: Maximum iterations (100) reached and the optimization hasn't converged yet.\n",
      "  % self.max_iter, ConvergenceWarning)\n"
     ]
    },
    {
     "name": "stdout",
     "output_type": "stream",
     "text": [
      "[CV]  alpha=1e-05, learning_rate_init=1e-06, max_iter=100, total=   1.7s\n",
      "[CV] alpha=1e-05, learning_rate_init=1e-06, max_iter=100 .............\n"
     ]
    },
    {
     "name": "stderr",
     "output_type": "stream",
     "text": [
      "C:\\Users\\Tristan\\anaconda\\Anaconda3\\envs\\pythondata\\lib\\site-packages\\sklearn\\neural_network\\_multilayer_perceptron.py:571: ConvergenceWarning: Stochastic Optimizer: Maximum iterations (100) reached and the optimization hasn't converged yet.\n",
      "  % self.max_iter, ConvergenceWarning)\n"
     ]
    },
    {
     "name": "stdout",
     "output_type": "stream",
     "text": [
      "[CV]  alpha=1e-05, learning_rate_init=1e-06, max_iter=100, total=   1.7s\n",
      "[CV] alpha=1e-05, learning_rate_init=1e-06, max_iter=100 .............\n"
     ]
    },
    {
     "name": "stderr",
     "output_type": "stream",
     "text": [
      "C:\\Users\\Tristan\\anaconda\\Anaconda3\\envs\\pythondata\\lib\\site-packages\\sklearn\\neural_network\\_multilayer_perceptron.py:571: ConvergenceWarning: Stochastic Optimizer: Maximum iterations (100) reached and the optimization hasn't converged yet.\n",
      "  % self.max_iter, ConvergenceWarning)\n"
     ]
    },
    {
     "name": "stdout",
     "output_type": "stream",
     "text": [
      "[CV]  alpha=1e-05, learning_rate_init=1e-06, max_iter=100, total=   1.7s\n",
      "[CV] alpha=1e-05, learning_rate_init=1e-06, max_iter=200 .............\n"
     ]
    },
    {
     "name": "stderr",
     "output_type": "stream",
     "text": [
      "C:\\Users\\Tristan\\anaconda\\Anaconda3\\envs\\pythondata\\lib\\site-packages\\sklearn\\neural_network\\_multilayer_perceptron.py:571: ConvergenceWarning: Stochastic Optimizer: Maximum iterations (200) reached and the optimization hasn't converged yet.\n",
      "  % self.max_iter, ConvergenceWarning)\n"
     ]
    },
    {
     "name": "stdout",
     "output_type": "stream",
     "text": [
      "[CV]  alpha=1e-05, learning_rate_init=1e-06, max_iter=200, total=   3.3s\n",
      "[CV] alpha=1e-05, learning_rate_init=1e-06, max_iter=200 .............\n"
     ]
    },
    {
     "name": "stderr",
     "output_type": "stream",
     "text": [
      "C:\\Users\\Tristan\\anaconda\\Anaconda3\\envs\\pythondata\\lib\\site-packages\\sklearn\\neural_network\\_multilayer_perceptron.py:571: ConvergenceWarning: Stochastic Optimizer: Maximum iterations (200) reached and the optimization hasn't converged yet.\n",
      "  % self.max_iter, ConvergenceWarning)\n"
     ]
    },
    {
     "name": "stdout",
     "output_type": "stream",
     "text": [
      "[CV]  alpha=1e-05, learning_rate_init=1e-06, max_iter=200, total=   3.1s\n",
      "[CV] alpha=1e-05, learning_rate_init=1e-06, max_iter=200 .............\n"
     ]
    },
    {
     "name": "stderr",
     "output_type": "stream",
     "text": [
      "C:\\Users\\Tristan\\anaconda\\Anaconda3\\envs\\pythondata\\lib\\site-packages\\sklearn\\neural_network\\_multilayer_perceptron.py:571: ConvergenceWarning: Stochastic Optimizer: Maximum iterations (200) reached and the optimization hasn't converged yet.\n",
      "  % self.max_iter, ConvergenceWarning)\n"
     ]
    },
    {
     "name": "stdout",
     "output_type": "stream",
     "text": [
      "[CV]  alpha=1e-05, learning_rate_init=1e-06, max_iter=200, total=   3.1s\n",
      "[CV] alpha=1e-05, learning_rate_init=1e-06, max_iter=200 .............\n"
     ]
    },
    {
     "name": "stderr",
     "output_type": "stream",
     "text": [
      "C:\\Users\\Tristan\\anaconda\\Anaconda3\\envs\\pythondata\\lib\\site-packages\\sklearn\\neural_network\\_multilayer_perceptron.py:571: ConvergenceWarning: Stochastic Optimizer: Maximum iterations (200) reached and the optimization hasn't converged yet.\n",
      "  % self.max_iter, ConvergenceWarning)\n"
     ]
    },
    {
     "name": "stdout",
     "output_type": "stream",
     "text": [
      "[CV]  alpha=1e-05, learning_rate_init=1e-06, max_iter=200, total=   3.2s\n",
      "[CV] alpha=1e-05, learning_rate_init=1e-06, max_iter=200 .............\n"
     ]
    },
    {
     "name": "stderr",
     "output_type": "stream",
     "text": [
      "C:\\Users\\Tristan\\anaconda\\Anaconda3\\envs\\pythondata\\lib\\site-packages\\sklearn\\neural_network\\_multilayer_perceptron.py:571: ConvergenceWarning: Stochastic Optimizer: Maximum iterations (200) reached and the optimization hasn't converged yet.\n",
      "  % self.max_iter, ConvergenceWarning)\n"
     ]
    },
    {
     "name": "stdout",
     "output_type": "stream",
     "text": [
      "[CV]  alpha=1e-05, learning_rate_init=1e-06, max_iter=200, total=   3.1s\n",
      "[CV] alpha=1e-05, learning_rate_init=1e-06, max_iter=300 .............\n"
     ]
    },
    {
     "name": "stderr",
     "output_type": "stream",
     "text": [
      "C:\\Users\\Tristan\\anaconda\\Anaconda3\\envs\\pythondata\\lib\\site-packages\\sklearn\\neural_network\\_multilayer_perceptron.py:571: ConvergenceWarning: Stochastic Optimizer: Maximum iterations (300) reached and the optimization hasn't converged yet.\n",
      "  % self.max_iter, ConvergenceWarning)\n"
     ]
    },
    {
     "name": "stdout",
     "output_type": "stream",
     "text": [
      "[CV]  alpha=1e-05, learning_rate_init=1e-06, max_iter=300, total=   5.1s\n",
      "[CV] alpha=1e-05, learning_rate_init=1e-06, max_iter=300 .............\n"
     ]
    },
    {
     "name": "stderr",
     "output_type": "stream",
     "text": [
      "C:\\Users\\Tristan\\anaconda\\Anaconda3\\envs\\pythondata\\lib\\site-packages\\sklearn\\neural_network\\_multilayer_perceptron.py:571: ConvergenceWarning: Stochastic Optimizer: Maximum iterations (300) reached and the optimization hasn't converged yet.\n",
      "  % self.max_iter, ConvergenceWarning)\n"
     ]
    },
    {
     "name": "stdout",
     "output_type": "stream",
     "text": [
      "[CV]  alpha=1e-05, learning_rate_init=1e-06, max_iter=300, total=   4.7s\n",
      "[CV] alpha=1e-05, learning_rate_init=1e-06, max_iter=300 .............\n"
     ]
    },
    {
     "name": "stderr",
     "output_type": "stream",
     "text": [
      "C:\\Users\\Tristan\\anaconda\\Anaconda3\\envs\\pythondata\\lib\\site-packages\\sklearn\\neural_network\\_multilayer_perceptron.py:571: ConvergenceWarning: Stochastic Optimizer: Maximum iterations (300) reached and the optimization hasn't converged yet.\n",
      "  % self.max_iter, ConvergenceWarning)\n"
     ]
    },
    {
     "name": "stdout",
     "output_type": "stream",
     "text": [
      "[CV]  alpha=1e-05, learning_rate_init=1e-06, max_iter=300, total=   4.6s\n",
      "[CV] alpha=1e-05, learning_rate_init=1e-06, max_iter=300 .............\n"
     ]
    },
    {
     "name": "stderr",
     "output_type": "stream",
     "text": [
      "C:\\Users\\Tristan\\anaconda\\Anaconda3\\envs\\pythondata\\lib\\site-packages\\sklearn\\neural_network\\_multilayer_perceptron.py:571: ConvergenceWarning: Stochastic Optimizer: Maximum iterations (300) reached and the optimization hasn't converged yet.\n",
      "  % self.max_iter, ConvergenceWarning)\n"
     ]
    },
    {
     "name": "stdout",
     "output_type": "stream",
     "text": [
      "[CV]  alpha=1e-05, learning_rate_init=1e-06, max_iter=300, total=   4.6s\n",
      "[CV] alpha=1e-05, learning_rate_init=1e-06, max_iter=300 .............\n"
     ]
    },
    {
     "name": "stderr",
     "output_type": "stream",
     "text": [
      "C:\\Users\\Tristan\\anaconda\\Anaconda3\\envs\\pythondata\\lib\\site-packages\\sklearn\\neural_network\\_multilayer_perceptron.py:571: ConvergenceWarning: Stochastic Optimizer: Maximum iterations (300) reached and the optimization hasn't converged yet.\n",
      "  % self.max_iter, ConvergenceWarning)\n"
     ]
    },
    {
     "name": "stdout",
     "output_type": "stream",
     "text": [
      "[CV]  alpha=1e-05, learning_rate_init=1e-06, max_iter=300, total=   4.8s\n",
      "[CV] alpha=1e-06, learning_rate_init=0.1, max_iter=100 ...............\n",
      "[CV]  alpha=1e-06, learning_rate_init=0.1, max_iter=100, total=   0.6s\n",
      "[CV] alpha=1e-06, learning_rate_init=0.1, max_iter=100 ...............\n",
      "[CV]  alpha=1e-06, learning_rate_init=0.1, max_iter=100, total=   0.8s\n",
      "[CV] alpha=1e-06, learning_rate_init=0.1, max_iter=100 ...............\n",
      "[CV]  alpha=1e-06, learning_rate_init=0.1, max_iter=100, total=   1.0s\n",
      "[CV] alpha=1e-06, learning_rate_init=0.1, max_iter=100 ...............\n",
      "[CV]  alpha=1e-06, learning_rate_init=0.1, max_iter=100, total=   0.7s\n",
      "[CV] alpha=1e-06, learning_rate_init=0.1, max_iter=100 ...............\n",
      "[CV]  alpha=1e-06, learning_rate_init=0.1, max_iter=100, total=   0.8s\n",
      "[CV] alpha=1e-06, learning_rate_init=0.1, max_iter=200 ...............\n",
      "[CV]  alpha=1e-06, learning_rate_init=0.1, max_iter=200, total=   0.6s\n",
      "[CV] alpha=1e-06, learning_rate_init=0.1, max_iter=200 ...............\n",
      "[CV]  alpha=1e-06, learning_rate_init=0.1, max_iter=200, total=   0.8s\n",
      "[CV] alpha=1e-06, learning_rate_init=0.1, max_iter=200 ...............\n",
      "[CV]  alpha=1e-06, learning_rate_init=0.1, max_iter=200, total=   0.9s\n",
      "[CV] alpha=1e-06, learning_rate_init=0.1, max_iter=200 ...............\n",
      "[CV]  alpha=1e-06, learning_rate_init=0.1, max_iter=200, total=   0.6s\n",
      "[CV] alpha=1e-06, learning_rate_init=0.1, max_iter=200 ...............\n",
      "[CV]  alpha=1e-06, learning_rate_init=0.1, max_iter=200, total=   0.7s\n",
      "[CV] alpha=1e-06, learning_rate_init=0.1, max_iter=300 ...............\n",
      "[CV]  alpha=1e-06, learning_rate_init=0.1, max_iter=300, total=   0.6s\n",
      "[CV] alpha=1e-06, learning_rate_init=0.1, max_iter=300 ...............\n",
      "[CV]  alpha=1e-06, learning_rate_init=0.1, max_iter=300, total=   0.8s\n",
      "[CV] alpha=1e-06, learning_rate_init=0.1, max_iter=300 ...............\n",
      "[CV]  alpha=1e-06, learning_rate_init=0.1, max_iter=300, total=   0.9s\n",
      "[CV] alpha=1e-06, learning_rate_init=0.1, max_iter=300 ...............\n",
      "[CV]  alpha=1e-06, learning_rate_init=0.1, max_iter=300, total=   0.7s\n",
      "[CV] alpha=1e-06, learning_rate_init=0.1, max_iter=300 ...............\n",
      "[CV]  alpha=1e-06, learning_rate_init=0.1, max_iter=300, total=   0.8s\n",
      "[CV] alpha=1e-06, learning_rate_init=0.01, max_iter=100 ..............\n"
     ]
    },
    {
     "name": "stderr",
     "output_type": "stream",
     "text": [
      "C:\\Users\\Tristan\\anaconda\\Anaconda3\\envs\\pythondata\\lib\\site-packages\\sklearn\\neural_network\\_multilayer_perceptron.py:571: ConvergenceWarning: Stochastic Optimizer: Maximum iterations (100) reached and the optimization hasn't converged yet.\n",
      "  % self.max_iter, ConvergenceWarning)\n"
     ]
    },
    {
     "name": "stdout",
     "output_type": "stream",
     "text": [
      "[CV]  alpha=1e-06, learning_rate_init=0.01, max_iter=100, total=   1.6s\n",
      "[CV] alpha=1e-06, learning_rate_init=0.01, max_iter=100 ..............\n"
     ]
    },
    {
     "name": "stderr",
     "output_type": "stream",
     "text": [
      "C:\\Users\\Tristan\\anaconda\\Anaconda3\\envs\\pythondata\\lib\\site-packages\\sklearn\\neural_network\\_multilayer_perceptron.py:571: ConvergenceWarning: Stochastic Optimizer: Maximum iterations (100) reached and the optimization hasn't converged yet.\n",
      "  % self.max_iter, ConvergenceWarning)\n"
     ]
    },
    {
     "name": "stdout",
     "output_type": "stream",
     "text": [
      "[CV]  alpha=1e-06, learning_rate_init=0.01, max_iter=100, total=   1.6s\n",
      "[CV] alpha=1e-06, learning_rate_init=0.01, max_iter=100 ..............\n",
      "[CV]  alpha=1e-06, learning_rate_init=0.01, max_iter=100, total=   1.4s\n",
      "[CV] alpha=1e-06, learning_rate_init=0.01, max_iter=100 ..............\n"
     ]
    },
    {
     "name": "stderr",
     "output_type": "stream",
     "text": [
      "C:\\Users\\Tristan\\anaconda\\Anaconda3\\envs\\pythondata\\lib\\site-packages\\sklearn\\neural_network\\_multilayer_perceptron.py:571: ConvergenceWarning: Stochastic Optimizer: Maximum iterations (100) reached and the optimization hasn't converged yet.\n",
      "  % self.max_iter, ConvergenceWarning)\n"
     ]
    },
    {
     "name": "stdout",
     "output_type": "stream",
     "text": [
      "[CV]  alpha=1e-06, learning_rate_init=0.01, max_iter=100, total=   1.6s\n",
      "[CV] alpha=1e-06, learning_rate_init=0.01, max_iter=100 ..............\n"
     ]
    },
    {
     "name": "stderr",
     "output_type": "stream",
     "text": [
      "C:\\Users\\Tristan\\anaconda\\Anaconda3\\envs\\pythondata\\lib\\site-packages\\sklearn\\neural_network\\_multilayer_perceptron.py:571: ConvergenceWarning: Stochastic Optimizer: Maximum iterations (100) reached and the optimization hasn't converged yet.\n",
      "  % self.max_iter, ConvergenceWarning)\n"
     ]
    },
    {
     "name": "stdout",
     "output_type": "stream",
     "text": [
      "[CV]  alpha=1e-06, learning_rate_init=0.01, max_iter=100, total=   1.6s\n",
      "[CV] alpha=1e-06, learning_rate_init=0.01, max_iter=200 ..............\n",
      "[CV]  alpha=1e-06, learning_rate_init=0.01, max_iter=200, total=   1.6s\n",
      "[CV] alpha=1e-06, learning_rate_init=0.01, max_iter=200 ..............\n",
      "[CV]  alpha=1e-06, learning_rate_init=0.01, max_iter=200, total=   2.2s\n",
      "[CV] alpha=1e-06, learning_rate_init=0.01, max_iter=200 ..............\n",
      "[CV]  alpha=1e-06, learning_rate_init=0.01, max_iter=200, total=   1.5s\n",
      "[CV] alpha=1e-06, learning_rate_init=0.01, max_iter=200 ..............\n",
      "[CV]  alpha=1e-06, learning_rate_init=0.01, max_iter=200, total=   1.7s\n",
      "[CV] alpha=1e-06, learning_rate_init=0.01, max_iter=200 ..............\n",
      "[CV]  alpha=1e-06, learning_rate_init=0.01, max_iter=200, total=   1.8s\n",
      "[CV] alpha=1e-06, learning_rate_init=0.01, max_iter=300 ..............\n",
      "[CV]  alpha=1e-06, learning_rate_init=0.01, max_iter=300, total=   1.8s\n",
      "[CV] alpha=1e-06, learning_rate_init=0.01, max_iter=300 ..............\n",
      "[CV]  alpha=1e-06, learning_rate_init=0.01, max_iter=300, total=   2.3s\n",
      "[CV] alpha=1e-06, learning_rate_init=0.01, max_iter=300 ..............\n",
      "[CV]  alpha=1e-06, learning_rate_init=0.01, max_iter=300, total=   1.4s\n",
      "[CV] alpha=1e-06, learning_rate_init=0.01, max_iter=300 ..............\n",
      "[CV]  alpha=1e-06, learning_rate_init=0.01, max_iter=300, total=   1.6s\n",
      "[CV] alpha=1e-06, learning_rate_init=0.01, max_iter=300 ..............\n",
      "[CV]  alpha=1e-06, learning_rate_init=0.01, max_iter=300, total=   2.0s\n",
      "[CV] alpha=1e-06, learning_rate_init=0.001, max_iter=100 .............\n"
     ]
    },
    {
     "name": "stderr",
     "output_type": "stream",
     "text": [
      "C:\\Users\\Tristan\\anaconda\\Anaconda3\\envs\\pythondata\\lib\\site-packages\\sklearn\\neural_network\\_multilayer_perceptron.py:571: ConvergenceWarning: Stochastic Optimizer: Maximum iterations (100) reached and the optimization hasn't converged yet.\n",
      "  % self.max_iter, ConvergenceWarning)\n"
     ]
    },
    {
     "name": "stdout",
     "output_type": "stream",
     "text": [
      "[CV]  alpha=1e-06, learning_rate_init=0.001, max_iter=100, total=   1.6s\n",
      "[CV] alpha=1e-06, learning_rate_init=0.001, max_iter=100 .............\n"
     ]
    },
    {
     "name": "stderr",
     "output_type": "stream",
     "text": [
      "C:\\Users\\Tristan\\anaconda\\Anaconda3\\envs\\pythondata\\lib\\site-packages\\sklearn\\neural_network\\_multilayer_perceptron.py:571: ConvergenceWarning: Stochastic Optimizer: Maximum iterations (100) reached and the optimization hasn't converged yet.\n",
      "  % self.max_iter, ConvergenceWarning)\n"
     ]
    },
    {
     "name": "stdout",
     "output_type": "stream",
     "text": [
      "[CV]  alpha=1e-06, learning_rate_init=0.001, max_iter=100, total=   1.6s\n",
      "[CV] alpha=1e-06, learning_rate_init=0.001, max_iter=100 .............\n"
     ]
    },
    {
     "name": "stderr",
     "output_type": "stream",
     "text": [
      "C:\\Users\\Tristan\\anaconda\\Anaconda3\\envs\\pythondata\\lib\\site-packages\\sklearn\\neural_network\\_multilayer_perceptron.py:571: ConvergenceWarning: Stochastic Optimizer: Maximum iterations (100) reached and the optimization hasn't converged yet.\n",
      "  % self.max_iter, ConvergenceWarning)\n"
     ]
    },
    {
     "name": "stdout",
     "output_type": "stream",
     "text": [
      "[CV]  alpha=1e-06, learning_rate_init=0.001, max_iter=100, total=   1.6s\n",
      "[CV] alpha=1e-06, learning_rate_init=0.001, max_iter=100 .............\n"
     ]
    },
    {
     "name": "stderr",
     "output_type": "stream",
     "text": [
      "C:\\Users\\Tristan\\anaconda\\Anaconda3\\envs\\pythondata\\lib\\site-packages\\sklearn\\neural_network\\_multilayer_perceptron.py:571: ConvergenceWarning: Stochastic Optimizer: Maximum iterations (100) reached and the optimization hasn't converged yet.\n",
      "  % self.max_iter, ConvergenceWarning)\n"
     ]
    },
    {
     "name": "stdout",
     "output_type": "stream",
     "text": [
      "[CV]  alpha=1e-06, learning_rate_init=0.001, max_iter=100, total=   1.7s\n",
      "[CV] alpha=1e-06, learning_rate_init=0.001, max_iter=100 .............\n"
     ]
    },
    {
     "name": "stderr",
     "output_type": "stream",
     "text": [
      "C:\\Users\\Tristan\\anaconda\\Anaconda3\\envs\\pythondata\\lib\\site-packages\\sklearn\\neural_network\\_multilayer_perceptron.py:571: ConvergenceWarning: Stochastic Optimizer: Maximum iterations (100) reached and the optimization hasn't converged yet.\n",
      "  % self.max_iter, ConvergenceWarning)\n"
     ]
    },
    {
     "name": "stdout",
     "output_type": "stream",
     "text": [
      "[CV]  alpha=1e-06, learning_rate_init=0.001, max_iter=100, total=   1.6s\n",
      "[CV] alpha=1e-06, learning_rate_init=0.001, max_iter=200 .............\n"
     ]
    },
    {
     "name": "stderr",
     "output_type": "stream",
     "text": [
      "C:\\Users\\Tristan\\anaconda\\Anaconda3\\envs\\pythondata\\lib\\site-packages\\sklearn\\neural_network\\_multilayer_perceptron.py:571: ConvergenceWarning: Stochastic Optimizer: Maximum iterations (200) reached and the optimization hasn't converged yet.\n",
      "  % self.max_iter, ConvergenceWarning)\n"
     ]
    },
    {
     "name": "stdout",
     "output_type": "stream",
     "text": [
      "[CV]  alpha=1e-06, learning_rate_init=0.001, max_iter=200, total=   3.7s\n",
      "[CV] alpha=1e-06, learning_rate_init=0.001, max_iter=200 .............\n"
     ]
    },
    {
     "name": "stderr",
     "output_type": "stream",
     "text": [
      "C:\\Users\\Tristan\\anaconda\\Anaconda3\\envs\\pythondata\\lib\\site-packages\\sklearn\\neural_network\\_multilayer_perceptron.py:571: ConvergenceWarning: Stochastic Optimizer: Maximum iterations (200) reached and the optimization hasn't converged yet.\n",
      "  % self.max_iter, ConvergenceWarning)\n"
     ]
    },
    {
     "name": "stdout",
     "output_type": "stream",
     "text": [
      "[CV]  alpha=1e-06, learning_rate_init=0.001, max_iter=200, total=   3.3s\n",
      "[CV] alpha=1e-06, learning_rate_init=0.001, max_iter=200 .............\n"
     ]
    },
    {
     "name": "stderr",
     "output_type": "stream",
     "text": [
      "C:\\Users\\Tristan\\anaconda\\Anaconda3\\envs\\pythondata\\lib\\site-packages\\sklearn\\neural_network\\_multilayer_perceptron.py:571: ConvergenceWarning: Stochastic Optimizer: Maximum iterations (200) reached and the optimization hasn't converged yet.\n",
      "  % self.max_iter, ConvergenceWarning)\n"
     ]
    },
    {
     "name": "stdout",
     "output_type": "stream",
     "text": [
      "[CV]  alpha=1e-06, learning_rate_init=0.001, max_iter=200, total=   3.3s\n",
      "[CV] alpha=1e-06, learning_rate_init=0.001, max_iter=200 .............\n"
     ]
    },
    {
     "name": "stderr",
     "output_type": "stream",
     "text": [
      "C:\\Users\\Tristan\\anaconda\\Anaconda3\\envs\\pythondata\\lib\\site-packages\\sklearn\\neural_network\\_multilayer_perceptron.py:571: ConvergenceWarning: Stochastic Optimizer: Maximum iterations (200) reached and the optimization hasn't converged yet.\n",
      "  % self.max_iter, ConvergenceWarning)\n"
     ]
    },
    {
     "name": "stdout",
     "output_type": "stream",
     "text": [
      "[CV]  alpha=1e-06, learning_rate_init=0.001, max_iter=200, total=   3.1s\n",
      "[CV] alpha=1e-06, learning_rate_init=0.001, max_iter=200 .............\n"
     ]
    },
    {
     "name": "stderr",
     "output_type": "stream",
     "text": [
      "C:\\Users\\Tristan\\anaconda\\Anaconda3\\envs\\pythondata\\lib\\site-packages\\sklearn\\neural_network\\_multilayer_perceptron.py:571: ConvergenceWarning: Stochastic Optimizer: Maximum iterations (200) reached and the optimization hasn't converged yet.\n",
      "  % self.max_iter, ConvergenceWarning)\n"
     ]
    },
    {
     "name": "stdout",
     "output_type": "stream",
     "text": [
      "[CV]  alpha=1e-06, learning_rate_init=0.001, max_iter=200, total=   3.3s\n",
      "[CV] alpha=1e-06, learning_rate_init=0.001, max_iter=300 .............\n"
     ]
    },
    {
     "name": "stderr",
     "output_type": "stream",
     "text": [
      "C:\\Users\\Tristan\\anaconda\\Anaconda3\\envs\\pythondata\\lib\\site-packages\\sklearn\\neural_network\\_multilayer_perceptron.py:571: ConvergenceWarning: Stochastic Optimizer: Maximum iterations (300) reached and the optimization hasn't converged yet.\n",
      "  % self.max_iter, ConvergenceWarning)\n"
     ]
    },
    {
     "name": "stdout",
     "output_type": "stream",
     "text": [
      "[CV]  alpha=1e-06, learning_rate_init=0.001, max_iter=300, total=   5.1s\n",
      "[CV] alpha=1e-06, learning_rate_init=0.001, max_iter=300 .............\n"
     ]
    },
    {
     "name": "stderr",
     "output_type": "stream",
     "text": [
      "C:\\Users\\Tristan\\anaconda\\Anaconda3\\envs\\pythondata\\lib\\site-packages\\sklearn\\neural_network\\_multilayer_perceptron.py:571: ConvergenceWarning: Stochastic Optimizer: Maximum iterations (300) reached and the optimization hasn't converged yet.\n",
      "  % self.max_iter, ConvergenceWarning)\n"
     ]
    },
    {
     "name": "stdout",
     "output_type": "stream",
     "text": [
      "[CV]  alpha=1e-06, learning_rate_init=0.001, max_iter=300, total=   4.8s\n",
      "[CV] alpha=1e-06, learning_rate_init=0.001, max_iter=300 .............\n"
     ]
    },
    {
     "name": "stderr",
     "output_type": "stream",
     "text": [
      "C:\\Users\\Tristan\\anaconda\\Anaconda3\\envs\\pythondata\\lib\\site-packages\\sklearn\\neural_network\\_multilayer_perceptron.py:571: ConvergenceWarning: Stochastic Optimizer: Maximum iterations (300) reached and the optimization hasn't converged yet.\n",
      "  % self.max_iter, ConvergenceWarning)\n"
     ]
    },
    {
     "name": "stdout",
     "output_type": "stream",
     "text": [
      "[CV]  alpha=1e-06, learning_rate_init=0.001, max_iter=300, total=   4.8s\n",
      "[CV] alpha=1e-06, learning_rate_init=0.001, max_iter=300 .............\n"
     ]
    },
    {
     "name": "stderr",
     "output_type": "stream",
     "text": [
      "C:\\Users\\Tristan\\anaconda\\Anaconda3\\envs\\pythondata\\lib\\site-packages\\sklearn\\neural_network\\_multilayer_perceptron.py:571: ConvergenceWarning: Stochastic Optimizer: Maximum iterations (300) reached and the optimization hasn't converged yet.\n",
      "  % self.max_iter, ConvergenceWarning)\n"
     ]
    },
    {
     "name": "stdout",
     "output_type": "stream",
     "text": [
      "[CV]  alpha=1e-06, learning_rate_init=0.001, max_iter=300, total=   4.7s\n",
      "[CV] alpha=1e-06, learning_rate_init=0.001, max_iter=300 .............\n"
     ]
    },
    {
     "name": "stderr",
     "output_type": "stream",
     "text": [
      "C:\\Users\\Tristan\\anaconda\\Anaconda3\\envs\\pythondata\\lib\\site-packages\\sklearn\\neural_network\\_multilayer_perceptron.py:571: ConvergenceWarning: Stochastic Optimizer: Maximum iterations (300) reached and the optimization hasn't converged yet.\n",
      "  % self.max_iter, ConvergenceWarning)\n"
     ]
    },
    {
     "name": "stdout",
     "output_type": "stream",
     "text": [
      "[CV]  alpha=1e-06, learning_rate_init=0.001, max_iter=300, total=   4.5s\n",
      "[CV] alpha=1e-06, learning_rate_init=0.0001, max_iter=100 ............\n"
     ]
    },
    {
     "name": "stderr",
     "output_type": "stream",
     "text": [
      "C:\\Users\\Tristan\\anaconda\\Anaconda3\\envs\\pythondata\\lib\\site-packages\\sklearn\\neural_network\\_multilayer_perceptron.py:571: ConvergenceWarning: Stochastic Optimizer: Maximum iterations (100) reached and the optimization hasn't converged yet.\n",
      "  % self.max_iter, ConvergenceWarning)\n"
     ]
    },
    {
     "name": "stdout",
     "output_type": "stream",
     "text": [
      "[CV]  alpha=1e-06, learning_rate_init=0.0001, max_iter=100, total=   1.6s\n",
      "[CV] alpha=1e-06, learning_rate_init=0.0001, max_iter=100 ............\n"
     ]
    },
    {
     "name": "stderr",
     "output_type": "stream",
     "text": [
      "C:\\Users\\Tristan\\anaconda\\Anaconda3\\envs\\pythondata\\lib\\site-packages\\sklearn\\neural_network\\_multilayer_perceptron.py:571: ConvergenceWarning: Stochastic Optimizer: Maximum iterations (100) reached and the optimization hasn't converged yet.\n",
      "  % self.max_iter, ConvergenceWarning)\n"
     ]
    },
    {
     "name": "stdout",
     "output_type": "stream",
     "text": [
      "[CV]  alpha=1e-06, learning_rate_init=0.0001, max_iter=100, total=   1.6s\n",
      "[CV] alpha=1e-06, learning_rate_init=0.0001, max_iter=100 ............\n"
     ]
    },
    {
     "name": "stderr",
     "output_type": "stream",
     "text": [
      "C:\\Users\\Tristan\\anaconda\\Anaconda3\\envs\\pythondata\\lib\\site-packages\\sklearn\\neural_network\\_multilayer_perceptron.py:571: ConvergenceWarning: Stochastic Optimizer: Maximum iterations (100) reached and the optimization hasn't converged yet.\n",
      "  % self.max_iter, ConvergenceWarning)\n"
     ]
    },
    {
     "name": "stdout",
     "output_type": "stream",
     "text": [
      "[CV]  alpha=1e-06, learning_rate_init=0.0001, max_iter=100, total=   1.6s\n",
      "[CV] alpha=1e-06, learning_rate_init=0.0001, max_iter=100 ............\n"
     ]
    },
    {
     "name": "stderr",
     "output_type": "stream",
     "text": [
      "C:\\Users\\Tristan\\anaconda\\Anaconda3\\envs\\pythondata\\lib\\site-packages\\sklearn\\neural_network\\_multilayer_perceptron.py:571: ConvergenceWarning: Stochastic Optimizer: Maximum iterations (100) reached and the optimization hasn't converged yet.\n",
      "  % self.max_iter, ConvergenceWarning)\n"
     ]
    },
    {
     "name": "stdout",
     "output_type": "stream",
     "text": [
      "[CV]  alpha=1e-06, learning_rate_init=0.0001, max_iter=100, total=   1.6s\n",
      "[CV] alpha=1e-06, learning_rate_init=0.0001, max_iter=100 ............\n"
     ]
    },
    {
     "name": "stderr",
     "output_type": "stream",
     "text": [
      "C:\\Users\\Tristan\\anaconda\\Anaconda3\\envs\\pythondata\\lib\\site-packages\\sklearn\\neural_network\\_multilayer_perceptron.py:571: ConvergenceWarning: Stochastic Optimizer: Maximum iterations (100) reached and the optimization hasn't converged yet.\n",
      "  % self.max_iter, ConvergenceWarning)\n"
     ]
    },
    {
     "name": "stdout",
     "output_type": "stream",
     "text": [
      "[CV]  alpha=1e-06, learning_rate_init=0.0001, max_iter=100, total=   1.6s\n",
      "[CV] alpha=1e-06, learning_rate_init=0.0001, max_iter=200 ............\n"
     ]
    },
    {
     "name": "stderr",
     "output_type": "stream",
     "text": [
      "C:\\Users\\Tristan\\anaconda\\Anaconda3\\envs\\pythondata\\lib\\site-packages\\sklearn\\neural_network\\_multilayer_perceptron.py:571: ConvergenceWarning: Stochastic Optimizer: Maximum iterations (200) reached and the optimization hasn't converged yet.\n",
      "  % self.max_iter, ConvergenceWarning)\n"
     ]
    },
    {
     "name": "stdout",
     "output_type": "stream",
     "text": [
      "[CV]  alpha=1e-06, learning_rate_init=0.0001, max_iter=200, total=   3.2s\n",
      "[CV] alpha=1e-06, learning_rate_init=0.0001, max_iter=200 ............\n"
     ]
    },
    {
     "name": "stderr",
     "output_type": "stream",
     "text": [
      "C:\\Users\\Tristan\\anaconda\\Anaconda3\\envs\\pythondata\\lib\\site-packages\\sklearn\\neural_network\\_multilayer_perceptron.py:571: ConvergenceWarning: Stochastic Optimizer: Maximum iterations (200) reached and the optimization hasn't converged yet.\n",
      "  % self.max_iter, ConvergenceWarning)\n"
     ]
    },
    {
     "name": "stdout",
     "output_type": "stream",
     "text": [
      "[CV]  alpha=1e-06, learning_rate_init=0.0001, max_iter=200, total=   3.1s\n",
      "[CV] alpha=1e-06, learning_rate_init=0.0001, max_iter=200 ............\n"
     ]
    },
    {
     "name": "stderr",
     "output_type": "stream",
     "text": [
      "C:\\Users\\Tristan\\anaconda\\Anaconda3\\envs\\pythondata\\lib\\site-packages\\sklearn\\neural_network\\_multilayer_perceptron.py:571: ConvergenceWarning: Stochastic Optimizer: Maximum iterations (200) reached and the optimization hasn't converged yet.\n",
      "  % self.max_iter, ConvergenceWarning)\n"
     ]
    },
    {
     "name": "stdout",
     "output_type": "stream",
     "text": [
      "[CV]  alpha=1e-06, learning_rate_init=0.0001, max_iter=200, total=   3.4s\n",
      "[CV] alpha=1e-06, learning_rate_init=0.0001, max_iter=200 ............\n"
     ]
    },
    {
     "name": "stderr",
     "output_type": "stream",
     "text": [
      "C:\\Users\\Tristan\\anaconda\\Anaconda3\\envs\\pythondata\\lib\\site-packages\\sklearn\\neural_network\\_multilayer_perceptron.py:571: ConvergenceWarning: Stochastic Optimizer: Maximum iterations (200) reached and the optimization hasn't converged yet.\n",
      "  % self.max_iter, ConvergenceWarning)\n"
     ]
    },
    {
     "name": "stdout",
     "output_type": "stream",
     "text": [
      "[CV]  alpha=1e-06, learning_rate_init=0.0001, max_iter=200, total=   3.2s\n",
      "[CV] alpha=1e-06, learning_rate_init=0.0001, max_iter=200 ............\n"
     ]
    },
    {
     "name": "stderr",
     "output_type": "stream",
     "text": [
      "C:\\Users\\Tristan\\anaconda\\Anaconda3\\envs\\pythondata\\lib\\site-packages\\sklearn\\neural_network\\_multilayer_perceptron.py:571: ConvergenceWarning: Stochastic Optimizer: Maximum iterations (200) reached and the optimization hasn't converged yet.\n",
      "  % self.max_iter, ConvergenceWarning)\n"
     ]
    },
    {
     "name": "stdout",
     "output_type": "stream",
     "text": [
      "[CV]  alpha=1e-06, learning_rate_init=0.0001, max_iter=200, total=   3.1s\n",
      "[CV] alpha=1e-06, learning_rate_init=0.0001, max_iter=300 ............\n"
     ]
    },
    {
     "name": "stderr",
     "output_type": "stream",
     "text": [
      "C:\\Users\\Tristan\\anaconda\\Anaconda3\\envs\\pythondata\\lib\\site-packages\\sklearn\\neural_network\\_multilayer_perceptron.py:571: ConvergenceWarning: Stochastic Optimizer: Maximum iterations (300) reached and the optimization hasn't converged yet.\n",
      "  % self.max_iter, ConvergenceWarning)\n"
     ]
    },
    {
     "name": "stdout",
     "output_type": "stream",
     "text": [
      "[CV]  alpha=1e-06, learning_rate_init=0.0001, max_iter=300, total=   4.6s\n",
      "[CV] alpha=1e-06, learning_rate_init=0.0001, max_iter=300 ............\n"
     ]
    },
    {
     "name": "stderr",
     "output_type": "stream",
     "text": [
      "C:\\Users\\Tristan\\anaconda\\Anaconda3\\envs\\pythondata\\lib\\site-packages\\sklearn\\neural_network\\_multilayer_perceptron.py:571: ConvergenceWarning: Stochastic Optimizer: Maximum iterations (300) reached and the optimization hasn't converged yet.\n",
      "  % self.max_iter, ConvergenceWarning)\n"
     ]
    },
    {
     "name": "stdout",
     "output_type": "stream",
     "text": [
      "[CV]  alpha=1e-06, learning_rate_init=0.0001, max_iter=300, total=   4.8s\n",
      "[CV] alpha=1e-06, learning_rate_init=0.0001, max_iter=300 ............\n"
     ]
    },
    {
     "name": "stderr",
     "output_type": "stream",
     "text": [
      "C:\\Users\\Tristan\\anaconda\\Anaconda3\\envs\\pythondata\\lib\\site-packages\\sklearn\\neural_network\\_multilayer_perceptron.py:571: ConvergenceWarning: Stochastic Optimizer: Maximum iterations (300) reached and the optimization hasn't converged yet.\n",
      "  % self.max_iter, ConvergenceWarning)\n"
     ]
    },
    {
     "name": "stdout",
     "output_type": "stream",
     "text": [
      "[CV]  alpha=1e-06, learning_rate_init=0.0001, max_iter=300, total=   4.7s\n",
      "[CV] alpha=1e-06, learning_rate_init=0.0001, max_iter=300 ............\n"
     ]
    },
    {
     "name": "stderr",
     "output_type": "stream",
     "text": [
      "C:\\Users\\Tristan\\anaconda\\Anaconda3\\envs\\pythondata\\lib\\site-packages\\sklearn\\neural_network\\_multilayer_perceptron.py:571: ConvergenceWarning: Stochastic Optimizer: Maximum iterations (300) reached and the optimization hasn't converged yet.\n",
      "  % self.max_iter, ConvergenceWarning)\n"
     ]
    },
    {
     "name": "stdout",
     "output_type": "stream",
     "text": [
      "[CV]  alpha=1e-06, learning_rate_init=0.0001, max_iter=300, total=   4.7s\n",
      "[CV] alpha=1e-06, learning_rate_init=0.0001, max_iter=300 ............\n"
     ]
    },
    {
     "name": "stderr",
     "output_type": "stream",
     "text": [
      "C:\\Users\\Tristan\\anaconda\\Anaconda3\\envs\\pythondata\\lib\\site-packages\\sklearn\\neural_network\\_multilayer_perceptron.py:571: ConvergenceWarning: Stochastic Optimizer: Maximum iterations (300) reached and the optimization hasn't converged yet.\n",
      "  % self.max_iter, ConvergenceWarning)\n"
     ]
    },
    {
     "name": "stdout",
     "output_type": "stream",
     "text": [
      "[CV]  alpha=1e-06, learning_rate_init=0.0001, max_iter=300, total=   4.8s\n",
      "[CV] alpha=1e-06, learning_rate_init=1e-05, max_iter=100 .............\n"
     ]
    },
    {
     "name": "stderr",
     "output_type": "stream",
     "text": [
      "C:\\Users\\Tristan\\anaconda\\Anaconda3\\envs\\pythondata\\lib\\site-packages\\sklearn\\neural_network\\_multilayer_perceptron.py:571: ConvergenceWarning: Stochastic Optimizer: Maximum iterations (100) reached and the optimization hasn't converged yet.\n",
      "  % self.max_iter, ConvergenceWarning)\n"
     ]
    },
    {
     "name": "stdout",
     "output_type": "stream",
     "text": [
      "[CV]  alpha=1e-06, learning_rate_init=1e-05, max_iter=100, total=   1.6s\n",
      "[CV] alpha=1e-06, learning_rate_init=1e-05, max_iter=100 .............\n"
     ]
    },
    {
     "name": "stderr",
     "output_type": "stream",
     "text": [
      "C:\\Users\\Tristan\\anaconda\\Anaconda3\\envs\\pythondata\\lib\\site-packages\\sklearn\\neural_network\\_multilayer_perceptron.py:571: ConvergenceWarning: Stochastic Optimizer: Maximum iterations (100) reached and the optimization hasn't converged yet.\n",
      "  % self.max_iter, ConvergenceWarning)\n"
     ]
    },
    {
     "name": "stdout",
     "output_type": "stream",
     "text": [
      "[CV]  alpha=1e-06, learning_rate_init=1e-05, max_iter=100, total=   1.6s\n",
      "[CV] alpha=1e-06, learning_rate_init=1e-05, max_iter=100 .............\n"
     ]
    },
    {
     "name": "stderr",
     "output_type": "stream",
     "text": [
      "C:\\Users\\Tristan\\anaconda\\Anaconda3\\envs\\pythondata\\lib\\site-packages\\sklearn\\neural_network\\_multilayer_perceptron.py:571: ConvergenceWarning: Stochastic Optimizer: Maximum iterations (100) reached and the optimization hasn't converged yet.\n",
      "  % self.max_iter, ConvergenceWarning)\n"
     ]
    },
    {
     "name": "stdout",
     "output_type": "stream",
     "text": [
      "[CV]  alpha=1e-06, learning_rate_init=1e-05, max_iter=100, total=   1.7s\n",
      "[CV] alpha=1e-06, learning_rate_init=1e-05, max_iter=100 .............\n"
     ]
    },
    {
     "name": "stderr",
     "output_type": "stream",
     "text": [
      "C:\\Users\\Tristan\\anaconda\\Anaconda3\\envs\\pythondata\\lib\\site-packages\\sklearn\\neural_network\\_multilayer_perceptron.py:571: ConvergenceWarning: Stochastic Optimizer: Maximum iterations (100) reached and the optimization hasn't converged yet.\n",
      "  % self.max_iter, ConvergenceWarning)\n"
     ]
    },
    {
     "name": "stdout",
     "output_type": "stream",
     "text": [
      "[CV]  alpha=1e-06, learning_rate_init=1e-05, max_iter=100, total=   1.6s\n",
      "[CV] alpha=1e-06, learning_rate_init=1e-05, max_iter=100 .............\n"
     ]
    },
    {
     "name": "stderr",
     "output_type": "stream",
     "text": [
      "C:\\Users\\Tristan\\anaconda\\Anaconda3\\envs\\pythondata\\lib\\site-packages\\sklearn\\neural_network\\_multilayer_perceptron.py:571: ConvergenceWarning: Stochastic Optimizer: Maximum iterations (100) reached and the optimization hasn't converged yet.\n",
      "  % self.max_iter, ConvergenceWarning)\n"
     ]
    },
    {
     "name": "stdout",
     "output_type": "stream",
     "text": [
      "[CV]  alpha=1e-06, learning_rate_init=1e-05, max_iter=100, total=   1.6s\n",
      "[CV] alpha=1e-06, learning_rate_init=1e-05, max_iter=200 .............\n"
     ]
    },
    {
     "name": "stderr",
     "output_type": "stream",
     "text": [
      "C:\\Users\\Tristan\\anaconda\\Anaconda3\\envs\\pythondata\\lib\\site-packages\\sklearn\\neural_network\\_multilayer_perceptron.py:571: ConvergenceWarning: Stochastic Optimizer: Maximum iterations (200) reached and the optimization hasn't converged yet.\n",
      "  % self.max_iter, ConvergenceWarning)\n"
     ]
    },
    {
     "name": "stdout",
     "output_type": "stream",
     "text": [
      "[CV]  alpha=1e-06, learning_rate_init=1e-05, max_iter=200, total=   3.3s\n",
      "[CV] alpha=1e-06, learning_rate_init=1e-05, max_iter=200 .............\n"
     ]
    },
    {
     "name": "stderr",
     "output_type": "stream",
     "text": [
      "C:\\Users\\Tristan\\anaconda\\Anaconda3\\envs\\pythondata\\lib\\site-packages\\sklearn\\neural_network\\_multilayer_perceptron.py:571: ConvergenceWarning: Stochastic Optimizer: Maximum iterations (200) reached and the optimization hasn't converged yet.\n",
      "  % self.max_iter, ConvergenceWarning)\n"
     ]
    },
    {
     "name": "stdout",
     "output_type": "stream",
     "text": [
      "[CV]  alpha=1e-06, learning_rate_init=1e-05, max_iter=200, total=   3.1s\n",
      "[CV] alpha=1e-06, learning_rate_init=1e-05, max_iter=200 .............\n"
     ]
    },
    {
     "name": "stderr",
     "output_type": "stream",
     "text": [
      "C:\\Users\\Tristan\\anaconda\\Anaconda3\\envs\\pythondata\\lib\\site-packages\\sklearn\\neural_network\\_multilayer_perceptron.py:571: ConvergenceWarning: Stochastic Optimizer: Maximum iterations (200) reached and the optimization hasn't converged yet.\n",
      "  % self.max_iter, ConvergenceWarning)\n"
     ]
    },
    {
     "name": "stdout",
     "output_type": "stream",
     "text": [
      "[CV]  alpha=1e-06, learning_rate_init=1e-05, max_iter=200, total=   3.3s\n",
      "[CV] alpha=1e-06, learning_rate_init=1e-05, max_iter=200 .............\n"
     ]
    },
    {
     "name": "stderr",
     "output_type": "stream",
     "text": [
      "C:\\Users\\Tristan\\anaconda\\Anaconda3\\envs\\pythondata\\lib\\site-packages\\sklearn\\neural_network\\_multilayer_perceptron.py:571: ConvergenceWarning: Stochastic Optimizer: Maximum iterations (200) reached and the optimization hasn't converged yet.\n",
      "  % self.max_iter, ConvergenceWarning)\n"
     ]
    },
    {
     "name": "stdout",
     "output_type": "stream",
     "text": [
      "[CV]  alpha=1e-06, learning_rate_init=1e-05, max_iter=200, total=   3.4s\n",
      "[CV] alpha=1e-06, learning_rate_init=1e-05, max_iter=200 .............\n"
     ]
    },
    {
     "name": "stderr",
     "output_type": "stream",
     "text": [
      "C:\\Users\\Tristan\\anaconda\\Anaconda3\\envs\\pythondata\\lib\\site-packages\\sklearn\\neural_network\\_multilayer_perceptron.py:571: ConvergenceWarning: Stochastic Optimizer: Maximum iterations (200) reached and the optimization hasn't converged yet.\n",
      "  % self.max_iter, ConvergenceWarning)\n"
     ]
    },
    {
     "name": "stdout",
     "output_type": "stream",
     "text": [
      "[CV]  alpha=1e-06, learning_rate_init=1e-05, max_iter=200, total=   3.2s\n",
      "[CV] alpha=1e-06, learning_rate_init=1e-05, max_iter=300 .............\n"
     ]
    },
    {
     "name": "stderr",
     "output_type": "stream",
     "text": [
      "C:\\Users\\Tristan\\anaconda\\Anaconda3\\envs\\pythondata\\lib\\site-packages\\sklearn\\neural_network\\_multilayer_perceptron.py:571: ConvergenceWarning: Stochastic Optimizer: Maximum iterations (300) reached and the optimization hasn't converged yet.\n",
      "  % self.max_iter, ConvergenceWarning)\n"
     ]
    },
    {
     "name": "stdout",
     "output_type": "stream",
     "text": [
      "[CV]  alpha=1e-06, learning_rate_init=1e-05, max_iter=300, total=   4.8s\n",
      "[CV] alpha=1e-06, learning_rate_init=1e-05, max_iter=300 .............\n"
     ]
    },
    {
     "name": "stderr",
     "output_type": "stream",
     "text": [
      "C:\\Users\\Tristan\\anaconda\\Anaconda3\\envs\\pythondata\\lib\\site-packages\\sklearn\\neural_network\\_multilayer_perceptron.py:571: ConvergenceWarning: Stochastic Optimizer: Maximum iterations (300) reached and the optimization hasn't converged yet.\n",
      "  % self.max_iter, ConvergenceWarning)\n"
     ]
    },
    {
     "name": "stdout",
     "output_type": "stream",
     "text": [
      "[CV]  alpha=1e-06, learning_rate_init=1e-05, max_iter=300, total=   4.7s\n",
      "[CV] alpha=1e-06, learning_rate_init=1e-05, max_iter=300 .............\n"
     ]
    },
    {
     "name": "stderr",
     "output_type": "stream",
     "text": [
      "C:\\Users\\Tristan\\anaconda\\Anaconda3\\envs\\pythondata\\lib\\site-packages\\sklearn\\neural_network\\_multilayer_perceptron.py:571: ConvergenceWarning: Stochastic Optimizer: Maximum iterations (300) reached and the optimization hasn't converged yet.\n",
      "  % self.max_iter, ConvergenceWarning)\n"
     ]
    },
    {
     "name": "stdout",
     "output_type": "stream",
     "text": [
      "[CV]  alpha=1e-06, learning_rate_init=1e-05, max_iter=300, total=   4.8s\n",
      "[CV] alpha=1e-06, learning_rate_init=1e-05, max_iter=300 .............\n"
     ]
    },
    {
     "name": "stderr",
     "output_type": "stream",
     "text": [
      "C:\\Users\\Tristan\\anaconda\\Anaconda3\\envs\\pythondata\\lib\\site-packages\\sklearn\\neural_network\\_multilayer_perceptron.py:571: ConvergenceWarning: Stochastic Optimizer: Maximum iterations (300) reached and the optimization hasn't converged yet.\n",
      "  % self.max_iter, ConvergenceWarning)\n"
     ]
    },
    {
     "name": "stdout",
     "output_type": "stream",
     "text": [
      "[CV]  alpha=1e-06, learning_rate_init=1e-05, max_iter=300, total=   4.6s\n",
      "[CV] alpha=1e-06, learning_rate_init=1e-05, max_iter=300 .............\n"
     ]
    },
    {
     "name": "stderr",
     "output_type": "stream",
     "text": [
      "C:\\Users\\Tristan\\anaconda\\Anaconda3\\envs\\pythondata\\lib\\site-packages\\sklearn\\neural_network\\_multilayer_perceptron.py:571: ConvergenceWarning: Stochastic Optimizer: Maximum iterations (300) reached and the optimization hasn't converged yet.\n",
      "  % self.max_iter, ConvergenceWarning)\n"
     ]
    },
    {
     "name": "stdout",
     "output_type": "stream",
     "text": [
      "[CV]  alpha=1e-06, learning_rate_init=1e-05, max_iter=300, total=   4.9s\n",
      "[CV] alpha=1e-06, learning_rate_init=1e-06, max_iter=100 .............\n"
     ]
    },
    {
     "name": "stderr",
     "output_type": "stream",
     "text": [
      "C:\\Users\\Tristan\\anaconda\\Anaconda3\\envs\\pythondata\\lib\\site-packages\\sklearn\\neural_network\\_multilayer_perceptron.py:571: ConvergenceWarning: Stochastic Optimizer: Maximum iterations (100) reached and the optimization hasn't converged yet.\n",
      "  % self.max_iter, ConvergenceWarning)\n"
     ]
    },
    {
     "name": "stdout",
     "output_type": "stream",
     "text": [
      "[CV]  alpha=1e-06, learning_rate_init=1e-06, max_iter=100, total=   1.6s\n",
      "[CV] alpha=1e-06, learning_rate_init=1e-06, max_iter=100 .............\n"
     ]
    },
    {
     "name": "stderr",
     "output_type": "stream",
     "text": [
      "C:\\Users\\Tristan\\anaconda\\Anaconda3\\envs\\pythondata\\lib\\site-packages\\sklearn\\neural_network\\_multilayer_perceptron.py:571: ConvergenceWarning: Stochastic Optimizer: Maximum iterations (100) reached and the optimization hasn't converged yet.\n",
      "  % self.max_iter, ConvergenceWarning)\n"
     ]
    },
    {
     "name": "stdout",
     "output_type": "stream",
     "text": [
      "[CV]  alpha=1e-06, learning_rate_init=1e-06, max_iter=100, total=   1.5s\n",
      "[CV] alpha=1e-06, learning_rate_init=1e-06, max_iter=100 .............\n"
     ]
    },
    {
     "name": "stderr",
     "output_type": "stream",
     "text": [
      "C:\\Users\\Tristan\\anaconda\\Anaconda3\\envs\\pythondata\\lib\\site-packages\\sklearn\\neural_network\\_multilayer_perceptron.py:571: ConvergenceWarning: Stochastic Optimizer: Maximum iterations (100) reached and the optimization hasn't converged yet.\n",
      "  % self.max_iter, ConvergenceWarning)\n"
     ]
    },
    {
     "name": "stdout",
     "output_type": "stream",
     "text": [
      "[CV]  alpha=1e-06, learning_rate_init=1e-06, max_iter=100, total=   1.6s\n",
      "[CV] alpha=1e-06, learning_rate_init=1e-06, max_iter=100 .............\n"
     ]
    },
    {
     "name": "stderr",
     "output_type": "stream",
     "text": [
      "C:\\Users\\Tristan\\anaconda\\Anaconda3\\envs\\pythondata\\lib\\site-packages\\sklearn\\neural_network\\_multilayer_perceptron.py:571: ConvergenceWarning: Stochastic Optimizer: Maximum iterations (100) reached and the optimization hasn't converged yet.\n",
      "  % self.max_iter, ConvergenceWarning)\n"
     ]
    },
    {
     "name": "stdout",
     "output_type": "stream",
     "text": [
      "[CV]  alpha=1e-06, learning_rate_init=1e-06, max_iter=100, total=   1.6s\n",
      "[CV] alpha=1e-06, learning_rate_init=1e-06, max_iter=100 .............\n"
     ]
    },
    {
     "name": "stderr",
     "output_type": "stream",
     "text": [
      "C:\\Users\\Tristan\\anaconda\\Anaconda3\\envs\\pythondata\\lib\\site-packages\\sklearn\\neural_network\\_multilayer_perceptron.py:571: ConvergenceWarning: Stochastic Optimizer: Maximum iterations (100) reached and the optimization hasn't converged yet.\n",
      "  % self.max_iter, ConvergenceWarning)\n"
     ]
    },
    {
     "name": "stdout",
     "output_type": "stream",
     "text": [
      "[CV]  alpha=1e-06, learning_rate_init=1e-06, max_iter=100, total=   1.6s\n",
      "[CV] alpha=1e-06, learning_rate_init=1e-06, max_iter=200 .............\n"
     ]
    },
    {
     "name": "stderr",
     "output_type": "stream",
     "text": [
      "C:\\Users\\Tristan\\anaconda\\Anaconda3\\envs\\pythondata\\lib\\site-packages\\sklearn\\neural_network\\_multilayer_perceptron.py:571: ConvergenceWarning: Stochastic Optimizer: Maximum iterations (200) reached and the optimization hasn't converged yet.\n",
      "  % self.max_iter, ConvergenceWarning)\n"
     ]
    },
    {
     "name": "stdout",
     "output_type": "stream",
     "text": [
      "[CV]  alpha=1e-06, learning_rate_init=1e-06, max_iter=200, total=   3.1s\n",
      "[CV] alpha=1e-06, learning_rate_init=1e-06, max_iter=200 .............\n"
     ]
    },
    {
     "name": "stderr",
     "output_type": "stream",
     "text": [
      "C:\\Users\\Tristan\\anaconda\\Anaconda3\\envs\\pythondata\\lib\\site-packages\\sklearn\\neural_network\\_multilayer_perceptron.py:571: ConvergenceWarning: Stochastic Optimizer: Maximum iterations (200) reached and the optimization hasn't converged yet.\n",
      "  % self.max_iter, ConvergenceWarning)\n"
     ]
    },
    {
     "name": "stdout",
     "output_type": "stream",
     "text": [
      "[CV]  alpha=1e-06, learning_rate_init=1e-06, max_iter=200, total=   3.2s\n",
      "[CV] alpha=1e-06, learning_rate_init=1e-06, max_iter=200 .............\n"
     ]
    },
    {
     "name": "stderr",
     "output_type": "stream",
     "text": [
      "C:\\Users\\Tristan\\anaconda\\Anaconda3\\envs\\pythondata\\lib\\site-packages\\sklearn\\neural_network\\_multilayer_perceptron.py:571: ConvergenceWarning: Stochastic Optimizer: Maximum iterations (200) reached and the optimization hasn't converged yet.\n",
      "  % self.max_iter, ConvergenceWarning)\n"
     ]
    },
    {
     "name": "stdout",
     "output_type": "stream",
     "text": [
      "[CV]  alpha=1e-06, learning_rate_init=1e-06, max_iter=200, total=   3.1s\n",
      "[CV] alpha=1e-06, learning_rate_init=1e-06, max_iter=200 .............\n"
     ]
    },
    {
     "name": "stderr",
     "output_type": "stream",
     "text": [
      "C:\\Users\\Tristan\\anaconda\\Anaconda3\\envs\\pythondata\\lib\\site-packages\\sklearn\\neural_network\\_multilayer_perceptron.py:571: ConvergenceWarning: Stochastic Optimizer: Maximum iterations (200) reached and the optimization hasn't converged yet.\n",
      "  % self.max_iter, ConvergenceWarning)\n"
     ]
    },
    {
     "name": "stdout",
     "output_type": "stream",
     "text": [
      "[CV]  alpha=1e-06, learning_rate_init=1e-06, max_iter=200, total=   3.3s\n",
      "[CV] alpha=1e-06, learning_rate_init=1e-06, max_iter=200 .............\n"
     ]
    },
    {
     "name": "stderr",
     "output_type": "stream",
     "text": [
      "C:\\Users\\Tristan\\anaconda\\Anaconda3\\envs\\pythondata\\lib\\site-packages\\sklearn\\neural_network\\_multilayer_perceptron.py:571: ConvergenceWarning: Stochastic Optimizer: Maximum iterations (200) reached and the optimization hasn't converged yet.\n",
      "  % self.max_iter, ConvergenceWarning)\n"
     ]
    },
    {
     "name": "stdout",
     "output_type": "stream",
     "text": [
      "[CV]  alpha=1e-06, learning_rate_init=1e-06, max_iter=200, total=   3.3s\n",
      "[CV] alpha=1e-06, learning_rate_init=1e-06, max_iter=300 .............\n"
     ]
    },
    {
     "name": "stderr",
     "output_type": "stream",
     "text": [
      "C:\\Users\\Tristan\\anaconda\\Anaconda3\\envs\\pythondata\\lib\\site-packages\\sklearn\\neural_network\\_multilayer_perceptron.py:571: ConvergenceWarning: Stochastic Optimizer: Maximum iterations (300) reached and the optimization hasn't converged yet.\n",
      "  % self.max_iter, ConvergenceWarning)\n"
     ]
    },
    {
     "name": "stdout",
     "output_type": "stream",
     "text": [
      "[CV]  alpha=1e-06, learning_rate_init=1e-06, max_iter=300, total=   4.8s\n",
      "[CV] alpha=1e-06, learning_rate_init=1e-06, max_iter=300 .............\n"
     ]
    },
    {
     "name": "stderr",
     "output_type": "stream",
     "text": [
      "C:\\Users\\Tristan\\anaconda\\Anaconda3\\envs\\pythondata\\lib\\site-packages\\sklearn\\neural_network\\_multilayer_perceptron.py:571: ConvergenceWarning: Stochastic Optimizer: Maximum iterations (300) reached and the optimization hasn't converged yet.\n",
      "  % self.max_iter, ConvergenceWarning)\n"
     ]
    },
    {
     "name": "stdout",
     "output_type": "stream",
     "text": [
      "[CV]  alpha=1e-06, learning_rate_init=1e-06, max_iter=300, total=   4.8s\n",
      "[CV] alpha=1e-06, learning_rate_init=1e-06, max_iter=300 .............\n"
     ]
    },
    {
     "name": "stderr",
     "output_type": "stream",
     "text": [
      "C:\\Users\\Tristan\\anaconda\\Anaconda3\\envs\\pythondata\\lib\\site-packages\\sklearn\\neural_network\\_multilayer_perceptron.py:571: ConvergenceWarning: Stochastic Optimizer: Maximum iterations (300) reached and the optimization hasn't converged yet.\n",
      "  % self.max_iter, ConvergenceWarning)\n"
     ]
    },
    {
     "name": "stdout",
     "output_type": "stream",
     "text": [
      "[CV]  alpha=1e-06, learning_rate_init=1e-06, max_iter=300, total=   4.7s\n",
      "[CV] alpha=1e-06, learning_rate_init=1e-06, max_iter=300 .............\n"
     ]
    },
    {
     "name": "stderr",
     "output_type": "stream",
     "text": [
      "C:\\Users\\Tristan\\anaconda\\Anaconda3\\envs\\pythondata\\lib\\site-packages\\sklearn\\neural_network\\_multilayer_perceptron.py:571: ConvergenceWarning: Stochastic Optimizer: Maximum iterations (300) reached and the optimization hasn't converged yet.\n",
      "  % self.max_iter, ConvergenceWarning)\n"
     ]
    },
    {
     "name": "stdout",
     "output_type": "stream",
     "text": [
      "[CV]  alpha=1e-06, learning_rate_init=1e-06, max_iter=300, total=   5.0s\n",
      "[CV] alpha=1e-06, learning_rate_init=1e-06, max_iter=300 .............\n"
     ]
    },
    {
     "name": "stderr",
     "output_type": "stream",
     "text": [
      "C:\\Users\\Tristan\\anaconda\\Anaconda3\\envs\\pythondata\\lib\\site-packages\\sklearn\\neural_network\\_multilayer_perceptron.py:571: ConvergenceWarning: Stochastic Optimizer: Maximum iterations (300) reached and the optimization hasn't converged yet.\n",
      "  % self.max_iter, ConvergenceWarning)\n",
      "[Parallel(n_jobs=1)]: Done 540 out of 540 | elapsed: 22.8min finished\n"
     ]
    },
    {
     "name": "stdout",
     "output_type": "stream",
     "text": [
      "[CV]  alpha=1e-06, learning_rate_init=1e-06, max_iter=300, total=   4.6s\n"
     ]
    },
    {
     "name": "stderr",
     "output_type": "stream",
     "text": [
      "C:\\Users\\Tristan\\anaconda\\Anaconda3\\envs\\pythondata\\lib\\site-packages\\sklearn\\neural_network\\_multilayer_perceptron.py:571: ConvergenceWarning: Stochastic Optimizer: Maximum iterations (300) reached and the optimization hasn't converged yet.\n",
      "  % self.max_iter, ConvergenceWarning)\n"
     ]
    },
    {
     "data": {
      "text/plain": [
       "GridSearchCV(cv=None, error_score=nan,\n",
       "             estimator=MLPClassifier(activation='relu', alpha=0.0001,\n",
       "                                     batch_size='auto', beta_1=0.9,\n",
       "                                     beta_2=0.999, early_stopping=False,\n",
       "                                     epsilon=1e-08,\n",
       "                                     hidden_layer_sizes=(100, 100),\n",
       "                                     learning_rate='constant',\n",
       "                                     learning_rate_init=0.001, max_fun=15000,\n",
       "                                     max_iter=200, momentum=0.9,\n",
       "                                     n_iter_no_change=10,\n",
       "                                     nesterovs_momentum=True, power_t=0.5,\n",
       "                                     random...\n",
       "                                     solver='adam', tol=0.0001,\n",
       "                                     validation_fraction=0.1, verbose=False,\n",
       "                                     warm_start=False),\n",
       "             iid='deprecated', n_jobs=None,\n",
       "             param_grid={'alpha': array([1.e-01, 1.e-02, 1.e-03, 1.e-04, 1.e-05, 1.e-06]),\n",
       "                         'learning_rate_init': array([1.e-01, 1.e-02, 1.e-03, 1.e-04, 1.e-05, 1.e-06]),\n",
       "                         'max_iter': [100, 200, 300]},\n",
       "             pre_dispatch='2*n_jobs', refit=True, return_train_score=False,\n",
       "             scoring=None, verbose=2)"
      ]
     },
     "execution_count": 19,
     "metadata": {},
     "output_type": "execute_result"
    }
   ],
   "source": [
    "# Use grid search to tune the model.\n",
    "grid = GridSearchCV(model,\n",
    "                    {\n",
    "                        \"alpha\":10.0 ** -np.arange(1, 7),\n",
    "                        \"learning_rate_init\":10.0 ** -np.arange(1, 7),\n",
    "                        \"max_iter\":[100, 200, 300],\n",
    "                        \n",
    "                    },\n",
    "                    verbose=2)\n",
    "grid.fit(X_train_scaled, encoded_y_train)"
   ]
  },
  {
   "cell_type": "code",
   "execution_count": 20,
   "metadata": {},
   "outputs": [
    {
     "name": "stdout",
     "output_type": "stream",
     "text": [
      "{'alpha': 1e-05, 'learning_rate_init': 0.001, 'max_iter': 300}\n",
      "0.5943735991962285\n"
     ]
    }
   ],
   "source": [
    "# List the best parameters and best score.\n",
    "print(grid.best_params_)\n",
    "print(grid.best_score_)"
   ]
  },
  {
   "cell_type": "markdown",
   "metadata": {},
   "source": [
    "## Quantify the trained model"
   ]
  },
  {
   "cell_type": "code",
   "execution_count": 21,
   "metadata": {},
   "outputs": [
    {
     "name": "stdout",
     "output_type": "stream",
     "text": [
      "Accuracy: 0.6026315789473684\n"
     ]
    }
   ],
   "source": [
    "model_accuracy = grid.score(X=X_test_scaled, y=encoded_y_test)\n",
    "print(f\"Accuracy: {model_accuracy}\")"
   ]
  },
  {
   "cell_type": "markdown",
   "metadata": {},
   "source": [
    "## Make Predictions"
   ]
  },
  {
   "cell_type": "code",
   "execution_count": 22,
   "metadata": {},
   "outputs": [
    {
     "name": "stdout",
     "output_type": "stream",
     "text": [
      "Predicted classes: [Interval(650000, 879900, closed='right')\n",
      " Interval(250000, 375000, closed='right')\n",
      " Interval(650000, 879900, closed='right')\n",
      " Interval(375000, 480000, closed='right')\n",
      " Interval(250000, 375000, closed='right')\n",
      " Interval(375000, 480000, closed='right')\n",
      " Interval(879900, 1400125, closed='right')\n",
      " Interval(375000, 480000, closed='right')\n",
      " Interval(480000, 650000, closed='right')\n",
      " Interval(650000, 879900, closed='right')]\n",
      "Actual Labels: [array([Interval(650000, 879900, closed='right')], dtype=object), array([Interval(375000, 480000, closed='right')], dtype=object), array([Interval(879900, 1400125, closed='right')], dtype=object), array([Interval(480000, 650000, closed='right')], dtype=object), array([Interval(250000, 375000, closed='right')], dtype=object), array([Interval(250000, 375000, closed='right')], dtype=object), array([Interval(879900, 1400125, closed='right')], dtype=object), array([Interval(480000, 650000, closed='right')], dtype=object), array([Interval(650000, 879900, closed='right')], dtype=object), array([Interval(879900, 1400125, closed='right')], dtype=object)]\n"
     ]
    }
   ],
   "source": [
    "# Use the first 10 test data values to make a prediction and compare it to the actual labels.\n",
    "encoded_predictions = grid.predict(X_test_scaled[:10])\n",
    "prediction_labels = label_encoder.inverse_transform(encoded_predictions)\n",
    "\n",
    "print(f\"Predicted classes: {prediction_labels}\")\n",
    "print(f\"Actual Labels: {list(y_test[:10])}\")"
   ]
  },
  {
   "cell_type": "markdown",
   "metadata": {},
   "source": [
    "## Save the Trained Model"
   ]
  },
  {
   "cell_type": "code",
   "execution_count": 23,
   "metadata": {},
   "outputs": [
    {
     "data": {
      "text/plain": [
       "['mlp_classifier.bin']"
      ]
     },
     "execution_count": 23,
     "metadata": {},
     "output_type": "execute_result"
    }
   ],
   "source": [
    "# Save the model\n",
    "dump(grid, 'mlp_classifier.bin', compress=True)"
   ]
  },
  {
   "cell_type": "markdown",
   "metadata": {},
   "source": [
    "## Test the Saved Model, Scaler, and Label Encoder"
   ]
  },
  {
   "cell_type": "code",
   "execution_count": 24,
   "metadata": {},
   "outputs": [],
   "source": [
    "# Load the model, scaler and label encoder.\n",
    "model = load(\"mlp_classifier.bin\")\n",
    "scaler = load(\"standard_scaler.bin\")\n",
    "label_encoder = load(\"label_encoder.bin\")"
   ]
  },
  {
   "cell_type": "code",
   "execution_count": 25,
   "metadata": {},
   "outputs": [],
   "source": [
    "# Input data for testing.\n",
    "input_data = np.array(np.array([X.iloc[0]]))"
   ]
  },
  {
   "cell_type": "code",
   "execution_count": 26,
   "metadata": {},
   "outputs": [
    {
     "data": {
      "text/plain": [
       "bathrooms                       1.0\n",
       "bedrooms                        1.0\n",
       "house_age                      55.0\n",
       "lot_size                        0.0\n",
       "square_feet                   744.0\n",
       "zipcode                     97201.0\n",
       "district_Beaverton              0.0\n",
       "district_Centennial             0.0\n",
       "district_David Douglas          0.0\n",
       "district_Hillsboro              0.0\n",
       "district_Lake Oswego            0.0\n",
       "district_North Clackamas        0.0\n",
       "district_Parkrose               0.0\n",
       "district_Portland Public        1.0\n",
       "district_Reynolds               0.0\n",
       "district_Riverdale              0.0\n",
       "district_Scappose               0.0\n",
       "district_Tigard-Tualatin        0.0\n",
       "Name: 0, dtype: float64"
      ]
     },
     "execution_count": 26,
     "metadata": {},
     "output_type": "execute_result"
    }
   ],
   "source": [
    "X.iloc[0]"
   ]
  },
  {
   "cell_type": "code",
   "execution_count": 27,
   "metadata": {},
   "outputs": [
    {
     "name": "stdout",
     "output_type": "stream",
     "text": [
      "250000, 375000\n"
     ]
    }
   ],
   "source": [
    "encoded_predictions = model.predict(scaler.transform(input_data))\n",
    "prediction_labels = label_encoder.inverse_transform(encoded_predictions)\n",
    "\n",
    "print(f\"{prediction_labels[0].left}, {prediction_labels[0].right}\")"
   ]
  }
 ],
 "metadata": {
  "kernelspec": {
   "display_name": "Python 3",
   "language": "python",
   "name": "python3"
  },
  "language_info": {
   "codemirror_mode": {
    "name": "ipython",
    "version": 3
   },
   "file_extension": ".py",
   "mimetype": "text/x-python",
   "name": "python",
   "nbconvert_exporter": "python",
   "pygments_lexer": "ipython3",
   "version": "3.7.7"
  }
 },
 "nbformat": 4,
 "nbformat_minor": 4
}

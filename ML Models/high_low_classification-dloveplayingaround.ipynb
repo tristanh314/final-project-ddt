{
 "cells": [
  {
   "cell_type": "markdown",
   "metadata": {},
   "source": [
    "## Setup"
   ]
  },
  {
   "cell_type": "code",
   "execution_count": 1,
   "metadata": {},
   "outputs": [],
   "source": [
    "# Import Dependencies.\n",
    "import matplotlib.pyplot as plt\n",
    "import numpy as np\n",
    "import pandas as pd\n",
    "\n",
    "import requests\n",
    "import json\n",
    "\n",
    "from sklearn.ensemble import RandomForestClassifier\n",
    "from sklearn.model_selection import train_test_split\n",
    "from sklearn.preprocessing import LabelEncoder\n",
    "from sklearn.preprocessing import MinMaxScaler\n",
    "\n",
    "from tensorflow.keras.models import load_model\n",
    "from tensorflow.keras.utils import to_categorical\n",
    "from tensorflow.keras.models import Sequential\n",
    "from tensorflow.keras.layers import Dense\n",
    "\n",
    "from joblib import dump, load"
   ]
  },
  {
   "cell_type": "code",
   "execution_count": 2,
   "metadata": {},
   "outputs": [
    {
     "data": {
      "text/html": [
       "<div>\n",
       "<style scoped>\n",
       "    .dataframe tbody tr th:only-of-type {\n",
       "        vertical-align: middle;\n",
       "    }\n",
       "\n",
       "    .dataframe tbody tr th {\n",
       "        vertical-align: top;\n",
       "    }\n",
       "\n",
       "    .dataframe thead th {\n",
       "        text-align: right;\n",
       "    }\n",
       "</style>\n",
       "<table border=\"1\" class=\"dataframe\">\n",
       "  <thead>\n",
       "    <tr style=\"text-align: right;\">\n",
       "      <th></th>\n",
       "      <th>address</th>\n",
       "      <th>price</th>\n",
       "      <th>home_type</th>\n",
       "      <th>bedrooms</th>\n",
       "      <th>bathrooms</th>\n",
       "      <th>square_feet</th>\n",
       "      <th>built</th>\n",
       "      <th>lot_size</th>\n",
       "      <th>neighborhood</th>\n",
       "      <th>county</th>\n",
       "      <th>...</th>\n",
       "      <th>zipcode_rank</th>\n",
       "      <th>zipcodeAVGcost</th>\n",
       "      <th>elementary_school</th>\n",
       "      <th>middle_school</th>\n",
       "      <th>high_school</th>\n",
       "      <th>hs_rank</th>\n",
       "      <th>hsAVGcost</th>\n",
       "      <th>district</th>\n",
       "      <th>district_rank</th>\n",
       "      <th>districtAVGcost</th>\n",
       "    </tr>\n",
       "  </thead>\n",
       "  <tbody>\n",
       "    <tr>\n",
       "      <th>0</th>\n",
       "      <td>19609 NE Marine DR E-4, Portland OR 97230</td>\n",
       "      <td>129500</td>\n",
       "      <td>Floating</td>\n",
       "      <td>1</td>\n",
       "      <td>1.0</td>\n",
       "      <td>735</td>\n",
       "      <td>1960</td>\n",
       "      <td>0.0</td>\n",
       "      <td>unknown</td>\n",
       "      <td>Multnomah</td>\n",
       "      <td>...</td>\n",
       "      <td>29</td>\n",
       "      <td>412295.897059</td>\n",
       "      <td>Salish Pond</td>\n",
       "      <td>Reynolds</td>\n",
       "      <td>Reynolds</td>\n",
       "      <td>21</td>\n",
       "      <td>393627.258621</td>\n",
       "      <td>Reynolds</td>\n",
       "      <td>10</td>\n",
       "      <td>393627.258621</td>\n",
       "    </tr>\n",
       "    <tr>\n",
       "      <th>1</th>\n",
       "      <td>3389 NE 162ND AVE, Portland OR 97230</td>\n",
       "      <td>160000</td>\n",
       "      <td>Condo</td>\n",
       "      <td>2</td>\n",
       "      <td>2.0</td>\n",
       "      <td>1073</td>\n",
       "      <td>1979</td>\n",
       "      <td>0.0</td>\n",
       "      <td>Fremont Village Park</td>\n",
       "      <td>Multnomah</td>\n",
       "      <td>...</td>\n",
       "      <td>29</td>\n",
       "      <td>412295.897059</td>\n",
       "      <td>Margaret Scott</td>\n",
       "      <td>H.B. Lee</td>\n",
       "      <td>Reynolds</td>\n",
       "      <td>21</td>\n",
       "      <td>393627.258621</td>\n",
       "      <td>Reynolds</td>\n",
       "      <td>10</td>\n",
       "      <td>393627.258621</td>\n",
       "    </tr>\n",
       "    <tr>\n",
       "      <th>2</th>\n",
       "      <td>19609 NE MARINE DR E1, Portland OR 97230</td>\n",
       "      <td>224500</td>\n",
       "      <td>Floating</td>\n",
       "      <td>3</td>\n",
       "      <td>2.0</td>\n",
       "      <td>1150</td>\n",
       "      <td>1945</td>\n",
       "      <td>0.0</td>\n",
       "      <td>Big Eddy Marina</td>\n",
       "      <td>Multnomah</td>\n",
       "      <td>...</td>\n",
       "      <td>29</td>\n",
       "      <td>412295.897059</td>\n",
       "      <td>Salish Pond</td>\n",
       "      <td>Reynolds</td>\n",
       "      <td>Reynolds</td>\n",
       "      <td>21</td>\n",
       "      <td>393627.258621</td>\n",
       "      <td>Reynolds</td>\n",
       "      <td>10</td>\n",
       "      <td>393627.258621</td>\n",
       "    </tr>\n",
       "    <tr>\n",
       "      <th>3</th>\n",
       "      <td>15041 NE SISKIYOU CT, Portland OR 97230</td>\n",
       "      <td>229900</td>\n",
       "      <td>Condo</td>\n",
       "      <td>2</td>\n",
       "      <td>2.0</td>\n",
       "      <td>1638</td>\n",
       "      <td>1973</td>\n",
       "      <td>0.0</td>\n",
       "      <td>unknown</td>\n",
       "      <td>Multnomah</td>\n",
       "      <td>...</td>\n",
       "      <td>29</td>\n",
       "      <td>412295.897059</td>\n",
       "      <td>Scott</td>\n",
       "      <td>H.B. Lee</td>\n",
       "      <td>Reynolds</td>\n",
       "      <td>21</td>\n",
       "      <td>393627.258621</td>\n",
       "      <td>Reynolds</td>\n",
       "      <td>10</td>\n",
       "      <td>393627.258621</td>\n",
       "    </tr>\n",
       "    <tr>\n",
       "      <th>4</th>\n",
       "      <td>15025 NE SACRAMENTO ST 56, Portland OR 97230</td>\n",
       "      <td>239000</td>\n",
       "      <td>Condo</td>\n",
       "      <td>2</td>\n",
       "      <td>2.0</td>\n",
       "      <td>1128</td>\n",
       "      <td>1986</td>\n",
       "      <td>0.0</td>\n",
       "      <td>SUMMERPLACE</td>\n",
       "      <td>Multnomah</td>\n",
       "      <td>...</td>\n",
       "      <td>29</td>\n",
       "      <td>412295.897059</td>\n",
       "      <td>Margaret Scott</td>\n",
       "      <td>H.B. Lee</td>\n",
       "      <td>Reynolds</td>\n",
       "      <td>21</td>\n",
       "      <td>393627.258621</td>\n",
       "      <td>Reynolds</td>\n",
       "      <td>10</td>\n",
       "      <td>393627.258621</td>\n",
       "    </tr>\n",
       "  </tbody>\n",
       "</table>\n",
       "<p>5 rows × 22 columns</p>\n",
       "</div>"
      ],
      "text/plain": [
       "                                        address   price home_type  bedrooms  \\\n",
       "0     19609 NE Marine DR E-4, Portland OR 97230  129500  Floating         1   \n",
       "1          3389 NE 162ND AVE, Portland OR 97230  160000     Condo         2   \n",
       "2      19609 NE MARINE DR E1, Portland OR 97230  224500  Floating         3   \n",
       "3       15041 NE SISKIYOU CT, Portland OR 97230  229900     Condo         2   \n",
       "4  15025 NE SACRAMENTO ST 56, Portland OR 97230  239000     Condo         2   \n",
       "\n",
       "   bathrooms  square_feet  built  lot_size          neighborhood     county  \\\n",
       "0        1.0          735   1960       0.0               unknown  Multnomah   \n",
       "1        2.0         1073   1979       0.0  Fremont Village Park  Multnomah   \n",
       "2        2.0         1150   1945       0.0       Big Eddy Marina  Multnomah   \n",
       "3        2.0         1638   1973       0.0               unknown  Multnomah   \n",
       "4        2.0         1128   1986       0.0           SUMMERPLACE  Multnomah   \n",
       "\n",
       "   ... zipcode_rank  zipcodeAVGcost  elementary_school  middle_school  \\\n",
       "0  ...           29   412295.897059        Salish Pond       Reynolds   \n",
       "1  ...           29   412295.897059     Margaret Scott       H.B. Lee   \n",
       "2  ...           29   412295.897059        Salish Pond       Reynolds   \n",
       "3  ...           29   412295.897059              Scott       H.B. Lee   \n",
       "4  ...           29   412295.897059     Margaret Scott       H.B. Lee   \n",
       "\n",
       "  high_school hs_rank      hsAVGcost  district  district_rank districtAVGcost  \n",
       "0    Reynolds      21  393627.258621  Reynolds             10   393627.258621  \n",
       "1    Reynolds      21  393627.258621  Reynolds             10   393627.258621  \n",
       "2    Reynolds      21  393627.258621  Reynolds             10   393627.258621  \n",
       "3    Reynolds      21  393627.258621  Reynolds             10   393627.258621  \n",
       "4    Reynolds      21  393627.258621  Reynolds             10   393627.258621  \n",
       "\n",
       "[5 rows x 22 columns]"
      ]
     },
     "execution_count": 2,
     "metadata": {},
     "output_type": "execute_result"
    }
   ],
   "source": [
    "data_df = pd.read_csv(\"../Resources/housingDataUpdatedandCleaned.csv\")\n",
    "data_df.head()"
   ]
  },
  {
   "cell_type": "markdown",
   "metadata": {},
   "source": [
    "## Data Preprocessing"
   ]
  },
  {
   "cell_type": "code",
   "execution_count": 3,
   "metadata": {},
   "outputs": [
    {
     "name": "stdout",
     "output_type": "stream",
     "text": [
      "1943\n"
     ]
    },
    {
     "data": {
      "text/html": [
       "<div>\n",
       "<style scoped>\n",
       "    .dataframe tbody tr th:only-of-type {\n",
       "        vertical-align: middle;\n",
       "    }\n",
       "\n",
       "    .dataframe tbody tr th {\n",
       "        vertical-align: top;\n",
       "    }\n",
       "\n",
       "    .dataframe thead th {\n",
       "        text-align: right;\n",
       "    }\n",
       "</style>\n",
       "<table border=\"1\" class=\"dataframe\">\n",
       "  <thead>\n",
       "    <tr style=\"text-align: right;\">\n",
       "      <th></th>\n",
       "      <th>bathrooms</th>\n",
       "      <th>bedrooms</th>\n",
       "      <th>built</th>\n",
       "      <th>lot_size</th>\n",
       "      <th>square_feet</th>\n",
       "      <th>districtAVGcost</th>\n",
       "      <th>district_rank</th>\n",
       "      <th>zipcodeAVGcost</th>\n",
       "      <th>zipcode_rank</th>\n",
       "      <th>price</th>\n",
       "    </tr>\n",
       "  </thead>\n",
       "  <tbody>\n",
       "    <tr>\n",
       "      <th>0</th>\n",
       "      <td>1.0</td>\n",
       "      <td>1</td>\n",
       "      <td>1960</td>\n",
       "      <td>0.0</td>\n",
       "      <td>735</td>\n",
       "      <td>393627.258621</td>\n",
       "      <td>10</td>\n",
       "      <td>412295.897059</td>\n",
       "      <td>29</td>\n",
       "      <td>129500</td>\n",
       "    </tr>\n",
       "    <tr>\n",
       "      <th>1</th>\n",
       "      <td>2.0</td>\n",
       "      <td>2</td>\n",
       "      <td>1979</td>\n",
       "      <td>0.0</td>\n",
       "      <td>1073</td>\n",
       "      <td>393627.258621</td>\n",
       "      <td>10</td>\n",
       "      <td>412295.897059</td>\n",
       "      <td>29</td>\n",
       "      <td>160000</td>\n",
       "    </tr>\n",
       "    <tr>\n",
       "      <th>2</th>\n",
       "      <td>2.0</td>\n",
       "      <td>3</td>\n",
       "      <td>1945</td>\n",
       "      <td>0.0</td>\n",
       "      <td>1150</td>\n",
       "      <td>393627.258621</td>\n",
       "      <td>10</td>\n",
       "      <td>412295.897059</td>\n",
       "      <td>29</td>\n",
       "      <td>224500</td>\n",
       "    </tr>\n",
       "    <tr>\n",
       "      <th>3</th>\n",
       "      <td>2.0</td>\n",
       "      <td>2</td>\n",
       "      <td>1973</td>\n",
       "      <td>0.0</td>\n",
       "      <td>1638</td>\n",
       "      <td>393627.258621</td>\n",
       "      <td>10</td>\n",
       "      <td>412295.897059</td>\n",
       "      <td>29</td>\n",
       "      <td>229900</td>\n",
       "    </tr>\n",
       "    <tr>\n",
       "      <th>4</th>\n",
       "      <td>2.0</td>\n",
       "      <td>2</td>\n",
       "      <td>1986</td>\n",
       "      <td>0.0</td>\n",
       "      <td>1128</td>\n",
       "      <td>393627.258621</td>\n",
       "      <td>10</td>\n",
       "      <td>412295.897059</td>\n",
       "      <td>29</td>\n",
       "      <td>239000</td>\n",
       "    </tr>\n",
       "  </tbody>\n",
       "</table>\n",
       "</div>"
      ],
      "text/plain": [
       "   bathrooms  bedrooms  built  lot_size  square_feet  districtAVGcost  \\\n",
       "0        1.0         1   1960       0.0          735    393627.258621   \n",
       "1        2.0         2   1979       0.0         1073    393627.258621   \n",
       "2        2.0         3   1945       0.0         1150    393627.258621   \n",
       "3        2.0         2   1973       0.0         1638    393627.258621   \n",
       "4        2.0         2   1986       0.0         1128    393627.258621   \n",
       "\n",
       "   district_rank  zipcodeAVGcost  zipcode_rank   price  \n",
       "0             10   412295.897059            29  129500  \n",
       "1             10   412295.897059            29  160000  \n",
       "2             10   412295.897059            29  224500  \n",
       "3             10   412295.897059            29  229900  \n",
       "4             10   412295.897059            29  239000  "
      ]
     },
     "execution_count": 3,
     "metadata": {},
     "output_type": "execute_result"
    }
   ],
   "source": [
    "# Make a copy of the original data frame to modify.\n",
    "model_df = data_df\n",
    "\n",
    "# Include only those columns that will be used in the deep learning model.\n",
    "model_df = model_df.loc[:, [\"bathrooms\",\n",
    "                            \"bedrooms\",\n",
    "                            \"built\",\n",
    "                            \"lot_size\",\n",
    "                            \"square_feet\",\n",
    "#                             \"neighborhood\",\n",
    "#                             \"county\",\n",
    "#                             \"home_type\",\n",
    "#                             \"hs_rank\",\n",
    "#                             \"hsAVGcost\",\n",
    "                            \"districtAVGcost\",\n",
    "                            \"district_rank\",\n",
    "                            \"zipcodeAVGcost\",\n",
    "                            \"zipcode_rank\",\n",
    "                            \"price\"]\n",
    "                       ]\n",
    "\n",
    "# Drop rows with NaN entries.\n",
    "model_df.dropna(inplace=True)\n",
    "\n",
    "# Check the model data.\n",
    "print(len(model_df))\n",
    "model_df.head()"
   ]
  },
  {
   "cell_type": "code",
   "execution_count": 4,
   "metadata": {},
   "outputs": [
    {
     "data": {
      "text/html": [
       "<div>\n",
       "<style scoped>\n",
       "    .dataframe tbody tr th:only-of-type {\n",
       "        vertical-align: middle;\n",
       "    }\n",
       "\n",
       "    .dataframe tbody tr th {\n",
       "        vertical-align: top;\n",
       "    }\n",
       "\n",
       "    .dataframe thead th {\n",
       "        text-align: right;\n",
       "    }\n",
       "</style>\n",
       "<table border=\"1\" class=\"dataframe\">\n",
       "  <thead>\n",
       "    <tr style=\"text-align: right;\">\n",
       "      <th></th>\n",
       "      <th>bathrooms</th>\n",
       "      <th>bedrooms</th>\n",
       "      <th>built</th>\n",
       "      <th>lot_size</th>\n",
       "      <th>square_feet</th>\n",
       "      <th>districtAVGcost</th>\n",
       "      <th>district_rank</th>\n",
       "      <th>zipcodeAVGcost</th>\n",
       "      <th>zipcode_rank</th>\n",
       "      <th>price_range</th>\n",
       "    </tr>\n",
       "  </thead>\n",
       "  <tbody>\n",
       "    <tr>\n",
       "      <th>0</th>\n",
       "      <td>1.0</td>\n",
       "      <td>1</td>\n",
       "      <td>1960</td>\n",
       "      <td>0.0</td>\n",
       "      <td>735</td>\n",
       "      <td>393627.258621</td>\n",
       "      <td>10</td>\n",
       "      <td>412295.897059</td>\n",
       "      <td>29</td>\n",
       "      <td>(123499.999, 348340.0]</td>\n",
       "    </tr>\n",
       "    <tr>\n",
       "      <th>1</th>\n",
       "      <td>2.0</td>\n",
       "      <td>2</td>\n",
       "      <td>1979</td>\n",
       "      <td>0.0</td>\n",
       "      <td>1073</td>\n",
       "      <td>393627.258621</td>\n",
       "      <td>10</td>\n",
       "      <td>412295.897059</td>\n",
       "      <td>29</td>\n",
       "      <td>(123499.999, 348340.0]</td>\n",
       "    </tr>\n",
       "    <tr>\n",
       "      <th>2</th>\n",
       "      <td>2.0</td>\n",
       "      <td>3</td>\n",
       "      <td>1945</td>\n",
       "      <td>0.0</td>\n",
       "      <td>1150</td>\n",
       "      <td>393627.258621</td>\n",
       "      <td>10</td>\n",
       "      <td>412295.897059</td>\n",
       "      <td>29</td>\n",
       "      <td>(123499.999, 348340.0]</td>\n",
       "    </tr>\n",
       "    <tr>\n",
       "      <th>3</th>\n",
       "      <td>2.0</td>\n",
       "      <td>2</td>\n",
       "      <td>1973</td>\n",
       "      <td>0.0</td>\n",
       "      <td>1638</td>\n",
       "      <td>393627.258621</td>\n",
       "      <td>10</td>\n",
       "      <td>412295.897059</td>\n",
       "      <td>29</td>\n",
       "      <td>(123499.999, 348340.0]</td>\n",
       "    </tr>\n",
       "    <tr>\n",
       "      <th>4</th>\n",
       "      <td>2.0</td>\n",
       "      <td>2</td>\n",
       "      <td>1986</td>\n",
       "      <td>0.0</td>\n",
       "      <td>1128</td>\n",
       "      <td>393627.258621</td>\n",
       "      <td>10</td>\n",
       "      <td>412295.897059</td>\n",
       "      <td>29</td>\n",
       "      <td>(123499.999, 348340.0]</td>\n",
       "    </tr>\n",
       "  </tbody>\n",
       "</table>\n",
       "</div>"
      ],
      "text/plain": [
       "   bathrooms  bedrooms  built  lot_size  square_feet  districtAVGcost  \\\n",
       "0        1.0         1   1960       0.0          735    393627.258621   \n",
       "1        2.0         2   1979       0.0         1073    393627.258621   \n",
       "2        2.0         3   1945       0.0         1150    393627.258621   \n",
       "3        2.0         2   1973       0.0         1638    393627.258621   \n",
       "4        2.0         2   1986       0.0         1128    393627.258621   \n",
       "\n",
       "   district_rank  zipcodeAVGcost  zipcode_rank             price_range  \n",
       "0             10   412295.897059            29  (123499.999, 348340.0]  \n",
       "1             10   412295.897059            29  (123499.999, 348340.0]  \n",
       "2             10   412295.897059            29  (123499.999, 348340.0]  \n",
       "3             10   412295.897059            29  (123499.999, 348340.0]  \n",
       "4             10   412295.897059            29  (123499.999, 348340.0]  "
      ]
     },
     "execution_count": 4,
     "metadata": {},
     "output_type": "execute_result"
    }
   ],
   "source": [
    "# Bin prices into ten equal length ranges.\n",
    "model_df[\"price_range\"] = pd.qcut(model_df[\"price\"], 5)\n",
    "# Drop the original price data.\n",
    "model_df.drop(\"price\", axis=1, inplace=True)\n",
    "model_df.head()"
   ]
  },
  {
   "cell_type": "code",
   "execution_count": 5,
   "metadata": {},
   "outputs": [],
   "source": [
    "# # Get dummies for the values in home_type to use in the model.\n",
    "# model_df = pd.get_dummies(model_df, columns=[\"home_type\"])\n",
    "# model_df.head()"
   ]
  },
  {
   "cell_type": "code",
   "execution_count": 6,
   "metadata": {},
   "outputs": [],
   "source": [
    "# Assign X (input) and y (target).\n",
    "X = model_df.drop(\"price_range\", axis=1)\n",
    "y = model_df[\"price_range\"]"
   ]
  },
  {
   "cell_type": "code",
   "execution_count": 7,
   "metadata": {},
   "outputs": [],
   "source": [
    "# Split the data into training and testing\n",
    "X_train, X_test, y_train, y_test = train_test_split(X, y, random_state=42)"
   ]
  },
  {
   "cell_type": "code",
   "execution_count": 8,
   "metadata": {},
   "outputs": [
    {
     "data": {
      "text/plain": [
       "['minmax_scaler.bin']"
      ]
     },
     "execution_count": 8,
     "metadata": {},
     "output_type": "execute_result"
    }
   ],
   "source": [
    "# Create a MinMaxScaler model and fit it to the training data\n",
    "X_scaler = MinMaxScaler().fit(X_train)\n",
    "\n",
    "# Save the scalar.\n",
    "dump(X_scaler, 'minmax_scaler.bin', compress=True)"
   ]
  },
  {
   "cell_type": "code",
   "execution_count": 9,
   "metadata": {},
   "outputs": [],
   "source": [
    "# Transform the training and testing data using the X_scaler and y_scaler models.\n",
    "\n",
    "X_train_scaled = X_scaler.transform(X_train)\n",
    "X_test_scaled = X_scaler.transform(X_test)"
   ]
  },
  {
   "cell_type": "code",
   "execution_count": 10,
   "metadata": {},
   "outputs": [
    {
     "data": {
      "text/plain": [
       "['label_encoder.bin']"
      ]
     },
     "execution_count": 10,
     "metadata": {},
     "output_type": "execute_result"
    }
   ],
   "source": [
    "# Label encode the target data.\n",
    "label_encoder = LabelEncoder()\n",
    "label_encoder.fit(y_train)\n",
    "encoded_y_train = label_encoder.transform(y_train)\n",
    "encoded_y_test = label_encoder.transform(y_test)\n",
    "\n",
    "# Save the label encoder\n",
    "dump(label_encoder, 'label_encoder.bin', compress=True)"
   ]
  },
  {
   "cell_type": "code",
   "execution_count": 11,
   "metadata": {},
   "outputs": [],
   "source": [
    "# Convert encoded labels to one-hot encoding.\n",
    "y_train_categorical = to_categorical(encoded_y_train)\n",
    "y_test_categorical = to_categorical(encoded_y_test)"
   ]
  },
  {
   "cell_type": "markdown",
   "metadata": {},
   "source": [
    "## Run Random Forest Classifier"
   ]
  },
  {
   "cell_type": "code",
   "execution_count": 12,
   "metadata": {},
   "outputs": [
    {
     "name": "stdout",
     "output_type": "stream",
     "text": [
      "0.5967078189300411\n",
      "[(0.35057865890148476, 'square_feet'), (0.1526336942057401, 'built'), (0.10555870296091262, 'lot_size'), (0.09699821929376133, 'zipcodeAVGcost'), (0.0967309718613422, 'zipcode_rank'), (0.0862491463308231, 'bathrooms'), (0.067326500773453, 'bedrooms'), (0.02197780930941564, 'districtAVGcost'), (0.021946296363067237, 'district_rank')]\n"
     ]
    }
   ],
   "source": [
    "# Create a random forest classifier, fit to the training data, and score on the testing data.\n",
    "rf = RandomForestClassifier(n_estimators=1000)\n",
    "rf = rf.fit(X_train_scaled, y_train_categorical)\n",
    "print(rf.score(X_test_scaled, y_test_categorical))\n",
    "\n",
    "# Find the importances of each feature.\n",
    "feature_names = X.columns\n",
    "importances = rf.feature_importances_\n",
    "print(sorted(zip(rf.feature_importances_, feature_names), reverse=True))"
   ]
  },
  {
   "cell_type": "markdown",
   "metadata": {},
   "source": [
    "## Create a Deep Learning Model"
   ]
  },
  {
   "cell_type": "code",
   "execution_count": 13,
   "metadata": {},
   "outputs": [],
   "source": [
    "# Create a deep learning Sequential model.\n",
    "deep_model = Sequential()\n",
    "deep_model.add(Dense(units=500, activation='relu', input_dim=9))\n",
    "deep_model.add(Dense(units=200, activation='relu'))\n",
    "deep_model.add(Dense(units=100, activation='relu'))\n",
    "deep_model.add(Dense(units=5, activation='softmax'))"
   ]
  },
  {
   "cell_type": "code",
   "execution_count": 14,
   "metadata": {
    "scrolled": true
   },
   "outputs": [
    {
     "name": "stdout",
     "output_type": "stream",
     "text": [
      "Train on 1457 samples\n",
      "Epoch 1/50\n",
      "1457/1457 - 2s - loss: 1.3869 - accuracy: 0.3981\n",
      "Epoch 2/50\n",
      "1457/1457 - 0s - loss: 1.1097 - accuracy: 0.5154\n",
      "Epoch 3/50\n",
      "1457/1457 - 0s - loss: 1.0571 - accuracy: 0.5278\n",
      "Epoch 4/50\n",
      "1457/1457 - 0s - loss: 1.0177 - accuracy: 0.5491\n",
      "Epoch 5/50\n",
      "1457/1457 - 0s - loss: 0.9951 - accuracy: 0.5566\n",
      "Epoch 6/50\n",
      "1457/1457 - 0s - loss: 0.9701 - accuracy: 0.5655\n",
      "Epoch 7/50\n",
      "1457/1457 - 0s - loss: 0.9473 - accuracy: 0.5834\n",
      "Epoch 8/50\n",
      "1457/1457 - 0s - loss: 0.9703 - accuracy: 0.5697\n",
      "Epoch 9/50\n",
      "1457/1457 - 0s - loss: 0.9285 - accuracy: 0.5923\n",
      "Epoch 10/50\n",
      "1457/1457 - 0s - loss: 0.9342 - accuracy: 0.5772\n",
      "Epoch 11/50\n",
      "1457/1457 - 0s - loss: 0.8945 - accuracy: 0.6074\n",
      "Epoch 12/50\n",
      "1457/1457 - 0s - loss: 0.8806 - accuracy: 0.6129\n",
      "Epoch 13/50\n",
      "1457/1457 - 0s - loss: 0.8989 - accuracy: 0.6081\n",
      "Epoch 14/50\n",
      "1457/1457 - 0s - loss: 0.8752 - accuracy: 0.6266\n",
      "Epoch 15/50\n",
      "1457/1457 - 0s - loss: 0.8736 - accuracy: 0.6198\n",
      "Epoch 16/50\n",
      "1457/1457 - 0s - loss: 0.8677 - accuracy: 0.6129\n",
      "Epoch 17/50\n",
      "1457/1457 - 0s - loss: 0.8692 - accuracy: 0.6280\n",
      "Epoch 18/50\n",
      "1457/1457 - 0s - loss: 0.8549 - accuracy: 0.6342\n",
      "Epoch 19/50\n",
      "1457/1457 - 0s - loss: 0.8520 - accuracy: 0.6335\n",
      "Epoch 20/50\n",
      "1457/1457 - 0s - loss: 0.8500 - accuracy: 0.6404\n",
      "Epoch 21/50\n",
      "1457/1457 - 0s - loss: 0.8365 - accuracy: 0.6465\n",
      "Epoch 22/50\n",
      "1457/1457 - 0s - loss: 0.8869 - accuracy: 0.6081\n",
      "Epoch 23/50\n",
      "1457/1457 - 0s - loss: 0.8669 - accuracy: 0.6122\n",
      "Epoch 24/50\n",
      "1457/1457 - 0s - loss: 0.8384 - accuracy: 0.6472\n",
      "Epoch 25/50\n",
      "1457/1457 - 0s - loss: 0.8460 - accuracy: 0.6486\n",
      "Epoch 26/50\n",
      "1457/1457 - 0s - loss: 0.8426 - accuracy: 0.6369\n",
      "Epoch 27/50\n",
      "1457/1457 - 0s - loss: 0.8145 - accuracy: 0.6520\n",
      "Epoch 28/50\n",
      "1457/1457 - 0s - loss: 0.8173 - accuracy: 0.6493\n",
      "Epoch 29/50\n",
      "1457/1457 - 0s - loss: 0.8310 - accuracy: 0.6424\n",
      "Epoch 30/50\n",
      "1457/1457 - 0s - loss: 0.8319 - accuracy: 0.6404\n",
      "Epoch 31/50\n",
      "1457/1457 - 0s - loss: 0.7988 - accuracy: 0.6664\n",
      "Epoch 32/50\n",
      "1457/1457 - 0s - loss: 0.8169 - accuracy: 0.6424\n",
      "Epoch 33/50\n",
      "1457/1457 - 0s - loss: 0.8007 - accuracy: 0.6644\n",
      "Epoch 34/50\n",
      "1457/1457 - 0s - loss: 0.7883 - accuracy: 0.6671\n",
      "Epoch 35/50\n",
      "1457/1457 - 0s - loss: 0.7954 - accuracy: 0.6582\n",
      "Epoch 36/50\n",
      "1457/1457 - 0s - loss: 0.7934 - accuracy: 0.6644\n",
      "Epoch 37/50\n",
      "1457/1457 - 0s - loss: 0.7927 - accuracy: 0.6678\n",
      "Epoch 38/50\n",
      "1457/1457 - 0s - loss: 0.7881 - accuracy: 0.6603\n",
      "Epoch 39/50\n",
      "1457/1457 - 0s - loss: 0.7833 - accuracy: 0.6609\n",
      "Epoch 40/50\n",
      "1457/1457 - 0s - loss: 0.7846 - accuracy: 0.6616\n",
      "Epoch 41/50\n",
      "1457/1457 - 0s - loss: 0.7839 - accuracy: 0.6712\n",
      "Epoch 42/50\n",
      "1457/1457 - 0s - loss: 0.7762 - accuracy: 0.6712\n",
      "Epoch 43/50\n",
      "1457/1457 - 0s - loss: 0.7828 - accuracy: 0.6575\n",
      "Epoch 44/50\n",
      "1457/1457 - 0s - loss: 0.7858 - accuracy: 0.6603\n",
      "Epoch 45/50\n",
      "1457/1457 - 0s - loss: 0.7650 - accuracy: 0.6774\n",
      "Epoch 46/50\n",
      "1457/1457 - 0s - loss: 0.7616 - accuracy: 0.6788\n",
      "Epoch 47/50\n",
      "1457/1457 - 0s - loss: 0.7756 - accuracy: 0.6651\n",
      "Epoch 48/50\n",
      "1457/1457 - 0s - loss: 0.7689 - accuracy: 0.6706\n",
      "Epoch 49/50\n",
      "1457/1457 - 0s - loss: 0.7579 - accuracy: 0.6843\n",
      "Epoch 50/50\n",
      "1457/1457 - 0s - loss: 0.7623 - accuracy: 0.6760\n"
     ]
    },
    {
     "data": {
      "text/plain": [
       "<tensorflow.python.keras.callbacks.History at 0x24728707bc8>"
      ]
     },
     "execution_count": 14,
     "metadata": {},
     "output_type": "execute_result"
    }
   ],
   "source": [
    "# Compile and fit the model.\n",
    "deep_model.compile(optimizer='adam', loss='categorical_crossentropy', metrics=['accuracy'])\n",
    "\n",
    "deep_model.fit(\n",
    "    X_train_scaled,\n",
    "    y_train_categorical,\n",
    "    epochs=50,\n",
    "    shuffle=True,\n",
    "    verbose=2\n",
    ")"
   ]
  },
  {
   "cell_type": "markdown",
   "metadata": {},
   "source": [
    "## Quantify our Trained Model"
   ]
  },
  {
   "cell_type": "code",
   "execution_count": 15,
   "metadata": {},
   "outputs": [
    {
     "name": "stdout",
     "output_type": "stream",
     "text": [
      "486/486 - 0s - loss: 0.8595 - accuracy: 0.6399\n",
      "Loss: 0.8594671875361062, Accuracy: 0.6399176716804504\n"
     ]
    }
   ],
   "source": [
    "model_loss, model_accuracy = deep_model.evaluate(X_test_scaled, y_test_categorical, verbose=2)\n",
    "print(f\"Loss: {model_loss}, Accuracy: {model_accuracy}\")"
   ]
  },
  {
   "cell_type": "markdown",
   "metadata": {
    "slideshow": {
     "slide_type": "subslide"
    }
   },
   "source": [
    "## Make Predictions"
   ]
  },
  {
   "cell_type": "code",
   "execution_count": 16,
   "metadata": {
    "nbgrader": {
     "grade": false,
     "grade_id": "cell-f97eb3e97245187b",
     "locked": false,
     "schema_version": 1,
     "solution": true
    },
    "slideshow": {
     "slide_type": "fragment"
    }
   },
   "outputs": [
    {
     "name": "stdout",
     "output_type": "stream",
     "text": [
      "Predicted classes: [Interval(609000.0, 825000.0, closed='right')\n",
      " Interval(609000.0, 825000.0, closed='right')\n",
      " Interval(348340.0, 449000.0, closed='right')\n",
      " Interval(449000.0, 609000.0, closed='right')\n",
      " Interval(449000.0, 609000.0, closed='right')\n",
      " Interval(348340.0, 449000.0, closed='right')\n",
      " Interval(609000.0, 825000.0, closed='right')\n",
      " Interval(123499.999, 348340.0, closed='right')\n",
      " Interval(123499.999, 348340.0, closed='right')\n",
      " Interval(609000.0, 825000.0, closed='right')]\n",
      "Actual Labels: [Interval(609000.0, 825000.0, closed='right'), Interval(609000.0, 825000.0, closed='right'), Interval(449000.0, 609000.0, closed='right'), Interval(449000.0, 609000.0, closed='right'), Interval(449000.0, 609000.0, closed='right'), Interval(449000.0, 609000.0, closed='right'), Interval(609000.0, 825000.0, closed='right'), Interval(123499.999, 348340.0, closed='right'), Interval(123499.999, 348340.0, closed='right'), Interval(449000.0, 609000.0, closed='right')]\n"
     ]
    }
   ],
   "source": [
    "# Use the first 10 test data values to make a prediction and compare it to the actual labels.\n",
    "encoded_predictions = deep_model.predict_classes(X_test_scaled[:10])\n",
    "prediction_labels = label_encoder.inverse_transform(encoded_predictions)\n",
    "\n",
    "print(f\"Predicted classes: {prediction_labels}\")\n",
    "print(f\"Actual Labels: {list(y_test[:10])}\")"
   ]
  },
  {
   "cell_type": "markdown",
   "metadata": {},
   "source": [
    "## Save the trained model"
   ]
  },
  {
   "cell_type": "code",
   "execution_count": 17,
   "metadata": {},
   "outputs": [],
   "source": [
    "# Save the model\n",
    "deep_model.save(\"housing_model_trained.h5\")"
   ]
  },
  {
   "cell_type": "markdown",
   "metadata": {},
   "source": [
    "## Test the saved model, scaler, and label encoder"
   ]
  },
  {
   "cell_type": "code",
   "execution_count": 18,
   "metadata": {},
   "outputs": [],
   "source": [
    "# Load the model, scaler and label encoder.\n",
    "model = load_model(\"housing_model_trained.h5\")\n",
    "scaler = load(\"minmax_scaler.bin\")\n",
    "label_encoder = load(\"label_encoder.bin\")"
   ]
  },
  {
   "cell_type": "code",
   "execution_count": 19,
   "metadata": {},
   "outputs": [],
   "source": [
    "# Input data for testing.\n",
    "input_data = np.array(np.array([X.iloc[0]]))"
   ]
  },
  {
   "cell_type": "code",
   "execution_count": 20,
   "metadata": {},
   "outputs": [
    {
     "data": {
      "text/plain": [
       "bathrooms               1.000000\n",
       "bedrooms                1.000000\n",
       "built                1960.000000\n",
       "lot_size                0.000000\n",
       "square_feet           735.000000\n",
       "districtAVGcost    393627.258621\n",
       "district_rank          10.000000\n",
       "zipcodeAVGcost     412295.897059\n",
       "zipcode_rank           29.000000\n",
       "Name: 0, dtype: float64"
      ]
     },
     "execution_count": 20,
     "metadata": {},
     "output_type": "execute_result"
    }
   ],
   "source": [
    "X.iloc[0]"
   ]
  },
  {
   "cell_type": "code",
   "execution_count": 21,
   "metadata": {},
   "outputs": [
    {
     "name": "stdout",
     "output_type": "stream",
     "text": [
      "123499.999, 348340.0\n"
     ]
    }
   ],
   "source": [
    "encoded_predictions = model.predict_classes(scaler.transform(input_data))\n",
    "prediction_labels = label_encoder.inverse_transform(encoded_predictions)\n",
    "\n",
    "print(f\"{prediction_labels[0].left}, {prediction_labels[0].right}\")"
   ]
  },
  {
   "cell_type": "code",
   "execution_count": null,
   "metadata": {},
   "outputs": [],
   "source": []
  }
 ],
 "metadata": {
  "kernelspec": {
   "display_name": "Python 3",
   "language": "python",
   "name": "python3"
  },
  "language_info": {
   "codemirror_mode": {
    "name": "ipython",
    "version": 3
   },
   "file_extension": ".py",
   "mimetype": "text/x-python",
   "name": "python",
   "nbconvert_exporter": "python",
   "pygments_lexer": "ipython3",
   "version": "3.7.7"
  }
 },
 "nbformat": 4,
 "nbformat_minor": 4
}

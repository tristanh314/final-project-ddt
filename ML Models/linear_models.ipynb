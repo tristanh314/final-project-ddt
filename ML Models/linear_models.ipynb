{
 "cells": [
  {
   "cell_type": "markdown",
   "metadata": {},
   "source": [
    "## Setup"
   ]
  },
  {
   "cell_type": "code",
   "execution_count": 6,
   "metadata": {},
   "outputs": [],
   "source": [
    "# Import Dependencies.\n",
    "import matplotlib.pyplot as plt\n",
    "import numpy as np\n",
    "import pandas as pd\n",
    "\n",
    "import requests\n",
    "import json\n",
    "\n",
    "from sklearn.model_selection import train_test_split\n",
    "from sklearn.preprocessing import StandardScaler\n",
    "from sklearn.linear_model import LinearRegression\n",
    "from sklearn.linear_model import Lasso\n",
    "from sklearn.linear_model import Ridge\n",
    "from sklearn.linear_model import ElasticNet\n",
    "from sklearn.metrics import mean_squared_error"
   ]
  },
  {
   "cell_type": "code",
   "execution_count": 7,
   "metadata": {},
   "outputs": [
    {
     "name": "stdout",
     "output_type": "stream",
     "text": [
      "{\n",
      "    \"address\": \"17452 NE GLISAN ST #7, Portland OR 97230\",\n",
      "    \"bathrooms\": 2.0,\n",
      "    \"bedrooms\": 2,\n",
      "    \"built\": 1988,\n",
      "    \"city\": \"Portland\",\n",
      "    \"county\": \"Multnomah\",\n",
      "    \"elementary_school\": \"Hartley\",\n",
      "    \"high_school\": \"Reynolds\",\n",
      "    \"home_type\": \"Manufactured - Double Wide Manufact\",\n",
      "    \"lot_size\": null,\n",
      "    \"middle_school\": \"Reynolds\",\n",
      "    \"neighborhood\": \"unknown\",\n",
      "    \"price\": 72000,\n",
      "    \"square_feet\": 1152,\n",
      "    \"zipcode\": 97230\n",
      "}\n"
     ]
    }
   ],
   "source": [
    "# Fetch the data from the API.\n",
    "listings_json = requests.get(\"http://127.0.0.1:5000/api/v1.0/listings\").json()\n",
    "\n",
    "# Examine the data.\n",
    "print(json.dumps(listings_json[0], indent=4, sort_keys=True))"
   ]
  },
  {
   "cell_type": "code",
   "execution_count": 8,
   "metadata": {},
   "outputs": [
    {
     "data": {
      "text/html": [
       "<div>\n",
       "<style scoped>\n",
       "    .dataframe tbody tr th:only-of-type {\n",
       "        vertical-align: middle;\n",
       "    }\n",
       "\n",
       "    .dataframe tbody tr th {\n",
       "        vertical-align: top;\n",
       "    }\n",
       "\n",
       "    .dataframe thead th {\n",
       "        text-align: right;\n",
       "    }\n",
       "</style>\n",
       "<table border=\"1\" class=\"dataframe\">\n",
       "  <thead>\n",
       "    <tr style=\"text-align: right;\">\n",
       "      <th></th>\n",
       "      <th>address</th>\n",
       "      <th>bathrooms</th>\n",
       "      <th>bedrooms</th>\n",
       "      <th>built</th>\n",
       "      <th>city</th>\n",
       "      <th>county</th>\n",
       "      <th>elementary_school</th>\n",
       "      <th>high_school</th>\n",
       "      <th>home_type</th>\n",
       "      <th>lot_size</th>\n",
       "      <th>middle_school</th>\n",
       "      <th>neighborhood</th>\n",
       "      <th>price</th>\n",
       "      <th>square_feet</th>\n",
       "      <th>zipcode</th>\n",
       "    </tr>\n",
       "  </thead>\n",
       "  <tbody>\n",
       "    <tr>\n",
       "      <th>0</th>\n",
       "      <td>17452 NE GLISAN ST #7, Portland OR 97230</td>\n",
       "      <td>2.0</td>\n",
       "      <td>2</td>\n",
       "      <td>1988</td>\n",
       "      <td>Portland</td>\n",
       "      <td>Multnomah</td>\n",
       "      <td>Hartley</td>\n",
       "      <td>Reynolds</td>\n",
       "      <td>Manufactured - Double Wide Manufact</td>\n",
       "      <td>NaN</td>\n",
       "      <td>Reynolds</td>\n",
       "      <td>unknown</td>\n",
       "      <td>72000</td>\n",
       "      <td>1152</td>\n",
       "      <td>97230</td>\n",
       "    </tr>\n",
       "    <tr>\n",
       "      <th>1</th>\n",
       "      <td>16000 SE POWELL BLVD 75, Portland OR 97236</td>\n",
       "      <td>2.0</td>\n",
       "      <td>3</td>\n",
       "      <td>1990</td>\n",
       "      <td>Portland</td>\n",
       "      <td>Multnomah</td>\n",
       "      <td>Powell Butte</td>\n",
       "      <td>Centennial</td>\n",
       "      <td>Manufactured - Double Wide Manufact</td>\n",
       "      <td>NaN</td>\n",
       "      <td>Centennial</td>\n",
       "      <td>unknown</td>\n",
       "      <td>79950</td>\n",
       "      <td>1404</td>\n",
       "      <td>97236</td>\n",
       "    </tr>\n",
       "    <tr>\n",
       "      <th>2</th>\n",
       "      <td>12846 SE RAMONA ST 6, Portland OR 97236</td>\n",
       "      <td>2.0</td>\n",
       "      <td>3</td>\n",
       "      <td>1997</td>\n",
       "      <td>Portland</td>\n",
       "      <td>Multnomah</td>\n",
       "      <td>Gilbert Hts</td>\n",
       "      <td>David Douglas</td>\n",
       "      <td>Manufactured - Double Wide Manufact</td>\n",
       "      <td>NaN</td>\n",
       "      <td>Alice Ott</td>\n",
       "      <td>unknown</td>\n",
       "      <td>93900</td>\n",
       "      <td>1297</td>\n",
       "      <td>97236</td>\n",
       "    </tr>\n",
       "    <tr>\n",
       "      <th>3</th>\n",
       "      <td>7720 S Macadam AVE 7, Portland OR 97219</td>\n",
       "      <td>3.0</td>\n",
       "      <td>3</td>\n",
       "      <td>1988</td>\n",
       "      <td>Portland</td>\n",
       "      <td>Multnomah</td>\n",
       "      <td>Other</td>\n",
       "      <td>Other</td>\n",
       "      <td>Floating Home - Contemporary</td>\n",
       "      <td>NaN</td>\n",
       "      <td>Other</td>\n",
       "      <td>unknown</td>\n",
       "      <td>125000</td>\n",
       "      <td>2432</td>\n",
       "      <td>97219</td>\n",
       "    </tr>\n",
       "    <tr>\n",
       "      <th>4</th>\n",
       "      <td>19609 NE Marine DR E-4, Portland OR 97230</td>\n",
       "      <td>1.0</td>\n",
       "      <td>1</td>\n",
       "      <td>1960</td>\n",
       "      <td>Portland</td>\n",
       "      <td>Multnomah</td>\n",
       "      <td>Salish Pond</td>\n",
       "      <td>Reynolds</td>\n",
       "      <td>Floating Home - Cabin</td>\n",
       "      <td>NaN</td>\n",
       "      <td>Reynolds</td>\n",
       "      <td>unknown</td>\n",
       "      <td>129500</td>\n",
       "      <td>735</td>\n",
       "      <td>97230</td>\n",
       "    </tr>\n",
       "  </tbody>\n",
       "</table>\n",
       "</div>"
      ],
      "text/plain": [
       "                                      address  bathrooms  bedrooms  built  \\\n",
       "0    17452 NE GLISAN ST #7, Portland OR 97230        2.0         2   1988   \n",
       "1  16000 SE POWELL BLVD 75, Portland OR 97236        2.0         3   1990   \n",
       "2     12846 SE RAMONA ST 6, Portland OR 97236        2.0         3   1997   \n",
       "3     7720 S Macadam AVE 7, Portland OR 97219        3.0         3   1988   \n",
       "4   19609 NE Marine DR E-4, Portland OR 97230        1.0         1   1960   \n",
       "\n",
       "       city     county elementary_school    high_school  \\\n",
       "0  Portland  Multnomah           Hartley       Reynolds   \n",
       "1  Portland  Multnomah      Powell Butte     Centennial   \n",
       "2  Portland  Multnomah       Gilbert Hts  David Douglas   \n",
       "3  Portland  Multnomah             Other          Other   \n",
       "4  Portland  Multnomah       Salish Pond       Reynolds   \n",
       "\n",
       "                             home_type  lot_size middle_school neighborhood  \\\n",
       "0  Manufactured - Double Wide Manufact       NaN      Reynolds      unknown   \n",
       "1  Manufactured - Double Wide Manufact       NaN    Centennial      unknown   \n",
       "2  Manufactured - Double Wide Manufact       NaN     Alice Ott      unknown   \n",
       "3         Floating Home - Contemporary       NaN         Other      unknown   \n",
       "4                Floating Home - Cabin       NaN      Reynolds      unknown   \n",
       "\n",
       "    price  square_feet  zipcode  \n",
       "0   72000         1152    97230  \n",
       "1   79950         1404    97236  \n",
       "2   93900         1297    97236  \n",
       "3  125000         2432    97219  \n",
       "4  129500          735    97230  "
      ]
     },
     "execution_count": 8,
     "metadata": {},
     "output_type": "execute_result"
    }
   ],
   "source": [
    "# Create a dataframe to use for our model.\n",
    "data_df = pd.DataFrame(listings_json)\n",
    "\n",
    "data_df.head()"
   ]
  },
  {
   "cell_type": "markdown",
   "metadata": {},
   "source": [
    "## Linear Models Using All Rows"
   ]
  },
  {
   "cell_type": "code",
   "execution_count": 16,
   "metadata": {},
   "outputs": [],
   "source": [
    "# Assign X (input) and y (target).\n",
    "\n",
    "X = data_df.loc[:, [\"bedrooms\", \"bathrooms\", \"square_feet\", \"built\"]]\n",
    "y = data_df.loc[:,\"price\"].values.reshape(-1, 1)\n"
   ]
  },
  {
   "cell_type": "code",
   "execution_count": 17,
   "metadata": {},
   "outputs": [],
   "source": [
    "# Split the data into training and testing\n",
    "\n",
    "X_train, X_test, y_train, y_test = train_test_split(X, y, random_state=42)"
   ]
  },
  {
   "cell_type": "code",
   "execution_count": 18,
   "metadata": {},
   "outputs": [],
   "source": [
    "# Create a StandardScater model and fit it to the training data\n",
    "\n",
    "X_scaler = StandardScaler().fit(X_train)\n",
    "y_scaler = StandardScaler().fit(y_train)"
   ]
  },
  {
   "cell_type": "code",
   "execution_count": 19,
   "metadata": {},
   "outputs": [],
   "source": [
    "# Transform the training and testing data using the X_scaler and y_scaler models.\n",
    "\n",
    "X_train_scaled = X_scaler.transform(X_train)\n",
    "X_test_scaled = X_scaler.transform(X_test)\n",
    "y_train_scaled = y_scaler.transform(y_train)\n",
    "y_test_scaled = y_scaler.transform(y_test)"
   ]
  },
  {
   "cell_type": "code",
   "execution_count": 20,
   "metadata": {},
   "outputs": [
    {
     "data": {
      "text/plain": [
       "LinearRegression(copy_X=True, fit_intercept=True, n_jobs=None, normalize=False)"
      ]
     },
     "execution_count": 20,
     "metadata": {},
     "output_type": "execute_result"
    }
   ],
   "source": [
    "# Create a LinearRegression model and fit it to the scaled training data\n",
    "\n",
    "model = LinearRegression()\n",
    "model.fit(X_train_scaled, y_train_scaled)"
   ]
  },
  {
   "cell_type": "code",
   "execution_count": 21,
   "metadata": {},
   "outputs": [
    {
     "data": {
      "image/png": "[encoded data removed]",
      "text/plain": [
       "<Figure size 432x288 with 1 Axes>"
      ]
     },
     "metadata": {
      "needs_background": "light"
     },
     "output_type": "display_data"
    }
   ],
   "source": [
    "# Make predictions using a fitted model.\n",
    "# Plot the difference between the model predicted values and actual y values, versus the model predicted values.\n",
    "\n",
    "plt.scatter(model.predict(X_train_scaled), model.predict(X_train_scaled) - y_train_scaled, c=\"blue\", label=\"Training Data\")\n",
    "plt.scatter(model.predict(X_test_scaled), model.predict(X_test_scaled) - y_test_scaled, c=\"orange\", label=\"Testing Data\")\n",
    "plt.legend()\n",
    "plt.hlines(y=0, xmin=y_test_scaled.min(), xmax=y_test_scaled.max())\n",
    "plt.title(\"LinReg Residual Plot\")\n",
    "plt.show()"
   ]
  },
  {
   "cell_type": "code",
   "execution_count": 22,
   "metadata": {},
   "outputs": [
    {
     "name": "stdout",
     "output_type": "stream",
     "text": [
      "MSE: 0.760834392213053, R2: 0.48309694392083163\n"
     ]
    }
   ],
   "source": [
    "# Used X_test_scaled, y_test_scaled, and model.predict(X_test_scaled) to calculate MSE and R2.\n",
    "\n",
    "predictions = model.predict(X_test_scaled)\n",
    "MSE = mean_squared_error(y_test_scaled, predictions)\n",
    "r2 = model.score(X_test_scaled, y_test_scaled)\n",
    "\n",
    "print(f\"MSE: {MSE}, R2: {r2}\")"
   ]
  },
  {
   "cell_type": "code",
   "execution_count": 23,
   "metadata": {},
   "outputs": [
    {
     "data": {
      "text/plain": [
       "Lasso(alpha=0.1, copy_X=True, fit_intercept=True, max_iter=1000,\n",
       "      normalize=False, positive=False, precompute=False, random_state=None,\n",
       "      selection='cyclic', tol=0.0001, warm_start=False)"
      ]
     },
     "execution_count": 23,
     "metadata": {},
     "output_type": "execute_result"
    }
   ],
   "source": [
    "# LASSO model, we'll use gridsearch later to try out different alpha values later.\n",
    "\n",
    "lasso = Lasso(alpha=0.1)\n",
    "lasso.fit(X_train_scaled, y_train_scaled)"
   ]
  },
  {
   "cell_type": "code",
   "execution_count": 30,
   "metadata": {},
   "outputs": [
    {
     "data": {
      "image/png": "[encoded data removed]",
      "text/plain": [
       "<Figure size 432x288 with 1 Axes>"
      ]
     },
     "metadata": {
      "needs_background": "light"
     },
     "output_type": "display_data"
    }
   ],
   "source": [
    "# Make predictions using a fitted lasso model.\n",
    "# Plot the difference between the model predicted values and actual y values, versus the model predicted values.\n",
    "\n",
    "plt.scatter(lasso.predict(X_train_scaled), lasso.predict(X_train_scaled) - list(np.ravel(y_train_scaled)), c=\"blue\", label=\"Training Data\")\n",
    "plt.scatter(lasso.predict(X_test_scaled), lasso.predict(X_test_scaled) - list(np.ravel(y_test_scaled)), c=\"orange\", label=\"Testing Data\")\n",
    "plt.legend()\n",
    "plt.hlines(y=0, xmin=y_test_scaled.min(), xmax=y_test_scaled.max())\n",
    "plt.title(\"LASSO Residual Plot\")\n",
    "plt.show()"
   ]
  },
  {
   "cell_type": "code",
   "execution_count": 31,
   "metadata": {},
   "outputs": [
    {
     "name": "stdout",
     "output_type": "stream",
     "text": [
      "MSE: 0.8731141823474815, R2: 0.4068152100107777\n"
     ]
    }
   ],
   "source": [
    "# Used X_test_scaled, y_test_scaled, and lasso.predict(X_test_scaled) to calculate MSE and R2.\n",
    "\n",
    "lasso_predictions = lasso.predict(X_test_scaled)\n",
    "lasso_MSE = mean_squared_error(y_test_scaled, lasso_predictions)\n",
    "lasso_r2 = lasso.score(X_test_scaled, y_test_scaled)\n",
    "\n",
    "print(f\"MSE: {lasso_MSE}, R2: {lasso_r2}\")"
   ]
  },
  {
   "cell_type": "code",
   "execution_count": 32,
   "metadata": {},
   "outputs": [
    {
     "data": {
      "text/plain": [
       "Ridge(alpha=0.1, copy_X=True, fit_intercept=True, max_iter=None,\n",
       "      normalize=False, random_state=None, solver='auto', tol=0.001)"
      ]
     },
     "execution_count": 32,
     "metadata": {},
     "output_type": "execute_result"
    }
   ],
   "source": [
    "# Ridge model, we'll use gridsearch later to try out different alpha values later.\n",
    "\n",
    "ridge = Ridge(alpha=0.1)\n",
    "ridge.fit(X_train_scaled, y_train_scaled)"
   ]
  },
  {
   "cell_type": "code",
   "execution_count": 33,
   "metadata": {},
   "outputs": [
    {
     "data": {
      "image/png": "[encoded data removed]",
      "text/plain": [
       "<Figure size 432x288 with 1 Axes>"
      ]
     },
     "metadata": {
      "needs_background": "light"
     },
     "output_type": "display_data"
    }
   ],
   "source": [
    "# Make predictions using a fitted ridge model.\n",
    "# Plot the difference between the model predicted values and actual y values, versus the model predicted values.\n",
    "\n",
    "plt.scatter(ridge.predict(X_train_scaled), ridge.predict(X_train_scaled) - y_train_scaled, c=\"blue\", label=\"Training Data\")\n",
    "plt.scatter(ridge.predict(X_test_scaled), ridge.predict(X_test_scaled) - y_test_scaled, c=\"orange\", label=\"Testing Data\")\n",
    "plt.legend()\n",
    "plt.hlines(y=0, xmin=y_test_scaled.min(), xmax=y_test_scaled.max())\n",
    "plt.title(\"Ridge Residual Plot\")\n",
    "plt.show()"
   ]
  },
  {
   "cell_type": "code",
   "execution_count": 34,
   "metadata": {},
   "outputs": [
    {
     "name": "stdout",
     "output_type": "stream",
     "text": [
      "MSE: 0.7608596338618626, R2: 0.4830797950044002\n"
     ]
    }
   ],
   "source": [
    "# Used X_test_scaled, y_test_scaled, and ridge.predict(X_test_scaled) to calculate MSE and R2.\n",
    "\n",
    "ridge_predictions = ridge.predict(X_test_scaled)\n",
    "ridge_MSE = mean_squared_error(y_test_scaled, ridge_predictions)\n",
    "ridge_r2 = ridge.score(X_test_scaled, y_test_scaled)\n",
    "\n",
    "print(f\"MSE: {ridge_MSE}, R2: {ridge_r2}\")"
   ]
  },
  {
   "cell_type": "code",
   "execution_count": 35,
   "metadata": {},
   "outputs": [
    {
     "data": {
      "text/plain": [
       "ElasticNet(alpha=0.1, copy_X=True, fit_intercept=True, l1_ratio=0.5,\n",
       "           max_iter=1000, normalize=False, positive=False, precompute=False,\n",
       "           random_state=None, selection='cyclic', tol=0.0001, warm_start=False)"
      ]
     },
     "execution_count": 35,
     "metadata": {},
     "output_type": "execute_result"
    }
   ],
   "source": [
    "# ElasticNet model, we'll use gridsearch later to try out different alpha values later.\n",
    "\n",
    "elast = ElasticNet(alpha=0.1)\n",
    "elast.fit(X_train_scaled, y_train_scaled)"
   ]
  },
  {
   "cell_type": "code",
   "execution_count": 37,
   "metadata": {},
   "outputs": [
    {
     "data": {
      "image/png": "[encoded data removed]",
      "text/plain": [
       "<Figure size 432x288 with 1 Axes>"
      ]
     },
     "metadata": {
      "needs_background": "light"
     },
     "output_type": "display_data"
    }
   ],
   "source": [
    "# Make predictions using a fitted elasticnet model.\n",
    "# Plot the difference between the model predicted values and actual y values, versus the model predicted values.\n",
    "\n",
    "plt.scatter(elast.predict(X_train_scaled), elast.predict(X_train_scaled) - list(np.ravel(y_train_scaled)), c=\"blue\", label=\"Training Data\")\n",
    "plt.scatter(elast.predict(X_test_scaled), elast.predict(X_test_scaled) - list(np.ravel(y_test_scaled)), c=\"orange\", label=\"Testing Data\")\n",
    "plt.legend()\n",
    "plt.hlines(y=0, xmin=y_test_scaled.min(), xmax=y_test_scaled.max())\n",
    "plt.title(\"ElasticNet Residual Plot\")\n",
    "plt.show()"
   ]
  },
  {
   "cell_type": "code",
   "execution_count": 40,
   "metadata": {},
   "outputs": [
    {
     "name": "stdout",
     "output_type": "stream",
     "text": [
      "MSE: 0.8584409058578742, R2: 0.4167840830504296\n"
     ]
    }
   ],
   "source": [
    "# Used X_test_scaled, y_test_scaled, and elast.predict(X_test_scaled) to calculate MSE and R2.\n",
    "\n",
    "elast_predictions = elast.predict(X_test_scaled)\n",
    "elast_MSE = mean_squared_error(y_test_scaled, elast_predictions)\n",
    "elast_r2 = elast.score(X_test_scaled, y_test_scaled)\n",
    "\n",
    "print(f\"MSE: {elast_MSE}, R2: {elast_r2}\")"
   ]
  },
  {
   "cell_type": "markdown",
   "metadata": {},
   "source": [
    "## Linear Models Using Only Rows With Lot Size"
   ]
  },
  {
   "cell_type": "code",
   "execution_count": 43,
   "metadata": {},
   "outputs": [],
   "source": [
    "# Assign X (input) and y (target).\n",
    "\n",
    "lot_data_df = data_df.dropna()\n",
    "X = lot_data_df.loc[:, [\"bedrooms\", \"bathrooms\", \"square_feet\", \"lot_size\", \"built\"]]\n",
    "y = lot_data_df.loc[:,\"price\"].values.reshape(-1, 1)"
   ]
  },
  {
   "cell_type": "code",
   "execution_count": 44,
   "metadata": {},
   "outputs": [],
   "source": [
    "# Split the data into training and testing\n",
    "\n",
    "X_train, X_test, y_train, y_test = train_test_split(X, y, random_state=42)"
   ]
  },
  {
   "cell_type": "code",
   "execution_count": 45,
   "metadata": {},
   "outputs": [],
   "source": [
    "# Create a StandardScater model and fit it to the training data\n",
    "\n",
    "X_scaler = StandardScaler().fit(X_train)\n",
    "y_scaler = StandardScaler().fit(y_train)"
   ]
  },
  {
   "cell_type": "code",
   "execution_count": 46,
   "metadata": {},
   "outputs": [],
   "source": [
    "# Transform the training and testing data using the X_scaler and y_scaler models.\n",
    "\n",
    "X_train_scaled = X_scaler.transform(X_train)\n",
    "X_test_scaled = X_scaler.transform(X_test)\n",
    "y_train_scaled = y_scaler.transform(y_train)\n",
    "y_test_scaled = y_scaler.transform(y_test)"
   ]
  },
  {
   "cell_type": "code",
   "execution_count": 47,
   "metadata": {},
   "outputs": [
    {
     "data": {
      "text/plain": [
       "LinearRegression(copy_X=True, fit_intercept=True, n_jobs=None, normalize=False)"
      ]
     },
     "execution_count": 47,
     "metadata": {},
     "output_type": "execute_result"
    }
   ],
   "source": [
    "# Create a LinearRegression model and fit it to the scaled training data\n",
    "\n",
    "model = LinearRegression()\n",
    "model.fit(X_train_scaled, y_train_scaled)"
   ]
  },
  {
   "cell_type": "code",
   "execution_count": 48,
   "metadata": {},
   "outputs": [
    {
     "data": {
      "image/png": "[encoded data removed]",
      "text/plain": [
       "<Figure size 432x288 with 1 Axes>"
      ]
     },
     "metadata": {
      "needs_background": "light"
     },
     "output_type": "display_data"
    }
   ],
   "source": [
    "# Make predictions using a fitted model.\n",
    "# Plot the difference between the model predicted values and actual y values, versus the model predicted values.\n",
    "\n",
    "plt.scatter(model.predict(X_train_scaled), model.predict(X_train_scaled) - y_train_scaled, c=\"blue\", label=\"Training Data\")\n",
    "plt.scatter(model.predict(X_test_scaled), model.predict(X_test_scaled) - y_test_scaled, c=\"orange\", label=\"Testing Data\")\n",
    "plt.legend()\n",
    "plt.hlines(y=0, xmin=y_test_scaled.min(), xmax=y_test_scaled.max())\n",
    "plt.title(\"LinReg Residual Plot\")\n",
    "plt.show()"
   ]
  },
  {
   "cell_type": "code",
   "execution_count": 49,
   "metadata": {},
   "outputs": [
    {
     "name": "stdout",
     "output_type": "stream",
     "text": [
      "MSE: 0.2771191863116997, R2: 0.6678697689762081\n"
     ]
    }
   ],
   "source": [
    "# Used X_test_scaled, y_test_scaled, and model.predict(X_test_scaled) to calculate MSE and R2.\n",
    "\n",
    "predictions = model.predict(X_test_scaled)\n",
    "MSE = mean_squared_error(y_test_scaled, predictions)\n",
    "r2 = model.score(X_test_scaled, y_test_scaled)\n",
    "\n",
    "print(f\"MSE: {MSE}, R2: {r2}\")"
   ]
  },
  {
   "cell_type": "code",
   "execution_count": 50,
   "metadata": {},
   "outputs": [
    {
     "data": {
      "text/plain": [
       "Lasso(alpha=0.1, copy_X=True, fit_intercept=True, max_iter=1000,\n",
       "      normalize=False, positive=False, precompute=False, random_state=None,\n",
       "      selection='cyclic', tol=0.0001, warm_start=False)"
      ]
     },
     "execution_count": 50,
     "metadata": {},
     "output_type": "execute_result"
    }
   ],
   "source": [
    "# LASSO model, we'll use gridsearch later to try out different alpha values later.\n",
    "\n",
    "lasso = Lasso(alpha=0.1)\n",
    "lasso.fit(X_train_scaled, y_train_scaled)"
   ]
  },
  {
   "cell_type": "code",
   "execution_count": 51,
   "metadata": {},
   "outputs": [
    {
     "data": {
      "image/png": "[encoded data removed]",
      "text/plain": [
       "<Figure size 432x288 with 1 Axes>"
      ]
     },
     "metadata": {
      "needs_background": "light"
     },
     "output_type": "display_data"
    }
   ],
   "source": [
    "# Make predictions using a fitted lasso model.\n",
    "# Plot the difference between the model predicted values and actual y values, versus the model predicted values.\n",
    "\n",
    "plt.scatter(lasso.predict(X_train_scaled), lasso.predict(X_train_scaled) - list(np.ravel(y_train_scaled)), c=\"blue\", label=\"Training Data\")\n",
    "plt.scatter(lasso.predict(X_test_scaled), lasso.predict(X_test_scaled) - list(np.ravel(y_test_scaled)), c=\"orange\", label=\"Testing Data\")\n",
    "plt.legend()\n",
    "plt.hlines(y=0, xmin=y_test_scaled.min(), xmax=y_test_scaled.max())\n",
    "plt.title(\"LASSO Residual Plot\")\n",
    "plt.show()"
   ]
  },
  {
   "cell_type": "code",
   "execution_count": 52,
   "metadata": {},
   "outputs": [
    {
     "name": "stdout",
     "output_type": "stream",
     "text": [
      "MSE: 0.2652837412728159, R2: 0.6820546731228753\n"
     ]
    }
   ],
   "source": [
    "# Used X_test_scaled, y_test_scaled, and lasso.predict(X_test_scaled) to calculate MSE and R2.\n",
    "\n",
    "lasso_predictions = lasso.predict(X_test_scaled)\n",
    "lasso_MSE = mean_squared_error(y_test_scaled, lasso_predictions)\n",
    "lasso_r2 = lasso.score(X_test_scaled, y_test_scaled)\n",
    "\n",
    "print(f\"MSE: {lasso_MSE}, R2: {lasso_r2}\")"
   ]
  },
  {
   "cell_type": "code",
   "execution_count": 53,
   "metadata": {},
   "outputs": [
    {
     "data": {
      "text/plain": [
       "Ridge(alpha=0.1, copy_X=True, fit_intercept=True, max_iter=None,\n",
       "      normalize=False, random_state=None, solver='auto', tol=0.001)"
      ]
     },
     "execution_count": 53,
     "metadata": {},
     "output_type": "execute_result"
    }
   ],
   "source": [
    "# Ridge model, we'll use gridsearch later to try out different alpha values later.\n",
    "\n",
    "ridge = Ridge(alpha=0.1)\n",
    "ridge.fit(X_train_scaled, y_train_scaled)"
   ]
  },
  {
   "cell_type": "code",
   "execution_count": 54,
   "metadata": {},
   "outputs": [
    {
     "data": {
      "image/png": "[encoded data removed]",
      "text/plain": [
       "<Figure size 432x288 with 1 Axes>"
      ]
     },
     "metadata": {
      "needs_background": "light"
     },
     "output_type": "display_data"
    }
   ],
   "source": [
    "# Make predictions using a fitted ridge model.\n",
    "# Plot the difference between the model predicted values and actual y values, versus the model predicted values.\n",
    "\n",
    "plt.scatter(ridge.predict(X_train_scaled), ridge.predict(X_train_scaled) - y_train_scaled, c=\"blue\", label=\"Training Data\")\n",
    "plt.scatter(ridge.predict(X_test_scaled), ridge.predict(X_test_scaled) - y_test_scaled, c=\"orange\", label=\"Testing Data\")\n",
    "plt.legend()\n",
    "plt.hlines(y=0, xmin=y_test_scaled.min(), xmax=y_test_scaled.max())\n",
    "plt.title(\"Ridge Residual Plot\")\n",
    "plt.show()"
   ]
  },
  {
   "cell_type": "code",
   "execution_count": 55,
   "metadata": {},
   "outputs": [
    {
     "name": "stdout",
     "output_type": "stream",
     "text": [
      "MSE: 0.27707006562497044, R2: 0.6679286406308509\n"
     ]
    }
   ],
   "source": [
    "# Used X_test_scaled, y_test_scaled, and ridge.predict(X_test_scaled) to calculate MSE and R2.\n",
    "\n",
    "ridge_predictions = ridge.predict(X_test_scaled)\n",
    "ridge_MSE = mean_squared_error(y_test_scaled, ridge_predictions)\n",
    "ridge_r2 = ridge.score(X_test_scaled, y_test_scaled)\n",
    "\n",
    "print(f\"MSE: {ridge_MSE}, R2: {ridge_r2}\")"
   ]
  },
  {
   "cell_type": "code",
   "execution_count": 56,
   "metadata": {},
   "outputs": [
    {
     "data": {
      "text/plain": [
       "ElasticNet(alpha=0.1, copy_X=True, fit_intercept=True, l1_ratio=0.5,\n",
       "           max_iter=1000, normalize=False, positive=False, precompute=False,\n",
       "           random_state=None, selection='cyclic', tol=0.0001, warm_start=False)"
      ]
     },
     "execution_count": 56,
     "metadata": {},
     "output_type": "execute_result"
    }
   ],
   "source": [
    "# ElasticNet model, we'll use gridsearch later to try out different alpha values later.\n",
    "\n",
    "elast = ElasticNet(alpha=0.1)\n",
    "elast.fit(X_train_scaled, y_train_scaled)"
   ]
  },
  {
   "cell_type": "code",
   "execution_count": 57,
   "metadata": {},
   "outputs": [
    {
     "data": {
      "image/png": "[encoded data removed]",
      "text/plain": [
       "<Figure size 432x288 with 1 Axes>"
      ]
     },
     "metadata": {
      "needs_background": "light"
     },
     "output_type": "display_data"
    }
   ],
   "source": [
    "# Make predictions using a fitted elasticnet model.\n",
    "# Plot the difference between the model predicted values and actual y values, versus the model predicted values.\n",
    "\n",
    "plt.scatter(elast.predict(X_train_scaled), elast.predict(X_train_scaled) - list(np.ravel(y_train_scaled)), c=\"blue\", label=\"Training Data\")\n",
    "plt.scatter(elast.predict(X_test_scaled), elast.predict(X_test_scaled) - list(np.ravel(y_test_scaled)), c=\"orange\", label=\"Testing Data\")\n",
    "plt.legend()\n",
    "plt.hlines(y=0, xmin=y_test_scaled.min(), xmax=y_test_scaled.max())\n",
    "plt.title(\"ElasticNet Residual Plot\")\n",
    "plt.show()"
   ]
  },
  {
   "cell_type": "code",
   "execution_count": 58,
   "metadata": {},
   "outputs": [
    {
     "name": "stdout",
     "output_type": "stream",
     "text": [
      "MSE: 0.2597308241832265, R2: 0.6887099020890387\n"
     ]
    }
   ],
   "source": [
    "# Used X_test_scaled, y_test_scaled, and elast.predict(X_test_scaled) to calculate MSE and R2.\n",
    "\n",
    "elast_predictions = elast.predict(X_test_scaled)\n",
    "elast_MSE = mean_squared_error(y_test_scaled, elast_predictions)\n",
    "elast_r2 = elast.score(X_test_scaled, y_test_scaled)\n",
    "\n",
    "print(f\"MSE: {elast_MSE}, R2: {elast_r2}\")"
   ]
  }
 ],
 "metadata": {
  "kernelspec": {
   "display_name": "Python 3",
   "language": "python",
   "name": "python3"
  },
  "language_info": {
   "codemirror_mode": {
    "name": "ipython",
    "version": 3
   },
   "file_extension": ".py",
   "mimetype": "text/x-python",
   "name": "python",
   "nbconvert_exporter": "python",
   "pygments_lexer": "ipython3",
   "version": "3.7.7"
  }
 },
 "nbformat": 4,
 "nbformat_minor": 4
}

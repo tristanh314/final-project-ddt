{
 "cells": [
  {
   "cell_type": "markdown",
   "metadata": {},
   "source": [
    "## Setup"
   ]
  },
  {
   "cell_type": "code",
   "execution_count": 1,
   "metadata": {},
   "outputs": [],
   "source": [
    "# Import Dependencies.\n",
    "import matplotlib.pyplot as plt\n",
    "import numpy as np\n",
    "import pandas as pd\n",
    "\n",
    "import requests\n",
    "import json\n",
    "\n",
    "from sklearn.neural_network import MLPClassifier\n",
    "from sklearn.model_selection import train_test_split\n",
    "from sklearn.preprocessing import StandardScaler\n",
    "from sklearn.model_selection import GridSearchCV\n",
    "from sklearn.metrics import mean_squared_error"
   ]
  },
  {
   "cell_type": "code",
   "execution_count": 2,
   "metadata": {},
   "outputs": [
    {
     "name": "stdout",
     "output_type": "stream",
     "text": [
      "{\n",
      "    \"address\": \"255 SW HARRISON ST 19b, Portland OR 97201\",\n",
      "    \"bathrooms\": 1.0,\n",
      "    \"bedrooms\": 1,\n",
      "    \"built\": 1965,\n",
      "    \"city\": \"Portland\",\n",
      "    \"county\": \"Multnomah\",\n",
      "    \"elementary_school\": \"Ainsworth\",\n",
      "    \"high_school\": \"Lincoln\",\n",
      "    \"home_type\": \"Condo - Contemporary\",\n",
      "    \"lot_size\": null,\n",
      "    \"middle_school\": \"West Sylvan\",\n",
      "    \"neighborhood\": \"HARRISON WEST PSU OHSU\",\n",
      "    \"price\": 250000,\n",
      "    \"square_feet\": 744,\n",
      "    \"zipcode\": 97201\n",
      "}\n"
     ]
    }
   ],
   "source": [
    "# Fetch the data from the API.\n",
    "listings_json = requests.get(\"http://127.0.0.1:5000/housingDataAPI/v1.0/listings\").json()\n",
    "\n",
    "# Examine the data.\n",
    "print(json.dumps(listings_json[0], indent=4, sort_keys=True))"
   ]
  },
  {
   "cell_type": "code",
   "execution_count": 3,
   "metadata": {},
   "outputs": [
    {
     "name": "stdout",
     "output_type": "stream",
     "text": [
      "1619\n"
     ]
    },
    {
     "data": {
      "text/html": [
       "<div>\n",
       "<style scoped>\n",
       "    .dataframe tbody tr th:only-of-type {\n",
       "        vertical-align: middle;\n",
       "    }\n",
       "\n",
       "    .dataframe tbody tr th {\n",
       "        vertical-align: top;\n",
       "    }\n",
       "\n",
       "    .dataframe thead th {\n",
       "        text-align: right;\n",
       "    }\n",
       "</style>\n",
       "<table border=\"1\" class=\"dataframe\">\n",
       "  <thead>\n",
       "    <tr style=\"text-align: right;\">\n",
       "      <th></th>\n",
       "      <th>address</th>\n",
       "      <th>bathrooms</th>\n",
       "      <th>bedrooms</th>\n",
       "      <th>built</th>\n",
       "      <th>city</th>\n",
       "      <th>county</th>\n",
       "      <th>elementary_school</th>\n",
       "      <th>high_school</th>\n",
       "      <th>home_type</th>\n",
       "      <th>lot_size</th>\n",
       "      <th>middle_school</th>\n",
       "      <th>neighborhood</th>\n",
       "      <th>price</th>\n",
       "      <th>square_feet</th>\n",
       "      <th>zipcode</th>\n",
       "    </tr>\n",
       "  </thead>\n",
       "  <tbody>\n",
       "    <tr>\n",
       "      <th>0</th>\n",
       "      <td>255 SW HARRISON ST 19b, Portland OR 97201</td>\n",
       "      <td>1.0</td>\n",
       "      <td>1</td>\n",
       "      <td>1965</td>\n",
       "      <td>Portland</td>\n",
       "      <td>Multnomah</td>\n",
       "      <td>Ainsworth</td>\n",
       "      <td>Lincoln</td>\n",
       "      <td>Condo - Contemporary</td>\n",
       "      <td>NaN</td>\n",
       "      <td>West Sylvan</td>\n",
       "      <td>HARRISON WEST PSU OHSU</td>\n",
       "      <td>250000</td>\n",
       "      <td>744</td>\n",
       "      <td>97201</td>\n",
       "    </tr>\n",
       "    <tr>\n",
       "      <th>1</th>\n",
       "      <td>1811 NW COUCH ST 410, Portland OR 97209</td>\n",
       "      <td>1.0</td>\n",
       "      <td>1</td>\n",
       "      <td>1916</td>\n",
       "      <td>Portland</td>\n",
       "      <td>Multnomah</td>\n",
       "      <td>Chapman</td>\n",
       "      <td>Lincoln</td>\n",
       "      <td>Condo - Tudor</td>\n",
       "      <td>NaN</td>\n",
       "      <td>West Sylvan</td>\n",
       "      <td>unknown</td>\n",
       "      <td>250000</td>\n",
       "      <td>519</td>\n",
       "      <td>97209</td>\n",
       "    </tr>\n",
       "    <tr>\n",
       "      <th>2</th>\n",
       "      <td>2211 SW PARK PL 102, Portland OR 97205</td>\n",
       "      <td>1.0</td>\n",
       "      <td>1</td>\n",
       "      <td>1965</td>\n",
       "      <td>Portland</td>\n",
       "      <td>Multnomah</td>\n",
       "      <td>Chapman</td>\n",
       "      <td>Lincoln</td>\n",
       "      <td>Condo - Contemporary</td>\n",
       "      <td>NaN</td>\n",
       "      <td>West Sylvan</td>\n",
       "      <td>KINGS HILL</td>\n",
       "      <td>250000</td>\n",
       "      <td>849</td>\n",
       "      <td>97205</td>\n",
       "    </tr>\n",
       "    <tr>\n",
       "      <th>3</th>\n",
       "      <td>501 NE Bridgeton RD 5, Portland OR 97211</td>\n",
       "      <td>1.0</td>\n",
       "      <td>2</td>\n",
       "      <td>1964</td>\n",
       "      <td>Portland</td>\n",
       "      <td>Multnomah</td>\n",
       "      <td>Faubion</td>\n",
       "      <td>Jefferson</td>\n",
       "      <td>Floating Home - 1 Story</td>\n",
       "      <td>NaN</td>\n",
       "      <td>Other</td>\n",
       "      <td>BRIDGETON</td>\n",
       "      <td>250000</td>\n",
       "      <td>791</td>\n",
       "      <td>97211</td>\n",
       "    </tr>\n",
       "    <tr>\n",
       "      <th>4</th>\n",
       "      <td>8712 N DECATUR ST 301, Portland OR 97203</td>\n",
       "      <td>1.0</td>\n",
       "      <td>2</td>\n",
       "      <td>2007</td>\n",
       "      <td>Portland</td>\n",
       "      <td>Multnomah</td>\n",
       "      <td>James John</td>\n",
       "      <td>Roosevelt</td>\n",
       "      <td>Condo - Contemporary</td>\n",
       "      <td>NaN</td>\n",
       "      <td>George</td>\n",
       "      <td>unknown</td>\n",
       "      <td>252000</td>\n",
       "      <td>934</td>\n",
       "      <td>97203</td>\n",
       "    </tr>\n",
       "  </tbody>\n",
       "</table>\n",
       "</div>"
      ],
      "text/plain": [
       "                                     address  bathrooms  bedrooms  built  \\\n",
       "0  255 SW HARRISON ST 19b, Portland OR 97201        1.0         1   1965   \n",
       "1    1811 NW COUCH ST 410, Portland OR 97209        1.0         1   1916   \n",
       "2     2211 SW PARK PL 102, Portland OR 97205        1.0         1   1965   \n",
       "3   501 NE Bridgeton RD 5, Portland OR 97211        1.0         2   1964   \n",
       "4   8712 N DECATUR ST 301, Portland OR 97203        1.0         2   2007   \n",
       "\n",
       "       city     county elementary_school high_school                home_type  \\\n",
       "0  Portland  Multnomah         Ainsworth     Lincoln     Condo - Contemporary   \n",
       "1  Portland  Multnomah           Chapman     Lincoln            Condo - Tudor   \n",
       "2  Portland  Multnomah           Chapman     Lincoln     Condo - Contemporary   \n",
       "3  Portland  Multnomah           Faubion   Jefferson  Floating Home - 1 Story   \n",
       "4  Portland  Multnomah        James John   Roosevelt     Condo - Contemporary   \n",
       "\n",
       "   lot_size middle_school            neighborhood   price  square_feet  \\\n",
       "0       NaN   West Sylvan  HARRISON WEST PSU OHSU  250000          744   \n",
       "1       NaN   West Sylvan                 unknown  250000          519   \n",
       "2       NaN   West Sylvan              KINGS HILL  250000          849   \n",
       "3       NaN         Other               BRIDGETON  250000          791   \n",
       "4       NaN        George                 unknown  252000          934   \n",
       "\n",
       "   zipcode  \n",
       "0    97201  \n",
       "1    97209  \n",
       "2    97205  \n",
       "3    97211  \n",
       "4    97203  "
      ]
     },
     "execution_count": 3,
     "metadata": {},
     "output_type": "execute_result"
    }
   ],
   "source": [
    "# Create a dataframe to use for our model.\n",
    "data_df = pd.DataFrame(listings_json)\n",
    "\n",
    "print(len(data_df))\n",
    "data_df.head()"
   ]
  },
  {
   "cell_type": "markdown",
   "metadata": {},
   "source": [
    "## Data Preprocessing"
   ]
  },
  {
   "cell_type": "code",
   "execution_count": 7,
   "metadata": {},
   "outputs": [
    {
     "data": {
      "text/plain": [
       "array(['Condo', 'Floating', 'Single Family'], dtype=object)"
      ]
     },
     "execution_count": 7,
     "metadata": {},
     "output_type": "execute_result"
    }
   ],
   "source": [
    "# Simplify home types \n",
    "for i in data_df.index:\n",
    "    if \"Floating\" in data_df.at[i, \"home_type\"]:\n",
    "        data_df.at[i, \"home_type\"] = \"Floating\"\n",
    "    if \"Condo\" in data_df.at[i, \"home_type\"]:\n",
    "        data_df.at[i, \"home_type\"] = \"Condo\"\n",
    "    if \"Single Family\" in data_df.at[i, \"home_type\"]:\n",
    "        data_df.at[i, \"home_type\"] = \"Single Family\"\n",
    "    if \"Manufactured\" in data_df.at[i, \"home_type\"]:\n",
    "        data_df.at[i, \"home_type\"] = \"Manufactured\"\n",
    "    \n",
    "data_df.home_type.unique() "
   ]
  },
  {
   "cell_type": "code",
   "execution_count": 9,
   "metadata": {},
   "outputs": [
    {
     "name": "stdout",
     "output_type": "stream",
     "text": [
      "Current Amount of Listings: 1619\n",
      "Updated Amount of Listings: 1523\n"
     ]
    }
   ],
   "source": [
    "# Print data to compare how many data points lost\n",
    "print(f'Current Amount of Listings: {len(data_df)}')\n",
    "\n",
    "# Change lot size to 0 for floating homes and condos\n",
    "for i in data_df.index:\n",
    "    if data_df.at[i, \"home_type\"] == \"Floating\":\n",
    "        data_df.at[i, \"lot_size\"] = 0\n",
    "    if data_df.at[i, \"home_type\"] == \"Condo\":\n",
    "        data_df.at[i, \"lot_size\"] = 0\n",
    "\n",
    "# Drop listing with null lot_size\n",
    "data_df.drop(data_df[data_df[\"lot_size\"].isnull()].index, inplace=True)\n",
    "      \n",
    "# Print length of data\n",
    "print(f'Updated Amount of Listings: {len(data_df)}')"
   ]
  },
  {
   "cell_type": "code",
   "execution_count": null,
   "metadata": {},
   "outputs": [],
   "source": [
    "# Assign X (input) and y (target).\n",
    "\n",
    "X = model_df.drop(\"price\", axis=1)\n",
    "y = model_df.loc[:,\"price\"].values.reshape(-1, 1)"
   ]
  },
  {
   "cell_type": "code",
   "execution_count": null,
   "metadata": {},
   "outputs": [],
   "source": [
    "# Split the data into training and testing\n",
    "\n",
    "X_train, X_test, y_train, y_test = train_test_split(X, y, random_state=42)"
   ]
  },
  {
   "cell_type": "code",
   "execution_count": null,
   "metadata": {},
   "outputs": [],
   "source": [
    "# Create a MinMaxScaler model and fit it to the training data\n",
    "\n",
    "X_scaler = StandardScaler().fit(X_train)\n",
    "y_scaler = StandardScaler().fit(y_train)"
   ]
  },
  {
   "cell_type": "code",
   "execution_count": null,
   "metadata": {},
   "outputs": [],
   "source": [
    "# Transform the training and testing data using the X_scaler and y_scaler models.\n",
    "\n",
    "X_train_scaled = X_scaler.transform(X_train)\n",
    "X_test_scaled = X_scaler.transform(X_test)\n",
    "y_train_scaled = y_scaler.transform(y_train)\n",
    "y_test_scaled = y_scaler.transform(y_test)"
   ]
  },
  {
   "cell_type": "markdown",
   "metadata": {},
   "source": [
    "## Model Creation, Training, and Testing"
   ]
  },
  {
   "cell_type": "code",
   "execution_count": null,
   "metadata": {},
   "outputs": [],
   "source": [
    "# Create an mlp model.\n",
    "model = MLPRegressor(hidden_layer_sizes=(100,100), random_state=42, max_iter=1000)"
   ]
  },
  {
   "cell_type": "code",
   "execution_count": null,
   "metadata": {},
   "outputs": [],
   "source": [
    "# Use grid search to tune the model.\n",
    "grid = GridSearchCV(model, {\"alpha\":10.0 ** -np.arange(1, 7)}, verbose=2)\n",
    "grid.fit(X_train_scaled, np.ravel(y_train_scaled))"
   ]
  },
  {
   "cell_type": "code",
   "execution_count": null,
   "metadata": {},
   "outputs": [],
   "source": [
    "# List the best parameters and best score.\n",
    "print(grid.best_params_)\n",
    "print(grid.best_score_)"
   ]
  },
  {
   "cell_type": "code",
   "execution_count": null,
   "metadata": {},
   "outputs": [],
   "source": [
    "# Make predictions using a fitted MLPRegression model.\n",
    "# Plot the difference between the model predicted values and actual y values, versus the model predicted values.\n",
    "\n",
    "plt.scatter(grid.predict(X_train_scaled), grid.predict(X_train_scaled) - np.ravel(y_train_scaled), c=\"blue\", label=\"Training Data\")\n",
    "plt.scatter(grid.predict(X_test_scaled), grid.predict(X_test_scaled) - np.ravel(y_test_scaled), c=\"orange\", label=\"Testing Data\")\n",
    "plt.legend()\n",
    "plt.hlines(y=0, xmin=y_test_scaled.min(), xmax=y_test_scaled.max())\n",
    "plt.title(\"MLP Residual Plot\")\n",
    "plt.show()"
   ]
  },
  {
   "cell_type": "code",
   "execution_count": null,
   "metadata": {},
   "outputs": [],
   "source": [
    "# Used X_test_scaled, y_test_scaled, and grid.predict(X_test_scaled) to calculate MSE and R2.\n",
    "\n",
    "grid_predictions = grid.predict(X_test_scaled)\n",
    "grid_MSE = mean_squared_error(y_test_scaled, grid_predictions)\n",
    "grid_r2 = grid.score(X_test_scaled, y_test_scaled)\n",
    "\n",
    "print(f\"MSE: {grid_MSE}, R2: {grid_r2}\")"
   ]
  }
 ],
 "metadata": {
  "kernelspec": {
   "display_name": "Python 3",
   "language": "python",
   "name": "python3"
  },
  "language_info": {
   "codemirror_mode": {
    "name": "ipython",
    "version": 3
   },
   "file_extension": ".py",
   "mimetype": "text/x-python",
   "name": "python",
   "nbconvert_exporter": "python",
   "pygments_lexer": "ipython3",
   "version": "3.7.7"
  }
 },
 "nbformat": 4,
 "nbformat_minor": 4
}

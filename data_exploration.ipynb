{
 "cells": [
  {
   "cell_type": "code",
   "execution_count": 1,
   "metadata": {},
   "outputs": [],
   "source": [
    "# Ignore SQLITE warnings related to Decimal numbers in the housing database.\n",
    "import warnings\n",
    "warnings.filterwarnings('ignore')"
   ]
  },
  {
   "cell_type": "code",
   "execution_count": 2,
   "metadata": {},
   "outputs": [],
   "source": [
    "# Import Dependencies.\n",
    "import numpy as np\n",
    "import sqlalchemy\n",
    "from sqlalchemy.ext.automap import automap_base\n",
    "from sqlalchemy.orm import Session\n",
    "from sqlalchemy import create_engine, inspect, func"
   ]
  },
  {
   "cell_type": "code",
   "execution_count": 3,
   "metadata": {},
   "outputs": [],
   "source": [
    "# Create an engine for the housing.sqlite database.\n",
    "engine = create_engine(\"sqlite:///Resources/housing.sqlite\")"
   ]
  },
  {
   "cell_type": "code",
   "execution_count": 4,
   "metadata": {},
   "outputs": [],
   "source": [
    "# Reflect Database into ORM classes.\n",
    "Base = automap_base()\n",
    "Base.prepare(engine, reflect=True)"
   ]
  },
  {
   "cell_type": "code",
   "execution_count": 5,
   "metadata": {},
   "outputs": [],
   "source": [
    "# Create a database session object.\n",
    "session = Session(engine)"
   ]
  },
  {
   "cell_type": "code",
   "execution_count": 6,
   "metadata": {},
   "outputs": [
    {
     "data": {
      "text/plain": [
       "['listings']"
      ]
     },
     "execution_count": 6,
     "metadata": {},
     "output_type": "execute_result"
    }
   ],
   "source": [
    "# Get the table names of the database.\n",
    "inspector = inspect(engine)\n",
    "inspector.get_table_names()"
   ]
  },
  {
   "cell_type": "code",
   "execution_count": 7,
   "metadata": {},
   "outputs": [
    {
     "name": "stdout",
     "output_type": "stream",
     "text": [
      "id INTEGER\n",
      "address VARCHAR(255)\n",
      "price INTEGER\n",
      "home_type VARCHAR(255)\n",
      "bedrooms INTEGER\n",
      "bathrooms FLOAT\n",
      "square_feet INTEGER\n",
      "built INTEGER\n",
      "neighborhood VARCHAR(255)\n",
      "county VARCHAR(255)\n",
      "city VARCHAR(255)\n",
      "zipcode INTEGER\n",
      "high_school VARCHAR(255)\n",
      "middle_school VARCHAR(255)\n",
      "elementary_school VARCHAR(255)\n"
     ]
    }
   ],
   "source": [
    "# Get the names and types of the columns for the table listings.\n",
    "columns = inspector.get_columns(\"listings\")\n",
    "for c in columns:\n",
    "    print(c[\"name\"], c[\"type\"])"
   ]
  },
  {
   "cell_type": "code",
   "execution_count": 8,
   "metadata": {},
   "outputs": [],
   "source": [
    "# Save a reference to the listings table as \"Listings\".\n",
    "Listings = Base.classes.listings"
   ]
  },
  {
   "cell_type": "code",
   "execution_count": 9,
   "metadata": {},
   "outputs": [
    {
     "data": {
      "text/plain": [
       "1784"
      ]
     },
     "execution_count": 9,
     "metadata": {},
     "output_type": "execute_result"
    }
   ],
   "source": [
    "# Count the number of entries in the listings table.\n",
    "listings_count = session.query(Listings).count()\n",
    "listings_count"
   ]
  },
  {
   "cell_type": "code",
   "execution_count": 10,
   "metadata": {},
   "outputs": [
    {
     "data": {
      "text/plain": [
       "75"
      ]
     },
     "execution_count": 10,
     "metadata": {},
     "output_type": "execute_result"
    }
   ],
   "source": [
    "# Count the number of distinct home types found in the listings table.\n",
    "home_types_count = session.query(Listings.home_type).distinct().count()\n",
    "home_types_count\n",
    "# Given the sheer number of categories, this seems a good variable to drop..."
   ]
  },
  {
   "cell_type": "code",
   "execution_count": 11,
   "metadata": {},
   "outputs": [
    {
     "data": {
      "text/plain": [
       "33"
      ]
     },
     "execution_count": 11,
     "metadata": {},
     "output_type": "execute_result"
    }
   ],
   "source": [
    "# City, county, and neighborhood would seem to be specified by zip code. Count the number of distinct zip codes.\n",
    "zipcode_count = session.query(Listings.zipcode).distinct().count()\n",
    "zipcode_count"
   ]
  },
  {
   "cell_type": "code",
   "execution_count": 12,
   "metadata": {},
   "outputs": [
    {
     "data": {
      "text/plain": [
       "(25, 62, 115)"
      ]
     },
     "execution_count": 12,
     "metadata": {},
     "output_type": "execute_result"
    }
   ],
   "source": [
    "# Count the number of schools for each level.\n",
    "hs_count = session.query(Listings.high_school).distinct().count()\n",
    "ms_count = session.query(Listings.middle_school).distinct().count()\n",
    "es_count = session.query(Listings.elementary_school).distinct().count()\n",
    "hs_count, ms_count, es_count\n",
    "# There are an awful lot of these, these categories may need to be removed when training models..."
   ]
  },
  {
   "cell_type": "code",
   "execution_count": 13,
   "metadata": {},
   "outputs": [],
   "source": [
    "# Close the session.\n",
    "session.close()"
   ]
  }
 ],
 "metadata": {
  "kernelspec": {
   "display_name": "Python 3",
   "language": "python",
   "name": "python3"
  },
  "language_info": {
   "codemirror_mode": {
    "name": "ipython",
    "version": 3
   },
   "file_extension": ".py",
   "mimetype": "text/x-python",
   "name": "python",
   "nbconvert_exporter": "python",
   "pygments_lexer": "ipython3",
   "version": "3.7.7"
  }
 },
 "nbformat": 4,
 "nbformat_minor": 4
}

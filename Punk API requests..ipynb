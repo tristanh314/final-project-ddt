{
 "cells": [
  {
   "cell_type": "code",
   "execution_count": 2,
   "metadata": {},
   "outputs": [],
   "source": [
    "#api dependencies\n",
    "import requests\n",
    "import json\n",
    "from pprint import pprint"
   ]
  },
  {
   "cell_type": "code",
   "execution_count": 12,
   "metadata": {},
   "outputs": [],
   "source": [
    "#creating base url and parameter variables\n",
    "base_url = \"https://api.punkapi.com/v2/beers?\"\n",
    "page_num = 1\n",
    "per_num = 2\n",
    "page_param = f\"page={page_num}\"\n",
    "per_param = f\"&per_page={per_num}\""
   ]
  },
  {
   "cell_type": "code",
   "execution_count": 13,
   "metadata": {},
   "outputs": [
    {
     "data": {
      "text/plain": [
       "<Response [200]>"
      ]
     },
     "execution_count": 13,
     "metadata": {},
     "output_type": "execute_result"
    }
   ],
   "source": [
    "# getting a response\n",
    "response = requests.get(base_url+page_param+per_param)\n",
    "response"
   ]
  },
  {
   "cell_type": "code",
   "execution_count": 14,
   "metadata": {},
   "outputs": [
    {
     "name": "stdout",
     "output_type": "stream",
     "text": [
      "[{'abv': 4.5,\n",
      "  'attenuation_level': 75,\n",
      "  'boil_volume': {'unit': 'litres', 'value': 25},\n",
      "  'brewers_tips': 'The earthy and floral aromas from the hops can be '\n",
      "                  'overpowering. Drop a little Cascade in at the end of the '\n",
      "                  'boil to lift the profile with a bit of citrus.',\n",
      "  'contributed_by': 'Sam Mason <samjbmason>',\n",
      "  'description': 'A light, crisp and bitter IPA brewed with English and '\n",
      "                 'American hops. A small batch brewed only once.',\n",
      "  'ebc': 20,\n",
      "  'first_brewed': '09/2007',\n",
      "  'food_pairing': ['Spicy chicken tikka masala',\n",
      "                   'Grilled chicken quesadilla',\n",
      "                   'Caramel toffee cake'],\n",
      "  'ibu': 60,\n",
      "  'id': 1,\n",
      "  'image_url': 'https://images.punkapi.com/v2/keg.png',\n",
      "  'ingredients': {'hops': [{'add': 'start',\n",
      "                            'amount': {'unit': 'grams', 'value': 25},\n",
      "                            'attribute': 'bitter',\n",
      "                            'name': 'Fuggles'},\n",
      "                           {'add': 'start',\n",
      "                            'amount': {'unit': 'grams', 'value': 25},\n",
      "                            'attribute': 'bitter',\n",
      "                            'name': 'First Gold'},\n",
      "                           {'add': 'middle',\n",
      "                            'amount': {'unit': 'grams', 'value': 37.5},\n",
      "                            'attribute': 'flavour',\n",
      "                            'name': 'Fuggles'},\n",
      "                           {'add': 'middle',\n",
      "                            'amount': {'unit': 'grams', 'value': 37.5},\n",
      "                            'attribute': 'flavour',\n",
      "                            'name': 'First Gold'},\n",
      "                           {'add': 'end',\n",
      "                            'amount': {'unit': 'grams', 'value': 37.5},\n",
      "                            'attribute': 'flavour',\n",
      "                            'name': 'Cascade'}],\n",
      "                  'malt': [{'amount': {'unit': 'kilograms', 'value': 3.3},\n",
      "                            'name': 'Maris Otter Extra Pale'},\n",
      "                           {'amount': {'unit': 'kilograms', 'value': 0.2},\n",
      "                            'name': 'Caramalt'},\n",
      "                           {'amount': {'unit': 'kilograms', 'value': 0.4},\n",
      "                            'name': 'Munich'}],\n",
      "                  'yeast': 'Wyeast 1056 - American Ale™'},\n",
      "  'method': {'fermentation': {'temp': {'unit': 'celsius', 'value': 19}},\n",
      "             'mash_temp': [{'duration': 75,\n",
      "                            'temp': {'unit': 'celsius', 'value': 64}}],\n",
      "             'twist': None},\n",
      "  'name': 'Buzz',\n",
      "  'ph': 4.4,\n",
      "  'srm': 10,\n",
      "  'tagline': 'A Real Bitter Experience.',\n",
      "  'target_fg': 1010,\n",
      "  'target_og': 1044,\n",
      "  'volume': {'unit': 'litres', 'value': 20}},\n",
      " {'abv': 4.1,\n",
      "  'attenuation_level': 76,\n",
      "  'boil_volume': {'unit': 'litres', 'value': 25},\n",
      "  'brewers_tips': 'Be careful not to collect too much wort from the mash. Once '\n",
      "                  'the sugars are all washed out there are some very '\n",
      "                  'unpleasant grainy tasting compounds that can be extracted '\n",
      "                  'into the wort.',\n",
      "  'contributed_by': 'Sam Mason <samjbmason>',\n",
      "  'description': 'A titillating, neurotic, peroxide punk of a Pale Ale. '\n",
      "                 'Combining attitude, style, substance, and a little bit of '\n",
      "                 'low self esteem for good measure; what would your mother '\n",
      "                 'say? The seductive lure of the sassy passion fruit hop '\n",
      "                 'proves too much to resist. All that is even before we get '\n",
      "                 'onto the fact that there are no additives, preservatives, '\n",
      "                 'pasteurization or strings attached. All wrapped up with the '\n",
      "                 'customary BrewDog bite and imaginative twist.',\n",
      "  'ebc': 15,\n",
      "  'first_brewed': '04/2008',\n",
      "  'food_pairing': ['Fresh crab with lemon',\n",
      "                   'Garlic butter dipping sauce',\n",
      "                   'Goats cheese salad',\n",
      "                   'Creamy lemon bar doused in powdered sugar'],\n",
      "  'ibu': 41.5,\n",
      "  'id': 2,\n",
      "  'image_url': 'https://images.punkapi.com/v2/2.png',\n",
      "  'ingredients': {'hops': [{'add': 'start',\n",
      "                            'amount': {'unit': 'grams', 'value': 13.8},\n",
      "                            'attribute': 'bitter',\n",
      "                            'name': 'Amarillo'},\n",
      "                           {'add': 'start',\n",
      "                            'amount': {'unit': 'grams', 'value': 13.8},\n",
      "                            'attribute': 'bitter',\n",
      "                            'name': 'Simcoe'},\n",
      "                           {'add': 'end',\n",
      "                            'amount': {'unit': 'grams', 'value': 26.3},\n",
      "                            'attribute': 'flavour',\n",
      "                            'name': 'Amarillo'},\n",
      "                           {'add': 'end',\n",
      "                            'amount': {'unit': 'grams', 'value': 18.8},\n",
      "                            'attribute': 'flavour',\n",
      "                            'name': 'Motueka'}],\n",
      "                  'malt': [{'amount': {'unit': 'kilograms', 'value': 3.25},\n",
      "                            'name': 'Maris Otter Extra Pale'},\n",
      "                           {'amount': {'unit': 'kilograms', 'value': 0.2},\n",
      "                            'name': 'Caramalt'},\n",
      "                           {'amount': {'unit': 'kilograms', 'value': 0.4},\n",
      "                            'name': 'Munich'}],\n",
      "                  'yeast': 'Wyeast 1056 - American Ale™'},\n",
      "  'method': {'fermentation': {'temp': {'unit': 'celsius', 'value': 18}},\n",
      "             'mash_temp': [{'duration': None,\n",
      "                            'temp': {'unit': 'celsius', 'value': 69}}],\n",
      "             'twist': None},\n",
      "  'name': 'Trashy Blonde',\n",
      "  'ph': 4.4,\n",
      "  'srm': 15,\n",
      "  'tagline': \"You Know You Shouldn't\",\n",
      "  'target_fg': 1010,\n",
      "  'target_og': 1041.7,\n",
      "  'volume': {'unit': 'litres', 'value': 20}}]\n"
     ]
    }
   ],
   "source": [
    "#printing our test_response\n",
    "test_response = response.json()\n",
    "pprint(test_response)"
   ]
  },
  {
   "cell_type": "code",
   "execution_count": null,
   "metadata": {},
   "outputs": [],
   "source": []
  }
 ],
 "metadata": {
  "kernelspec": {
   "display_name": "Python 3",
   "language": "python",
   "name": "python3"
  },
  "language_info": {
   "codemirror_mode": {
    "name": "ipython",
    "version": 3
   },
   "file_extension": ".py",
   "mimetype": "text/x-python",
   "name": "python",
   "nbconvert_exporter": "python",
   "pygments_lexer": "ipython3",
   "version": "3.7.5"
  }
 },
 "nbformat": 4,
 "nbformat_minor": 4
}
